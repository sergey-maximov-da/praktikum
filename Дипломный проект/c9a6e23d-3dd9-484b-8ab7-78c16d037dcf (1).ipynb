{
 "cells": [
  {
   "cell_type": "markdown",
   "metadata": {},
   "source": [
    "## E-commerce — Анализ товарного ассортимента"
   ]
  },
  {
   "cell_type": "markdown",
   "metadata": {},
   "source": [
    "## Описание\n",
    "  В этой работе я постараюсь проанализизировать данные интернет магазина - рассмотрю финансовую составляющую, посмотрим на распределения по выручке, поведение пользователей, проверим несколько гипотез и сделаю выводы"
   ]
  },
  {
   "cell_type": "markdown",
   "metadata": {},
   "source": [
    "## Содержание\n",
    "\n",
    "1. [Загрузка данных и изучение общей информации](#step1)\n",
    "    - [Итоги по общей информации](#step2)\n",
    "2. [Предобработка данных](#step3)\n",
    "    - [Вывод по предобработке данных](#step4)\n",
    "3. [Исследовательский анализ данных](#step5)\n",
    "    - [Количество покупок и выручку по месяцам](#step6)\n",
    "    - [Выручки по дням недели и часам](#step7)\n",
    "    - [Среднее кол-во покупателей в месяц, неделю, день](#step8)\n",
    "    - [Среднее количество заказов в день](#step9)\n",
    "    - [Средний чек за все время](#step10)\n",
    "    - [Вывод по исследовательскому анализу](#step11)\n",
    "4. [Категоризация товаров](#step12)\n",
    "    - [Топ-товары по выручке](#step13)\n",
    "    - [Категоризация товара](#step14)\n",
    "    - [Распределение выручки по категориям](#step15)\n",
    "    - [Сезонность по категориям](#step16)\n",
    "        - [Вывод по сезонности категорий](#step17)\n",
    "    - [Итоги категоризации](#step18)\n",
    "5. [Кластеризация](#step19)\n",
    "    - [Признаки](#step20)\n",
    "    - [Матрица корреляции признаков](#step21)\n",
    "    - [Дендограмма](#step22)\n",
    "    - [Вывод по кластеризации](#step23)\n",
    "6. [Проверка гипотез](#step24)\n",
    "7. [Общий вывод](#step26)"
   ]
  },
  {
   "cell_type": "code",
   "execution_count": 1,
   "metadata": {},
   "outputs": [],
   "source": [
    "import pandas as pd\n",
    "import numpy as np\n",
    "import seaborn as sns\n",
    "import plotly.express as px\n",
    "import math as mth\n",
    "import scipy.stats as stats\n",
    "import datetime\n",
    "from matplotlib import pyplot as plt\n",
    "from plotly import graph_objects as go\n",
    "from sklearn.cluster import KMeans\n",
    "from sklearn.preprocessing import StandardScaler\n",
    "from scipy.cluster.hierarchy import dendrogram, linkage\n",
    "from sklearn.cluster import KMeans\n",
    "from statsmodels.stats.multitest import multipletests\n",
    "from scipy import stats as st\n",
    "import warnings\n",
    "warnings.filterwarnings('ignore')"
   ]
  },
  {
   "cell_type": "markdown",
   "metadata": {},
   "source": [
    "## Загрузка данных и изучение общей информации <a id=\"step1\"></a>"
   ]
  },
  {
   "cell_type": "code",
   "execution_count": 2,
   "metadata": {},
   "outputs": [
    {
     "data": {
      "text/html": [
       "<div>\n",
       "<style scoped>\n",
       "    .dataframe tbody tr th:only-of-type {\n",
       "        vertical-align: middle;\n",
       "    }\n",
       "\n",
       "    .dataframe tbody tr th {\n",
       "        vertical-align: top;\n",
       "    }\n",
       "\n",
       "    .dataframe thead th {\n",
       "        text-align: right;\n",
       "    }\n",
       "</style>\n",
       "<table border=\"1\" class=\"dataframe\">\n",
       "  <thead>\n",
       "    <tr style=\"text-align: right;\">\n",
       "      <th></th>\n",
       "      <th>date</th>\n",
       "      <th>customer_id</th>\n",
       "      <th>order_id</th>\n",
       "      <th>product</th>\n",
       "      <th>quantity</th>\n",
       "      <th>price</th>\n",
       "    </tr>\n",
       "  </thead>\n",
       "  <tbody>\n",
       "    <tr>\n",
       "      <td>0</td>\n",
       "      <td>2018100100</td>\n",
       "      <td>ee47d746-6d2f-4d3c-9622-c31412542920</td>\n",
       "      <td>68477</td>\n",
       "      <td>Комнатное растение в горшке Алое Вера, d12, h30</td>\n",
       "      <td>1</td>\n",
       "      <td>142.0</td>\n",
       "    </tr>\n",
       "    <tr>\n",
       "      <td>1</td>\n",
       "      <td>2018100100</td>\n",
       "      <td>ee47d746-6d2f-4d3c-9622-c31412542920</td>\n",
       "      <td>68477</td>\n",
       "      <td>Комнатное растение в горшке Кофе Арабика, d12,...</td>\n",
       "      <td>1</td>\n",
       "      <td>194.0</td>\n",
       "    </tr>\n",
       "    <tr>\n",
       "      <td>2</td>\n",
       "      <td>2018100100</td>\n",
       "      <td>ee47d746-6d2f-4d3c-9622-c31412542920</td>\n",
       "      <td>68477</td>\n",
       "      <td>Радермахера d-12 см h-20 см</td>\n",
       "      <td>1</td>\n",
       "      <td>112.0</td>\n",
       "    </tr>\n",
       "    <tr>\n",
       "      <td>3</td>\n",
       "      <td>2018100100</td>\n",
       "      <td>ee47d746-6d2f-4d3c-9622-c31412542920</td>\n",
       "      <td>68477</td>\n",
       "      <td>Хризолидокарпус Лутесценс d-9 см</td>\n",
       "      <td>1</td>\n",
       "      <td>179.0</td>\n",
       "    </tr>\n",
       "    <tr>\n",
       "      <td>4</td>\n",
       "      <td>2018100100</td>\n",
       "      <td>ee47d746-6d2f-4d3c-9622-c31412542920</td>\n",
       "      <td>68477</td>\n",
       "      <td>Циперус Зумула d-12 см h-25 см</td>\n",
       "      <td>1</td>\n",
       "      <td>112.0</td>\n",
       "    </tr>\n",
       "  </tbody>\n",
       "</table>\n",
       "</div>"
      ],
      "text/plain": [
       "         date                           customer_id  order_id  \\\n",
       "0  2018100100  ee47d746-6d2f-4d3c-9622-c31412542920     68477   \n",
       "1  2018100100  ee47d746-6d2f-4d3c-9622-c31412542920     68477   \n",
       "2  2018100100  ee47d746-6d2f-4d3c-9622-c31412542920     68477   \n",
       "3  2018100100  ee47d746-6d2f-4d3c-9622-c31412542920     68477   \n",
       "4  2018100100  ee47d746-6d2f-4d3c-9622-c31412542920     68477   \n",
       "\n",
       "                                             product  quantity  price  \n",
       "0    Комнатное растение в горшке Алое Вера, d12, h30         1  142.0  \n",
       "1  Комнатное растение в горшке Кофе Арабика, d12,...         1  194.0  \n",
       "2                        Радермахера d-12 см h-20 см         1  112.0  \n",
       "3                   Хризолидокарпус Лутесценс d-9 см         1  179.0  \n",
       "4                     Циперус Зумула d-12 см h-25 см         1  112.0  "
      ]
     },
     "execution_count": 2,
     "metadata": {},
     "output_type": "execute_result"
    }
   ],
   "source": [
    "data = pd.read_csv('ecommerce_dataset.csv',sep = ',')\n",
    "data.head()"
   ]
  },
  {
   "cell_type": "code",
   "execution_count": 3,
   "metadata": {},
   "outputs": [
    {
     "name": "stdout",
     "output_type": "stream",
     "text": [
      "<class 'pandas.core.frame.DataFrame'>\n",
      "RangeIndex: 6737 entries, 0 to 6736\n",
      "Data columns (total 6 columns):\n",
      "date           6737 non-null int64\n",
      "customer_id    6737 non-null object\n",
      "order_id       6737 non-null int64\n",
      "product        6737 non-null object\n",
      "quantity       6737 non-null int64\n",
      "price          6737 non-null float64\n",
      "dtypes: float64(1), int64(3), object(2)\n",
      "memory usage: 315.9+ KB\n"
     ]
    }
   ],
   "source": [
    "data.info()"
   ]
  },
  {
   "cell_type": "code",
   "execution_count": 4,
   "metadata": {},
   "outputs": [
    {
     "data": {
      "text/plain": [
       "date           0\n",
       "customer_id    0\n",
       "order_id       0\n",
       "product        0\n",
       "quantity       0\n",
       "price          0\n",
       "dtype: int64"
      ]
     },
     "execution_count": 4,
     "metadata": {},
     "output_type": "execute_result"
    }
   ],
   "source": [
    "data.isnull().sum()"
   ]
  },
  {
   "cell_type": "code",
   "execution_count": 5,
   "metadata": {},
   "outputs": [
    {
     "data": {
      "text/plain": [
       "0"
      ]
     },
     "execution_count": 5,
     "metadata": {},
     "output_type": "execute_result"
    }
   ],
   "source": [
    "data.duplicated().sum()"
   ]
  },
  {
   "cell_type": "markdown",
   "metadata": {},
   "source": [
    "## Итоги по общей информации <a id=\"step2\"></a>\n",
    "Данные не имееют пропусков и дубликатов, данные хранятся в правильном формате за исключением столбца date"
   ]
  },
  {
   "cell_type": "markdown",
   "metadata": {},
   "source": [
    "## Предобработка данных<a id=\"step3\"></a>"
   ]
  },
  {
   "cell_type": "markdown",
   "metadata": {},
   "source": [
    "### Приведем данные из столбца date в правильный формат"
   ]
  },
  {
   "cell_type": "code",
   "execution_count": 6,
   "metadata": {},
   "outputs": [],
   "source": [
    "data['date'] = pd.to_datetime(data['date'], format='%Y%m%d%H')"
   ]
  },
  {
   "cell_type": "markdown",
   "metadata": {},
   "source": [
    "### Проверим на уникальность каждого заказа"
   ]
  },
  {
   "cell_type": "code",
   "execution_count": 7,
   "metadata": {},
   "outputs": [
    {
     "data": {
      "text/html": [
       "<div>\n",
       "<style scoped>\n",
       "    .dataframe tbody tr th:only-of-type {\n",
       "        vertical-align: middle;\n",
       "    }\n",
       "\n",
       "    .dataframe tbody tr th {\n",
       "        vertical-align: top;\n",
       "    }\n",
       "\n",
       "    .dataframe thead th {\n",
       "        text-align: right;\n",
       "    }\n",
       "</style>\n",
       "<table border=\"1\" class=\"dataframe\">\n",
       "  <thead>\n",
       "    <tr style=\"text-align: right;\">\n",
       "      <th></th>\n",
       "      <th>order_id</th>\n",
       "      <th>customer_id</th>\n",
       "    </tr>\n",
       "  </thead>\n",
       "  <tbody>\n",
       "    <tr>\n",
       "      <td>0</td>\n",
       "      <td>14872</td>\n",
       "      <td>2</td>\n",
       "    </tr>\n",
       "    <tr>\n",
       "      <td>1</td>\n",
       "      <td>68785</td>\n",
       "      <td>2</td>\n",
       "    </tr>\n",
       "    <tr>\n",
       "      <td>2</td>\n",
       "      <td>69283</td>\n",
       "      <td>2</td>\n",
       "    </tr>\n",
       "    <tr>\n",
       "      <td>3</td>\n",
       "      <td>69310</td>\n",
       "      <td>2</td>\n",
       "    </tr>\n",
       "    <tr>\n",
       "      <td>4</td>\n",
       "      <td>69345</td>\n",
       "      <td>2</td>\n",
       "    </tr>\n",
       "    <tr>\n",
       "      <td>5</td>\n",
       "      <td>69410</td>\n",
       "      <td>2</td>\n",
       "    </tr>\n",
       "    <tr>\n",
       "      <td>6</td>\n",
       "      <td>69485</td>\n",
       "      <td>3</td>\n",
       "    </tr>\n",
       "    <tr>\n",
       "      <td>7</td>\n",
       "      <td>69531</td>\n",
       "      <td>2</td>\n",
       "    </tr>\n",
       "    <tr>\n",
       "      <td>8</td>\n",
       "      <td>69833</td>\n",
       "      <td>2</td>\n",
       "    </tr>\n",
       "    <tr>\n",
       "      <td>9</td>\n",
       "      <td>70114</td>\n",
       "      <td>2</td>\n",
       "    </tr>\n",
       "    <tr>\n",
       "      <td>10</td>\n",
       "      <td>70542</td>\n",
       "      <td>2</td>\n",
       "    </tr>\n",
       "    <tr>\n",
       "      <td>11</td>\n",
       "      <td>70631</td>\n",
       "      <td>2</td>\n",
       "    </tr>\n",
       "    <tr>\n",
       "      <td>12</td>\n",
       "      <td>70726</td>\n",
       "      <td>2</td>\n",
       "    </tr>\n",
       "    <tr>\n",
       "      <td>13</td>\n",
       "      <td>70808</td>\n",
       "      <td>2</td>\n",
       "    </tr>\n",
       "    <tr>\n",
       "      <td>14</td>\n",
       "      <td>70903</td>\n",
       "      <td>2</td>\n",
       "    </tr>\n",
       "    <tr>\n",
       "      <td>15</td>\n",
       "      <td>70946</td>\n",
       "      <td>2</td>\n",
       "    </tr>\n",
       "    <tr>\n",
       "      <td>16</td>\n",
       "      <td>71054</td>\n",
       "      <td>2</td>\n",
       "    </tr>\n",
       "    <tr>\n",
       "      <td>17</td>\n",
       "      <td>71226</td>\n",
       "      <td>2</td>\n",
       "    </tr>\n",
       "    <tr>\n",
       "      <td>18</td>\n",
       "      <td>71461</td>\n",
       "      <td>2</td>\n",
       "    </tr>\n",
       "    <tr>\n",
       "      <td>19</td>\n",
       "      <td>71480</td>\n",
       "      <td>3</td>\n",
       "    </tr>\n",
       "    <tr>\n",
       "      <td>20</td>\n",
       "      <td>71542</td>\n",
       "      <td>2</td>\n",
       "    </tr>\n",
       "    <tr>\n",
       "      <td>21</td>\n",
       "      <td>71571</td>\n",
       "      <td>2</td>\n",
       "    </tr>\n",
       "    <tr>\n",
       "      <td>22</td>\n",
       "      <td>71648</td>\n",
       "      <td>2</td>\n",
       "    </tr>\n",
       "    <tr>\n",
       "      <td>23</td>\n",
       "      <td>71663</td>\n",
       "      <td>2</td>\n",
       "    </tr>\n",
       "    <tr>\n",
       "      <td>24</td>\n",
       "      <td>72188</td>\n",
       "      <td>2</td>\n",
       "    </tr>\n",
       "    <tr>\n",
       "      <td>25</td>\n",
       "      <td>72778</td>\n",
       "      <td>2</td>\n",
       "    </tr>\n",
       "    <tr>\n",
       "      <td>26</td>\n",
       "      <td>72790</td>\n",
       "      <td>2</td>\n",
       "    </tr>\n",
       "    <tr>\n",
       "      <td>27</td>\n",
       "      <td>72845</td>\n",
       "      <td>4</td>\n",
       "    </tr>\n",
       "    <tr>\n",
       "      <td>28</td>\n",
       "      <td>72950</td>\n",
       "      <td>2</td>\n",
       "    </tr>\n",
       "  </tbody>\n",
       "</table>\n",
       "</div>"
      ],
      "text/plain": [
       "    order_id  customer_id\n",
       "0      14872            2\n",
       "1      68785            2\n",
       "2      69283            2\n",
       "3      69310            2\n",
       "4      69345            2\n",
       "5      69410            2\n",
       "6      69485            3\n",
       "7      69531            2\n",
       "8      69833            2\n",
       "9      70114            2\n",
       "10     70542            2\n",
       "11     70631            2\n",
       "12     70726            2\n",
       "13     70808            2\n",
       "14     70903            2\n",
       "15     70946            2\n",
       "16     71054            2\n",
       "17     71226            2\n",
       "18     71461            2\n",
       "19     71480            3\n",
       "20     71542            2\n",
       "21     71571            2\n",
       "22     71648            2\n",
       "23     71663            2\n",
       "24     72188            2\n",
       "25     72778            2\n",
       "26     72790            2\n",
       "27     72845            4\n",
       "28     72950            2"
      ]
     },
     "execution_count": 7,
     "metadata": {},
     "output_type": "execute_result"
    }
   ],
   "source": [
    "u = data.groupby('order_id').agg({'customer_id': 'nunique'})\n",
    "u = u.query('customer_id > 1')\n",
    "u= u.reset_index()\n",
    "u.columns = ['order_id','customer_id']\n",
    "u"
   ]
  },
  {
   "cell_type": "markdown",
   "metadata": {},
   "source": [
    "#### У 29 заказов обнаружилость по два и более покупателя... что-то пошло не так. Отфильтруем данные так, что остался пользователь, который совершил покупку первым"
   ]
  },
  {
   "cell_type": "code",
   "execution_count": 8,
   "metadata": {},
   "outputs": [],
   "source": [
    "# добавление в таблицу столбца с последней датой из заказа\n",
    "data['day'] = data['date'].astype('datetime64[D]') \n",
    "order_date = data.groupby('order_id')['day'].min()\n",
    "order_date.name = 'last_order_date'\n",
    "data = data.join(order_date,on='order_id')\n",
    "\n",
    "# удаление строк из таблицы по дате последнего заказа\n",
    "data = data.drop(data[data.last_order_date != data.day].index).reset_index(drop=True)\n",
    "del data['day']\n",
    "del data['last_order_date']"
   ]
  },
  {
   "cell_type": "markdown",
   "metadata": {},
   "source": [
    "## Выполним проверку"
   ]
  },
  {
   "cell_type": "code",
   "execution_count": 9,
   "metadata": {},
   "outputs": [
    {
     "data": {
      "text/html": [
       "<div>\n",
       "<style scoped>\n",
       "    .dataframe tbody tr th:only-of-type {\n",
       "        vertical-align: middle;\n",
       "    }\n",
       "\n",
       "    .dataframe tbody tr th {\n",
       "        vertical-align: top;\n",
       "    }\n",
       "\n",
       "    .dataframe thead th {\n",
       "        text-align: right;\n",
       "    }\n",
       "</style>\n",
       "<table border=\"1\" class=\"dataframe\">\n",
       "  <thead>\n",
       "    <tr style=\"text-align: right;\">\n",
       "      <th></th>\n",
       "      <th>order_id</th>\n",
       "      <th>customer_id</th>\n",
       "    </tr>\n",
       "  </thead>\n",
       "  <tbody>\n",
       "    <tr>\n",
       "      <td>0</td>\n",
       "      <td>69283</td>\n",
       "      <td>2</td>\n",
       "    </tr>\n",
       "    <tr>\n",
       "      <td>1</td>\n",
       "      <td>70726</td>\n",
       "      <td>2</td>\n",
       "    </tr>\n",
       "    <tr>\n",
       "      <td>2</td>\n",
       "      <td>70808</td>\n",
       "      <td>2</td>\n",
       "    </tr>\n",
       "    <tr>\n",
       "      <td>3</td>\n",
       "      <td>71226</td>\n",
       "      <td>2</td>\n",
       "    </tr>\n",
       "    <tr>\n",
       "      <td>4</td>\n",
       "      <td>71571</td>\n",
       "      <td>2</td>\n",
       "    </tr>\n",
       "    <tr>\n",
       "      <td>5</td>\n",
       "      <td>72845</td>\n",
       "      <td>2</td>\n",
       "    </tr>\n",
       "  </tbody>\n",
       "</table>\n",
       "</div>"
      ],
      "text/plain": [
       "   order_id  customer_id\n",
       "0     69283            2\n",
       "1     70726            2\n",
       "2     70808            2\n",
       "3     71226            2\n",
       "4     71571            2\n",
       "5     72845            2"
      ]
     },
     "execution_count": 9,
     "metadata": {},
     "output_type": "execute_result"
    }
   ],
   "source": [
    "u = data.groupby('order_id').agg({'customer_id': 'nunique'})\n",
    "u = u.query('customer_id > 1')\n",
    "u= u.reset_index()\n",
    "u.columns = ['order_id','customer_id']\n",
    "u"
   ]
  },
  {
   "cell_type": "markdown",
   "metadata": {},
   "source": [
    "#### Все-таки остались заказы с задвоенными клиентами, посмотрим на эти заказы"
   ]
  },
  {
   "cell_type": "code",
   "execution_count": 10,
   "metadata": {},
   "outputs": [
    {
     "data": {
      "text/html": [
       "<div>\n",
       "<style scoped>\n",
       "    .dataframe tbody tr th:only-of-type {\n",
       "        vertical-align: middle;\n",
       "    }\n",
       "\n",
       "    .dataframe tbody tr th {\n",
       "        vertical-align: top;\n",
       "    }\n",
       "\n",
       "    .dataframe thead th {\n",
       "        text-align: right;\n",
       "    }\n",
       "</style>\n",
       "<table border=\"1\" class=\"dataframe\">\n",
       "  <thead>\n",
       "    <tr style=\"text-align: right;\">\n",
       "      <th></th>\n",
       "      <th>date</th>\n",
       "      <th>customer_id</th>\n",
       "      <th>order_id</th>\n",
       "      <th>product</th>\n",
       "      <th>quantity</th>\n",
       "      <th>price</th>\n",
       "    </tr>\n",
       "  </thead>\n",
       "  <tbody>\n",
       "    <tr>\n",
       "      <td>1036</td>\n",
       "      <td>2018-12-10 12:00:00</td>\n",
       "      <td>2f955596-4b13-432e-93f3-6433395aafe6</td>\n",
       "      <td>69283</td>\n",
       "      <td>Сушилка для белья на батарею НИКА СБ6-65 двухъ...</td>\n",
       "      <td>1</td>\n",
       "      <td>164.0</td>\n",
       "    </tr>\n",
       "    <tr>\n",
       "      <td>1042</td>\n",
       "      <td>2018-12-10 16:00:00</td>\n",
       "      <td>e3805ccd-2d64-4d0e-92dd-902293555c35</td>\n",
       "      <td>69283</td>\n",
       "      <td>Сушилка для белья на батарею НИКА СБ6-65 двухъ...</td>\n",
       "      <td>1</td>\n",
       "      <td>164.0</td>\n",
       "    </tr>\n",
       "    <tr>\n",
       "      <td>2044</td>\n",
       "      <td>2019-03-14 05:00:00</td>\n",
       "      <td>af96cc67-1726-43ba-bca1-1da7b78cb33a</td>\n",
       "      <td>70726</td>\n",
       "      <td>Пеларгония розебудная Red Pandora укорененный ...</td>\n",
       "      <td>2</td>\n",
       "      <td>134.0</td>\n",
       "    </tr>\n",
       "    <tr>\n",
       "      <td>2045</td>\n",
       "      <td>2019-03-14 07:00:00</td>\n",
       "      <td>95d61179-404e-4ebd-9762-29d800b1583e</td>\n",
       "      <td>70726</td>\n",
       "      <td>Пеларгония розебудная Red Pandora укорененный ...</td>\n",
       "      <td>2</td>\n",
       "      <td>134.0</td>\n",
       "    </tr>\n",
       "    <tr>\n",
       "      <td>2115</td>\n",
       "      <td>2019-03-20 15:00:00</td>\n",
       "      <td>78e8c0e7-4888-4a75-8137-a90f02a6cb8c</td>\n",
       "      <td>70808</td>\n",
       "      <td>Тележка багажная DELTA ТБР-20 черный с серым г...</td>\n",
       "      <td>1</td>\n",
       "      <td>727.0</td>\n",
       "    </tr>\n",
       "    <tr>\n",
       "      <td>2116</td>\n",
       "      <td>2019-03-20 16:00:00</td>\n",
       "      <td>ad1630b2-fc36-4961-900a-46612ff6c655</td>\n",
       "      <td>70808</td>\n",
       "      <td>Тележка багажная DELTA ТБР-20 черный с серым г...</td>\n",
       "      <td>1</td>\n",
       "      <td>727.0</td>\n",
       "    </tr>\n",
       "    <tr>\n",
       "      <td>2640</td>\n",
       "      <td>2019-04-21 15:00:00</td>\n",
       "      <td>c912fec9-fd4f-41b7-bb04-4548740b276b</td>\n",
       "      <td>71226</td>\n",
       "      <td>Сушилка для белья напольная НИКА СБ3Б 10 м белая</td>\n",
       "      <td>1</td>\n",
       "      <td>569.0</td>\n",
       "    </tr>\n",
       "    <tr>\n",
       "      <td>2642</td>\n",
       "      <td>2019-04-21 19:00:00</td>\n",
       "      <td>fd4af93f-9fbd-449f-91f8-b42b830e265b</td>\n",
       "      <td>71226</td>\n",
       "      <td>Сушилка для белья напольная НИКА СБ3Б 10 м белая</td>\n",
       "      <td>1</td>\n",
       "      <td>569.0</td>\n",
       "    </tr>\n",
       "    <tr>\n",
       "      <td>3723</td>\n",
       "      <td>2019-06-02 10:00:00</td>\n",
       "      <td>f1222eaa-d09d-4bff-ab4e-bea6fe3f68a8</td>\n",
       "      <td>71571</td>\n",
       "      <td>Бегония Элатиор, цвет в ассортименте</td>\n",
       "      <td>1</td>\n",
       "      <td>187.0</td>\n",
       "    </tr>\n",
       "    <tr>\n",
       "      <td>3724</td>\n",
       "      <td>2019-06-02 10:00:00</td>\n",
       "      <td>95872093-2887-4ce8-8468-19234990e7d7</td>\n",
       "      <td>71571</td>\n",
       "      <td>Бегония Элатиор, цвет в ассортименте</td>\n",
       "      <td>1</td>\n",
       "      <td>187.0</td>\n",
       "    </tr>\n",
       "    <tr>\n",
       "      <td>4803</td>\n",
       "      <td>2019-10-03 14:00:00</td>\n",
       "      <td>d8465f63-35db-4809-aff3-a8f7ebfc257f</td>\n",
       "      <td>72845</td>\n",
       "      <td>Муляж Яблоко зеленый 9 см полиуретан</td>\n",
       "      <td>40</td>\n",
       "      <td>59.0</td>\n",
       "    </tr>\n",
       "    <tr>\n",
       "      <td>4804</td>\n",
       "      <td>2019-10-03 15:00:00</td>\n",
       "      <td>0309d37c-ab5f-4793-ba72-5484c019b840</td>\n",
       "      <td>72845</td>\n",
       "      <td>Муляж Яблоко зеленый 9 см полиуретан</td>\n",
       "      <td>40</td>\n",
       "      <td>59.0</td>\n",
       "    </tr>\n",
       "  </tbody>\n",
       "</table>\n",
       "</div>"
      ],
      "text/plain": [
       "                    date                           customer_id  order_id  \\\n",
       "1036 2018-12-10 12:00:00  2f955596-4b13-432e-93f3-6433395aafe6     69283   \n",
       "1042 2018-12-10 16:00:00  e3805ccd-2d64-4d0e-92dd-902293555c35     69283   \n",
       "2044 2019-03-14 05:00:00  af96cc67-1726-43ba-bca1-1da7b78cb33a     70726   \n",
       "2045 2019-03-14 07:00:00  95d61179-404e-4ebd-9762-29d800b1583e     70726   \n",
       "2115 2019-03-20 15:00:00  78e8c0e7-4888-4a75-8137-a90f02a6cb8c     70808   \n",
       "2116 2019-03-20 16:00:00  ad1630b2-fc36-4961-900a-46612ff6c655     70808   \n",
       "2640 2019-04-21 15:00:00  c912fec9-fd4f-41b7-bb04-4548740b276b     71226   \n",
       "2642 2019-04-21 19:00:00  fd4af93f-9fbd-449f-91f8-b42b830e265b     71226   \n",
       "3723 2019-06-02 10:00:00  f1222eaa-d09d-4bff-ab4e-bea6fe3f68a8     71571   \n",
       "3724 2019-06-02 10:00:00  95872093-2887-4ce8-8468-19234990e7d7     71571   \n",
       "4803 2019-10-03 14:00:00  d8465f63-35db-4809-aff3-a8f7ebfc257f     72845   \n",
       "4804 2019-10-03 15:00:00  0309d37c-ab5f-4793-ba72-5484c019b840     72845   \n",
       "\n",
       "                                                product  quantity  price  \n",
       "1036  Сушилка для белья на батарею НИКА СБ6-65 двухъ...         1  164.0  \n",
       "1042  Сушилка для белья на батарею НИКА СБ6-65 двухъ...         1  164.0  \n",
       "2044  Пеларгония розебудная Red Pandora укорененный ...         2  134.0  \n",
       "2045  Пеларгония розебудная Red Pandora укорененный ...         2  134.0  \n",
       "2115  Тележка багажная DELTA ТБР-20 черный с серым г...         1  727.0  \n",
       "2116  Тележка багажная DELTA ТБР-20 черный с серым г...         1  727.0  \n",
       "2640   Сушилка для белья напольная НИКА СБ3Б 10 м белая         1  569.0  \n",
       "2642   Сушилка для белья напольная НИКА СБ3Б 10 м белая         1  569.0  \n",
       "3723               Бегония Элатиор, цвет в ассортименте         1  187.0  \n",
       "3724               Бегония Элатиор, цвет в ассортименте         1  187.0  \n",
       "4803               Муляж Яблоко зеленый 9 см полиуретан        40   59.0  \n",
       "4804               Муляж Яблоко зеленый 9 см полиуретан        40   59.0  "
      ]
     },
     "execution_count": 10,
     "metadata": {},
     "output_type": "execute_result"
    }
   ],
   "source": [
    "data.query('order_id == 69283 or order_id == 70726 or order_id == 70808 or order_id == 71226 or order_id == 71571 or order_id==72845')"
   ]
  },
  {
   "cell_type": "markdown",
   "metadata": {},
   "source": [
    "### Удалим повторные заказы"
   ]
  },
  {
   "cell_type": "code",
   "execution_count": 11,
   "metadata": {},
   "outputs": [],
   "source": [
    "data_f = data.drop(data.index[[1036,2044,2115,2640,3723,4803]]).reset_index(drop=True)"
   ]
  },
  {
   "cell_type": "markdown",
   "metadata": {},
   "source": [
    "### Посмотрим на н сочевидные дубликаты"
   ]
  },
  {
   "cell_type": "code",
   "execution_count": 12,
   "metadata": {},
   "outputs": [
    {
     "data": {
      "text/html": [
       "<div>\n",
       "<style scoped>\n",
       "    .dataframe tbody tr th:only-of-type {\n",
       "        vertical-align: middle;\n",
       "    }\n",
       "\n",
       "    .dataframe tbody tr th {\n",
       "        vertical-align: top;\n",
       "    }\n",
       "\n",
       "    .dataframe thead th {\n",
       "        text-align: right;\n",
       "    }\n",
       "</style>\n",
       "<table border=\"1\" class=\"dataframe\">\n",
       "  <thead>\n",
       "    <tr style=\"text-align: right;\">\n",
       "      <th></th>\n",
       "      <th></th>\n",
       "      <th></th>\n",
       "      <th>date</th>\n",
       "      <th>quantity</th>\n",
       "      <th>price</th>\n",
       "    </tr>\n",
       "    <tr>\n",
       "      <th>customer_id</th>\n",
       "      <th>order_id</th>\n",
       "      <th>product</th>\n",
       "      <th></th>\n",
       "      <th></th>\n",
       "      <th></th>\n",
       "    </tr>\n",
       "  </thead>\n",
       "  <tbody>\n",
       "    <tr>\n",
       "      <td>0fa91725-559a-4cc8-877c-9636d6822abf</td>\n",
       "      <td>72720</td>\n",
       "      <td>Блюдо Pasabahce серия Конья диаметр 354 мм 54372B</td>\n",
       "      <td>5</td>\n",
       "      <td>5</td>\n",
       "      <td>5</td>\n",
       "    </tr>\n",
       "    <tr>\n",
       "      <td>8c290149-ad54-4d7a-87a7-9386b36390ee</td>\n",
       "      <td>69162</td>\n",
       "      <td>Термометр на окно уличный на липучках Т-5 h-20 см 1210035</td>\n",
       "      <td>4</td>\n",
       "      <td>4</td>\n",
       "      <td>4</td>\n",
       "    </tr>\n",
       "    <tr>\n",
       "      <td>b17d36a6-13b0-4896-815f-45ee6adfd23d</td>\n",
       "      <td>71341</td>\n",
       "      <td>Калла крупноцветковая малиновая</td>\n",
       "      <td>4</td>\n",
       "      <td>4</td>\n",
       "      <td>4</td>\n",
       "    </tr>\n",
       "    <tr>\n",
       "      <td>18128d49-b02e-4bc4-a0af-da96eec807c1</td>\n",
       "      <td>72011</td>\n",
       "      <td>Цветок искусственный Крокус 20 см</td>\n",
       "      <td>3</td>\n",
       "      <td>3</td>\n",
       "      <td>3</td>\n",
       "    </tr>\n",
       "    <tr>\n",
       "      <td>d6c213f3-eaf8-4232-bb82-6d169c91cfbb</td>\n",
       "      <td>70828</td>\n",
       "      <td>Муляж Манго оранжевый 13 см полиуретан</td>\n",
       "      <td>3</td>\n",
       "      <td>3</td>\n",
       "      <td>3</td>\n",
       "    </tr>\n",
       "    <tr>\n",
       "      <td>...</td>\n",
       "      <td>...</td>\n",
       "      <td>...</td>\n",
       "      <td>...</td>\n",
       "      <td>...</td>\n",
       "      <td>...</td>\n",
       "    </tr>\n",
       "    <tr>\n",
       "      <td rowspan=\"3\" valign=\"top\">58a966e2-b773-4ddd-aeff-472f8320a6a3</td>\n",
       "      <td rowspan=\"3\" valign=\"top\">14679</td>\n",
       "      <td>Пеларгония розебудная Rosebud Red d-7 см</td>\n",
       "      <td>1</td>\n",
       "      <td>1</td>\n",
       "      <td>1</td>\n",
       "    </tr>\n",
       "    <tr>\n",
       "      <td>Пеларгония розебудная Red Pandora укорененный черенок</td>\n",
       "      <td>1</td>\n",
       "      <td>1</td>\n",
       "      <td>1</td>\n",
       "    </tr>\n",
       "    <tr>\n",
       "      <td>Пеларгония розебудная Prins Nikolai укорененный черенок</td>\n",
       "      <td>1</td>\n",
       "      <td>1</td>\n",
       "      <td>1</td>\n",
       "    </tr>\n",
       "    <tr>\n",
       "      <td>58a4c3cc-504f-43ea-a74a-bae19e665552</td>\n",
       "      <td>69830</td>\n",
       "      <td>Простынь вафельная 200х180 см WELLNESS RW180-01 100% хлопок</td>\n",
       "      <td>1</td>\n",
       "      <td>1</td>\n",
       "      <td>1</td>\n",
       "    </tr>\n",
       "    <tr>\n",
       "      <td>ffe82299-3f5b-4214-87fe-3d36ecccfac3</td>\n",
       "      <td>73060</td>\n",
       "      <td>Сушилка для белья потолочная Лиана 1,8 м 1703007</td>\n",
       "      <td>1</td>\n",
       "      <td>1</td>\n",
       "      <td>1</td>\n",
       "    </tr>\n",
       "  </tbody>\n",
       "</table>\n",
       "<p>4806 rows × 3 columns</p>\n",
       "</div>"
      ],
      "text/plain": [
       "                                                                                                  date  \\\n",
       "customer_id                          order_id product                                                    \n",
       "0fa91725-559a-4cc8-877c-9636d6822abf 72720    Блюдо Pasabahce серия Конья диаметр 354 мм 54372B      5   \n",
       "8c290149-ad54-4d7a-87a7-9386b36390ee 69162    Термометр на окно уличный на липучках Т-5 h-20 ...     4   \n",
       "b17d36a6-13b0-4896-815f-45ee6adfd23d 71341    Калла крупноцветковая малиновая                        4   \n",
       "18128d49-b02e-4bc4-a0af-da96eec807c1 72011    Цветок искусственный Крокус 20 см                      3   \n",
       "d6c213f3-eaf8-4232-bb82-6d169c91cfbb 70828    Муляж Манго оранжевый 13 см полиуретан                 3   \n",
       "...                                                                                                ...   \n",
       "58a966e2-b773-4ddd-aeff-472f8320a6a3 14679    Пеларгония розебудная Rosebud Red d-7 см               1   \n",
       "                                              Пеларгония розебудная Red Pandora укорененный ч...     1   \n",
       "                                              Пеларгония розебудная Prins Nikolai укорененный...     1   \n",
       "58a4c3cc-504f-43ea-a74a-bae19e665552 69830    Простынь вафельная 200х180 см WELLNESS RW180-01...     1   \n",
       "ffe82299-3f5b-4214-87fe-3d36ecccfac3 73060    Сушилка для белья потолочная Лиана 1,8 м 1703007       1   \n",
       "\n",
       "                                                                                                  quantity  \\\n",
       "customer_id                          order_id product                                                        \n",
       "0fa91725-559a-4cc8-877c-9636d6822abf 72720    Блюдо Pasabahce серия Конья диаметр 354 мм 54372B          5   \n",
       "8c290149-ad54-4d7a-87a7-9386b36390ee 69162    Термометр на окно уличный на липучках Т-5 h-20 ...         4   \n",
       "b17d36a6-13b0-4896-815f-45ee6adfd23d 71341    Калла крупноцветковая малиновая                            4   \n",
       "18128d49-b02e-4bc4-a0af-da96eec807c1 72011    Цветок искусственный Крокус 20 см                          3   \n",
       "d6c213f3-eaf8-4232-bb82-6d169c91cfbb 70828    Муляж Манго оранжевый 13 см полиуретан                     3   \n",
       "...                                                                                                    ...   \n",
       "58a966e2-b773-4ddd-aeff-472f8320a6a3 14679    Пеларгония розебудная Rosebud Red d-7 см                   1   \n",
       "                                              Пеларгония розебудная Red Pandora укорененный ч...         1   \n",
       "                                              Пеларгония розебудная Prins Nikolai укорененный...         1   \n",
       "58a4c3cc-504f-43ea-a74a-bae19e665552 69830    Простынь вафельная 200х180 см WELLNESS RW180-01...         1   \n",
       "ffe82299-3f5b-4214-87fe-3d36ecccfac3 73060    Сушилка для белья потолочная Лиана 1,8 м 1703007           1   \n",
       "\n",
       "                                                                                                  price  \n",
       "customer_id                          order_id product                                                    \n",
       "0fa91725-559a-4cc8-877c-9636d6822abf 72720    Блюдо Pasabahce серия Конья диаметр 354 мм 54372B       5  \n",
       "8c290149-ad54-4d7a-87a7-9386b36390ee 69162    Термометр на окно уличный на липучках Т-5 h-20 ...      4  \n",
       "b17d36a6-13b0-4896-815f-45ee6adfd23d 71341    Калла крупноцветковая малиновая                         4  \n",
       "18128d49-b02e-4bc4-a0af-da96eec807c1 72011    Цветок искусственный Крокус 20 см                       3  \n",
       "d6c213f3-eaf8-4232-bb82-6d169c91cfbb 70828    Муляж Манго оранжевый 13 см полиуретан                  3  \n",
       "...                                                                                                 ...  \n",
       "58a966e2-b773-4ddd-aeff-472f8320a6a3 14679    Пеларгония розебудная Rosebud Red d-7 см                1  \n",
       "                                              Пеларгония розебудная Red Pandora укорененный ч...      1  \n",
       "                                              Пеларгония розебудная Prins Nikolai укорененный...      1  \n",
       "58a4c3cc-504f-43ea-a74a-bae19e665552 69830    Простынь вафельная 200х180 см WELLNESS RW180-01...      1  \n",
       "ffe82299-3f5b-4214-87fe-3d36ecccfac3 73060    Сушилка для белья потолочная Лиана 1,8 м 1703007        1  \n",
       "\n",
       "[4806 rows x 3 columns]"
      ]
     },
     "execution_count": 12,
     "metadata": {},
     "output_type": "execute_result"
    }
   ],
   "source": [
    "data_dup=data_f.groupby(['customer_id', 'order_id', 'product']).count().sort_values('date', ascending=False)\n",
    "data_dup"
   ]
  },
  {
   "cell_type": "code",
   "execution_count": 13,
   "metadata": {},
   "outputs": [
    {
     "data": {
      "text/plain": [
       "180"
      ]
     },
     "execution_count": 13,
     "metadata": {},
     "output_type": "execute_result"
    }
   ],
   "source": [
    "len(data_dup.query(\"date > 1\"))"
   ]
  },
  {
   "cell_type": "code",
   "execution_count": 14,
   "metadata": {},
   "outputs": [],
   "source": [
    "order_date_dup = data_f.groupby('order_id')['date'].max()\n",
    "order_date_dup.name = 'last_order_date'\n",
    "data_f = data_f.join(order_date_dup,on='order_id')"
   ]
  },
  {
   "cell_type": "code",
   "execution_count": 15,
   "metadata": {},
   "outputs": [],
   "source": [
    "data_f = data_f.drop(data_f[data_f.last_order_date != data_f.date].index).reset_index(drop=True)"
   ]
  },
  {
   "cell_type": "code",
   "execution_count": 16,
   "metadata": {},
   "outputs": [
    {
     "data": {
      "text/plain": [
       "0"
      ]
     },
     "execution_count": 16,
     "metadata": {},
     "output_type": "execute_result"
    }
   ],
   "source": [
    "data_dup=data_f.groupby(['customer_id', 'order_id', 'product']).count().sort_values('date', ascending=False)\n",
    "len(data_dup.query(\"date > 1\"))"
   ]
  },
  {
   "cell_type": "code",
   "execution_count": 17,
   "metadata": {},
   "outputs": [
    {
     "data": {
      "text/plain": [
       "-4.111776447105788"
      ]
     },
     "execution_count": 17,
     "metadata": {},
     "output_type": "execute_result"
    }
   ],
   "source": [
    "((len(data_f)- len(data))/len(data))*100"
   ]
  },
  {
   "cell_type": "markdown",
   "metadata": {},
   "source": [
    "#### Потеря данных всего 4,1%, что считаю не существенной цифрой"
   ]
  },
  {
   "cell_type": "markdown",
   "metadata": {},
   "source": [
    "## Вывод по предобработке данных <a id=\"step4\"></a>\n",
    "- Столбец date переведен в правильный формат\n",
    "- При проверке для каждого заказа уникального клиента обнаружилось, что на один заказ иногда приходится более 1 уникального клиента. Проведена очистка данных, потери в сравнении с изначальным датафреймом составила 4,1%"
   ]
  },
  {
   "cell_type": "markdown",
   "metadata": {},
   "source": [
    "## Исследовательский анализ данных <a id=\"step5\"></a>"
   ]
  },
  {
   "cell_type": "markdown",
   "metadata": {},
   "source": [
    "### Для полноты анализа добавим столбцы с месяцем, неделей, днем и временем покупки и общей суммой покупки"
   ]
  },
  {
   "cell_type": "code",
   "execution_count": 18,
   "metadata": {},
   "outputs": [],
   "source": [
    "data_f['month'] = data_f['date'].dt.month\n",
    "data_f['week'] = data_f['date'].dt.week\n",
    "data_f['data'] = data_f['date'].astype('datetime64[D]') \n",
    "data_f['day'] = data_f['date'].dt.dayofweek\n",
    "data_f['time']  = data_f['date'].dt.hour\n",
    "data_f['revenue'] = data_f['quantity'] * data_f['price']"
   ]
  },
  {
   "cell_type": "markdown",
   "metadata": {},
   "source": [
    "### Посмотрим на количество покупок и выручку по месяцам <a id=\"step6\"></a>"
   ]
  },
  {
   "cell_type": "code",
   "execution_count": 19,
   "metadata": {},
   "outputs": [
    {
     "data": {
      "image/png": "[encoded data removed]",
      "text/plain": [
       "<Figure size 864x432 with 1 Axes>"
      ]
     },
     "metadata": {
      "needs_background": "light"
     },
     "output_type": "display_data"
    }
   ],
   "source": [
    "data_f.pivot_table(index='month',\n",
    "                          values='customer_id',\n",
    "                          aggfunc='count').plot(grid=True,\n",
    "                                                kind='bar',\n",
    "                                                figsize=(12,6))\n",
    "plt.xlabel('Месяц покупки')\n",
    "plt.ylabel('Количество покупателей')\n",
    "plt.xticks(rotation=0)\n",
    "plt.title('Количества покупателей по месяцам')\n",
    "plt.show()"
   ]
  },
  {
   "cell_type": "markdown",
   "metadata": {},
   "source": [
    "### 4,5 и 10 месяц у нас самые большие по колличеству клиентов"
   ]
  },
  {
   "cell_type": "code",
   "execution_count": 20,
   "metadata": {},
   "outputs": [
    {
     "data": {
      "image/png": "[encoded data removed]",
      "text/plain": [
       "<Figure size 864x432 with 1 Axes>"
      ]
     },
     "metadata": {
      "needs_background": "light"
     },
     "output_type": "display_data"
    }
   ],
   "source": [
    "data_f.query(\"revenue < 600000\").pivot_table(index='month',\n",
    "                          values='revenue',\n",
    "                          aggfunc='sum').plot(grid=True,\n",
    "                                              kind='bar',\n",
    "                                              figsize=(12,6))\n",
    "plt.xlabel('Месяц покупки')\n",
    "plt.ylabel('Сумма выручки')\n",
    "plt.title('График выручки')\n",
    "plt.xticks(rotation=0)\n",
    "plt.title('Выручка по месяцам')\n",
    "plt.show()"
   ]
  },
  {
   "cell_type": "markdown",
   "metadata": {},
   "source": [
    "#### 10 месяц самый удачный, далее идет 11 и 12 месяц, остальные находятся примерно на одном уровне"
   ]
  },
  {
   "cell_type": "markdown",
   "metadata": {},
   "source": [
    "### Поcмотрим на суммы выручки по дням недели и часам: <a id=\"step7\"></a>"
   ]
  },
  {
   "cell_type": "code",
   "execution_count": 21,
   "metadata": {},
   "outputs": [
    {
     "data": {
      "image/png": "[encoded data removed]",
      "text/plain": [
       "<Figure size 864x432 with 1 Axes>"
      ]
     },
     "metadata": {
      "needs_background": "light"
     },
     "output_type": "display_data"
    }
   ],
   "source": [
    "data_f.query(\"revenue < 600000\").groupby('day').agg({'revenue':'sum'}).plot(grid=True,\n",
    "                                                  kind='bar',\n",
    "                                                  figsize=(12,6))\n",
    "plt.xlabel('День покупки')\n",
    "plt.ylabel('Сумма выручки')\n",
    "plt.xticks(rotation=0)\n",
    "plt.title('Выручка по дням недели')\n",
    "plt.show()"
   ]
  },
  {
   "cell_type": "markdown",
   "metadata": {},
   "source": [
    "#### Вторник - самый кассовый день, а вот суббота - наоборот ...остальные дни примерно одинаковые"
   ]
  },
  {
   "cell_type": "code",
   "execution_count": 22,
   "metadata": {},
   "outputs": [
    {
     "data": {
      "image/png": "[encoded data removed]",
      "text/plain": [
       "<Figure size 1152x432 with 1 Axes>"
      ]
     },
     "metadata": {
      "needs_background": "light"
     },
     "output_type": "display_data"
    }
   ],
   "source": [
    "data_f.groupby('time').agg({'revenue':'sum'}).plot(grid=True,\n",
    "                                                   kind='bar',\n",
    "                                                   figsize=(16,6))\n",
    "plt.xlabel('Час покупки')\n",
    "plt.ylabel('Сумма выручки')\n",
    "plt.xticks(rotation=0)\n",
    "plt.title('Выручка по часам')\n",
    "plt.show()"
   ]
  },
  {
   "cell_type": "markdown",
   "metadata": {},
   "source": [
    "#### Ночью у нас почти не покупают, а вот с 7 утра начинается торговля, но самый прибыльным часом является 15 часов"
   ]
  },
  {
   "cell_type": "markdown",
   "metadata": {},
   "source": [
    "### Имеется крупный оптовый заказ, как раз сделанный в 15:00, который искажает нам картину, также пересмотрел предыдущие графики"
   ]
  },
  {
   "cell_type": "code",
   "execution_count": 23,
   "metadata": {},
   "outputs": [
    {
     "data": {
      "text/html": [
       "<div>\n",
       "<style scoped>\n",
       "    .dataframe tbody tr th:only-of-type {\n",
       "        vertical-align: middle;\n",
       "    }\n",
       "\n",
       "    .dataframe tbody tr th {\n",
       "        vertical-align: top;\n",
       "    }\n",
       "\n",
       "    .dataframe thead th {\n",
       "        text-align: right;\n",
       "    }\n",
       "</style>\n",
       "<table border=\"1\" class=\"dataframe\">\n",
       "  <thead>\n",
       "    <tr style=\"text-align: right;\">\n",
       "      <th></th>\n",
       "      <th>date</th>\n",
       "      <th>customer_id</th>\n",
       "      <th>order_id</th>\n",
       "      <th>product</th>\n",
       "      <th>quantity</th>\n",
       "      <th>price</th>\n",
       "      <th>last_order_date</th>\n",
       "      <th>month</th>\n",
       "      <th>week</th>\n",
       "      <th>data</th>\n",
       "      <th>day</th>\n",
       "      <th>time</th>\n",
       "      <th>revenue</th>\n",
       "    </tr>\n",
       "  </thead>\n",
       "  <tbody>\n",
       "    <tr>\n",
       "      <td>3786</td>\n",
       "      <td>2019-06-18 15:00:00</td>\n",
       "      <td>312e9a3e-5fca-43ff-a6a1-892d2b2d5ba6</td>\n",
       "      <td>71743</td>\n",
       "      <td>Вантуз с деревянной ручкой d14 см красный, Bur...</td>\n",
       "      <td>1000</td>\n",
       "      <td>675.0</td>\n",
       "      <td>2019-06-18 15:00:00</td>\n",
       "      <td>6</td>\n",
       "      <td>25</td>\n",
       "      <td>2019-06-18</td>\n",
       "      <td>1</td>\n",
       "      <td>15</td>\n",
       "      <td>675000.0</td>\n",
       "    </tr>\n",
       "  </tbody>\n",
       "</table>\n",
       "</div>"
      ],
      "text/plain": [
       "                    date                           customer_id  order_id  \\\n",
       "3786 2019-06-18 15:00:00  312e9a3e-5fca-43ff-a6a1-892d2b2d5ba6     71743   \n",
       "\n",
       "                                                product  quantity  price  \\\n",
       "3786  Вантуз с деревянной ручкой d14 см красный, Bur...      1000  675.0   \n",
       "\n",
       "         last_order_date  month  week       data  day  time   revenue  \n",
       "3786 2019-06-18 15:00:00      6    25 2019-06-18    1    15  675000.0  "
      ]
     },
     "execution_count": 23,
     "metadata": {},
     "output_type": "execute_result"
    }
   ],
   "source": [
    "data_f.query(\"revenue > 600000\")"
   ]
  },
  {
   "cell_type": "code",
   "execution_count": 24,
   "metadata": {},
   "outputs": [],
   "source": [
    "### Сделаем график без учета этого заказа"
   ]
  },
  {
   "cell_type": "code",
   "execution_count": 25,
   "metadata": {},
   "outputs": [
    {
     "data": {
      "image/png": "[encoded data removed]",
      "text/plain": [
       "<Figure size 1152x432 with 1 Axes>"
      ]
     },
     "metadata": {
      "needs_background": "light"
     },
     "output_type": "display_data"
    }
   ],
   "source": [
    "data_f.query(\"revenue < 600000\").groupby('time').agg({'revenue':'sum'}).plot(grid=True,\n",
    "                                                   kind='bar',\n",
    "                                                   figsize=(16,6))\n",
    "plt.xlabel('Час покупки')\n",
    "plt.ylabel('Сумма выручки')\n",
    "plt.xticks(rotation=0)\n",
    "plt.title('Выручка по часам')\n",
    "plt.show()"
   ]
  },
  {
   "cell_type": "markdown",
   "metadata": {},
   "source": [
    "#### Ночью у нас почти не покупают, а вот с 7 утра до 21 вечера идет самая оживленная торговля"
   ]
  },
  {
   "cell_type": "markdown",
   "metadata": {},
   "source": [
    "### Посчитаем среднее кол-во покупателей в месяц, неделю, день<a id=\"step8\"></a>\n"
   ]
  },
  {
   "cell_type": "code",
   "execution_count": 26,
   "metadata": {},
   "outputs": [
    {
     "name": "stdout",
     "output_type": "stream",
     "text": [
      "Среднее количество покупателей:\n",
      "- в месяц 205\n",
      "- в неделю 48\n",
      "- в день 6\n"
     ]
    }
   ],
   "source": [
    "# посчитаем среднее кол-во покупателей\n",
    "mau = data_f.groupby('month').agg({'customer_id': 'nunique'}).mean()\n",
    "wau = data_f.groupby('week').agg({'customer_id': 'nunique'}).mean()\n",
    "dau = data_f.groupby('data').agg({'customer_id': 'nunique'}).mean()\n",
    "\n",
    "print('Среднее количество покупателей:')\n",
    "print('- в месяц', int(mau))\n",
    "print('- в неделю', int(wau))\n",
    "print('- в день', int(dau))"
   ]
  },
  {
   "cell_type": "markdown",
   "metadata": {},
   "source": [
    "### Посчитаем среднее количество заказов в день <a id=\"step9\"></a>"
   ]
  },
  {
   "cell_type": "code",
   "execution_count": 27,
   "metadata": {},
   "outputs": [],
   "source": [
    "### Напишем функции, которая строит график, исключая выбросы\n",
    "def vybros(df, column,graphic=0,x=10,y=10):\n",
    "    q1 = df[column].quantile(0.25)                 \n",
    "    q3 = df[column].quantile(0.75)\n",
    "    iqr = q3 - q1\n",
    "    filt = (df[column] >= (q1 - 1.5*iqr)) & (df[column] <= (q3 + 1.5*iqr))\n",
    "    if graphic == 1:\n",
    "        return df.loc[filt].boxplot([column], figsize=(x,y))\n",
    "    else:\n",
    "        return df.loc[filt]"
   ]
  },
  {
   "cell_type": "code",
   "execution_count": 28,
   "metadata": {},
   "outputs": [
    {
     "data": {
      "text/plain": [
       "<matplotlib.axes._subplots.AxesSubplot at 0x7f22860bb190>"
      ]
     },
     "execution_count": 28,
     "metadata": {},
     "output_type": "execute_result"
    },
    {
     "data": {
      "image/png": "[encoded data removed]",
      "text/plain": [
       "<Figure size 720x720 with 1 Axes>"
      ]
     },
     "metadata": {
      "needs_background": "light"
     },
     "output_type": "display_data"
    }
   ],
   "source": [
    "order = data_f.groupby('day').agg({'order_id': ['count']})\n",
    "order.columns = ['sum_order']\n",
    "vybros(order,'sum_order',1,10,10)\n"
   ]
  },
  {
   "cell_type": "markdown",
   "metadata": {},
   "source": [
    "#### В день делают от 610 до 780 заказов, в среднем - 705 заказов"
   ]
  },
  {
   "cell_type": "markdown",
   "metadata": {},
   "source": [
    "\n",
    "### Посмотрим  на средний чек за все время <a id=\"step10\"></a>"
   ]
  },
  {
   "cell_type": "code",
   "execution_count": 29,
   "metadata": {},
   "outputs": [
    {
     "data": {
      "text/plain": [
       "<matplotlib.axes._subplots.AxesSubplot at 0x7f228682e190>"
      ]
     },
     "execution_count": 29,
     "metadata": {},
     "output_type": "execute_result"
    },
    {
     "data": {
      "image/png": "[encoded data removed]",
      "text/plain": [
       "<Figure size 720x720 with 1 Axes>"
      ]
     },
     "metadata": {
      "needs_background": "light"
     },
     "output_type": "display_data"
    }
   ],
   "source": [
    "mean_cheсk = data_f.groupby('order_id').agg({'revenue':'mean'})\n",
    "mean_cheсk['revenue'].mean().round(2)\n",
    "vybros(mean_cheсk,'revenue',1,10,10)"
   ]
  },
  {
   "cell_type": "markdown",
   "metadata": {},
   "source": [
    "#### Средний чек лежит в диапозоне от 200 до 950 у.е., средний значением является 450 у.е."
   ]
  },
  {
   "cell_type": "markdown",
   "metadata": {},
   "source": [
    "## Вывод по исследовательскому анализу <a id=\"step11\"></a>\n",
    "- 4,5 и 10 месяц у нас самые большие по колличеству клиентов\n",
    "- 10 месяц самый удачный, далее идет 11 и 12 месяц, остальные находятся примерно на одном уровне- Понедельник - самый кассовый день, а вот суббота - наоборот ...остальные дни примерно одинаковые\n",
    "- Ночью у нас почти не покупают, а вот с 7 утра до 21 вечера идет самая оживленная торговля\n",
    "- Среднее количество покупателей:\n",
    "    - в месяц 205\n",
    "    - в неделю 48\n",
    "    - в день 6\n",
    "- В день делают от 640 до 825 заказов, в среднем - 725 заказов\n",
    "- Средний чек лежит в диапозоне от 200 до 950 у.е., средний значением является 490 у.е."
   ]
  },
  {
   "cell_type": "markdown",
   "metadata": {},
   "source": [
    "Спасибо! Эти дубликаты проверил и исправил в предобработке данных)"
   ]
  },
  {
   "cell_type": "code",
   "execution_count": 30,
   "metadata": {},
   "outputs": [
    {
     "data": {
      "text/html": [
       "<div>\n",
       "<style scoped>\n",
       "    .dataframe tbody tr th:only-of-type {\n",
       "        vertical-align: middle;\n",
       "    }\n",
       "\n",
       "    .dataframe tbody tr th {\n",
       "        vertical-align: top;\n",
       "    }\n",
       "\n",
       "    .dataframe thead th {\n",
       "        text-align: right;\n",
       "    }\n",
       "</style>\n",
       "<table border=\"1\" class=\"dataframe\">\n",
       "  <thead>\n",
       "    <tr style=\"text-align: right;\">\n",
       "      <th></th>\n",
       "      <th></th>\n",
       "      <th></th>\n",
       "      <th>date</th>\n",
       "      <th>quantity</th>\n",
       "      <th>price</th>\n",
       "      <th>last_order_date</th>\n",
       "      <th>month</th>\n",
       "      <th>week</th>\n",
       "      <th>data</th>\n",
       "      <th>day</th>\n",
       "      <th>time</th>\n",
       "      <th>revenue</th>\n",
       "    </tr>\n",
       "    <tr>\n",
       "      <th>customer_id</th>\n",
       "      <th>order_id</th>\n",
       "      <th>product</th>\n",
       "      <th></th>\n",
       "      <th></th>\n",
       "      <th></th>\n",
       "      <th></th>\n",
       "      <th></th>\n",
       "      <th></th>\n",
       "      <th></th>\n",
       "      <th></th>\n",
       "      <th></th>\n",
       "      <th></th>\n",
       "    </tr>\n",
       "  </thead>\n",
       "  <tbody>\n",
       "    <tr>\n",
       "      <td>000d6849-084e-4d9f-ac03-37174eaf60c4</td>\n",
       "      <td>14943</td>\n",
       "      <td>Пеларгония зональная диам. 12 см темнорозовая полумахровая</td>\n",
       "      <td>1</td>\n",
       "      <td>1</td>\n",
       "      <td>1</td>\n",
       "      <td>1</td>\n",
       "      <td>1</td>\n",
       "      <td>1</td>\n",
       "      <td>1</td>\n",
       "      <td>1</td>\n",
       "      <td>1</td>\n",
       "      <td>1</td>\n",
       "    </tr>\n",
       "    <tr>\n",
       "      <td rowspan=\"3\" valign=\"top\">b19f6cb5-050c-4c18-bcb1-2204a1cc48c3</td>\n",
       "      <td rowspan=\"3\" valign=\"top\">14722</td>\n",
       "      <td>Левкой рассада однолетних цветов в горшке диам. 12 см</td>\n",
       "      <td>1</td>\n",
       "      <td>1</td>\n",
       "      <td>1</td>\n",
       "      <td>1</td>\n",
       "      <td>1</td>\n",
       "      <td>1</td>\n",
       "      <td>1</td>\n",
       "      <td>1</td>\n",
       "      <td>1</td>\n",
       "      <td>1</td>\n",
       "    </tr>\n",
       "    <tr>\n",
       "      <td>Аргирантерум рассада однолетних цветов в горшке диам. 12 см</td>\n",
       "      <td>1</td>\n",
       "      <td>1</td>\n",
       "      <td>1</td>\n",
       "      <td>1</td>\n",
       "      <td>1</td>\n",
       "      <td>1</td>\n",
       "      <td>1</td>\n",
       "      <td>1</td>\n",
       "      <td>1</td>\n",
       "      <td>1</td>\n",
       "    </tr>\n",
       "    <tr>\n",
       "      <td>Алиссум рассада однолетних цветов в кассете по 6 шт</td>\n",
       "      <td>1</td>\n",
       "      <td>1</td>\n",
       "      <td>1</td>\n",
       "      <td>1</td>\n",
       "      <td>1</td>\n",
       "      <td>1</td>\n",
       "      <td>1</td>\n",
       "      <td>1</td>\n",
       "      <td>1</td>\n",
       "      <td>1</td>\n",
       "    </tr>\n",
       "    <tr>\n",
       "      <td>b18c373d-fcb4-4d14-8425-f26f21f52158</td>\n",
       "      <td>72275</td>\n",
       "      <td>Таз пластмассовый 30,0 л овальный ПЦ2913, 1404051</td>\n",
       "      <td>1</td>\n",
       "      <td>1</td>\n",
       "      <td>1</td>\n",
       "      <td>1</td>\n",
       "      <td>1</td>\n",
       "      <td>1</td>\n",
       "      <td>1</td>\n",
       "      <td>1</td>\n",
       "      <td>1</td>\n",
       "      <td>1</td>\n",
       "    </tr>\n",
       "  </tbody>\n",
       "</table>\n",
       "</div>"
      ],
      "text/plain": [
       "                                                                                                  date  \\\n",
       "customer_id                          order_id product                                                    \n",
       "000d6849-084e-4d9f-ac03-37174eaf60c4 14943    Пеларгония зональная диам. 12 см темнорозовая п...     1   \n",
       "b19f6cb5-050c-4c18-bcb1-2204a1cc48c3 14722    Левкой рассада однолетних цветов в горшке диам....     1   \n",
       "                                              Аргирантерум рассада однолетних цветов в горшке...     1   \n",
       "                                              Алиссум рассада однолетних цветов в кассете по ...     1   \n",
       "b18c373d-fcb4-4d14-8425-f26f21f52158 72275    Таз пластмассовый 30,0 л овальный ПЦ2913, 1404051      1   \n",
       "\n",
       "                                                                                                  quantity  \\\n",
       "customer_id                          order_id product                                                        \n",
       "000d6849-084e-4d9f-ac03-37174eaf60c4 14943    Пеларгония зональная диам. 12 см темнорозовая п...         1   \n",
       "b19f6cb5-050c-4c18-bcb1-2204a1cc48c3 14722    Левкой рассада однолетних цветов в горшке диам....         1   \n",
       "                                              Аргирантерум рассада однолетних цветов в горшке...         1   \n",
       "                                              Алиссум рассада однолетних цветов в кассете по ...         1   \n",
       "b18c373d-fcb4-4d14-8425-f26f21f52158 72275    Таз пластмассовый 30,0 л овальный ПЦ2913, 1404051          1   \n",
       "\n",
       "                                                                                                  price  \\\n",
       "customer_id                          order_id product                                                     \n",
       "000d6849-084e-4d9f-ac03-37174eaf60c4 14943    Пеларгония зональная диам. 12 см темнорозовая п...      1   \n",
       "b19f6cb5-050c-4c18-bcb1-2204a1cc48c3 14722    Левкой рассада однолетних цветов в горшке диам....      1   \n",
       "                                              Аргирантерум рассада однолетних цветов в горшке...      1   \n",
       "                                              Алиссум рассада однолетних цветов в кассете по ...      1   \n",
       "b18c373d-fcb4-4d14-8425-f26f21f52158 72275    Таз пластмассовый 30,0 л овальный ПЦ2913, 1404051       1   \n",
       "\n",
       "                                                                                                  last_order_date  \\\n",
       "customer_id                          order_id product                                                               \n",
       "000d6849-084e-4d9f-ac03-37174eaf60c4 14943    Пеларгония зональная диам. 12 см темнорозовая п...                1   \n",
       "b19f6cb5-050c-4c18-bcb1-2204a1cc48c3 14722    Левкой рассада однолетних цветов в горшке диам....                1   \n",
       "                                              Аргирантерум рассада однолетних цветов в горшке...                1   \n",
       "                                              Алиссум рассада однолетних цветов в кассете по ...                1   \n",
       "b18c373d-fcb4-4d14-8425-f26f21f52158 72275    Таз пластмассовый 30,0 л овальный ПЦ2913, 1404051                 1   \n",
       "\n",
       "                                                                                                  month  \\\n",
       "customer_id                          order_id product                                                     \n",
       "000d6849-084e-4d9f-ac03-37174eaf60c4 14943    Пеларгония зональная диам. 12 см темнорозовая п...      1   \n",
       "b19f6cb5-050c-4c18-bcb1-2204a1cc48c3 14722    Левкой рассада однолетних цветов в горшке диам....      1   \n",
       "                                              Аргирантерум рассада однолетних цветов в горшке...      1   \n",
       "                                              Алиссум рассада однолетних цветов в кассете по ...      1   \n",
       "b18c373d-fcb4-4d14-8425-f26f21f52158 72275    Таз пластмассовый 30,0 л овальный ПЦ2913, 1404051       1   \n",
       "\n",
       "                                                                                                  week  \\\n",
       "customer_id                          order_id product                                                    \n",
       "000d6849-084e-4d9f-ac03-37174eaf60c4 14943    Пеларгония зональная диам. 12 см темнорозовая п...     1   \n",
       "b19f6cb5-050c-4c18-bcb1-2204a1cc48c3 14722    Левкой рассада однолетних цветов в горшке диам....     1   \n",
       "                                              Аргирантерум рассада однолетних цветов в горшке...     1   \n",
       "                                              Алиссум рассада однолетних цветов в кассете по ...     1   \n",
       "b18c373d-fcb4-4d14-8425-f26f21f52158 72275    Таз пластмассовый 30,0 л овальный ПЦ2913, 1404051      1   \n",
       "\n",
       "                                                                                                  data  \\\n",
       "customer_id                          order_id product                                                    \n",
       "000d6849-084e-4d9f-ac03-37174eaf60c4 14943    Пеларгония зональная диам. 12 см темнорозовая п...     1   \n",
       "b19f6cb5-050c-4c18-bcb1-2204a1cc48c3 14722    Левкой рассада однолетних цветов в горшке диам....     1   \n",
       "                                              Аргирантерум рассада однолетних цветов в горшке...     1   \n",
       "                                              Алиссум рассада однолетних цветов в кассете по ...     1   \n",
       "b18c373d-fcb4-4d14-8425-f26f21f52158 72275    Таз пластмассовый 30,0 л овальный ПЦ2913, 1404051      1   \n",
       "\n",
       "                                                                                                  day  \\\n",
       "customer_id                          order_id product                                                   \n",
       "000d6849-084e-4d9f-ac03-37174eaf60c4 14943    Пеларгония зональная диам. 12 см темнорозовая п...    1   \n",
       "b19f6cb5-050c-4c18-bcb1-2204a1cc48c3 14722    Левкой рассада однолетних цветов в горшке диам....    1   \n",
       "                                              Аргирантерум рассада однолетних цветов в горшке...    1   \n",
       "                                              Алиссум рассада однолетних цветов в кассете по ...    1   \n",
       "b18c373d-fcb4-4d14-8425-f26f21f52158 72275    Таз пластмассовый 30,0 л овальный ПЦ2913, 1404051     1   \n",
       "\n",
       "                                                                                                  time  \\\n",
       "customer_id                          order_id product                                                    \n",
       "000d6849-084e-4d9f-ac03-37174eaf60c4 14943    Пеларгония зональная диам. 12 см темнорозовая п...     1   \n",
       "b19f6cb5-050c-4c18-bcb1-2204a1cc48c3 14722    Левкой рассада однолетних цветов в горшке диам....     1   \n",
       "                                              Аргирантерум рассада однолетних цветов в горшке...     1   \n",
       "                                              Алиссум рассада однолетних цветов в кассете по ...     1   \n",
       "b18c373d-fcb4-4d14-8425-f26f21f52158 72275    Таз пластмассовый 30,0 л овальный ПЦ2913, 1404051      1   \n",
       "\n",
       "                                                                                                  revenue  \n",
       "customer_id                          order_id product                                                      \n",
       "000d6849-084e-4d9f-ac03-37174eaf60c4 14943    Пеларгония зональная диам. 12 см темнорозовая п...        1  \n",
       "b19f6cb5-050c-4c18-bcb1-2204a1cc48c3 14722    Левкой рассада однолетних цветов в горшке диам....        1  \n",
       "                                              Аргирантерум рассада однолетних цветов в горшке...        1  \n",
       "                                              Алиссум рассада однолетних цветов в кассете по ...        1  \n",
       "b18c373d-fcb4-4d14-8425-f26f21f52158 72275    Таз пластмассовый 30,0 л овальный ПЦ2913, 1404051         1  "
      ]
     },
     "execution_count": 30,
     "metadata": {},
     "output_type": "execute_result"
    }
   ],
   "source": [
    "data_f.groupby(['customer_id', 'order_id', 'product']).count().sort_values('date', ascending=False).head()"
   ]
  },
  {
   "cell_type": "markdown",
   "metadata": {},
   "source": [
    "## Категоризация товаров <a id=\"step12\"></a>"
   ]
  },
  {
   "cell_type": "markdown",
   "metadata": {},
   "source": [
    "### Определим топ-товары по выручке <a id=\"step13\"></a>"
   ]
  },
  {
   "cell_type": "code",
   "execution_count": 31,
   "metadata": {},
   "outputs": [
    {
     "data": {
      "text/html": [
       "<div>\n",
       "<style scoped>\n",
       "    .dataframe tbody tr th:only-of-type {\n",
       "        vertical-align: middle;\n",
       "    }\n",
       "\n",
       "    .dataframe tbody tr th {\n",
       "        vertical-align: top;\n",
       "    }\n",
       "\n",
       "    .dataframe thead th {\n",
       "        text-align: right;\n",
       "    }\n",
       "</style>\n",
       "<table border=\"1\" class=\"dataframe\">\n",
       "  <thead>\n",
       "    <tr style=\"text-align: right;\">\n",
       "      <th></th>\n",
       "      <th>product</th>\n",
       "      <th>price</th>\n",
       "      <th>quantity</th>\n",
       "      <th>revenue</th>\n",
       "    </tr>\n",
       "  </thead>\n",
       "  <tbody>\n",
       "    <tr>\n",
       "      <td>0</td>\n",
       "      <td>Вантуз с деревянной ручкой d14 см красный, Bur...</td>\n",
       "      <td>675.0</td>\n",
       "      <td>1000</td>\n",
       "      <td>675000.0</td>\n",
       "    </tr>\n",
       "    <tr>\n",
       "      <td>1</td>\n",
       "      <td>Простынь вафельная 200х180 см WELLNESS RW180-0...</td>\n",
       "      <td>1852.0</td>\n",
       "      <td>30</td>\n",
       "      <td>53232.0</td>\n",
       "    </tr>\n",
       "    <tr>\n",
       "      <td>2</td>\n",
       "      <td>Сумка-тележка 2-х колесная Gimi Argo синяя</td>\n",
       "      <td>1072.0</td>\n",
       "      <td>47</td>\n",
       "      <td>50405.0</td>\n",
       "    </tr>\n",
       "    <tr>\n",
       "      <td>3</td>\n",
       "      <td>Вешалки мягкие для деликатных вещей 3 шт шоколад</td>\n",
       "      <td>156.0</td>\n",
       "      <td>335</td>\n",
       "      <td>49596.0</td>\n",
       "    </tr>\n",
       "    <tr>\n",
       "      <td>4</td>\n",
       "      <td>Тележка багажная DELTA ТБР-22 синий грузоподъе...</td>\n",
       "      <td>616.0</td>\n",
       "      <td>59</td>\n",
       "      <td>33992.0</td>\n",
       "    </tr>\n",
       "    <tr>\n",
       "      <td>...</td>\n",
       "      <td>...</td>\n",
       "      <td>...</td>\n",
       "      <td>...</td>\n",
       "      <td>...</td>\n",
       "    </tr>\n",
       "    <tr>\n",
       "      <td>2332</td>\n",
       "      <td>Незабудка смесь 0,1 г 4650091480340</td>\n",
       "      <td>10.0</td>\n",
       "      <td>1</td>\n",
       "      <td>10.0</td>\n",
       "    </tr>\n",
       "    <tr>\n",
       "      <td>2333</td>\n",
       "      <td>Цинния Оранжевый король 0,5 г 4660010770520</td>\n",
       "      <td>10.0</td>\n",
       "      <td>1</td>\n",
       "      <td>10.0</td>\n",
       "    </tr>\n",
       "    <tr>\n",
       "      <td>2334</td>\n",
       "      <td>Морковь Детская сладость 2 г 4660010775921</td>\n",
       "      <td>10.0</td>\n",
       "      <td>1</td>\n",
       "      <td>10.0</td>\n",
       "    </tr>\n",
       "    <tr>\n",
       "      <td>2335</td>\n",
       "      <td>Горох Амброзия 10,0 г 4660010772616</td>\n",
       "      <td>9.0</td>\n",
       "      <td>1</td>\n",
       "      <td>9.0</td>\n",
       "    </tr>\n",
       "    <tr>\n",
       "      <td>2336</td>\n",
       "      <td>Львиный зев Волшебный ковер 0,05 г 4660010779639</td>\n",
       "      <td>9.0</td>\n",
       "      <td>1</td>\n",
       "      <td>9.0</td>\n",
       "    </tr>\n",
       "  </tbody>\n",
       "</table>\n",
       "<p>2337 rows × 4 columns</p>\n",
       "</div>"
      ],
      "text/plain": [
       "                                                product   price  quantity  \\\n",
       "0     Вантуз с деревянной ручкой d14 см красный, Bur...   675.0      1000   \n",
       "1     Простынь вафельная 200х180 см WELLNESS RW180-0...  1852.0        30   \n",
       "2            Сумка-тележка 2-х колесная Gimi Argo синяя  1072.0        47   \n",
       "3      Вешалки мягкие для деликатных вещей 3 шт шоколад   156.0       335   \n",
       "4     Тележка багажная DELTA ТБР-22 синий грузоподъе...   616.0        59   \n",
       "...                                                 ...     ...       ...   \n",
       "2332                Незабудка смесь 0,1 г 4650091480340    10.0         1   \n",
       "2333        Цинния Оранжевый король 0,5 г 4660010770520    10.0         1   \n",
       "2334         Морковь Детская сладость 2 г 4660010775921    10.0         1   \n",
       "2335                Горох Амброзия 10,0 г 4660010772616     9.0         1   \n",
       "2336   Львиный зев Волшебный ковер 0,05 г 4660010779639     9.0         1   \n",
       "\n",
       "       revenue  \n",
       "0     675000.0  \n",
       "1      53232.0  \n",
       "2      50405.0  \n",
       "3      49596.0  \n",
       "4      33992.0  \n",
       "...        ...  \n",
       "2332      10.0  \n",
       "2333      10.0  \n",
       "2334      10.0  \n",
       "2335       9.0  \n",
       "2336       9.0  \n",
       "\n",
       "[2337 rows x 4 columns]"
      ]
     },
     "execution_count": 31,
     "metadata": {},
     "output_type": "execute_result"
    }
   ],
   "source": [
    "top_product = data_f.pivot_table(index=['product'], values=['revenue',\n",
    "                                                            'price',\n",
    "                                                            'quantity'],\n",
    "                                                            \n",
    "                    aggfunc={'revenue': 'sum', \n",
    "                             'price': 'mean', \n",
    "                             'quantity': 'sum',\n",
    "                             }).round().sort_values(by = 'revenue',\n",
    "                                                    ascending = False)\n",
    "top_product = top_product.reset_index()\n",
    "top_product"
   ]
  },
  {
   "cell_type": "markdown",
   "metadata": {},
   "source": [
    "### Выделим первое слово в названии товара"
   ]
  },
  {
   "cell_type": "code",
   "execution_count": 32,
   "metadata": {},
   "outputs": [],
   "source": [
    "data_f['word'] = data_f['product'].apply(lambda x: x.split(' ')[0])"
   ]
  },
  {
   "cell_type": "markdown",
   "metadata": {},
   "source": [
    "### Выделим топ 50 упоминаний товара <a id=\"step14\"></a>"
   ]
  },
  {
   "cell_type": "code",
   "execution_count": 33,
   "metadata": {},
   "outputs": [],
   "source": [
    "word = data_f.pivot_table(\n",
    "    index ='word', \n",
    "    values = 'product', \n",
    "    aggfunc='count').sort_values(by = 'product',\n",
    "                                 ascending = False)\n",
    "word_top = word.head(100)"
   ]
  },
  {
   "cell_type": "code",
   "execution_count": 34,
   "metadata": {},
   "outputs": [
    {
     "data": {
      "text/plain": [
       "Пеларгония       705\n",
       "Рассада          465\n",
       "Сушилка          272\n",
       "Сумка-тележка    233\n",
       "Муляж            169\n",
       "томата           142\n",
       "Петуния          140\n",
       "Гладильная       117\n",
       "Герань           110\n",
       "Коврик           105\n",
       "Тележка           97\n",
       "Чехол             89\n",
       "Штора             76\n",
       "Таз               68\n",
       "Однолетнее        65\n",
       "Роза              57\n",
       "Искусственный     52\n",
       "Калибрахоа        50\n",
       "Тарелка           39\n",
       "Набор             38\n",
       "Бакопа            37\n",
       "Вешалка           36\n",
       "Цветок            35\n",
       "Корзина           33\n",
       "Скатерть          31\n",
       "Стремянка         26\n",
       "Салатник          23\n",
       "Полки             21\n",
       "Подвесное         21\n",
       "Мята              20\n",
       "Чайник            19\n",
       "Базилик           19\n",
       "Фуксия            19\n",
       "Банка             17\n",
       "Флокс             16\n",
       "Декабрист         16\n",
       "Ёрш               15\n",
       "Примула           15\n",
       "Щетка             15\n",
       "Вербена           15\n",
       "Нож               14\n",
       "Эвкалипт          14\n",
       "Карниз            14\n",
       "Фиалка            14\n",
       "Дыня              14\n",
       "Лобелия           14\n",
       "Контейнер         14\n",
       "Кружка            14\n",
       "Искусственная     13\n",
       "Сумка             13\n",
       "Name: word, dtype: int64"
      ]
     },
     "execution_count": 34,
     "metadata": {},
     "output_type": "execute_result"
    }
   ],
   "source": [
    "word = data_f['word'].value_counts().head(50)\n",
    "word"
   ]
  },
  {
   "cell_type": "markdown",
   "metadata": {},
   "source": [
    "### Вручеую выделим категории товара"
   ]
  },
  {
   "cell_type": "code",
   "execution_count": 35,
   "metadata": {},
   "outputs": [
    {
     "data": {
      "text/plain": [
       "Index(['Пеларгония', 'Рассада', 'Сушилка', 'Сумка-тележка', 'Муляж', 'томата',\n",
       "       'Петуния', 'Гладильная', 'Герань', 'Коврик', 'Тележка', 'Чехол',\n",
       "       'Штора', 'Таз', 'Однолетнее', 'Роза', 'Искусственный', 'Калибрахоа',\n",
       "       'Тарелка', 'Набор', 'Бакопа', 'Вешалка', 'Цветок', 'Корзина',\n",
       "       'Скатерть', 'Стремянка', 'Салатник', 'Подвесное', 'Полки', 'Мята',\n",
       "       'Фуксия', 'Базилик', 'Чайник', 'Банка', 'Декабрист', 'Флокс', 'Вербена',\n",
       "       'Ёрш', 'Примула', 'Щетка', 'Лобелия', 'Эвкалипт', 'Контейнер', 'Фиалка',\n",
       "       'Нож', 'Карниз', 'Дыня', 'Кружка', 'Искусственная', 'Сумка', 'Швабра',\n",
       "       'Подкладка', 'Цикламен', 'Капуста', 'Салфетка', 'Комнатное',\n",
       "       'Новогоднее', 'Бегония', 'Пуансеттия', 'Ведро', 'Подрукавник',\n",
       "       'Газания', 'Лестница-стремянка', 'Бальзамин', 'Циперус', 'Колокольчик',\n",
       "       'Ложка', 'Антуриум', 'Арбуз', 'Декоративная', 'Сиденье', 'Перчатки',\n",
       "       'Окномойка', 'Кувшин', 'Щетка-сметка', 'Штанга', 'Тимьян', 'Сковорода',\n",
       "       'Виола', 'Термокружка', 'Вилка', 'Корыто', 'Космея', 'Кастрюля',\n",
       "       'Вешалка-плечики', 'Хризантема', 'Алиссум', 'Средство', 'Хлорофитум',\n",
       "       'Комплект', 'Крючок', 'Огурец', 'Львиный', 'Кофр', 'Томат', 'Стакан',\n",
       "       'Лаванда', 'Весы', 'Подставка', 'Подарочный'],\n",
       "      dtype='object', name='word')"
      ]
     },
     "execution_count": 35,
     "metadata": {},
     "output_type": "execute_result"
    }
   ],
   "source": [
    "word_top.index"
   ]
  },
  {
   "cell_type": "code",
   "execution_count": 36,
   "metadata": {},
   "outputs": [],
   "source": [
    "# Растения\n",
    "\n",
    "plants = ['Пеларгония','Рассада','томата','Пеларгония', 'Роза','Петуния','Герань', 'Цветок','Однолетнее','Флокс','Цикламен','Примула'\n",
    "        'Калибрахоа','Фуксия','Вербена','Пуансеттия','Фиалка','Дыня','Комнатное','Базилик','Бегония','Бальзамин','Бакопа'\n",
    "         'Космея','Мята','Антуриум','Огурец','Хризантема','Эвкалипт','Декабрист','Томат','Гвоздика','Арбуз','Петрушка',\n",
    "         'Цинния', 'Патиссон','Алиссум','Азалия','Тимьян']\n",
    "\n",
    "# хозтовары\n",
    "\n",
    "hoz = ['Сушилка','Чехол','Набор','Тележка','Таз','Тарелка','Вешалка','Вешалки','Скатерть','Корзина','Стремянка','Чайник','Салатник','Кружка',\n",
    "      'Банка','Швабра','Нож','Лестница-стремянка','Ведро','Салфетка','Сковорода','Крючок','Ёрш','Перчатки','Средство',\n",
    "      'Кастрюля','Ложка','Кофр','Комплект','Весы','Насадка','Вилка','Термокружка', 'Термос','Махровое',\n",
    "       'Жестяная', 'Зубная', 'Шнур', 'Петля', 'Лоток','Ящик', 'Стакан', 'Коробка', 'Сиденье']\n",
    "\n",
    "# интерьер \n",
    "\n",
    "inter = ['Муляж','Штора','Полки','Карниз','Ковер','Декоративная','Подарочный','Чайный','Новогоднее','Плед','Этажерка']\n",
    "\n",
    "# Сумки\n",
    "\n",
    "bags = ['Сумка-тележка']"
   ]
  },
  {
   "cell_type": "code",
   "execution_count": 37,
   "metadata": {},
   "outputs": [],
   "source": [
    "# присваиваем каждому товару свою категорию\n",
    "data_f['category'] = 'другое'\n",
    "data_f.loc[data_f.query('word == @plants').index, 'category'] = 'растения'\n",
    "data_f.loc[data_f.query('word == @hoz').index, 'category'] = 'хозтовары'\n",
    "data_f.loc[data_f.query('word == @inter').index, 'category'] = 'товары для дома'\n",
    "data_f.loc[data_f.query('word == @bags').index, 'category'] = 'сумки'"
   ]
  },
  {
   "cell_type": "code",
   "execution_count": 38,
   "metadata": {},
   "outputs": [
    {
     "data": {
      "text/html": [
       "<div>\n",
       "<style scoped>\n",
       "    .dataframe tbody tr th:only-of-type {\n",
       "        vertical-align: middle;\n",
       "    }\n",
       "\n",
       "    .dataframe tbody tr th {\n",
       "        vertical-align: top;\n",
       "    }\n",
       "\n",
       "    .dataframe thead th {\n",
       "        text-align: right;\n",
       "    }\n",
       "</style>\n",
       "<table border=\"1\" class=\"dataframe\">\n",
       "  <thead>\n",
       "    <tr style=\"text-align: right;\">\n",
       "      <th></th>\n",
       "      <th>date</th>\n",
       "      <th>customer_id</th>\n",
       "      <th>order_id</th>\n",
       "      <th>product</th>\n",
       "      <th>quantity</th>\n",
       "      <th>price</th>\n",
       "      <th>last_order_date</th>\n",
       "      <th>month</th>\n",
       "      <th>week</th>\n",
       "      <th>data</th>\n",
       "      <th>day</th>\n",
       "      <th>time</th>\n",
       "      <th>revenue</th>\n",
       "      <th>word</th>\n",
       "      <th>category</th>\n",
       "    </tr>\n",
       "  </thead>\n",
       "  <tbody>\n",
       "    <tr>\n",
       "      <td>0</td>\n",
       "      <td>2018-10-01</td>\n",
       "      <td>ee47d746-6d2f-4d3c-9622-c31412542920</td>\n",
       "      <td>68477</td>\n",
       "      <td>Комнатное растение в горшке Алое Вера, d12, h30</td>\n",
       "      <td>1</td>\n",
       "      <td>142.0</td>\n",
       "      <td>2018-10-01</td>\n",
       "      <td>10</td>\n",
       "      <td>40</td>\n",
       "      <td>2018-10-01</td>\n",
       "      <td>0</td>\n",
       "      <td>0</td>\n",
       "      <td>142.0</td>\n",
       "      <td>Комнатное</td>\n",
       "      <td>растения</td>\n",
       "    </tr>\n",
       "    <tr>\n",
       "      <td>1</td>\n",
       "      <td>2018-10-01</td>\n",
       "      <td>ee47d746-6d2f-4d3c-9622-c31412542920</td>\n",
       "      <td>68477</td>\n",
       "      <td>Комнатное растение в горшке Кофе Арабика, d12,...</td>\n",
       "      <td>1</td>\n",
       "      <td>194.0</td>\n",
       "      <td>2018-10-01</td>\n",
       "      <td>10</td>\n",
       "      <td>40</td>\n",
       "      <td>2018-10-01</td>\n",
       "      <td>0</td>\n",
       "      <td>0</td>\n",
       "      <td>194.0</td>\n",
       "      <td>Комнатное</td>\n",
       "      <td>растения</td>\n",
       "    </tr>\n",
       "    <tr>\n",
       "      <td>2</td>\n",
       "      <td>2018-10-01</td>\n",
       "      <td>ee47d746-6d2f-4d3c-9622-c31412542920</td>\n",
       "      <td>68477</td>\n",
       "      <td>Радермахера d-12 см h-20 см</td>\n",
       "      <td>1</td>\n",
       "      <td>112.0</td>\n",
       "      <td>2018-10-01</td>\n",
       "      <td>10</td>\n",
       "      <td>40</td>\n",
       "      <td>2018-10-01</td>\n",
       "      <td>0</td>\n",
       "      <td>0</td>\n",
       "      <td>112.0</td>\n",
       "      <td>Радермахера</td>\n",
       "      <td>другое</td>\n",
       "    </tr>\n",
       "    <tr>\n",
       "      <td>3</td>\n",
       "      <td>2018-10-01</td>\n",
       "      <td>ee47d746-6d2f-4d3c-9622-c31412542920</td>\n",
       "      <td>68477</td>\n",
       "      <td>Хризолидокарпус Лутесценс d-9 см</td>\n",
       "      <td>1</td>\n",
       "      <td>179.0</td>\n",
       "      <td>2018-10-01</td>\n",
       "      <td>10</td>\n",
       "      <td>40</td>\n",
       "      <td>2018-10-01</td>\n",
       "      <td>0</td>\n",
       "      <td>0</td>\n",
       "      <td>179.0</td>\n",
       "      <td>Хризолидокарпус</td>\n",
       "      <td>другое</td>\n",
       "    </tr>\n",
       "    <tr>\n",
       "      <td>4</td>\n",
       "      <td>2018-10-01</td>\n",
       "      <td>ee47d746-6d2f-4d3c-9622-c31412542920</td>\n",
       "      <td>68477</td>\n",
       "      <td>Циперус Зумула d-12 см h-25 см</td>\n",
       "      <td>1</td>\n",
       "      <td>112.0</td>\n",
       "      <td>2018-10-01</td>\n",
       "      <td>10</td>\n",
       "      <td>40</td>\n",
       "      <td>2018-10-01</td>\n",
       "      <td>0</td>\n",
       "      <td>0</td>\n",
       "      <td>112.0</td>\n",
       "      <td>Циперус</td>\n",
       "      <td>другое</td>\n",
       "    </tr>\n",
       "  </tbody>\n",
       "</table>\n",
       "</div>"
      ],
      "text/plain": [
       "        date                           customer_id  order_id  \\\n",
       "0 2018-10-01  ee47d746-6d2f-4d3c-9622-c31412542920     68477   \n",
       "1 2018-10-01  ee47d746-6d2f-4d3c-9622-c31412542920     68477   \n",
       "2 2018-10-01  ee47d746-6d2f-4d3c-9622-c31412542920     68477   \n",
       "3 2018-10-01  ee47d746-6d2f-4d3c-9622-c31412542920     68477   \n",
       "4 2018-10-01  ee47d746-6d2f-4d3c-9622-c31412542920     68477   \n",
       "\n",
       "                                             product  quantity  price  \\\n",
       "0    Комнатное растение в горшке Алое Вера, d12, h30         1  142.0   \n",
       "1  Комнатное растение в горшке Кофе Арабика, d12,...         1  194.0   \n",
       "2                        Радермахера d-12 см h-20 см         1  112.0   \n",
       "3                   Хризолидокарпус Лутесценс d-9 см         1  179.0   \n",
       "4                     Циперус Зумула d-12 см h-25 см         1  112.0   \n",
       "\n",
       "  last_order_date  month  week       data  day  time  revenue  \\\n",
       "0      2018-10-01     10    40 2018-10-01    0     0    142.0   \n",
       "1      2018-10-01     10    40 2018-10-01    0     0    194.0   \n",
       "2      2018-10-01     10    40 2018-10-01    0     0    112.0   \n",
       "3      2018-10-01     10    40 2018-10-01    0     0    179.0   \n",
       "4      2018-10-01     10    40 2018-10-01    0     0    112.0   \n",
       "\n",
       "              word  category  \n",
       "0        Комнатное  растения  \n",
       "1        Комнатное  растения  \n",
       "2      Радермахера    другое  \n",
       "3  Хризолидокарпус    другое  \n",
       "4          Циперус    другое  "
      ]
     },
     "execution_count": 38,
     "metadata": {},
     "output_type": "execute_result"
    }
   ],
   "source": [
    "data_f.head()"
   ]
  },
  {
   "cell_type": "markdown",
   "metadata": {},
   "source": [
    "### Посмотрим на распределение выручки по категориям <a id=\"step15\"></a>"
   ]
  },
  {
   "cell_type": "code",
   "execution_count": 39,
   "metadata": {},
   "outputs": [
    {
     "data": {
      "text/html": [
       "<div>\n",
       "<style scoped>\n",
       "    .dataframe tbody tr th:only-of-type {\n",
       "        vertical-align: middle;\n",
       "    }\n",
       "\n",
       "    .dataframe tbody tr th {\n",
       "        vertical-align: top;\n",
       "    }\n",
       "\n",
       "    .dataframe thead th {\n",
       "        text-align: right;\n",
       "    }\n",
       "</style>\n",
       "<table border=\"1\" class=\"dataframe\">\n",
       "  <thead>\n",
       "    <tr style=\"text-align: right;\">\n",
       "      <th></th>\n",
       "      <th>category</th>\n",
       "      <th>revenue</th>\n",
       "    </tr>\n",
       "    <tr>\n",
       "      <th>category</th>\n",
       "      <th></th>\n",
       "      <th></th>\n",
       "    </tr>\n",
       "  </thead>\n",
       "  <tbody>\n",
       "    <tr>\n",
       "      <td>другое</td>\n",
       "      <td>1223</td>\n",
       "      <td>1741909.0</td>\n",
       "    </tr>\n",
       "    <tr>\n",
       "      <td>растения</td>\n",
       "      <td>1999</td>\n",
       "      <td>354397.0</td>\n",
       "    </tr>\n",
       "    <tr>\n",
       "      <td>сумки</td>\n",
       "      <td>233</td>\n",
       "      <td>598127.0</td>\n",
       "    </tr>\n",
       "    <tr>\n",
       "      <td>товары для дома</td>\n",
       "      <td>327</td>\n",
       "      <td>295961.0</td>\n",
       "    </tr>\n",
       "    <tr>\n",
       "      <td>хозтовары</td>\n",
       "      <td>1022</td>\n",
       "      <td>1102191.0</td>\n",
       "    </tr>\n",
       "  </tbody>\n",
       "</table>\n",
       "</div>"
      ],
      "text/plain": [
       "                 category    revenue\n",
       "category                            \n",
       "другое               1223  1741909.0\n",
       "растения             1999   354397.0\n",
       "сумки                 233   598127.0\n",
       "товары для дома       327   295961.0\n",
       "хозтовары            1022  1102191.0"
      ]
     },
     "execution_count": 39,
     "metadata": {},
     "output_type": "execute_result"
    }
   ],
   "source": [
    "count_c = data_f.groupby('category').agg({'category': 'count',\n",
    "                                         'revenue':'sum'})\n",
    "count_c"
   ]
  },
  {
   "cell_type": "code",
   "execution_count": 40,
   "metadata": {},
   "outputs": [
    {
     "data": {
      "image/png": "[encoded data removed]",
      "text/plain": [
       "<Figure size 576x576 with 1 Axes>"
      ]
     },
     "metadata": {},
     "output_type": "display_data"
    }
   ],
   "source": [
    "summary = count_c['revenue'].sum()\n",
    "def func_pct(pct):\n",
    "    value = float(pct/100.*summary)\n",
    "    return \"{:.1f}%\\n({:.0f})\".format(pct, value)\n",
    "\n",
    "explode = (0.03,\n",
    "           0,\n",
    "           0.05,\n",
    "           0,\n",
    "           0.02)\n",
    "# Оформим график\n",
    "\n",
    "ax_pie = count_c.plot(kind='pie',\n",
    "                               y='category',\n",
    "                               use_index=False,\n",
    "                               shadow=True,\n",
    "                               explode=explode,\n",
    "                               title = 'Распределение выручки по категориям',  \n",
    "                               fontsize=15,\n",
    "                               pctdistance=0.9,\n",
    "                               figsize=(8,8), \n",
    "                               autopct=lambda pct: func_pct(pct),\n",
    "                               colors=['#A25457',\n",
    "                                       '#AA637E',\n",
    "                                       '#9D7AA3',\n",
    "                                       '#7E94BD',\n",
    "                                       '#53ADC4',\n",
    "                                       ])\n",
    "                                      #labels=None)\n",
    "\n",
    "plt.tight_layout(pad=0)\n",
    "\n",
    "legend = ax_pie.legend(bbox_to_anchor=(-0.1,1), \n",
    "                       prop={'size':20})\n",
    "\n",
    "y_label = ax_pie.set_ylabel('')"
   ]
  },
  {
   "cell_type": "markdown",
   "metadata": {},
   "source": [
    "#### Почти 90% Выручки приходится на категории: растение, другое, хозтовары"
   ]
  },
  {
   "cell_type": "markdown",
   "metadata": {},
   "source": [
    "### Посмотрим на сезонность по категориям <a id=\"step16\"></a>"
   ]
  },
  {
   "cell_type": "code",
   "execution_count": 41,
   "metadata": {
    "scrolled": false
   },
   "outputs": [
    {
     "data": {
      "image/png": "[encoded data removed]",
      "text/plain": [
       "<Figure size 1152x432 with 1 Axes>"
      ]
     },
     "metadata": {
      "needs_background": "light"
     },
     "output_type": "display_data"
    },
    {
     "data": {
      "image/png": "[encoded data removed]",
      "text/plain": [
       "<Figure size 1152x432 with 1 Axes>"
      ]
     },
     "metadata": {
      "needs_background": "light"
     },
     "output_type": "display_data"
    },
    {
     "data": {
      "image/png": "[encoded data removed]",
      "text/plain": [
       "<Figure size 1152x432 with 1 Axes>"
      ]
     },
     "metadata": {
      "needs_background": "light"
     },
     "output_type": "display_data"
    },
    {
     "data": {
      "image/png": "[encoded data removed]",
      "text/plain": [
       "<Figure size 1152x432 with 1 Axes>"
      ]
     },
     "metadata": {
      "needs_background": "light"
     },
     "output_type": "display_data"
    },
    {
     "data": {
      "image/png": "[encoded data removed]",
      "text/plain": [
       "<Figure size 1152x432 with 1 Axes>"
      ]
     },
     "metadata": {
      "needs_background": "light"
     },
     "output_type": "display_data"
    }
   ],
   "source": [
    "for product_group in  data_f['category'].unique():\n",
    "    plt.figure(figsize=(16,6))\n",
    "    data_f[data_f['category']==product_group].groupby('order_id').agg({'date':'min'})['date'].hist(bins=13)\n",
    "    plt.title(product_group)\n",
    "    plt.xticks(rotation=45)\n",
    "    plt.show()"
   ]
  },
  {
   "cell_type": "markdown",
   "metadata": {},
   "source": [
    "### Вывод по сезонности категорий <a id=\"step17\"></a>\n",
    "- Очевидно прослеживается снижение спроса на все товары в январе\n",
    "- Пик спроса:\n",
    "   - на растения пик спроса весной, очвеидно что люди покупают рассаду\n",
    "   - в целом на зозтовары спрос довольно стабильный\n",
    "   - на сумки пик спроса на конец 2018 и 2019 года\n",
    "   - пик спроса на товары из группы интерьер наблюдается на конец 2018 года"
   ]
  },
  {
   "cell_type": "markdown",
   "metadata": {},
   "source": [
    "## Итоги категоризации <a id=\"step18\"></a>\n",
    "- При помощи выделения первого слова из названия товара и составление ручного списка товаров, был применен цикл, который искал \"Теги\" в названии товара и присваивал ему категорию.\n",
    "- Почти 90% Выручки приходится на категории: растение, другое, хозтовары\n",
    "- Вывод по сезонности категорий\n",
    "    - Очевидно прослеживается снижение спроса на все товары в январе\n",
    "    - Пик спроса:\n",
    "        - на растения пик спроса весной, очвеидно что люди покупают рассаду\n",
    "        - в целом на зозтовары спрос довольно стабильный\n",
    "        - на сумки пик спроса на конец 2018 и 2019 года\n",
    "        - пик спроса на товары из группы интерьер наблюдается на конец 2018 года"
   ]
  },
  {
   "cell_type": "markdown",
   "metadata": {},
   "source": [
    "## Кластеризация <a id=\"step19\"></a>"
   ]
  },
  {
   "cell_type": "markdown",
   "metadata": {},
   "source": [
    "### Для кластеризации оставим следующие признаки:<a id=\"step20\"></a>\n",
    "    - Средняя цена на товар\n",
    "    - Среднее кол-во товара\n",
    "    - Среднее количество товара в одном заказе\n",
    "    - Сезон года\n",
    "    - День недели"
   ]
  },
  {
   "cell_type": "code",
   "execution_count": 42,
   "metadata": {},
   "outputs": [
    {
     "data": {
      "text/html": [
       "<div>\n",
       "<style scoped>\n",
       "    .dataframe tbody tr th:only-of-type {\n",
       "        vertical-align: middle;\n",
       "    }\n",
       "\n",
       "    .dataframe tbody tr th {\n",
       "        vertical-align: top;\n",
       "    }\n",
       "\n",
       "    .dataframe thead th {\n",
       "        text-align: right;\n",
       "    }\n",
       "</style>\n",
       "<table border=\"1\" class=\"dataframe\">\n",
       "  <thead>\n",
       "    <tr style=\"text-align: right;\">\n",
       "      <th></th>\n",
       "      <th>date</th>\n",
       "      <th>customer_id</th>\n",
       "      <th>order_id</th>\n",
       "      <th>product</th>\n",
       "      <th>quantity</th>\n",
       "      <th>price</th>\n",
       "      <th>last_order_date</th>\n",
       "      <th>month</th>\n",
       "      <th>week</th>\n",
       "      <th>data</th>\n",
       "      <th>day</th>\n",
       "      <th>time</th>\n",
       "      <th>revenue</th>\n",
       "      <th>word</th>\n",
       "      <th>category</th>\n",
       "    </tr>\n",
       "  </thead>\n",
       "  <tbody>\n",
       "    <tr>\n",
       "      <td>0</td>\n",
       "      <td>2018-10-01</td>\n",
       "      <td>ee47d746-6d2f-4d3c-9622-c31412542920</td>\n",
       "      <td>68477</td>\n",
       "      <td>Комнатное растение в горшке Алое Вера, d12, h30</td>\n",
       "      <td>1</td>\n",
       "      <td>142.0</td>\n",
       "      <td>2018-10-01</td>\n",
       "      <td>10</td>\n",
       "      <td>40</td>\n",
       "      <td>2018-10-01</td>\n",
       "      <td>0</td>\n",
       "      <td>0</td>\n",
       "      <td>142.0</td>\n",
       "      <td>Комнатное</td>\n",
       "      <td>растения</td>\n",
       "    </tr>\n",
       "    <tr>\n",
       "      <td>1</td>\n",
       "      <td>2018-10-01</td>\n",
       "      <td>ee47d746-6d2f-4d3c-9622-c31412542920</td>\n",
       "      <td>68477</td>\n",
       "      <td>Комнатное растение в горшке Кофе Арабика, d12,...</td>\n",
       "      <td>1</td>\n",
       "      <td>194.0</td>\n",
       "      <td>2018-10-01</td>\n",
       "      <td>10</td>\n",
       "      <td>40</td>\n",
       "      <td>2018-10-01</td>\n",
       "      <td>0</td>\n",
       "      <td>0</td>\n",
       "      <td>194.0</td>\n",
       "      <td>Комнатное</td>\n",
       "      <td>растения</td>\n",
       "    </tr>\n",
       "    <tr>\n",
       "      <td>2</td>\n",
       "      <td>2018-10-01</td>\n",
       "      <td>ee47d746-6d2f-4d3c-9622-c31412542920</td>\n",
       "      <td>68477</td>\n",
       "      <td>Радермахера d-12 см h-20 см</td>\n",
       "      <td>1</td>\n",
       "      <td>112.0</td>\n",
       "      <td>2018-10-01</td>\n",
       "      <td>10</td>\n",
       "      <td>40</td>\n",
       "      <td>2018-10-01</td>\n",
       "      <td>0</td>\n",
       "      <td>0</td>\n",
       "      <td>112.0</td>\n",
       "      <td>Радермахера</td>\n",
       "      <td>другое</td>\n",
       "    </tr>\n",
       "    <tr>\n",
       "      <td>3</td>\n",
       "      <td>2018-10-01</td>\n",
       "      <td>ee47d746-6d2f-4d3c-9622-c31412542920</td>\n",
       "      <td>68477</td>\n",
       "      <td>Хризолидокарпус Лутесценс d-9 см</td>\n",
       "      <td>1</td>\n",
       "      <td>179.0</td>\n",
       "      <td>2018-10-01</td>\n",
       "      <td>10</td>\n",
       "      <td>40</td>\n",
       "      <td>2018-10-01</td>\n",
       "      <td>0</td>\n",
       "      <td>0</td>\n",
       "      <td>179.0</td>\n",
       "      <td>Хризолидокарпус</td>\n",
       "      <td>другое</td>\n",
       "    </tr>\n",
       "    <tr>\n",
       "      <td>4</td>\n",
       "      <td>2018-10-01</td>\n",
       "      <td>ee47d746-6d2f-4d3c-9622-c31412542920</td>\n",
       "      <td>68477</td>\n",
       "      <td>Циперус Зумула d-12 см h-25 см</td>\n",
       "      <td>1</td>\n",
       "      <td>112.0</td>\n",
       "      <td>2018-10-01</td>\n",
       "      <td>10</td>\n",
       "      <td>40</td>\n",
       "      <td>2018-10-01</td>\n",
       "      <td>0</td>\n",
       "      <td>0</td>\n",
       "      <td>112.0</td>\n",
       "      <td>Циперус</td>\n",
       "      <td>другое</td>\n",
       "    </tr>\n",
       "  </tbody>\n",
       "</table>\n",
       "</div>"
      ],
      "text/plain": [
       "        date                           customer_id  order_id  \\\n",
       "0 2018-10-01  ee47d746-6d2f-4d3c-9622-c31412542920     68477   \n",
       "1 2018-10-01  ee47d746-6d2f-4d3c-9622-c31412542920     68477   \n",
       "2 2018-10-01  ee47d746-6d2f-4d3c-9622-c31412542920     68477   \n",
       "3 2018-10-01  ee47d746-6d2f-4d3c-9622-c31412542920     68477   \n",
       "4 2018-10-01  ee47d746-6d2f-4d3c-9622-c31412542920     68477   \n",
       "\n",
       "                                             product  quantity  price  \\\n",
       "0    Комнатное растение в горшке Алое Вера, d12, h30         1  142.0   \n",
       "1  Комнатное растение в горшке Кофе Арабика, d12,...         1  194.0   \n",
       "2                        Радермахера d-12 см h-20 см         1  112.0   \n",
       "3                   Хризолидокарпус Лутесценс d-9 см         1  179.0   \n",
       "4                     Циперус Зумула d-12 см h-25 см         1  112.0   \n",
       "\n",
       "  last_order_date  month  week       data  day  time  revenue  \\\n",
       "0      2018-10-01     10    40 2018-10-01    0     0    142.0   \n",
       "1      2018-10-01     10    40 2018-10-01    0     0    194.0   \n",
       "2      2018-10-01     10    40 2018-10-01    0     0    112.0   \n",
       "3      2018-10-01     10    40 2018-10-01    0     0    179.0   \n",
       "4      2018-10-01     10    40 2018-10-01    0     0    112.0   \n",
       "\n",
       "              word  category  \n",
       "0        Комнатное  растения  \n",
       "1        Комнатное  растения  \n",
       "2      Радермахера    другое  \n",
       "3  Хризолидокарпус    другое  \n",
       "4          Циперус    другое  "
      ]
     },
     "execution_count": 42,
     "metadata": {},
     "output_type": "execute_result"
    }
   ],
   "source": [
    "data_f.head()"
   ]
  },
  {
   "cell_type": "code",
   "execution_count": 43,
   "metadata": {},
   "outputs": [
    {
     "data": {
      "text/html": [
       "<div>\n",
       "<style scoped>\n",
       "    .dataframe tbody tr th:only-of-type {\n",
       "        vertical-align: middle;\n",
       "    }\n",
       "\n",
       "    .dataframe tbody tr th {\n",
       "        vertical-align: top;\n",
       "    }\n",
       "\n",
       "    .dataframe thead th {\n",
       "        text-align: right;\n",
       "    }\n",
       "</style>\n",
       "<table border=\"1\" class=\"dataframe\">\n",
       "  <thead>\n",
       "    <tr style=\"text-align: right;\">\n",
       "      <th></th>\n",
       "      <th>product</th>\n",
       "      <th>price</th>\n",
       "      <th>quantity</th>\n",
       "      <th>mean_quantity</th>\n",
       "    </tr>\n",
       "  </thead>\n",
       "  <tbody>\n",
       "    <tr>\n",
       "      <td>0</td>\n",
       "      <td>Tepмокружка AVEX Freeflow 700 мл зеленый AVEX0759</td>\n",
       "      <td>2399.0</td>\n",
       "      <td>1</td>\n",
       "      <td>1</td>\n",
       "    </tr>\n",
       "    <tr>\n",
       "      <td>1</td>\n",
       "      <td>Tepмокружка AVEX Freeflow 700 мл сталь AVEX0776</td>\n",
       "      <td>2399.0</td>\n",
       "      <td>1</td>\n",
       "      <td>1</td>\n",
       "    </tr>\n",
       "    <tr>\n",
       "      <td>2</td>\n",
       "      <td>Tepмокружка AVEX Recharge 500 мл голубой AVEX0681</td>\n",
       "      <td>2099.0</td>\n",
       "      <td>2</td>\n",
       "      <td>1</td>\n",
       "    </tr>\n",
       "    <tr>\n",
       "      <td>3</td>\n",
       "      <td>Ёрш бутылочный с металлической ручкой малый Y6...</td>\n",
       "      <td>22.0</td>\n",
       "      <td>10</td>\n",
       "      <td>10</td>\n",
       "    </tr>\n",
       "    <tr>\n",
       "      <td>4</td>\n",
       "      <td>Ёрш для бутылки из натурального волокна и мета...</td>\n",
       "      <td>142.0</td>\n",
       "      <td>10</td>\n",
       "      <td>10</td>\n",
       "    </tr>\n",
       "  </tbody>\n",
       "</table>\n",
       "</div>"
      ],
      "text/plain": [
       "                                             product   price  quantity  \\\n",
       "0  Tepмокружка AVEX Freeflow 700 мл зеленый AVEX0759  2399.0         1   \n",
       "1    Tepмокружка AVEX Freeflow 700 мл сталь AVEX0776  2399.0         1   \n",
       "2  Tepмокружка AVEX Recharge 500 мл голубой AVEX0681  2099.0         2   \n",
       "3  Ёрш бутылочный с металлической ручкой малый Y6...    22.0        10   \n",
       "4  Ёрш для бутылки из натурального волокна и мета...   142.0        10   \n",
       "\n",
       "   mean_quantity  \n",
       "0              1  \n",
       "1              1  \n",
       "2              1  \n",
       "3             10  \n",
       "4             10  "
      ]
     },
     "execution_count": 43,
     "metadata": {},
     "output_type": "execute_result"
    }
   ],
   "source": [
    "data_f['year'] = data_f['date'].dt.year\n",
    "\n",
    "# cреднее цена\n",
    "ml = data_f.groupby('product', as_index=False).agg({'price':'mean', 'quantity':'sum'})\n",
    "ml.columns = ['product', 'price', 'quantity']\n",
    "\n",
    "# cреднее количество в одном заказе\n",
    "temp = data_f.groupby(['order_id', 'product'], as_index=False).agg({'quantity':'mean'})\n",
    "temp = temp.groupby('product', as_index=False).agg({'quantity':'mean'}).round(2)\n",
    "ml = pd.merge(ml, temp, on='product')\n",
    "ml.columns = ['product', 'price', 'quantity', 'mean_quantity']\n",
    "ml['mean_quantity'] = ml['mean_quantity'].astype('int')\n",
    "ml.head()"
   ]
  },
  {
   "cell_type": "code",
   "execution_count": 44,
   "metadata": {},
   "outputs": [],
   "source": [
    "temp = data_f[(data_f['year']!=2019)|(data_f['month']!=10)]"
   ]
  },
  {
   "cell_type": "code",
   "execution_count": 45,
   "metadata": {},
   "outputs": [],
   "source": [
    "temp = pd.pivot_table(temp, columns='day', values='quantity', index='product', aggfunc='sum').reset_index()\n",
    "temp.columns = ['product', 'monday', 'tuesday', 'wednesday', 'thursday', 'friday', 'saturday', 'sunday']\n",
    "temp['sum'] = temp.iloc[:,1:9].sum(axis=1)\n",
    "temp['monday'] = temp['monday']/temp['sum']\n",
    "temp['tuesday'] = temp['tuesday']/temp['sum']\n",
    "temp['wednesday'] = temp['wednesday']/temp['sum']\n",
    "temp['thursday'] = temp['thursday']/temp['sum']\n",
    "temp['friday'] = temp['friday']/temp['sum']\n",
    "temp['saturday'] = temp['saturday']/temp['sum']\n",
    "temp['sunday'] = temp['sunday']/temp['sum']\n",
    "del temp['sum']\n",
    "temp = temp.fillna(0)\n",
    "ml = pd.merge(ml, temp, on='product', how='left')"
   ]
  },
  {
   "cell_type": "code",
   "execution_count": 46,
   "metadata": {},
   "outputs": [
    {
     "data": {
      "text/plain": [
       "spring    1812\n",
       "autumn    1128\n",
       "winter     850\n",
       "summer     800\n",
       "Name: season, dtype: int64"
      ]
     },
     "execution_count": 46,
     "metadata": {},
     "output_type": "execute_result"
    }
   ],
   "source": [
    "temp = data_f[(data_f['year']!=2019)|(data_f['month']!=10)] \n",
    "temp['season'] = temp['month'].map({12:'winter', 1:'winter',2:'winter',\n",
    "                   3:'spring',4:'spring',5:'spring',\n",
    "                   6:'summer',7:'summer',8:'summer',\n",
    "                   9:'autumn',10:'autumn', 11:'autumn'})\n",
    "temp['season'].value_counts()"
   ]
  },
  {
   "cell_type": "code",
   "execution_count": 47,
   "metadata": {},
   "outputs": [],
   "source": [
    "temp = pd.pivot_table(temp, columns='season', values='quantity', index='product', aggfunc='sum').reset_index()\n",
    "temp['sum'] = temp.iloc[:,1:6].sum(axis=1)\n",
    "temp['autumn'] = temp['autumn']/temp['sum']\n",
    "temp['spring'] = temp['spring']/temp['sum']\n",
    "temp['summer'] = temp['summer']/temp['sum']\n",
    "temp['winter'] = temp['winter']/temp['sum']\n",
    "del temp['sum']\n",
    "temp = temp.fillna(0)\n",
    "ml = pd.merge(ml, temp, on='product', how='left')"
   ]
  },
  {
   "cell_type": "markdown",
   "metadata": {},
   "source": [
    "### Матрица корреляций <a id=\"step21\"></a>"
   ]
  },
  {
   "cell_type": "code",
   "execution_count": 48,
   "metadata": {},
   "outputs": [
    {
     "data": {
      "image/png": "[encoded data removed]",
      "text/plain": [
       "<Figure size 1440x1008 with 2 Axes>"
      ]
     },
     "metadata": {
      "needs_background": "light"
     },
     "output_type": "display_data"
    }
   ],
   "source": [
    "X = ml.drop('product', axis=1)\n",
    "X = X.dropna()\n",
    "\n",
    "# стандартизируем данные\n",
    "scaler = StandardScaler()\n",
    "x_sc = scaler.fit_transform(X)\n",
    "\n",
    "#Матрица признаков корреляции\n",
    "plt.figure(figsize=(20, 14))\n",
    "sns.heatmap(X.corr().round(2), annot = True, square=True, linewidths=1,cmap = 'coolwarm') \n",
    "plt.xlabel('Признаки')\n",
    "plt.ylabel('Признаки ')\n",
    "plt.title('Матрица корреляции признаков')\n",
    "plt.xticks(rotation=65)\n",
    "plt.show()"
   ]
  },
  {
   "cell_type": "markdown",
   "metadata": {},
   "source": [
    "#### Кроме quantity и mean_quantity_in_order признаки слабо коррелируют между собой"
   ]
  },
  {
   "cell_type": "markdown",
   "metadata": {},
   "source": [
    "### Дендограмма <a id=\"step22\"></a>"
   ]
  },
  {
   "cell_type": "code",
   "execution_count": 49,
   "metadata": {},
   "outputs": [
    {
     "data": {
      "image/png": "[encoded data removed]",
      "text/plain": [
       "<Figure size 1080x720 with 1 Axes>"
      ]
     },
     "metadata": {
      "needs_background": "light"
     },
     "output_type": "display_data"
    }
   ],
   "source": [
    "linked = linkage(x_sc, method = 'ward')\n",
    "linked.shape\n",
    "\n",
    "plt.figure(figsize=(15, 10))  \n",
    "dendrogram(linked, orientation='top')\n",
    "plt.title('Дендограмма')\n",
    "plt.show()"
   ]
  },
  {
   "cell_type": "markdown",
   "metadata": {},
   "source": [
    "### На дендограмме видим 7 групп. Зададим модель k_means"
   ]
  },
  {
   "cell_type": "code",
   "execution_count": 50,
   "metadata": {},
   "outputs": [],
   "source": [
    "ml = ml.dropna()\n",
    "km = KMeans(n_clusters = 7, random_state=0)\n",
    "labels = km.fit_predict(x_sc)\n",
    "ml['clusters'] = labels"
   ]
  },
  {
   "cell_type": "code",
   "execution_count": 51,
   "metadata": {
    "scrolled": false
   },
   "outputs": [
    {
     "data": {
      "image/png": "[encoded data removed]",
      "text/plain": [
       "<Figure size 864x432 with 1 Axes>"
      ]
     },
     "metadata": {
      "needs_background": "light"
     },
     "output_type": "display_data"
    }
   ],
   "source": [
    "ml.groupby('clusters').agg({'quantity':'count'}).plot(grid=True, kind='bar', figsize=(12,6))\n",
    "plt.xlabel('Группы')\n",
    "plt.ylabel('Количество товаров')\n",
    "plt.xticks(rotation=0)\n",
    "plt.title('Количество купленных товаров по группам')\n",
    "plt.show()"
   ]
  },
  {
   "cell_type": "code",
   "execution_count": 52,
   "metadata": {},
   "outputs": [
    {
     "data": {
      "text/html": [
       "<div>\n",
       "<style scoped>\n",
       "    .dataframe tbody tr th:only-of-type {\n",
       "        vertical-align: middle;\n",
       "    }\n",
       "\n",
       "    .dataframe tbody tr th {\n",
       "        vertical-align: top;\n",
       "    }\n",
       "\n",
       "    .dataframe thead th {\n",
       "        text-align: right;\n",
       "    }\n",
       "</style>\n",
       "<table border=\"1\" class=\"dataframe\">\n",
       "  <thead>\n",
       "    <tr style=\"text-align: right;\">\n",
       "      <th></th>\n",
       "      <th>clusters</th>\n",
       "      <th>price</th>\n",
       "      <th>quantity</th>\n",
       "      <th>mean_quantity</th>\n",
       "      <th>monday</th>\n",
       "      <th>tuesday</th>\n",
       "      <th>wednesday</th>\n",
       "      <th>thursday</th>\n",
       "      <th>friday</th>\n",
       "      <th>saturday</th>\n",
       "      <th>sunday</th>\n",
       "      <th>autumn</th>\n",
       "      <th>spring</th>\n",
       "      <th>summer</th>\n",
       "      <th>winter</th>\n",
       "    </tr>\n",
       "  </thead>\n",
       "  <tbody>\n",
       "    <tr>\n",
       "      <td>0</td>\n",
       "      <td>0</td>\n",
       "      <td>562.265677</td>\n",
       "      <td>3.473684</td>\n",
       "      <td>2.036842</td>\n",
       "      <td>0.018463</td>\n",
       "      <td>0.010729</td>\n",
       "      <td>0.007453</td>\n",
       "      <td>0.013000</td>\n",
       "      <td>0.011683</td>\n",
       "      <td>0.914454</td>\n",
       "      <td>0.024218</td>\n",
       "      <td>0.475341</td>\n",
       "      <td>0.263802</td>\n",
       "      <td>0.120858</td>\n",
       "      <td>0.139999</td>\n",
       "    </tr>\n",
       "    <tr>\n",
       "      <td>1</td>\n",
       "      <td>1</td>\n",
       "      <td>624.103103</td>\n",
       "      <td>7.104195</td>\n",
       "      <td>2.803789</td>\n",
       "      <td>0.050674</td>\n",
       "      <td>0.040529</td>\n",
       "      <td>0.047642</td>\n",
       "      <td>0.408448</td>\n",
       "      <td>0.388792</td>\n",
       "      <td>0.025392</td>\n",
       "      <td>0.038523</td>\n",
       "      <td>0.312660</td>\n",
       "      <td>0.341790</td>\n",
       "      <td>0.182166</td>\n",
       "      <td>0.163384</td>\n",
       "    </tr>\n",
       "    <tr>\n",
       "      <td>2</td>\n",
       "      <td>2</td>\n",
       "      <td>648.149705</td>\n",
       "      <td>3.943144</td>\n",
       "      <td>2.588629</td>\n",
       "      <td>0.014522</td>\n",
       "      <td>0.013573</td>\n",
       "      <td>0.913432</td>\n",
       "      <td>0.014945</td>\n",
       "      <td>0.007907</td>\n",
       "      <td>0.018893</td>\n",
       "      <td>0.016729</td>\n",
       "      <td>0.232062</td>\n",
       "      <td>0.339688</td>\n",
       "      <td>0.183544</td>\n",
       "      <td>0.244707</td>\n",
       "    </tr>\n",
       "    <tr>\n",
       "      <td>3</td>\n",
       "      <td>3</td>\n",
       "      <td>610.579420</td>\n",
       "      <td>5.665823</td>\n",
       "      <td>3.281013</td>\n",
       "      <td>0.045947</td>\n",
       "      <td>0.829350</td>\n",
       "      <td>0.032352</td>\n",
       "      <td>0.021768</td>\n",
       "      <td>0.017051</td>\n",
       "      <td>0.025867</td>\n",
       "      <td>0.027665</td>\n",
       "      <td>0.237561</td>\n",
       "      <td>0.366943</td>\n",
       "      <td>0.181398</td>\n",
       "      <td>0.214098</td>\n",
       "    </tr>\n",
       "    <tr>\n",
       "      <td>4</td>\n",
       "      <td>4</td>\n",
       "      <td>595.432857</td>\n",
       "      <td>5.362245</td>\n",
       "      <td>3.533163</td>\n",
       "      <td>0.899749</td>\n",
       "      <td>0.014085</td>\n",
       "      <td>0.020700</td>\n",
       "      <td>0.023736</td>\n",
       "      <td>0.009258</td>\n",
       "      <td>0.014585</td>\n",
       "      <td>0.017887</td>\n",
       "      <td>0.252487</td>\n",
       "      <td>0.313458</td>\n",
       "      <td>0.178171</td>\n",
       "      <td>0.255884</td>\n",
       "    </tr>\n",
       "    <tr>\n",
       "      <td>5</td>\n",
       "      <td>5</td>\n",
       "      <td>675.000000</td>\n",
       "      <td>1000.000000</td>\n",
       "      <td>1000.000000</td>\n",
       "      <td>0.000000</td>\n",
       "      <td>1.000000</td>\n",
       "      <td>0.000000</td>\n",
       "      <td>0.000000</td>\n",
       "      <td>0.000000</td>\n",
       "      <td>0.000000</td>\n",
       "      <td>0.000000</td>\n",
       "      <td>0.000000</td>\n",
       "      <td>0.000000</td>\n",
       "      <td>1.000000</td>\n",
       "      <td>0.000000</td>\n",
       "    </tr>\n",
       "    <tr>\n",
       "      <td>6</td>\n",
       "      <td>6</td>\n",
       "      <td>657.366667</td>\n",
       "      <td>2.745690</td>\n",
       "      <td>1.883621</td>\n",
       "      <td>0.016308</td>\n",
       "      <td>0.008385</td>\n",
       "      <td>0.012128</td>\n",
       "      <td>0.011824</td>\n",
       "      <td>0.013013</td>\n",
       "      <td>0.011546</td>\n",
       "      <td>0.926796</td>\n",
       "      <td>0.251829</td>\n",
       "      <td>0.401998</td>\n",
       "      <td>0.111806</td>\n",
       "      <td>0.234367</td>\n",
       "    </tr>\n",
       "  </tbody>\n",
       "</table>\n",
       "</div>"
      ],
      "text/plain": [
       "   clusters       price     quantity  mean_quantity    monday   tuesday  \\\n",
       "0         0  562.265677     3.473684       2.036842  0.018463  0.010729   \n",
       "1         1  624.103103     7.104195       2.803789  0.050674  0.040529   \n",
       "2         2  648.149705     3.943144       2.588629  0.014522  0.013573   \n",
       "3         3  610.579420     5.665823       3.281013  0.045947  0.829350   \n",
       "4         4  595.432857     5.362245       3.533163  0.899749  0.014085   \n",
       "5         5  675.000000  1000.000000    1000.000000  0.000000  1.000000   \n",
       "6         6  657.366667     2.745690       1.883621  0.016308  0.008385   \n",
       "\n",
       "   wednesday  thursday    friday  saturday    sunday    autumn    spring  \\\n",
       "0   0.007453  0.013000  0.011683  0.914454  0.024218  0.475341  0.263802   \n",
       "1   0.047642  0.408448  0.388792  0.025392  0.038523  0.312660  0.341790   \n",
       "2   0.913432  0.014945  0.007907  0.018893  0.016729  0.232062  0.339688   \n",
       "3   0.032352  0.021768  0.017051  0.025867  0.027665  0.237561  0.366943   \n",
       "4   0.020700  0.023736  0.009258  0.014585  0.017887  0.252487  0.313458   \n",
       "5   0.000000  0.000000  0.000000  0.000000  0.000000  0.000000  0.000000   \n",
       "6   0.012128  0.011824  0.013013  0.011546  0.926796  0.251829  0.401998   \n",
       "\n",
       "     summer    winter  \n",
       "0  0.120858  0.139999  \n",
       "1  0.182166  0.163384  \n",
       "2  0.183544  0.244707  \n",
       "3  0.181398  0.214098  \n",
       "4  0.178171  0.255884  \n",
       "5  1.000000  0.000000  \n",
       "6  0.111806  0.234367  "
      ]
     },
     "execution_count": 52,
     "metadata": {},
     "output_type": "execute_result"
    }
   ],
   "source": [
    "group = ml.drop(['product'], axis=1).groupby('clusters').mean().reset_index()\n",
    "group"
   ]
  },
  {
   "cell_type": "markdown",
   "metadata": {},
   "source": [
    "## Вывод по кластеризации <a id=\"step23\"></a>\n",
    "### В итоге кластеризации у нас образовалась 7 групп покупателей, каждой из которых соответсвует определенное поведение<a id=\"step25\"></a>\n",
    "- Группа 0. 250 позиций, заказы в основном по субботам, осенью и весной\n",
    "- Группа 1. 750 позиций, заказы в онсновном по четвергам, пятницам и субботам, осенью и весной\n",
    "- Группа 2. 300 позиций. 90% заказов по средам, меньше всего заказов летом\n",
    "- Группа 3. 395 позиций. 80% заказов по вторникам, спрос в течении года примерно одинаковый, но выделяется осень - 36%\n",
    "- Группа 4. 390 позиций, 89% заказов по понедельникам, спрос в течении года примерно одинаковый\n",
    "- Группа 5. 1 позиция, оптовая закупка вантузами)\n",
    "- Группа 6. 230 позиций, 92% заказов в воскресенье, чаще всего покупают весной"
   ]
  },
  {
   "cell_type": "markdown",
   "metadata": {},
   "source": [
    "## Проверка гипотез<a id=\"step24\"></a>"
   ]
  },
  {
   "cell_type": "markdown",
   "metadata": {},
   "source": [
    "### Влияет ли количество товаров в чеке на выручку?\n"
   ]
  },
  {
   "cell_type": "markdown",
   "metadata": {},
   "source": [
    "### Подготовим данные"
   ]
  },
  {
   "cell_type": "code",
   "execution_count": 53,
   "metadata": {},
   "outputs": [
    {
     "data": {
      "text/html": [
       "<div>\n",
       "<style scoped>\n",
       "    .dataframe tbody tr th:only-of-type {\n",
       "        vertical-align: middle;\n",
       "    }\n",
       "\n",
       "    .dataframe tbody tr th {\n",
       "        vertical-align: top;\n",
       "    }\n",
       "\n",
       "    .dataframe thead th {\n",
       "        text-align: right;\n",
       "    }\n",
       "</style>\n",
       "<table border=\"1\" class=\"dataframe\">\n",
       "  <thead>\n",
       "    <tr style=\"text-align: right;\">\n",
       "      <th></th>\n",
       "      <th>order_id</th>\n",
       "      <th>category</th>\n",
       "      <th>quantity</th>\n",
       "      <th>total</th>\n",
       "    </tr>\n",
       "  </thead>\n",
       "  <tbody>\n",
       "    <tr>\n",
       "      <td>0</td>\n",
       "      <td>12624</td>\n",
       "      <td>другое</td>\n",
       "      <td>2</td>\n",
       "      <td>2</td>\n",
       "    </tr>\n",
       "    <tr>\n",
       "      <td>1</td>\n",
       "      <td>13547</td>\n",
       "      <td>растения</td>\n",
       "      <td>3</td>\n",
       "      <td>3</td>\n",
       "    </tr>\n",
       "    <tr>\n",
       "      <td>2</td>\n",
       "      <td>14480</td>\n",
       "      <td>другое</td>\n",
       "      <td>1</td>\n",
       "      <td>3</td>\n",
       "    </tr>\n",
       "    <tr>\n",
       "      <td>3</td>\n",
       "      <td>14480</td>\n",
       "      <td>растения</td>\n",
       "      <td>2</td>\n",
       "      <td>3</td>\n",
       "    </tr>\n",
       "    <tr>\n",
       "      <td>4</td>\n",
       "      <td>14481</td>\n",
       "      <td>растения</td>\n",
       "      <td>4</td>\n",
       "      <td>4</td>\n",
       "    </tr>\n",
       "  </tbody>\n",
       "</table>\n",
       "</div>"
      ],
      "text/plain": [
       "   order_id  category  quantity  total\n",
       "0     12624    другое         2      2\n",
       "1     13547  растения         3      3\n",
       "2     14480    другое         1      3\n",
       "3     14480  растения         2      3\n",
       "4     14481  растения         4      4"
      ]
     },
     "execution_count": 53,
     "metadata": {},
     "output_type": "execute_result"
    }
   ],
   "source": [
    "q_per_order = data_f.groupby(['order_id', 'category']).agg({'quantity':'sum'}).reset_index()\n",
    "quantity = q_per_order.groupby('order_id')['quantity'].sum()\n",
    "quantity.name = 'total'\n",
    "\n",
    "q_per_order = q_per_order.join(quantity, on='order_id')\n",
    "q_per_order.head()"
   ]
  },
  {
   "cell_type": "markdown",
   "metadata": {},
   "source": [
    "### Cоздадим списки заказов с 1 товаром и более 1 товара"
   ]
  },
  {
   "cell_type": "code",
   "execution_count": 54,
   "metadata": {},
   "outputs": [],
   "source": [
    "# с 1 товаром\n",
    "orders_1 = q_per_order[q_per_order['total'] == 1]['order_id'].to_list()\n",
    "# более чем 1 товаром\n",
    "orders_2 = q_per_order[q_per_order['total'] > 1]['order_id'].to_list()"
   ]
  },
  {
   "cell_type": "markdown",
   "metadata": {},
   "source": [
    "### Cоздадим списки стоимости заказов с 1 товаром и более 1 товара"
   ]
  },
  {
   "cell_type": "code",
   "execution_count": 55,
   "metadata": {},
   "outputs": [],
   "source": [
    "# список стоимости заказов с 1 товаром\n",
    "sample_1 = data_f.query('order_id in @orders_2').groupby('order_id')['revenue'].sum()\n",
    "# список стоимости заказов с более чем 1 товаром\n",
    "sample_2 = data_f.query('order_id in @orders_1').groupby('order_id')['revenue'].sum()"
   ]
  },
  {
   "cell_type": "markdown",
   "metadata": {},
   "source": [
    "### Сформулируем гипотезы\n",
    "    - Нулевая гипотеза: количество товаров в чеке не влияет на выручку\n",
    "    - Альетрнативная гипотеза: количество товаров в чеке влияет на выручку"
   ]
  },
  {
   "cell_type": "markdown",
   "metadata": {},
   "source": [
    "### Проведем тест"
   ]
  },
  {
   "cell_type": "code",
   "execution_count": 56,
   "metadata": {},
   "outputs": [
    {
     "name": "stdout",
     "output_type": "stream",
     "text": [
      "p-значение: 0.02471669405307402\n",
      "Отвергаем нулевую гипотезу\n"
     ]
    }
   ],
   "source": [
    "alpha = .05\n",
    "\n",
    "results = st.ttest_ind(sample_1, sample_2)\n",
    "\n",
    "print('p-значение:', results.pvalue)\n",
    "\n",
    "if (results.pvalue < alpha):\n",
    "    print(\"Отвергаем нулевую гипотезу\")\n",
    "else:\n",
    "    print(\"Не получилось отвергнуть нулевую гипотезу\")"
   ]
  },
  {
   "cell_type": "markdown",
   "metadata": {},
   "source": [
    "#### Результаты тесты говорят нам о том, что количество товаров в чеке вляет на выручку . Это говорит о том, что люди чаще покупают больше одного товара по не большой цене, чем один товар с высокой ценой"
   ]
  },
  {
   "cell_type": "markdown",
   "metadata": {},
   "source": [
    "## Количество проданного товара в выходные и будни дни одинаковое?"
   ]
  },
  {
   "cell_type": "markdown",
   "metadata": {},
   "source": [
    "### Подготовим данные"
   ]
  },
  {
   "cell_type": "code",
   "execution_count": 57,
   "metadata": {},
   "outputs": [],
   "source": [
    "sample1 = data_f.query('day > 4')['quantity']\n",
    "sample2 = data_f.query('day < 5')['quantity']"
   ]
  },
  {
   "cell_type": "markdown",
   "metadata": {},
   "source": [
    "### Сформулируем гипотезы\n",
    "     - Нулевая гипотеза: количество проданного товара в выходные и будни дни не одинаковые.\n",
    "     - Альтернативная гипотеза: количество проданного товара в выходные и будни дни одинаковое одинаковые."
   ]
  },
  {
   "cell_type": "code",
   "execution_count": 58,
   "metadata": {},
   "outputs": [
    {
     "name": "stdout",
     "output_type": "stream",
     "text": [
      "p-значение:  0.05637244190017963\n",
      "Отвергаем нулевую гипотезу\n"
     ]
    }
   ],
   "source": [
    "alpha = 0.5\n",
    "\n",
    "results = st.ttest_ind(sample1, sample2)\n",
    "    \n",
    "print('p-значение: ', results.pvalue)\n",
    "    \n",
    "if (results.pvalue < alpha):\n",
    "    print(\"Отвергаем нулевую гипотезу\")\n",
    "else:\n",
    "    print(\"Не получилось отвергнуть нулевую гипотезу\")"
   ]
  },
  {
   "cell_type": "markdown",
   "metadata": {},
   "source": [
    "#### Результаты тесты говорят нам о том, что количество товаров проданных в выходные и будни товаров дни примерно равны."
   ]
  },
  {
   "cell_type": "markdown",
   "metadata": {},
   "source": [
    "## Итоги по проверке гипотез \n",
    "- Мною были выдвинуты две гипотезы:\n",
    "    - Влияет ли количество товаров в чеке на выручку?\n",
    "    - Количество проданного товара в выходные и будни дни одинаковое?\n",
    "- Результаты теста: \n",
    "    - Количество товаров в чеке вляет на выручку в чеке\n",
    "    - Количество товаров проданных в выходные и будни товаров  примерно равны"
   ]
  },
  {
   "cell_type": "markdown",
   "metadata": {},
   "source": [
    "## Общий вывод <a id=\"step26\"></a>"
   ]
  },
  {
   "cell_type": "markdown",
   "metadata": {},
   "source": [
    "- 4,5 и 6 месяц у нас самые большие по колличеству клиентов\n",
    "- 6 месяц самый удачныйпо выручке, далее идет 10 месяц, остальные находятся примерно на одном уровне\n",
    "- Понедельник - самый кассовый день, а вот суббота - наоборот ...остальные дни примерно одинаковые\n",
    "- Ночью у нас почти не покупают, а вот с 7 утра начинается торговля, но самый прибыльным часом является 15 часов\n",
    "- Среднее количество покупателей:\n",
    "    - в месяц 205\n",
    "    - в неделю 48\n",
    "    - в день 6\n",
    "- В день делают от 640 до 825 заказов, в среднем - 725 заказов\n",
    "- Средний чек лежит в диапозоне от 200 до 950 у.е., средний значением является 490 у.е.\n",
    "- Почти 90% Выручки приходится на категории: растение, другое, хозтовары\n",
    "    - Вывод по сезонности категорий:\n",
    "        - Очевидно прослеживается снижение спроса на все товары в январе\n",
    "        - Пик спроса:\n",
    "            - на растения пик спроса весной, очвеидно что люди покупают рассаду\n",
    "            - в целом на зозтовары спрос довольно стабильный\n",
    "            - на сумки пик спроса на конец 2018 и 2019 года\n",
    "            - пик спроса на товары из группы интерьер наблюдается на конец 2018 года\n",
    "- Была проведена кластеразицация пользователей на [группы](#step25)\n",
    "- Проверка гипотез дала нам следующие результаты:\n",
    "    - Количество товаров в чеке вляет на выручку в чеке\n",
    "    - Количество товаров проданных в выходные и будни товаров  примерно равны\n"
   ]
  },
  {
   "cell_type": "markdown",
   "metadata": {},
   "source": [
    "## Баг\n",
    "При проверке для каждого заказа уникального клиента обнаружилось, что на один заказ иногда приходится более 1 уникального клиента. Проведена очистка данных, потери в сравнении с изначальным датафреймом составила 0,1%"
   ]
  }
 ],
 "metadata": {
  "kernelspec": {
   "display_name": "Python 3",
   "language": "python",
   "name": "python3"
  },
  "language_info": {
   "codemirror_mode": {
    "name": "ipython",
    "version": 3
   },
   "file_extension": ".py",
   "mimetype": "text/x-python",
   "name": "python",
   "nbconvert_exporter": "python",
   "pygments_lexer": "ipython3",
   "version": "3.7.6"
  }
 },
 "nbformat": 4,
 "nbformat_minor": 2
}
