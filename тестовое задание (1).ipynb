{
 "cells": [
  {
   "cell_type": "markdown",
   "metadata": {},
   "source": [
    "## Тестовое задание для кандидатов \"Аналитик Стажер python\"\n",
    "## Максимов С.К.\n",
    "\n",
    "\n",
    "\n",
    "\n",
    "## Задание 1: Имена\n",
    "\n",
    "### Исходные данные\n",
    "\n",
    "### Задача\n",
    "\n",
    "Нужно выполнить следующие действия и вывести результат вычислений:\n",
    "\n",
    "1. Отсортировать все имена в лексикографическом порядке.\n",
    "2. Посчитать для каждого имени алфавитную сумму – сумму порядковых номеров букв (MAY: 13 + 1 + 25 = 39).\n",
    "3. Умножить алфавитную сумму каждого имени на порядковый номер имени в отсортированном списке (индексация начинается с 1). Например, если MAY находится на 63 месте в списке, то результат для него будет 63 * 39 = 2457.\n",
    "4. Сложить произведения из п. 3 для всех имен из файла и получить число.\n",
    "5. Вывести полученную сумму.\n",
    "\n",
    "## Задание 2: IP-адреса\n",
    "\n",
    "### Исходные данные\n",
    "\n",
    "Файл состоит из строк вида: `<host>\\t<ip>\\t<page>\\n`, где host — корневой домен, ip — IP-адрес, page — «хвост» ссылки.\n",
    "\n",
    "### Задача\n",
    "\n",
    "Необходимо вывести 5 IP-адресов, которые встречаются в файле чаще других.\n",
    "## Задание 3: Оценка уроков\n",
    "\n",
    "*В нашей школе ученики и репетиторы занимаются в специальном онлайн-классе, в котором они могут общаться друг с другом, рисовать на доске, переписываться в чате, обмениваться файлами и решать различные задачки. Информацию о каждом уроке мы записываем в базу данных в таблицу lessons. На каждом таком уроке присутствует один репетитор и один ученик. В конце урока, когда учитель и ученик покидают класс, им предлагается по желанию оценить качество пройденного урока по пятибальной шкале. Оценки мы записываем в таблицу quality.*\n",
    "\n",
    "### Исходные данные\n",
    "\n",
    "В архиве содержится четыре файла с выгрузкой строк из базы.\n",
    "\n",
    "Файл **users.txt** хранит информацию о пользователях:\n",
    "\n",
    "- id – уникальный идентификатор пользователя\n",
    "- role – указывает, является ли пользователь учеником (pupil) или учителем (tutor)\n",
    "\n",
    "Файл **lessons.txt** содержит следующие поля:\n",
    "\n",
    "- id – уникальный идентификатор урока\n",
    "- event_id – идентификатор, связывающий уроки с файлом participants. У нескольких уроков может быть один и тот же event_id\n",
    "- subject – предмет урока, строка\n",
    "- scheduled_time – время начала урока, в формате ГГГГ-ММ-ДД чч:мм:сс (иногда есть еще миллисекунды). Время указано в UTC\n",
    "\n",
    "Файл **participants.txt** позволяет связать урок с его участниками. Он содержит следующие поля:\n",
    "\n",
    "- user_id – идентификатор пользователя (указывает на запись в файле users.txt)\n",
    "- event_id – идентификатор, связывающий урок с участником. Чтобы понять, какие пользователи были на уроке Х, нужно найти в файле participants.txt строки, у которых event_id совпадает с event_id урока Х.\n",
    "\n",
    "Файл **quality.txt** содержит следующие поля:\n",
    "\n",
    "- lesson_id – идентификатор урока, указывающий на запись в таблице lessons.txt. У нескольких строчек из этого файла может быть один и тот же lesson_id, потому что оценок за урок может быть несколько (в случае, когда и ученик, и репетитор оценили качество урока)\n",
    "- tech_quality – оценка качества урока. Это число от 1 до 5. Иногда его может не быть, если пользователь не выставил оценку.\n",
    "\n",
    "### Задача\n",
    "\n",
    "Нужно найти, какой из репетиторов получал самую низкую среднюю оценку качества после уроков по физике за каждый день, и вывести эту оценку.\n",
    "\n",
    "Примечания:\n",
    "\n",
    "- Необходимо учитывать оценки и учителей, и учеников.\n",
    "- Нужно учитывать только тех учителей, за уроки по физике которых в этот день стоит хотя бы одна оценка.\n",
    "- Начало урока для решения задачи должно учитываться по московскому времени.\n",
    "- При расчёте среднего значения не нужно учитывать ситуации, когда пользователь не выставил оценку.\n",
    "- Если у нескольких учителей после расчёта совпадают средние значения, можно вывести любого из них."
   ]
  },
  {
   "cell_type": "markdown",
   "metadata": {},
   "source": [
    "## Задание 1: Имена"
   ]
  },
  {
   "cell_type": "code",
   "execution_count": 1,
   "metadata": {},
   "outputs": [],
   "source": [
    "# Загрузим библиотеки\n",
    "import pandas as pd\n",
    "pd.set_option('display.max_rows', None)\n",
    "pd.set_option('display.max_columns', None)\n",
    "pd.set_option('display.width', None)\n",
    "pd.set_option('display.max_colwidth', -1)\n",
    "import numpy as np"
   ]
  },
  {
   "cell_type": "code",
   "execution_count": 2,
   "metadata": {},
   "outputs": [
    {
     "data": {
      "text/html": [
       "<div>\n",
       "<style scoped>\n",
       "    .dataframe tbody tr th:only-of-type {\n",
       "        vertical-align: middle;\n",
       "    }\n",
       "\n",
       "    .dataframe tbody tr th {\n",
       "        vertical-align: top;\n",
       "    }\n",
       "\n",
       "    .dataframe thead th {\n",
       "        text-align: right;\n",
       "    }\n",
       "</style>\n",
       "<table border=\"1\" class=\"dataframe\">\n",
       "  <thead>\n",
       "    <tr style=\"text-align: right;\">\n",
       "      <th></th>\n",
       "      <th>name</th>\n",
       "    </tr>\n",
       "  </thead>\n",
       "  <tbody>\n",
       "    <tr>\n",
       "      <td>0</td>\n",
       "      <td>MARY</td>\n",
       "    </tr>\n",
       "    <tr>\n",
       "      <td>1</td>\n",
       "      <td>PATRICIA</td>\n",
       "    </tr>\n",
       "    <tr>\n",
       "      <td>2</td>\n",
       "      <td>LINDA</td>\n",
       "    </tr>\n",
       "    <tr>\n",
       "      <td>3</td>\n",
       "      <td>BARBARA</td>\n",
       "    </tr>\n",
       "    <tr>\n",
       "      <td>4</td>\n",
       "      <td>ELIZABETH</td>\n",
       "    </tr>\n",
       "  </tbody>\n",
       "</table>\n",
       "</div>"
      ],
      "text/plain": [
       "        name\n",
       "0  MARY     \n",
       "1  PATRICIA \n",
       "2  LINDA    \n",
       "3  BARBARA  \n",
       "4  ELIZABETH"
      ]
     },
     "execution_count": 2,
     "metadata": {},
     "output_type": "execute_result"
    }
   ],
   "source": [
    "# Сохраним файл в перменную df\n",
    "\n",
    "df = pd.read_csv('names_new.txt',header=None)\n",
    "\n",
    "# Переименуем столбец с именами в \"name\"\n",
    "\n",
    "df.columns=['name']\n",
    "\n",
    "# Выведем таблицу\n",
    "df.head()"
   ]
  },
  {
   "cell_type": "code",
   "execution_count": 3,
   "metadata": {},
   "outputs": [
    {
     "data": {
      "text/plain": [
       "name    1\n",
       "dtype: int64"
      ]
     },
     "execution_count": 3,
     "metadata": {},
     "output_type": "execute_result"
    }
   ],
   "source": [
    "#Проверим на пропущенные значения\n",
    "df.isnull().sum()"
   ]
  },
  {
   "cell_type": "code",
   "execution_count": 4,
   "metadata": {},
   "outputs": [
    {
     "data": {
      "text/plain": [
       "name    0\n",
       "dtype: int64"
      ]
     },
     "execution_count": 4,
     "metadata": {},
     "output_type": "execute_result"
    }
   ],
   "source": [
    "df = df.dropna()\n",
    "df.isnull().sum()"
   ]
  },
  {
   "cell_type": "code",
   "execution_count": 5,
   "metadata": {},
   "outputs": [
    {
     "data": {
      "text/html": [
       "<div>\n",
       "<style scoped>\n",
       "    .dataframe tbody tr th:only-of-type {\n",
       "        vertical-align: middle;\n",
       "    }\n",
       "\n",
       "    .dataframe tbody tr th {\n",
       "        vertical-align: top;\n",
       "    }\n",
       "\n",
       "    .dataframe thead th {\n",
       "        text-align: right;\n",
       "    }\n",
       "</style>\n",
       "<table border=\"1\" class=\"dataframe\">\n",
       "  <thead>\n",
       "    <tr style=\"text-align: right;\">\n",
       "      <th></th>\n",
       "      <th>name</th>\n",
       "    </tr>\n",
       "  </thead>\n",
       "  <tbody>\n",
       "    <tr>\n",
       "      <td>2700</td>\n",
       "      <td>AARON</td>\n",
       "    </tr>\n",
       "    <tr>\n",
       "      <td>1582</td>\n",
       "      <td>ABBEY</td>\n",
       "    </tr>\n",
       "    <tr>\n",
       "      <td>1040</td>\n",
       "      <td>ABBIE</td>\n",
       "    </tr>\n",
       "    <tr>\n",
       "      <td>693</td>\n",
       "      <td>ABBY</td>\n",
       "    </tr>\n",
       "    <tr>\n",
       "      <td>4841</td>\n",
       "      <td>ABDUL</td>\n",
       "    </tr>\n",
       "  </tbody>\n",
       "</table>\n",
       "</div>"
      ],
      "text/plain": [
       "       name\n",
       "2700  AARON\n",
       "1582  ABBEY\n",
       "1040  ABBIE\n",
       "693   ABBY \n",
       "4841  ABDUL"
      ]
     },
     "execution_count": 5,
     "metadata": {},
     "output_type": "execute_result"
    }
   ],
   "source": [
    "df = df.sort_values('name')\n",
    "df.head()"
   ]
  },
  {
   "cell_type": "code",
   "execution_count": 6,
   "metadata": {},
   "outputs": [
    {
     "data": {
      "text/html": [
       "<div>\n",
       "<style scoped>\n",
       "    .dataframe tbody tr th:only-of-type {\n",
       "        vertical-align: middle;\n",
       "    }\n",
       "\n",
       "    .dataframe tbody tr th {\n",
       "        vertical-align: top;\n",
       "    }\n",
       "\n",
       "    .dataframe thead th {\n",
       "        text-align: right;\n",
       "    }\n",
       "</style>\n",
       "<table border=\"1\" class=\"dataframe\">\n",
       "  <thead>\n",
       "    <tr style=\"text-align: right;\">\n",
       "      <th></th>\n",
       "      <th>index</th>\n",
       "      <th>name</th>\n",
       "    </tr>\n",
       "  </thead>\n",
       "  <tbody>\n",
       "    <tr>\n",
       "      <td>1</td>\n",
       "      <td>2700</td>\n",
       "      <td>AARON</td>\n",
       "    </tr>\n",
       "    <tr>\n",
       "      <td>2</td>\n",
       "      <td>1582</td>\n",
       "      <td>ABBEY</td>\n",
       "    </tr>\n",
       "    <tr>\n",
       "      <td>3</td>\n",
       "      <td>1040</td>\n",
       "      <td>ABBIE</td>\n",
       "    </tr>\n",
       "    <tr>\n",
       "      <td>4</td>\n",
       "      <td>693</td>\n",
       "      <td>ABBY</td>\n",
       "    </tr>\n",
       "    <tr>\n",
       "      <td>5</td>\n",
       "      <td>4841</td>\n",
       "      <td>ABDUL</td>\n",
       "    </tr>\n",
       "  </tbody>\n",
       "</table>\n",
       "</div>"
      ],
      "text/plain": [
       "   index   name\n",
       "1  2700   AARON\n",
       "2  1582   ABBEY\n",
       "3  1040   ABBIE\n",
       "4  693    ABBY \n",
       "5  4841   ABDUL"
      ]
     },
     "execution_count": 6,
     "metadata": {},
     "output_type": "execute_result"
    }
   ],
   "source": [
    "# Начнем индекс с 1\n",
    "df= df.reset_index()\n",
    "\n",
    "df.index = df.index + 1\n",
    "\n",
    "# Посмотрим на результаты\n",
    "df.head()"
   ]
  },
  {
   "cell_type": "code",
   "execution_count": 7,
   "metadata": {},
   "outputs": [],
   "source": [
    "names = df['name']\n",
    "alphabet = dict([tuple(reversed(i)) for i in enumerate('ABCDEFGHIJKLMNOPQRSTUWVXYZ', 1)]);\n",
    "def func(name):\n",
    "    s = sum([alphabet[l] for l in name])\n",
    "    return s"
   ]
  },
  {
   "cell_type": "code",
   "execution_count": 8,
   "metadata": {},
   "outputs": [
    {
     "data": {
      "text/html": [
       "<div>\n",
       "<style scoped>\n",
       "    .dataframe tbody tr th:only-of-type {\n",
       "        vertical-align: middle;\n",
       "    }\n",
       "\n",
       "    .dataframe tbody tr th {\n",
       "        vertical-align: top;\n",
       "    }\n",
       "\n",
       "    .dataframe thead th {\n",
       "        text-align: right;\n",
       "    }\n",
       "</style>\n",
       "<table border=\"1\" class=\"dataframe\">\n",
       "  <thead>\n",
       "    <tr style=\"text-align: right;\">\n",
       "      <th></th>\n",
       "      <th>index</th>\n",
       "      <th>name</th>\n",
       "      <th>sum_alf</th>\n",
       "    </tr>\n",
       "  </thead>\n",
       "  <tbody>\n",
       "    <tr>\n",
       "      <td>1</td>\n",
       "      <td>2700</td>\n",
       "      <td>AARON</td>\n",
       "      <td>49</td>\n",
       "    </tr>\n",
       "    <tr>\n",
       "      <td>2</td>\n",
       "      <td>1582</td>\n",
       "      <td>ABBEY</td>\n",
       "      <td>35</td>\n",
       "    </tr>\n",
       "    <tr>\n",
       "      <td>3</td>\n",
       "      <td>1040</td>\n",
       "      <td>ABBIE</td>\n",
       "      <td>19</td>\n",
       "    </tr>\n",
       "    <tr>\n",
       "      <td>4</td>\n",
       "      <td>693</td>\n",
       "      <td>ABBY</td>\n",
       "      <td>30</td>\n",
       "    </tr>\n",
       "    <tr>\n",
       "      <td>5</td>\n",
       "      <td>4841</td>\n",
       "      <td>ABDUL</td>\n",
       "      <td>40</td>\n",
       "    </tr>\n",
       "  </tbody>\n",
       "</table>\n",
       "</div>"
      ],
      "text/plain": [
       "   index   name  sum_alf\n",
       "1  2700   AARON  49     \n",
       "2  1582   ABBEY  35     \n",
       "3  1040   ABBIE  19     \n",
       "4  693    ABBY   30     \n",
       "5  4841   ABDUL  40     "
      ]
     },
     "execution_count": 8,
     "metadata": {},
     "output_type": "execute_result"
    }
   ],
   "source": [
    "# Создадим столбец \"sum_alf\" где будет храниться сумма порядковых номеров алфавита для каждого имени\n",
    "df['sum_alf']=df['name'].apply(func)\n",
    "df.head()"
   ]
  },
  {
   "cell_type": "code",
   "execution_count": 9,
   "metadata": {},
   "outputs": [
    {
     "data": {
      "text/html": [
       "<div>\n",
       "<style scoped>\n",
       "    .dataframe tbody tr th:only-of-type {\n",
       "        vertical-align: middle;\n",
       "    }\n",
       "\n",
       "    .dataframe tbody tr th {\n",
       "        vertical-align: top;\n",
       "    }\n",
       "\n",
       "    .dataframe thead th {\n",
       "        text-align: right;\n",
       "    }\n",
       "</style>\n",
       "<table border=\"1\" class=\"dataframe\">\n",
       "  <thead>\n",
       "    <tr style=\"text-align: right;\">\n",
       "      <th></th>\n",
       "      <th>index</th>\n",
       "      <th>name</th>\n",
       "      <th>sum_alf</th>\n",
       "      <th>sum_alf*i</th>\n",
       "    </tr>\n",
       "  </thead>\n",
       "  <tbody>\n",
       "    <tr>\n",
       "      <td>1</td>\n",
       "      <td>2700</td>\n",
       "      <td>AARON</td>\n",
       "      <td>49</td>\n",
       "      <td>49</td>\n",
       "    </tr>\n",
       "    <tr>\n",
       "      <td>2</td>\n",
       "      <td>1582</td>\n",
       "      <td>ABBEY</td>\n",
       "      <td>35</td>\n",
       "      <td>70</td>\n",
       "    </tr>\n",
       "    <tr>\n",
       "      <td>3</td>\n",
       "      <td>1040</td>\n",
       "      <td>ABBIE</td>\n",
       "      <td>19</td>\n",
       "      <td>57</td>\n",
       "    </tr>\n",
       "    <tr>\n",
       "      <td>4</td>\n",
       "      <td>693</td>\n",
       "      <td>ABBY</td>\n",
       "      <td>30</td>\n",
       "      <td>120</td>\n",
       "    </tr>\n",
       "    <tr>\n",
       "      <td>5</td>\n",
       "      <td>4841</td>\n",
       "      <td>ABDUL</td>\n",
       "      <td>40</td>\n",
       "      <td>200</td>\n",
       "    </tr>\n",
       "  </tbody>\n",
       "</table>\n",
       "</div>"
      ],
      "text/plain": [
       "   index   name  sum_alf  sum_alf*i\n",
       "1  2700   AARON  49       49       \n",
       "2  1582   ABBEY  35       70       \n",
       "3  1040   ABBIE  19       57       \n",
       "4  693    ABBY   30       120      \n",
       "5  4841   ABDUL  40       200      "
      ]
     },
     "execution_count": 9,
     "metadata": {},
     "output_type": "execute_result"
    }
   ],
   "source": [
    "# Создадим столбец \"sum_alf*i\" где будет храниться произведение sum_alf и индекса\n",
    "df['sum_alf*i']= df['sum_alf']*df.index\n",
    "df.head()"
   ]
  },
  {
   "cell_type": "code",
   "execution_count": 10,
   "metadata": {},
   "outputs": [
    {
     "data": {
      "text/plain": [
       "872141665"
      ]
     },
     "execution_count": 10,
     "metadata": {},
     "output_type": "execute_result"
    }
   ],
   "source": [
    "df['sum_alf*i'].sum()"
   ]
  },
  {
   "cell_type": "markdown",
   "metadata": {},
   "source": [
    "## Задание 2: IP-адреса"
   ]
  },
  {
   "cell_type": "code",
   "execution_count": 11,
   "metadata": {},
   "outputs": [
    {
     "data": {
      "text/html": [
       "<div>\n",
       "<style scoped>\n",
       "    .dataframe tbody tr th:only-of-type {\n",
       "        vertical-align: middle;\n",
       "    }\n",
       "\n",
       "    .dataframe tbody tr th {\n",
       "        vertical-align: top;\n",
       "    }\n",
       "\n",
       "    .dataframe thead th {\n",
       "        text-align: right;\n",
       "    }\n",
       "</style>\n",
       "<table border=\"1\" class=\"dataframe\">\n",
       "  <thead>\n",
       "    <tr style=\"text-align: right;\">\n",
       "      <th></th>\n",
       "      <th>site</th>\n",
       "      <th>ip</th>\n",
       "      <th>unknown)</th>\n",
       "    </tr>\n",
       "  </thead>\n",
       "  <tbody>\n",
       "    <tr>\n",
       "      <td>0</td>\n",
       "      <td>https://wikipedia.org</td>\n",
       "      <td>72.110.191.15</td>\n",
       "      <td>/friends/files</td>\n",
       "    </tr>\n",
       "    <tr>\n",
       "      <td>1</td>\n",
       "      <td>rambler.ru</td>\n",
       "      <td>142.93.168.247</td>\n",
       "      <td>/universe.php</td>\n",
       "    </tr>\n",
       "    <tr>\n",
       "      <td>2</td>\n",
       "      <td>ftp://info.itar-tass.com</td>\n",
       "      <td>90.68.118.69</td>\n",
       "      <td>/login/monitors/static/me</td>\n",
       "    </tr>\n",
       "    <tr>\n",
       "      <td>3</td>\n",
       "      <td>http://altavista.com</td>\n",
       "      <td>18.79.197.236</td>\n",
       "      <td>/friends/tasks/universe</td>\n",
       "    </tr>\n",
       "    <tr>\n",
       "      <td>4</td>\n",
       "      <td>ftp://tetrika-school.ru</td>\n",
       "      <td>115.26.250.226</td>\n",
       "      <td>/translate/anekdots/my-files/monday</td>\n",
       "    </tr>\n",
       "  </tbody>\n",
       "</table>\n",
       "</div>"
      ],
      "text/plain": [
       "                       site              ip  \\\n",
       "0  https://wikipedia.org     72.110.191.15    \n",
       "1  rambler.ru                142.93.168.247   \n",
       "2  ftp://info.itar-tass.com  90.68.118.69     \n",
       "3  http://altavista.com      18.79.197.236    \n",
       "4  ftp://tetrika-school.ru   115.26.250.226   \n",
       "\n",
       "                              unknown)  \n",
       "0  /friends/files                       \n",
       "1  /universe.php                        \n",
       "2  /login/monitors/static/me            \n",
       "3  /friends/tasks/universe              \n",
       "4  /translate/anekdots/my-files/monday  "
      ]
     },
     "execution_count": 11,
     "metadata": {},
     "output_type": "execute_result"
    }
   ],
   "source": [
    "# Загрузим файл hits.txt\n",
    "df_hits = pd.read_csv('hits.txt',sep='\\t',header=None)\n",
    "# переименуем столбцы\n",
    "df_hits.columns = ['site','ip','unknown)']\n",
    "# Выведем таблицу\n",
    "df_hits.head()"
   ]
  },
  {
   "cell_type": "code",
   "execution_count": 12,
   "metadata": {},
   "outputs": [
    {
     "data": {
      "text/plain": [
       "154.157.157.156    1531\n",
       "82.146.232.163     1505\n",
       "226.247.119.128    1494\n",
       "194.78.107.33      1494\n",
       "21.143.243.182     1479\n",
       "Name: ip, dtype: int64"
      ]
     },
     "execution_count": 12,
     "metadata": {},
     "output_type": "execute_result"
    }
   ],
   "source": [
    "# Выведем топ-5 по количеству повторений\n",
    "df_hits['ip'].value_counts().head()"
   ]
  },
  {
   "cell_type": "markdown",
   "metadata": {},
   "source": [
    "## Задание 3: Оценка уроков"
   ]
  },
  {
   "cell_type": "code",
   "execution_count": 13,
   "metadata": {},
   "outputs": [
    {
     "data": {
      "text/html": [
       "<div>\n",
       "<style scoped>\n",
       "    .dataframe tbody tr th:only-of-type {\n",
       "        vertical-align: middle;\n",
       "    }\n",
       "\n",
       "    .dataframe tbody tr th {\n",
       "        vertical-align: top;\n",
       "    }\n",
       "\n",
       "    .dataframe thead th {\n",
       "        text-align: right;\n",
       "    }\n",
       "</style>\n",
       "<table border=\"1\" class=\"dataframe\">\n",
       "  <thead>\n",
       "    <tr style=\"text-align: right;\">\n",
       "      <th></th>\n",
       "      <th>id</th>\n",
       "      <th>event_id</th>\n",
       "      <th>subject</th>\n",
       "      <th>scheduled_time</th>\n",
       "    </tr>\n",
       "  </thead>\n",
       "  <tbody>\n",
       "    <tr>\n",
       "      <td>2</td>\n",
       "      <td>6d8e59d9-a7c8-4bb3-8ff3-99cd07acdf1a</td>\n",
       "      <td>51568.0</td>\n",
       "      <td>it</td>\n",
       "      <td>2020-01-19 13:00:00</td>\n",
       "    </tr>\n",
       "    <tr>\n",
       "      <td>3</td>\n",
       "      <td>62e1a078-33de-47c1-99d2-845b1daca56f</td>\n",
       "      <td>52790.0</td>\n",
       "      <td>hist</td>\n",
       "      <td>2020-01-19 13:00:00</td>\n",
       "    </tr>\n",
       "    <tr>\n",
       "      <td>4</td>\n",
       "      <td>00fc6685-f53a-49bb-b960-5e0042fd3852</td>\n",
       "      <td>51341.0</td>\n",
       "      <td>phys</td>\n",
       "      <td>2020-01-17 12:00:00</td>\n",
       "    </tr>\n",
       "    <tr>\n",
       "      <td>5</td>\n",
       "      <td>4cadf623-82e6-422f-a342-acf978302fb2</td>\n",
       "      <td>55048.0</td>\n",
       "      <td>phys</td>\n",
       "      <td>2020-01-19 14:00:00</td>\n",
       "    </tr>\n",
       "    <tr>\n",
       "      <td>6</td>\n",
       "      <td>f3f15fee-ad91-429c-8b1e-faeb42f78f58</td>\n",
       "      <td>50760.0</td>\n",
       "      <td>it</td>\n",
       "      <td>2020-01-19 15:00:00</td>\n",
       "    </tr>\n",
       "  </tbody>\n",
       "</table>\n",
       "</div>"
      ],
      "text/plain": [
       "                     id                     event_id    subject   \\\n",
       "2   6d8e59d9-a7c8-4bb3-8ff3-99cd07acdf1a   51568.0      it         \n",
       "3   62e1a078-33de-47c1-99d2-845b1daca56f   52790.0      hist       \n",
       "4   00fc6685-f53a-49bb-b960-5e0042fd3852   51341.0      phys       \n",
       "5   4cadf623-82e6-422f-a342-acf978302fb2   55048.0      phys       \n",
       "6   f3f15fee-ad91-429c-8b1e-faeb42f78f58   50760.0      it         \n",
       "\n",
       "         scheduled_time         \n",
       "2   2020-01-19 13:00:00         \n",
       "3   2020-01-19 13:00:00         \n",
       "4   2020-01-17 12:00:00         \n",
       "5   2020-01-19 14:00:00         \n",
       "6   2020-01-19 15:00:00         "
      ]
     },
     "execution_count": 13,
     "metadata": {},
     "output_type": "execute_result"
    }
   ],
   "source": [
    "# Загрузим и выведем таблицу lessons\n",
    "\n",
    "lessons = pd.read_csv('lessons.txt',sep='|')\n",
    "\n",
    "# Удалим строку с индексом '0' - она не несет никакой информации\n",
    "\n",
    "lessons.drop([0,0], inplace=True)\n",
    "lessons.drop([1,379], inplace=True)\n",
    "\n",
    "# Выведем таблицу\n",
    "lessons.head()"
   ]
  },
  {
   "cell_type": "code",
   "execution_count": 14,
   "metadata": {},
   "outputs": [
    {
     "name": "stdout",
     "output_type": "stream",
     "text": [
      "<class 'pandas.core.frame.DataFrame'>\n",
      "Int64Index: 377 entries, 2 to 378\n",
      "Data columns (total 4 columns):\n",
      "                  id                      377 non-null object\n",
      " event_id                                 377 non-null float64\n",
      " subject                                  377 non-null object\n",
      "       scheduled_time                     377 non-null object\n",
      "dtypes: float64(1), object(3)\n",
      "memory usage: 14.7+ KB\n"
     ]
    }
   ],
   "source": [
    "lessons.info()"
   ]
  },
  {
   "cell_type": "code",
   "execution_count": 15,
   "metadata": {},
   "outputs": [],
   "source": [
    "# Заменим названия столбцов\n",
    "lessons.columns=['id','event_id','subject','scheduled_time']"
   ]
  },
  {
   "cell_type": "code",
   "execution_count": 16,
   "metadata": {},
   "outputs": [
    {
     "data": {
      "text/plain": [
       "0"
      ]
     },
     "execution_count": 16,
     "metadata": {},
     "output_type": "execute_result"
    }
   ],
   "source": [
    "# Проверим на дубликаты\n",
    "lessons.duplicated().sum()"
   ]
  },
  {
   "cell_type": "code",
   "execution_count": 17,
   "metadata": {},
   "outputs": [
    {
     "data": {
      "text/plain": [
       "id                0\n",
       "event_id          0\n",
       "subject           0\n",
       "scheduled_time    0\n",
       "dtype: int64"
      ]
     },
     "execution_count": 17,
     "metadata": {},
     "output_type": "execute_result"
    }
   ],
   "source": [
    "# Проверим на пропущенные значения\n",
    "lessons.isnull().sum()"
   ]
  },
  {
   "cell_type": "code",
   "execution_count": 18,
   "metadata": {},
   "outputs": [],
   "source": [
    "lessons['event_id']=lessons['event_id'].astype('int')"
   ]
  },
  {
   "cell_type": "code",
   "execution_count": 19,
   "metadata": {},
   "outputs": [
    {
     "data": {
      "text/plain": [
       "array([' it      ', ' hist    ', ' phys    ', ' bio     '], dtype=object)"
      ]
     },
     "execution_count": 19,
     "metadata": {},
     "output_type": "execute_result"
    }
   ],
   "source": [
    "lessons['subject'].unique()"
   ]
  },
  {
   "cell_type": "code",
   "execution_count": 20,
   "metadata": {},
   "outputs": [],
   "source": [
    "lessons = lessons.applymap(lambda x: str(x).strip())"
   ]
  },
  {
   "cell_type": "code",
   "execution_count": 21,
   "metadata": {},
   "outputs": [
    {
     "data": {
      "text/plain": [
       "array(['it', 'hist', 'phys', 'bio'], dtype=object)"
      ]
     },
     "execution_count": 21,
     "metadata": {},
     "output_type": "execute_result"
    }
   ],
   "source": [
    "lessons['subject'].unique()"
   ]
  },
  {
   "cell_type": "code",
   "execution_count": 22,
   "metadata": {},
   "outputs": [
    {
     "name": "stdout",
     "output_type": "stream",
     "text": [
      "<class 'pandas.core.frame.DataFrame'>\n",
      "Int64Index: 377 entries, 2 to 378\n",
      "Data columns (total 4 columns):\n",
      "id                377 non-null object\n",
      "event_id          377 non-null object\n",
      "subject           377 non-null object\n",
      "scheduled_time    377 non-null object\n",
      "dtypes: object(4)\n",
      "memory usage: 14.7+ KB\n"
     ]
    }
   ],
   "source": [
    "lessons.info()"
   ]
  },
  {
   "cell_type": "code",
   "execution_count": 23,
   "metadata": {},
   "outputs": [
    {
     "data": {
      "text/html": [
       "<div>\n",
       "<style scoped>\n",
       "    .dataframe tbody tr th:only-of-type {\n",
       "        vertical-align: middle;\n",
       "    }\n",
       "\n",
       "    .dataframe tbody tr th {\n",
       "        vertical-align: top;\n",
       "    }\n",
       "\n",
       "    .dataframe thead th {\n",
       "        text-align: right;\n",
       "    }\n",
       "</style>\n",
       "<table border=\"1\" class=\"dataframe\">\n",
       "  <thead>\n",
       "    <tr style=\"text-align: right;\">\n",
       "      <th></th>\n",
       "      <th>lesson_id</th>\n",
       "      <th>tech_quality</th>\n",
       "    </tr>\n",
       "  </thead>\n",
       "  <tbody>\n",
       "    <tr>\n",
       "      <td>2</td>\n",
       "      <td>62e1a078-33de-47c1-99d2-845b1daca56f</td>\n",
       "      <td>5</td>\n",
       "    </tr>\n",
       "    <tr>\n",
       "      <td>3</td>\n",
       "      <td>62e1a078-33de-47c1-99d2-845b1daca56f</td>\n",
       "      <td>5</td>\n",
       "    </tr>\n",
       "    <tr>\n",
       "      <td>5</td>\n",
       "      <td>00fc6685-f53a-49bb-b960-5e0042fd3852</td>\n",
       "      <td>5</td>\n",
       "    </tr>\n",
       "    <tr>\n",
       "      <td>6</td>\n",
       "      <td>4cadf623-82e6-422f-a342-acf978302fb2</td>\n",
       "      <td>5</td>\n",
       "    </tr>\n",
       "    <tr>\n",
       "      <td>7</td>\n",
       "      <td>e597a79a-3f68-4d15-bc77-c7000bcf8e52</td>\n",
       "      <td>5</td>\n",
       "    </tr>\n",
       "  </tbody>\n",
       "</table>\n",
       "</div>"
      ],
      "text/plain": [
       "                 lesson_id                 tech_quality \n",
       "2   62e1a078-33de-47c1-99d2-845b1daca56f               5\n",
       "3   62e1a078-33de-47c1-99d2-845b1daca56f               5\n",
       "5   00fc6685-f53a-49bb-b960-5e0042fd3852               5\n",
       "6   4cadf623-82e6-422f-a342-acf978302fb2               5\n",
       "7   e597a79a-3f68-4d15-bc77-c7000bcf8e52               5"
      ]
     },
     "execution_count": 23,
     "metadata": {},
     "output_type": "execute_result"
    }
   ],
   "source": [
    "# Загрузим и выведем таблицу 'test'\n",
    "\n",
    "quality = pd.read_csv('quality.txt',sep='|')\n",
    "\n",
    "# Удалим строку с индексом '0' - она не несет никакой информации\n",
    "\n",
    "quality.drop([0,4], inplace=True)\n",
    "quality.drop([1,366], inplace=True)\n",
    "\n",
    "\n",
    "# Выведем таблицу\n",
    "quality.head()"
   ]
  },
  {
   "cell_type": "code",
   "execution_count": 24,
   "metadata": {},
   "outputs": [
    {
     "name": "stdout",
     "output_type": "stream",
     "text": [
      "<class 'pandas.core.frame.DataFrame'>\n",
      "Int64Index: 363 entries, 2 to 365\n",
      "Data columns (total 2 columns):\n",
      "              lesson_id                   363 non-null object\n",
      " tech_quality                             363 non-null object\n",
      "dtypes: object(2)\n",
      "memory usage: 8.5+ KB\n"
     ]
    }
   ],
   "source": [
    "quality.info()"
   ]
  },
  {
   "cell_type": "code",
   "execution_count": 25,
   "metadata": {},
   "outputs": [],
   "source": [
    "# Заменим названия столбцов\n",
    "\n",
    "quality.columns= ['lesson_id','tech_quality']"
   ]
  },
  {
   "cell_type": "code",
   "execution_count": 26,
   "metadata": {},
   "outputs": [
    {
     "data": {
      "text/plain": [
       "85"
      ]
     },
     "execution_count": 26,
     "metadata": {},
     "output_type": "execute_result"
    }
   ],
   "source": [
    "# Проверим на дубликаты\n",
    "\n",
    "quality.duplicated().sum()"
   ]
  },
  {
   "cell_type": "code",
   "execution_count": 27,
   "metadata": {},
   "outputs": [
    {
     "data": {
      "text/plain": [
       "lesson_id       0\n",
       "tech_quality    0\n",
       "dtype: int64"
      ]
     },
     "execution_count": 27,
     "metadata": {},
     "output_type": "execute_result"
    }
   ],
   "source": [
    "# Проверим на пропущенные значения\n",
    "quality.isnull().sum()"
   ]
  },
  {
   "cell_type": "code",
   "execution_count": 28,
   "metadata": {},
   "outputs": [
    {
     "data": {
      "text/plain": [
       "array(['            5', '            2', '            4', '             ',\n",
       "       '            3', '            1'], dtype=object)"
      ]
     },
     "execution_count": 28,
     "metadata": {},
     "output_type": "execute_result"
    }
   ],
   "source": [
    "# Проверим, как записаны оценки\n",
    "quality['tech_quality'].unique()"
   ]
  },
  {
   "cell_type": "code",
   "execution_count": 29,
   "metadata": {},
   "outputs": [
    {
     "data": {
      "text/plain": [
       "array(['5', '2', '4', nan, '3', '1'], dtype=object)"
      ]
     },
     "execution_count": 29,
     "metadata": {},
     "output_type": "execute_result"
    }
   ],
   "source": [
    "# Удалим пробелы в оценках\n",
    "quality = quality.applymap(lambda x: str(x).strip())\n",
    "# Назначим Nan вместо пробелов\n",
    "quality=quality.replace(r'^\\s*$', np.nan, regex=True)\n",
    "# Выполним проверку\n",
    "quality['tech_quality'].unique()"
   ]
  },
  {
   "cell_type": "code",
   "execution_count": 30,
   "metadata": {},
   "outputs": [
    {
     "data": {
      "text/plain": [
       "lesson_id       0 \n",
       "tech_quality    16\n",
       "dtype: int64"
      ]
     },
     "execution_count": 30,
     "metadata": {},
     "output_type": "execute_result"
    }
   ],
   "source": [
    "# Проверим на пропущенные значения\n",
    "quality.isnull().sum()"
   ]
  },
  {
   "cell_type": "code",
   "execution_count": 31,
   "metadata": {},
   "outputs": [
    {
     "data": {
      "text/plain": [
       "lesson_id       0\n",
       "tech_quality    0\n",
       "dtype: int64"
      ]
     },
     "execution_count": 31,
     "metadata": {},
     "output_type": "execute_result"
    }
   ],
   "source": [
    "# Заменим Nan на медианную оценку\n",
    "quality = quality.fillna(quality['tech_quality'].median())\n",
    "# Проверим еще раз на пропуски\n",
    "quality.isnull().sum()"
   ]
  },
  {
   "cell_type": "code",
   "execution_count": 32,
   "metadata": {},
   "outputs": [
    {
     "data": {
      "text/plain": [
       "array(['5', '2', '4', 5.0, '3', '1'], dtype=object)"
      ]
     },
     "execution_count": 32,
     "metadata": {},
     "output_type": "execute_result"
    }
   ],
   "source": [
    "# Проверим еще раз какие оценки в нашем датафрейме\n",
    "quality['tech_quality'].unique()"
   ]
  },
  {
   "cell_type": "code",
   "execution_count": 33,
   "metadata": {},
   "outputs": [],
   "source": [
    "quality['tech_quality']=quality['tech_quality'].astype('int')"
   ]
  },
  {
   "cell_type": "code",
   "execution_count": 34,
   "metadata": {},
   "outputs": [
    {
     "data": {
      "text/html": [
       "<div>\n",
       "<style scoped>\n",
       "    .dataframe tbody tr th:only-of-type {\n",
       "        vertical-align: middle;\n",
       "    }\n",
       "\n",
       "    .dataframe tbody tr th {\n",
       "        vertical-align: top;\n",
       "    }\n",
       "\n",
       "    .dataframe thead th {\n",
       "        text-align: right;\n",
       "    }\n",
       "</style>\n",
       "<table border=\"1\" class=\"dataframe\">\n",
       "  <thead>\n",
       "    <tr style=\"text-align: right;\">\n",
       "      <th></th>\n",
       "      <th>lesson_id</th>\n",
       "      <th>tech_quality</th>\n",
       "    </tr>\n",
       "  </thead>\n",
       "  <tbody>\n",
       "    <tr>\n",
       "      <td>0</td>\n",
       "      <td>00fc6685-f53a-49bb-b960-5e0042fd3852</td>\n",
       "      <td>5.0</td>\n",
       "    </tr>\n",
       "    <tr>\n",
       "      <td>1</td>\n",
       "      <td>01f717d8-baaf-427d-a927-08c79713ae79</td>\n",
       "      <td>3.5</td>\n",
       "    </tr>\n",
       "    <tr>\n",
       "      <td>2</td>\n",
       "      <td>024d415a-4543-4e73-88c6-f4609e1bf1ed</td>\n",
       "      <td>4.5</td>\n",
       "    </tr>\n",
       "    <tr>\n",
       "      <td>3</td>\n",
       "      <td>03f4f4a8-c60c-41d7-a1cb-17b2d36ee183</td>\n",
       "      <td>5.0</td>\n",
       "    </tr>\n",
       "    <tr>\n",
       "      <td>4</td>\n",
       "      <td>056c3d91-dce7-4071-91d3-1de816ee63a3</td>\n",
       "      <td>4.5</td>\n",
       "    </tr>\n",
       "  </tbody>\n",
       "</table>\n",
       "</div>"
      ],
      "text/plain": [
       "                              lesson_id  tech_quality\n",
       "0  00fc6685-f53a-49bb-b960-5e0042fd3852  5.0         \n",
       "1  01f717d8-baaf-427d-a927-08c79713ae79  3.5         \n",
       "2  024d415a-4543-4e73-88c6-f4609e1bf1ed  4.5         \n",
       "3  03f4f4a8-c60c-41d7-a1cb-17b2d36ee183  5.0         \n",
       "4  056c3d91-dce7-4071-91d3-1de816ee63a3  4.5         "
      ]
     },
     "execution_count": 34,
     "metadata": {},
     "output_type": "execute_result"
    }
   ],
   "source": [
    "quality= quality.groupby('lesson_id').agg({'tech_quality':'mean'})\n",
    "quality.reset_index().head()"
   ]
  },
  {
   "cell_type": "code",
   "execution_count": 35,
   "metadata": {},
   "outputs": [
    {
     "data": {
      "text/html": [
       "<div>\n",
       "<style scoped>\n",
       "    .dataframe tbody tr th:only-of-type {\n",
       "        vertical-align: middle;\n",
       "    }\n",
       "\n",
       "    .dataframe tbody tr th {\n",
       "        vertical-align: top;\n",
       "    }\n",
       "\n",
       "    .dataframe thead th {\n",
       "        text-align: right;\n",
       "    }\n",
       "</style>\n",
       "<table border=\"1\" class=\"dataframe\">\n",
       "  <thead>\n",
       "    <tr style=\"text-align: right;\">\n",
       "      <th></th>\n",
       "      <th>event_id</th>\n",
       "      <th>user_id</th>\n",
       "    </tr>\n",
       "  </thead>\n",
       "  <tbody>\n",
       "    <tr>\n",
       "      <td>2</td>\n",
       "      <td>38114</td>\n",
       "      <td>4df2832a-1d63-4453-9659-43993fc35996</td>\n",
       "    </tr>\n",
       "    <tr>\n",
       "      <td>3</td>\n",
       "      <td>51568</td>\n",
       "      <td>bb1c0bc8-1212-452b-97a0-439d4a2169e2</td>\n",
       "    </tr>\n",
       "    <tr>\n",
       "      <td>5</td>\n",
       "      <td>52790</td>\n",
       "      <td>a1323b68-c82c-429a-8e2c-65597e648c1a</td>\n",
       "    </tr>\n",
       "    <tr>\n",
       "      <td>6</td>\n",
       "      <td>52790</td>\n",
       "      <td>e866fbd8-a46b-4431-9e19-f0966981f6c9</td>\n",
       "    </tr>\n",
       "    <tr>\n",
       "      <td>7</td>\n",
       "      <td>51341</td>\n",
       "      <td>4ab072ed-8a41-4ed6-9877-8f1d1fbb24d2</td>\n",
       "    </tr>\n",
       "  </tbody>\n",
       "</table>\n",
       "</div>"
      ],
      "text/plain": [
       "    event_id                 user_id                \n",
       "2      38114    4df2832a-1d63-4453-9659-43993fc35996\n",
       "3      51568    bb1c0bc8-1212-452b-97a0-439d4a2169e2\n",
       "5      52790    a1323b68-c82c-429a-8e2c-65597e648c1a\n",
       "6      52790    e866fbd8-a46b-4431-9e19-f0966981f6c9\n",
       "7      51341    4ab072ed-8a41-4ed6-9877-8f1d1fbb24d2"
      ]
     },
     "execution_count": 35,
     "metadata": {},
     "output_type": "execute_result"
    }
   ],
   "source": [
    "# Загрузим и выведем таблицу 'participants'\n",
    "\n",
    "participants = pd.read_csv('participants.txt',sep='|')\n",
    "\n",
    "# Удалим строку с индексом '0' - она не несет никакой информации\n",
    "\n",
    "participants.drop([0,4], inplace=True)\n",
    "participants.drop([1,744], inplace=True)\n",
    "# Выведем таблицу\n",
    "\n",
    "participants.head()"
   ]
  },
  {
   "cell_type": "code",
   "execution_count": 36,
   "metadata": {},
   "outputs": [
    {
     "name": "stdout",
     "output_type": "stream",
     "text": [
      "<class 'pandas.core.frame.DataFrame'>\n",
      "Int64Index: 741 entries, 2 to 743\n",
      "Data columns (total 2 columns):\n",
      " event_id                                 741 non-null object\n",
      "               user_id                    741 non-null object\n",
      "dtypes: object(2)\n",
      "memory usage: 17.4+ KB\n"
     ]
    }
   ],
   "source": [
    "participants.info()"
   ]
  },
  {
   "cell_type": "code",
   "execution_count": 37,
   "metadata": {},
   "outputs": [],
   "source": [
    "participants.columns=['event_id','id']"
   ]
  },
  {
   "cell_type": "code",
   "execution_count": 38,
   "metadata": {},
   "outputs": [],
   "source": [
    "participants['event_id'] = participants['event_id'].astype('int')"
   ]
  },
  {
   "cell_type": "code",
   "execution_count": 39,
   "metadata": {},
   "outputs": [
    {
     "data": {
      "text/html": [
       "<div>\n",
       "<style scoped>\n",
       "    .dataframe tbody tr th:only-of-type {\n",
       "        vertical-align: middle;\n",
       "    }\n",
       "\n",
       "    .dataframe tbody tr th {\n",
       "        vertical-align: top;\n",
       "    }\n",
       "\n",
       "    .dataframe thead th {\n",
       "        text-align: right;\n",
       "    }\n",
       "</style>\n",
       "<table border=\"1\" class=\"dataframe\">\n",
       "  <thead>\n",
       "    <tr style=\"text-align: right;\">\n",
       "      <th></th>\n",
       "      <th>id</th>\n",
       "      <th>role</th>\n",
       "    </tr>\n",
       "  </thead>\n",
       "  <tbody>\n",
       "    <tr>\n",
       "      <td>2</td>\n",
       "      <td>4df2832a-1d63-4453-9659-43993fc35996</td>\n",
       "      <td>tutor</td>\n",
       "    </tr>\n",
       "    <tr>\n",
       "      <td>3</td>\n",
       "      <td>bb1c0bc8-1212-452b-97a0-439d4a2169e2</td>\n",
       "      <td>pupil</td>\n",
       "    </tr>\n",
       "    <tr>\n",
       "      <td>5</td>\n",
       "      <td>a1323b68-c82c-429a-8e2c-65597e648c1a</td>\n",
       "      <td>tutor</td>\n",
       "    </tr>\n",
       "    <tr>\n",
       "      <td>6</td>\n",
       "      <td>e866fbd8-a46b-4431-9e19-f0966981f6c9</td>\n",
       "      <td>pupil</td>\n",
       "    </tr>\n",
       "    <tr>\n",
       "      <td>7</td>\n",
       "      <td>4ab072ed-8a41-4ed6-9877-8f1d1fbb24d2</td>\n",
       "      <td>pupil</td>\n",
       "    </tr>\n",
       "  </tbody>\n",
       "</table>\n",
       "</div>"
      ],
      "text/plain": [
       "                     id                    role  \n",
       "2   4df2832a-1d63-4453-9659-43993fc35996    tutor\n",
       "3   bb1c0bc8-1212-452b-97a0-439d4a2169e2    pupil\n",
       "5   a1323b68-c82c-429a-8e2c-65597e648c1a    tutor\n",
       "6   e866fbd8-a46b-4431-9e19-f0966981f6c9    pupil\n",
       "7   4ab072ed-8a41-4ed6-9877-8f1d1fbb24d2    pupil"
      ]
     },
     "execution_count": 39,
     "metadata": {},
     "output_type": "execute_result"
    }
   ],
   "source": [
    "# Загрузим и выведем таблицу 'participants'\n",
    "\n",
    "users = pd.read_csv('users.txt',sep='|')\n",
    "\n",
    "# Удалим строку с индексом '0' - она не несет никакой информации\n",
    "\n",
    "users.drop([0,4], inplace=True)\n",
    "users.drop([1,744], inplace=True)\n",
    "\n",
    "# Выведем таблицу\n",
    "users.head()"
   ]
  },
  {
   "cell_type": "code",
   "execution_count": 40,
   "metadata": {},
   "outputs": [
    {
     "name": "stdout",
     "output_type": "stream",
     "text": [
      "<class 'pandas.core.frame.DataFrame'>\n",
      "Int64Index: 741 entries, 2 to 743\n",
      "Data columns (total 2 columns):\n",
      "                  id                      741 non-null object\n",
      " role                                     741 non-null object\n",
      "dtypes: object(2)\n",
      "memory usage: 17.4+ KB\n"
     ]
    }
   ],
   "source": [
    "# Посмотрим в каком формате зранятся данные \n",
    "users.info()"
   ]
  },
  {
   "cell_type": "code",
   "execution_count": 41,
   "metadata": {},
   "outputs": [
    {
     "data": {
      "text/plain": [
       "                  id                      0\n",
       " role                                     0\n",
       "dtype: int64"
      ]
     },
     "execution_count": 41,
     "metadata": {},
     "output_type": "execute_result"
    }
   ],
   "source": [
    "users.isnull().sum()"
   ]
  },
  {
   "cell_type": "code",
   "execution_count": 42,
   "metadata": {},
   "outputs": [
    {
     "data": {
      "text/html": [
       "<div>\n",
       "<style scoped>\n",
       "    .dataframe tbody tr th:only-of-type {\n",
       "        vertical-align: middle;\n",
       "    }\n",
       "\n",
       "    .dataframe tbody tr th {\n",
       "        vertical-align: top;\n",
       "    }\n",
       "\n",
       "    .dataframe thead th {\n",
       "        text-align: right;\n",
       "    }\n",
       "</style>\n",
       "<table border=\"1\" class=\"dataframe\">\n",
       "  <thead>\n",
       "    <tr style=\"text-align: right;\">\n",
       "      <th></th>\n",
       "      <th>id</th>\n",
       "      <th>role</th>\n",
       "    </tr>\n",
       "  </thead>\n",
       "  <tbody>\n",
       "    <tr>\n",
       "      <td>2</td>\n",
       "      <td>4df2832a-1d63-4453-9659-43993fc35996</td>\n",
       "      <td>tutor</td>\n",
       "    </tr>\n",
       "    <tr>\n",
       "      <td>3</td>\n",
       "      <td>bb1c0bc8-1212-452b-97a0-439d4a2169e2</td>\n",
       "      <td>pupil</td>\n",
       "    </tr>\n",
       "    <tr>\n",
       "      <td>5</td>\n",
       "      <td>a1323b68-c82c-429a-8e2c-65597e648c1a</td>\n",
       "      <td>tutor</td>\n",
       "    </tr>\n",
       "    <tr>\n",
       "      <td>6</td>\n",
       "      <td>e866fbd8-a46b-4431-9e19-f0966981f6c9</td>\n",
       "      <td>pupil</td>\n",
       "    </tr>\n",
       "    <tr>\n",
       "      <td>7</td>\n",
       "      <td>4ab072ed-8a41-4ed6-9877-8f1d1fbb24d2</td>\n",
       "      <td>pupil</td>\n",
       "    </tr>\n",
       "  </tbody>\n",
       "</table>\n",
       "</div>"
      ],
      "text/plain": [
       "                                       id    role\n",
       "2   4df2832a-1d63-4453-9659-43993fc35996    tutor\n",
       "3   bb1c0bc8-1212-452b-97a0-439d4a2169e2    pupil\n",
       "5   a1323b68-c82c-429a-8e2c-65597e648c1a    tutor\n",
       "6   e866fbd8-a46b-4431-9e19-f0966981f6c9    pupil\n",
       "7   4ab072ed-8a41-4ed6-9877-8f1d1fbb24d2    pupil"
      ]
     },
     "execution_count": 42,
     "metadata": {},
     "output_type": "execute_result"
    }
   ],
   "source": [
    "users.columns=['id','role']\n",
    "users.head()"
   ]
  },
  {
   "cell_type": "code",
   "execution_count": 43,
   "metadata": {},
   "outputs": [
    {
     "data": {
      "text/plain": [
       "array([' tutor', ' pupil', ' admin'], dtype=object)"
      ]
     },
     "execution_count": 43,
     "metadata": {},
     "output_type": "execute_result"
    }
   ],
   "source": [
    "#Проверим, правильно ли записаны значения \n",
    "users['role'].unique()"
   ]
  },
  {
   "cell_type": "code",
   "execution_count": 44,
   "metadata": {},
   "outputs": [],
   "source": [
    "# Уберем пробелы из названий\n",
    "users = users.applymap(lambda x: str(x).strip())"
   ]
  },
  {
   "cell_type": "code",
   "execution_count": 45,
   "metadata": {},
   "outputs": [
    {
     "data": {
      "text/plain": [
       "array(['tutor', 'pupil', 'admin'], dtype=object)"
      ]
     },
     "execution_count": 45,
     "metadata": {},
     "output_type": "execute_result"
    }
   ],
   "source": [
    "#Проверим\n",
    "users['role'].unique()"
   ]
  },
  {
   "cell_type": "code",
   "execution_count": 46,
   "metadata": {},
   "outputs": [
    {
     "data": {
      "text/html": [
       "<div>\n",
       "<style scoped>\n",
       "    .dataframe tbody tr th:only-of-type {\n",
       "        vertical-align: middle;\n",
       "    }\n",
       "\n",
       "    .dataframe tbody tr th {\n",
       "        vertical-align: top;\n",
       "    }\n",
       "\n",
       "    .dataframe thead th {\n",
       "        text-align: right;\n",
       "    }\n",
       "</style>\n",
       "<table border=\"1\" class=\"dataframe\">\n",
       "  <thead>\n",
       "    <tr style=\"text-align: right;\">\n",
       "      <th></th>\n",
       "      <th>id</th>\n",
       "      <th>role</th>\n",
       "    </tr>\n",
       "  </thead>\n",
       "  <tbody>\n",
       "    <tr>\n",
       "      <td>2</td>\n",
       "      <td>4df2832a-1d63-4453-9659-43993fc35996</td>\n",
       "      <td>tutor</td>\n",
       "    </tr>\n",
       "    <tr>\n",
       "      <td>5</td>\n",
       "      <td>a1323b68-c82c-429a-8e2c-65597e648c1a</td>\n",
       "      <td>tutor</td>\n",
       "    </tr>\n",
       "    <tr>\n",
       "      <td>8</td>\n",
       "      <td>30a19496-bdaf-461c-abbc-2709ae520201</td>\n",
       "      <td>tutor</td>\n",
       "    </tr>\n",
       "    <tr>\n",
       "      <td>9</td>\n",
       "      <td>43efce48-94b2-4412-857f-223d45969008</td>\n",
       "      <td>tutor</td>\n",
       "    </tr>\n",
       "    <tr>\n",
       "      <td>11</td>\n",
       "      <td>63441abe-c4da-4275-ba26-66f7dbd65dde</td>\n",
       "      <td>tutor</td>\n",
       "    </tr>\n",
       "  </tbody>\n",
       "</table>\n",
       "</div>"
      ],
      "text/plain": [
       "                                      id   role\n",
       "2   4df2832a-1d63-4453-9659-43993fc35996  tutor\n",
       "5   a1323b68-c82c-429a-8e2c-65597e648c1a  tutor\n",
       "8   30a19496-bdaf-461c-abbc-2709ae520201  tutor\n",
       "9   43efce48-94b2-4412-857f-223d45969008  tutor\n",
       "11  63441abe-c4da-4275-ba26-66f7dbd65dde  tutor"
      ]
     },
     "execution_count": 46,
     "metadata": {},
     "output_type": "execute_result"
    }
   ],
   "source": [
    "# Оставим в users только учителей и назовем датафрейм pupil\n",
    "tutor = users[users['role']== 'tutor']\n",
    "tutor.head()"
   ]
  },
  {
   "cell_type": "code",
   "execution_count": 47,
   "metadata": {},
   "outputs": [
    {
     "data": {
      "text/html": [
       "<div>\n",
       "<style scoped>\n",
       "    .dataframe tbody tr th:only-of-type {\n",
       "        vertical-align: middle;\n",
       "    }\n",
       "\n",
       "    .dataframe tbody tr th {\n",
       "        vertical-align: top;\n",
       "    }\n",
       "\n",
       "    .dataframe thead th {\n",
       "        text-align: right;\n",
       "    }\n",
       "</style>\n",
       "<table border=\"1\" class=\"dataframe\">\n",
       "  <thead>\n",
       "    <tr style=\"text-align: right;\">\n",
       "      <th></th>\n",
       "      <th>id</th>\n",
       "      <th>role</th>\n",
       "      <th>event_id</th>\n",
       "    </tr>\n",
       "  </thead>\n",
       "  <tbody>\n",
       "    <tr>\n",
       "      <td>0</td>\n",
       "      <td>4df2832a-1d63-4453-9659-43993fc35996</td>\n",
       "      <td>NaN</td>\n",
       "      <td>38114</td>\n",
       "    </tr>\n",
       "    <tr>\n",
       "      <td>1</td>\n",
       "      <td>4df2832a-1d63-4453-9659-43993fc35996</td>\n",
       "      <td>NaN</td>\n",
       "      <td>38111</td>\n",
       "    </tr>\n",
       "    <tr>\n",
       "      <td>2</td>\n",
       "      <td>4df2832a-1d63-4453-9659-43993fc35996</td>\n",
       "      <td>NaN</td>\n",
       "      <td>56195</td>\n",
       "    </tr>\n",
       "    <tr>\n",
       "      <td>3</td>\n",
       "      <td>4df2832a-1d63-4453-9659-43993fc35996</td>\n",
       "      <td>NaN</td>\n",
       "      <td>50880</td>\n",
       "    </tr>\n",
       "    <tr>\n",
       "      <td>4</td>\n",
       "      <td>4df2832a-1d63-4453-9659-43993fc35996</td>\n",
       "      <td>NaN</td>\n",
       "      <td>38114</td>\n",
       "    </tr>\n",
       "  </tbody>\n",
       "</table>\n",
       "</div>"
      ],
      "text/plain": [
       "                                      id role  event_id\n",
       "0   4df2832a-1d63-4453-9659-43993fc35996  NaN  38114   \n",
       "1   4df2832a-1d63-4453-9659-43993fc35996  NaN  38111   \n",
       "2   4df2832a-1d63-4453-9659-43993fc35996  NaN  56195   \n",
       "3   4df2832a-1d63-4453-9659-43993fc35996  NaN  50880   \n",
       "4   4df2832a-1d63-4453-9659-43993fc35996  NaN  38114   "
      ]
     },
     "execution_count": 47,
     "metadata": {},
     "output_type": "execute_result"
    }
   ],
   "source": [
    "score1=tutor.merge(participants,on='id',how='right')\n",
    "score1.head()"
   ]
  },
  {
   "cell_type": "code",
   "execution_count": 48,
   "metadata": {},
   "outputs": [],
   "source": [
    "lessons['event_id'] = lessons['event_id'].astype('int')"
   ]
  },
  {
   "cell_type": "code",
   "execution_count": 49,
   "metadata": {},
   "outputs": [
    {
     "data": {
      "text/html": [
       "<div>\n",
       "<style scoped>\n",
       "    .dataframe tbody tr th:only-of-type {\n",
       "        vertical-align: middle;\n",
       "    }\n",
       "\n",
       "    .dataframe tbody tr th {\n",
       "        vertical-align: top;\n",
       "    }\n",
       "\n",
       "    .dataframe thead th {\n",
       "        text-align: right;\n",
       "    }\n",
       "</style>\n",
       "<table border=\"1\" class=\"dataframe\">\n",
       "  <thead>\n",
       "    <tr style=\"text-align: right;\">\n",
       "      <th></th>\n",
       "      <th>id_x</th>\n",
       "      <th>role</th>\n",
       "      <th>event_id</th>\n",
       "      <th>id_y</th>\n",
       "      <th>subject</th>\n",
       "      <th>scheduled_time</th>\n",
       "    </tr>\n",
       "  </thead>\n",
       "  <tbody>\n",
       "    <tr>\n",
       "      <td>0</td>\n",
       "      <td>4df2832a-1d63-4453-9659-43993fc35996</td>\n",
       "      <td>NaN</td>\n",
       "      <td>38114</td>\n",
       "      <td>2e3b1173-7edb-4737-9500-a23d7b852518</td>\n",
       "      <td>phys</td>\n",
       "      <td>2020-01-12 12:00:00</td>\n",
       "    </tr>\n",
       "    <tr>\n",
       "      <td>1</td>\n",
       "      <td>4df2832a-1d63-4453-9659-43993fc35996</td>\n",
       "      <td>NaN</td>\n",
       "      <td>38111</td>\n",
       "      <td>0e30fdbd-2af7-40c7-8f38-336c9d8512f3</td>\n",
       "      <td>phys</td>\n",
       "      <td>2020-01-11 12:00:00</td>\n",
       "    </tr>\n",
       "    <tr>\n",
       "      <td>2</td>\n",
       "      <td>4df2832a-1d63-4453-9659-43993fc35996</td>\n",
       "      <td>NaN</td>\n",
       "      <td>56195</td>\n",
       "      <td>06277d4e-db4a-4fa0-b9f8-b1063088ad75</td>\n",
       "      <td>phys</td>\n",
       "      <td>2020-01-20 14:00:00</td>\n",
       "    </tr>\n",
       "    <tr>\n",
       "      <td>3</td>\n",
       "      <td>4df2832a-1d63-4453-9659-43993fc35996</td>\n",
       "      <td>NaN</td>\n",
       "      <td>50880</td>\n",
       "      <td>883e272f-c15b-4bf7-8066-f4a8e1862249</td>\n",
       "      <td>phys</td>\n",
       "      <td>2020-01-12 09:30:00</td>\n",
       "    </tr>\n",
       "    <tr>\n",
       "      <td>4</td>\n",
       "      <td>4df2832a-1d63-4453-9659-43993fc35996</td>\n",
       "      <td>NaN</td>\n",
       "      <td>50880</td>\n",
       "      <td>160d0426-867c-4d68-9bf5-85c75e2ecbf2</td>\n",
       "      <td>phys</td>\n",
       "      <td>2020-01-19 09:30:00</td>\n",
       "    </tr>\n",
       "  </tbody>\n",
       "</table>\n",
       "</div>"
      ],
      "text/plain": [
       "                                    id_x role  event_id  \\\n",
       "0   4df2832a-1d63-4453-9659-43993fc35996  NaN  38114      \n",
       "1   4df2832a-1d63-4453-9659-43993fc35996  NaN  38111      \n",
       "2   4df2832a-1d63-4453-9659-43993fc35996  NaN  56195      \n",
       "3   4df2832a-1d63-4453-9659-43993fc35996  NaN  50880      \n",
       "4   4df2832a-1d63-4453-9659-43993fc35996  NaN  50880      \n",
       "\n",
       "                                   id_y subject       scheduled_time  \n",
       "0  2e3b1173-7edb-4737-9500-a23d7b852518  phys    2020-01-12 12:00:00  \n",
       "1  0e30fdbd-2af7-40c7-8f38-336c9d8512f3  phys    2020-01-11 12:00:00  \n",
       "2  06277d4e-db4a-4fa0-b9f8-b1063088ad75  phys    2020-01-20 14:00:00  \n",
       "3  883e272f-c15b-4bf7-8066-f4a8e1862249  phys    2020-01-12 09:30:00  \n",
       "4  160d0426-867c-4d68-9bf5-85c75e2ecbf2  phys    2020-01-19 09:30:00  "
      ]
     },
     "execution_count": 49,
     "metadata": {},
     "output_type": "execute_result"
    }
   ],
   "source": [
    "score2= score1.merge(lessons,on='event_id',how='left')\n",
    "score2.head()"
   ]
  },
  {
   "cell_type": "code",
   "execution_count": 50,
   "metadata": {},
   "outputs": [
    {
     "data": {
      "text/html": [
       "<div>\n",
       "<style scoped>\n",
       "    .dataframe tbody tr th:only-of-type {\n",
       "        vertical-align: middle;\n",
       "    }\n",
       "\n",
       "    .dataframe tbody tr th {\n",
       "        vertical-align: top;\n",
       "    }\n",
       "\n",
       "    .dataframe thead th {\n",
       "        text-align: right;\n",
       "    }\n",
       "</style>\n",
       "<table border=\"1\" class=\"dataframe\">\n",
       "  <thead>\n",
       "    <tr style=\"text-align: right;\">\n",
       "      <th></th>\n",
       "      <th>id_tutor</th>\n",
       "      <th>event_id</th>\n",
       "      <th>lesson_id</th>\n",
       "      <th>sub</th>\n",
       "      <th>scheduled_time</th>\n",
       "    </tr>\n",
       "  </thead>\n",
       "  <tbody>\n",
       "    <tr>\n",
       "      <td>0</td>\n",
       "      <td>4df2832a-1d63-4453-9659-43993fc35996</td>\n",
       "      <td>38114</td>\n",
       "      <td>2e3b1173-7edb-4737-9500-a23d7b852518</td>\n",
       "      <td>phys</td>\n",
       "      <td>2020-01-12 12:00:00</td>\n",
       "    </tr>\n",
       "    <tr>\n",
       "      <td>1</td>\n",
       "      <td>4df2832a-1d63-4453-9659-43993fc35996</td>\n",
       "      <td>38111</td>\n",
       "      <td>0e30fdbd-2af7-40c7-8f38-336c9d8512f3</td>\n",
       "      <td>phys</td>\n",
       "      <td>2020-01-11 12:00:00</td>\n",
       "    </tr>\n",
       "    <tr>\n",
       "      <td>2</td>\n",
       "      <td>4df2832a-1d63-4453-9659-43993fc35996</td>\n",
       "      <td>56195</td>\n",
       "      <td>06277d4e-db4a-4fa0-b9f8-b1063088ad75</td>\n",
       "      <td>phys</td>\n",
       "      <td>2020-01-20 14:00:00</td>\n",
       "    </tr>\n",
       "    <tr>\n",
       "      <td>3</td>\n",
       "      <td>4df2832a-1d63-4453-9659-43993fc35996</td>\n",
       "      <td>50880</td>\n",
       "      <td>883e272f-c15b-4bf7-8066-f4a8e1862249</td>\n",
       "      <td>phys</td>\n",
       "      <td>2020-01-12 09:30:00</td>\n",
       "    </tr>\n",
       "    <tr>\n",
       "      <td>4</td>\n",
       "      <td>4df2832a-1d63-4453-9659-43993fc35996</td>\n",
       "      <td>50880</td>\n",
       "      <td>160d0426-867c-4d68-9bf5-85c75e2ecbf2</td>\n",
       "      <td>phys</td>\n",
       "      <td>2020-01-19 09:30:00</td>\n",
       "    </tr>\n",
       "  </tbody>\n",
       "</table>\n",
       "</div>"
      ],
      "text/plain": [
       "                                id_tutor  event_id  \\\n",
       "0   4df2832a-1d63-4453-9659-43993fc35996  38114      \n",
       "1   4df2832a-1d63-4453-9659-43993fc35996  38111      \n",
       "2   4df2832a-1d63-4453-9659-43993fc35996  56195      \n",
       "3   4df2832a-1d63-4453-9659-43993fc35996  50880      \n",
       "4   4df2832a-1d63-4453-9659-43993fc35996  50880      \n",
       "\n",
       "                              lesson_id   sub       scheduled_time  \n",
       "0  2e3b1173-7edb-4737-9500-a23d7b852518  phys  2020-01-12 12:00:00  \n",
       "1  0e30fdbd-2af7-40c7-8f38-336c9d8512f3  phys  2020-01-11 12:00:00  \n",
       "2  06277d4e-db4a-4fa0-b9f8-b1063088ad75  phys  2020-01-20 14:00:00  \n",
       "3  883e272f-c15b-4bf7-8066-f4a8e1862249  phys  2020-01-12 09:30:00  \n",
       "4  160d0426-867c-4d68-9bf5-85c75e2ecbf2  phys  2020-01-19 09:30:00  "
      ]
     },
     "execution_count": 50,
     "metadata": {},
     "output_type": "execute_result"
    }
   ],
   "source": [
    "score2.columns=['id_tutor','role','event_id','lesson_id','sub','scheduled_time']\n",
    "del score2['role']\n",
    "score2= score2[score2['sub']== 'phys']\n",
    "score2.head()"
   ]
  },
  {
   "cell_type": "code",
   "execution_count": 51,
   "metadata": {},
   "outputs": [
    {
     "data": {
      "text/html": [
       "<div>\n",
       "<style scoped>\n",
       "    .dataframe tbody tr th:only-of-type {\n",
       "        vertical-align: middle;\n",
       "    }\n",
       "\n",
       "    .dataframe tbody tr th {\n",
       "        vertical-align: top;\n",
       "    }\n",
       "\n",
       "    .dataframe thead th {\n",
       "        text-align: right;\n",
       "    }\n",
       "</style>\n",
       "<table border=\"1\" class=\"dataframe\">\n",
       "  <thead>\n",
       "    <tr style=\"text-align: right;\">\n",
       "      <th></th>\n",
       "      <th>id_tutor</th>\n",
       "      <th>event_id</th>\n",
       "      <th>lesson_id</th>\n",
       "      <th>sub</th>\n",
       "      <th>scheduled_time</th>\n",
       "      <th>tech_quality</th>\n",
       "    </tr>\n",
       "  </thead>\n",
       "  <tbody>\n",
       "    <tr>\n",
       "      <td>0</td>\n",
       "      <td>4df2832a-1d63-4453-9659-43993fc35996</td>\n",
       "      <td>38114</td>\n",
       "      <td>2e3b1173-7edb-4737-9500-a23d7b852518</td>\n",
       "      <td>phys</td>\n",
       "      <td>2020-01-12 12:00:00</td>\n",
       "      <td>5.0</td>\n",
       "    </tr>\n",
       "    <tr>\n",
       "      <td>1</td>\n",
       "      <td>4df2832a-1d63-4453-9659-43993fc35996</td>\n",
       "      <td>38111</td>\n",
       "      <td>0e30fdbd-2af7-40c7-8f38-336c9d8512f3</td>\n",
       "      <td>phys</td>\n",
       "      <td>2020-01-11 12:00:00</td>\n",
       "      <td>NaN</td>\n",
       "    </tr>\n",
       "    <tr>\n",
       "      <td>2</td>\n",
       "      <td>4df2832a-1d63-4453-9659-43993fc35996</td>\n",
       "      <td>56195</td>\n",
       "      <td>06277d4e-db4a-4fa0-b9f8-b1063088ad75</td>\n",
       "      <td>phys</td>\n",
       "      <td>2020-01-20 14:00:00</td>\n",
       "      <td>NaN</td>\n",
       "    </tr>\n",
       "    <tr>\n",
       "      <td>3</td>\n",
       "      <td>4df2832a-1d63-4453-9659-43993fc35996</td>\n",
       "      <td>50880</td>\n",
       "      <td>883e272f-c15b-4bf7-8066-f4a8e1862249</td>\n",
       "      <td>phys</td>\n",
       "      <td>2020-01-12 09:30:00</td>\n",
       "      <td>5.0</td>\n",
       "    </tr>\n",
       "    <tr>\n",
       "      <td>4</td>\n",
       "      <td>4df2832a-1d63-4453-9659-43993fc35996</td>\n",
       "      <td>50880</td>\n",
       "      <td>160d0426-867c-4d68-9bf5-85c75e2ecbf2</td>\n",
       "      <td>phys</td>\n",
       "      <td>2020-01-19 09:30:00</td>\n",
       "      <td>5.0</td>\n",
       "    </tr>\n",
       "  </tbody>\n",
       "</table>\n",
       "</div>"
      ],
      "text/plain": [
       "                                id_tutor  event_id  \\\n",
       "0   4df2832a-1d63-4453-9659-43993fc35996  38114      \n",
       "1   4df2832a-1d63-4453-9659-43993fc35996  38111      \n",
       "2   4df2832a-1d63-4453-9659-43993fc35996  56195      \n",
       "3   4df2832a-1d63-4453-9659-43993fc35996  50880      \n",
       "4   4df2832a-1d63-4453-9659-43993fc35996  50880      \n",
       "\n",
       "                              lesson_id   sub       scheduled_time  \\\n",
       "0  2e3b1173-7edb-4737-9500-a23d7b852518  phys  2020-01-12 12:00:00   \n",
       "1  0e30fdbd-2af7-40c7-8f38-336c9d8512f3  phys  2020-01-11 12:00:00   \n",
       "2  06277d4e-db4a-4fa0-b9f8-b1063088ad75  phys  2020-01-20 14:00:00   \n",
       "3  883e272f-c15b-4bf7-8066-f4a8e1862249  phys  2020-01-12 09:30:00   \n",
       "4  160d0426-867c-4d68-9bf5-85c75e2ecbf2  phys  2020-01-19 09:30:00   \n",
       "\n",
       "   tech_quality  \n",
       "0  5.0           \n",
       "1 NaN            \n",
       "2 NaN            \n",
       "3  5.0           \n",
       "4  5.0           "
      ]
     },
     "execution_count": 51,
     "metadata": {},
     "output_type": "execute_result"
    }
   ],
   "source": [
    "score3=score2.merge(quality,on='lesson_id',how='left')\n",
    "score3.head()"
   ]
  },
  {
   "cell_type": "code",
   "execution_count": 52,
   "metadata": {},
   "outputs": [
    {
     "data": {
      "text/html": [
       "<div>\n",
       "<style scoped>\n",
       "    .dataframe tbody tr th:only-of-type {\n",
       "        vertical-align: middle;\n",
       "    }\n",
       "\n",
       "    .dataframe tbody tr th {\n",
       "        vertical-align: top;\n",
       "    }\n",
       "\n",
       "    .dataframe thead th {\n",
       "        text-align: right;\n",
       "    }\n",
       "</style>\n",
       "<table border=\"1\" class=\"dataframe\">\n",
       "  <thead>\n",
       "    <tr style=\"text-align: right;\">\n",
       "      <th></th>\n",
       "      <th>id_tutor</th>\n",
       "      <th>event_id</th>\n",
       "      <th>lesson_id</th>\n",
       "      <th>sub</th>\n",
       "      <th>scheduled_time</th>\n",
       "      <th>tech_quality</th>\n",
       "    </tr>\n",
       "  </thead>\n",
       "  <tbody>\n",
       "    <tr>\n",
       "      <td>57</td>\n",
       "      <td>43efce48-94b2-4412-857f-223d45969008</td>\n",
       "      <td>52949</td>\n",
       "      <td>577ae94d-45c8-4804-9a50-40e91048d81d</td>\n",
       "      <td>phys</td>\n",
       "      <td>2020-01-18 09:00:00</td>\n",
       "      <td>2.0</td>\n",
       "    </tr>\n",
       "    <tr>\n",
       "      <td>208</td>\n",
       "      <td>9d9029a2-c81a-49f7-84ee-7696eecd2f99</td>\n",
       "      <td>52949</td>\n",
       "      <td>577ae94d-45c8-4804-9a50-40e91048d81d</td>\n",
       "      <td>phys</td>\n",
       "      <td>2020-01-18 09:00:00</td>\n",
       "      <td>2.0</td>\n",
       "    </tr>\n",
       "    <tr>\n",
       "      <td>356</td>\n",
       "      <td>f2f25148-97cb-422d-a5b5-b0dabbca0523</td>\n",
       "      <td>38199</td>\n",
       "      <td>69131767-f538-4305-ad4d-2f854f64e210</td>\n",
       "      <td>phys</td>\n",
       "      <td>2020-01-11 15:00:00</td>\n",
       "      <td>3.0</td>\n",
       "    </tr>\n",
       "    <tr>\n",
       "      <td>100</td>\n",
       "      <td>8fe03f08-8581-430c-a590-9888ab36deb3</td>\n",
       "      <td>38199</td>\n",
       "      <td>69131767-f538-4305-ad4d-2f854f64e210</td>\n",
       "      <td>phys</td>\n",
       "      <td>2020-01-11 15:00:00</td>\n",
       "      <td>3.0</td>\n",
       "    </tr>\n",
       "    <tr>\n",
       "      <td>354</td>\n",
       "      <td>f2f25148-97cb-422d-a5b5-b0dabbca0523</td>\n",
       "      <td>38199</td>\n",
       "      <td>69131767-f538-4305-ad4d-2f854f64e210</td>\n",
       "      <td>phys</td>\n",
       "      <td>2020-01-11 15:00:00</td>\n",
       "      <td>3.0</td>\n",
       "    </tr>\n",
       "  </tbody>\n",
       "</table>\n",
       "</div>"
      ],
      "text/plain": [
       "                                  id_tutor  event_id  \\\n",
       "57    43efce48-94b2-4412-857f-223d45969008  52949      \n",
       "208   9d9029a2-c81a-49f7-84ee-7696eecd2f99  52949      \n",
       "356   f2f25148-97cb-422d-a5b5-b0dabbca0523  38199      \n",
       "100   8fe03f08-8581-430c-a590-9888ab36deb3  38199      \n",
       "354   f2f25148-97cb-422d-a5b5-b0dabbca0523  38199      \n",
       "\n",
       "                                lesson_id   sub       scheduled_time  \\\n",
       "57   577ae94d-45c8-4804-9a50-40e91048d81d  phys  2020-01-18 09:00:00   \n",
       "208  577ae94d-45c8-4804-9a50-40e91048d81d  phys  2020-01-18 09:00:00   \n",
       "356  69131767-f538-4305-ad4d-2f854f64e210  phys  2020-01-11 15:00:00   \n",
       "100  69131767-f538-4305-ad4d-2f854f64e210  phys  2020-01-11 15:00:00   \n",
       "354  69131767-f538-4305-ad4d-2f854f64e210  phys  2020-01-11 15:00:00   \n",
       "\n",
       "     tech_quality  \n",
       "57   2.0           \n",
       "208  2.0           \n",
       "356  3.0           \n",
       "100  3.0           \n",
       "354  3.0           "
      ]
     },
     "execution_count": 52,
     "metadata": {},
     "output_type": "execute_result"
    }
   ],
   "source": [
    "score3.sort_values('tech_quality').head()"
   ]
  },
  {
   "cell_type": "code",
   "execution_count": null,
   "metadata": {},
   "outputs": [],
   "source": []
  }
 ],
 "metadata": {
  "kernelspec": {
   "display_name": "Python 3",
   "language": "python",
   "name": "python3"
  },
  "language_info": {
   "codemirror_mode": {
    "name": "ipython",
    "version": 3
   },
   "file_extension": ".py",
   "mimetype": "text/x-python",
   "name": "python",
   "nbconvert_exporter": "python",
   "pygments_lexer": "ipython3",
   "version": "3.7.6"
  }
 },
 "nbformat": 4,
 "nbformat_minor": 2
}
