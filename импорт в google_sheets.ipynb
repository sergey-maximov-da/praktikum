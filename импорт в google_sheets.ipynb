{
 "cells": [
  {
   "cell_type": "code",
   "execution_count": 1,
   "metadata": {},
   "outputs": [],
   "source": [
    "#!pip install gspread_dataframe https://docs.google.com/spreadsheets/d/1PNnboEdVIn-MinWuXnH_GjubU4ti-Qh_OchHkH3lQSM/edit#gid=1690619748"
   ]
  },
  {
   "cell_type": "markdown",
   "metadata": {},
   "source": [
    "# Дашборд декабрь"
   ]
  },
  {
   "cell_type": "code",
   "execution_count": 6,
   "metadata": {},
   "outputs": [],
   "source": [
    "import pandas as pd\n",
    "import gspread\n",
    "from gspread_dataframe import set_with_dataframe\n",
    "\n",
    "# Доступ к GS\n",
    "gc = gspread.service_account('voltaic-syntax-302214-e18198d5466a.json')\n",
    "sh = gc.open_by_key('1m2PMlvD5RKh8UrmzzaCj1yCwcuFJ0W7oGjIsjNtxYzg')\n",
    "worksheet = sh.get_worksheet(0) #-> 0 - лист один, 1 - второй и тд.\n",
    "\n",
    "# Выбор датафрейма\n",
    "df = pd.read_excel('reports/December_forecast.xlsx'\n",
    "                  )\n",
    "set_with_dataframe(worksheet, df)"
   ]
  },
  {
   "cell_type": "markdown",
   "metadata": {},
   "source": [
    "## Дашборд Ноябрь"
   ]
  },
  {
   "cell_type": "code",
   "execution_count": 3,
   "metadata": {},
   "outputs": [],
   "source": [
    "import pandas as pd\n",
    "import gspread\n",
    "from gspread_dataframe import set_with_dataframe\n",
    "\n",
    "# Доступ к GS\n",
    "gc = gspread.service_account('voltaic-syntax-302214-e18198d5466a.json')\n",
    "sh = gc.open_by_key('1NGxySjl2VRzeE37FhD9GBK3KCLtG2fL1KOvof1VjMPM')\n",
    "worksheet = sh.get_worksheet(0) #-> 0 - лист один, 1 - второй и тд.\n",
    "\n",
    "# Выбор датафрейма\n",
    "df = pd.read_excel('reports/November_forecast.xlsx'\n",
    "                  )\n",
    "set_with_dataframe(worksheet, df)"
   ]
  },
  {
   "cell_type": "markdown",
   "metadata": {},
   "source": [
    "## Дашборд Октябрь"
   ]
  },
  {
   "cell_type": "code",
   "execution_count": 2,
   "metadata": {},
   "outputs": [],
   "source": [
    "import pandas as pd\n",
    "import gspread\n",
    "from gspread_dataframe import set_with_dataframe\n",
    "\n",
    "# Доступ к GS\n",
    "gc = gspread.service_account('voltaic-syntax-302214-e18198d5466a.json')\n",
    "sh = gc.open_by_key('11msy99VNSuyGL3hqNfyQbpYVVv4wLQGMsKzTgD0pgUc')\n",
    "worksheet = sh.get_worksheet(0) #-> 0 - лист один, 1 - второй и тд.\n",
    "\n",
    "# Выбор датафрейма\n",
    "df = pd.read_excel('reports/October_forecast.xlsx'\n",
    "                  )\n",
    "set_with_dataframe(worksheet, df)"
   ]
  },
  {
   "cell_type": "markdown",
   "metadata": {},
   "source": [
    "## Дашборд Сентябрь"
   ]
  },
  {
   "cell_type": "code",
   "execution_count": 7,
   "metadata": {},
   "outputs": [],
   "source": [
    "import pandas as pd\n",
    "import gspread\n",
    "from gspread_dataframe import set_with_dataframe\n",
    "\n",
    "# Доступ к GS\n",
    "gc = gspread.service_account('voltaic-syntax-302214-e18198d5466a.json')\n",
    "sh = gc.open_by_key('19DuqN6CVf7uDfF0Nhi9LOcVbW2kdUDgQ2NXxmOORLSY')\n",
    "worksheet = sh.get_worksheet(0) #-> 0 - лист один, 1 - второй и тд.\n",
    "\n",
    "# Выбор датафрейма\n",
    "df = pd.read_excel('reports/September_forecast.xlsx'\n",
    "                  )\n",
    "set_with_dataframe(worksheet, df)"
   ]
  },
  {
   "cell_type": "markdown",
   "metadata": {},
   "source": [
    "## Дашборд Август\n"
   ]
  },
  {
   "cell_type": "code",
   "execution_count": 4,
   "metadata": {},
   "outputs": [],
   "source": [
    "import pandas as pd\n",
    "import gspread\n",
    "from gspread_dataframe import set_with_dataframe\n",
    "\n",
    "# Доступ к GS\n",
    "gc = gspread.service_account('voltaic-syntax-302214-e18198d5466a.json')\n",
    "sh = gc.open_by_key('1sgvXHutdJrM7cYCc9QFckSYOreFjnErHeSJKf_048hk')\n",
    "worksheet = sh.get_worksheet(0) #-> 0 - лист один, 1 - второй и тд.\n",
    "\n",
    "# Выбор датафрейма\n",
    "df = pd.read_excel('reports/August_forecast.xlsx'\n",
    "                  )\n",
    "set_with_dataframe(worksheet, df)"
   ]
  },
  {
   "cell_type": "markdown",
   "metadata": {},
   "source": [
    "## Дашборд Июль"
   ]
  },
  {
   "cell_type": "code",
   "execution_count": 2,
   "metadata": {},
   "outputs": [],
   "source": [
    "import pandas as pd\n",
    "import gspread\n",
    "from gspread_dataframe import set_with_dataframe\n",
    "\n",
    "# Доступ к GS\n",
    "gc = gspread.service_account('voltaic-syntax-302214-e18198d5466a.json')\n",
    "sh = gc.open_by_key('1k481-vbCX04xE0XBY92JCmEoZJQ9iqtLjwpbfzpbfRk')\n",
    "worksheet = sh.get_worksheet(0) #-> 0 - лист один, 1 - второй и тд.\n",
    "\n",
    "# Выбор датафрейма\n",
    "df = pd.read_excel('reports/July_forecast.xlsx'\n",
    "                  )\n",
    "set_with_dataframe(worksheet, df)"
   ]
  },
  {
   "cell_type": "markdown",
   "metadata": {},
   "source": [
    "## Дашборд Июнь"
   ]
  },
  {
   "cell_type": "code",
   "execution_count": 6,
   "metadata": {},
   "outputs": [],
   "source": [
    "import pandas as pd\n",
    "import gspread\n",
    "from gspread_dataframe import set_with_dataframe\n",
    "\n",
    "# Доступ к GS\n",
    "gc = gspread.service_account('voltaic-syntax-302214-e18198d5466a.json')\n",
    "sh = gc.open_by_key('1iDatXq5XK2SQI64o08ECINMT6vVxYbIQqLJMKB8ckhU')\n",
    "worksheet = sh.get_worksheet(0) #-> 0 - лист один, 1 - второй и тд.\n",
    "\n",
    "# Выбор датафрейма\n",
    "df = pd.read_excel('reports/June_forecast.xlsx'\n",
    "                  )\n",
    "set_with_dataframe(worksheet, df)"
   ]
  },
  {
   "cell_type": "markdown",
   "metadata": {},
   "source": [
    "## Дашборд Май"
   ]
  },
  {
   "cell_type": "code",
   "execution_count": 2,
   "metadata": {},
   "outputs": [],
   "source": [
    "import pandas as pd\n",
    "import gspread\n",
    "from gspread_dataframe import set_with_dataframe\n",
    "\n",
    "# Доступ к GS\n",
    "gc = gspread.service_account('voltaic-syntax-302214-e18198d5466a.json')\n",
    "sh = gc.open_by_key('1b64Sk3ar5NjXGWL9jQPtIuAsox05TOKQVFa--auXpHg')\n",
    "worksheet = sh.get_worksheet(0) #-> 0 - лист один, 1 - второй и тд.\n",
    "\n",
    "# Выбор датафрейма\n",
    "df = pd.read_excel('reports/May_forecast.xlsx'\n",
    "                  )\n",
    "set_with_dataframe(worksheet, df)"
   ]
  },
  {
   "cell_type": "markdown",
   "metadata": {},
   "source": [
    "## Дашборд Апрель"
   ]
  },
  {
   "cell_type": "code",
   "execution_count": 3,
   "metadata": {},
   "outputs": [],
   "source": [
    "import pandas as pd\n",
    "import gspread\n",
    "from gspread_dataframe import set_with_dataframe\n",
    "\n",
    "# Доступ к GS\n",
    "gc = gspread.service_account('voltaic-syntax-302214-e18198d5466a.json')\n",
    "sh = gc.open_by_key('1Mna_Ty-xX9vhX8a1vWr_7UgfRwQBvDgrMQ_0HaFtErQ')\n",
    "worksheet = sh.get_worksheet(0) #-> 0 - лист один, 1 - второй и тд.\n",
    "\n",
    "# Выбор датафрейма\n",
    "df = pd.read_excel('reports/2021, April_forecast.xlsx'\n",
    "                  )\n",
    "set_with_dataframe(worksheet, df)"
   ]
  },
  {
   "cell_type": "markdown",
   "metadata": {},
   "source": [
    "## Дашборд Март"
   ]
  },
  {
   "cell_type": "code",
   "execution_count": 7,
   "metadata": {},
   "outputs": [
    {
     "name": "stderr",
     "output_type": "stream",
     "text": [
      "/opt/conda/lib/python3.7/site-packages/ipykernel_launcher.py:11: FutureWarning: Your version of xlrd is 1.2.0. In xlrd >= 2.0, only the xls format is supported. As a result, the openpyxl engine will be used if it is installed and the engine argument is not specified. Install openpyxl instead.\n",
      "  # This is added back by InteractiveShellApp.init_path()\n"
     ]
    }
   ],
   "source": [
    "import pandas as pd\n",
    "import gspread\n",
    "from gspread_dataframe import set_with_dataframe\n",
    "\n",
    "# Доступ к GS\n",
    "gc = gspread.service_account('voltaic-syntax-302214-e18198d5466a.json')\n",
    "sh = gc.open_by_key('1u-2_sRKgsfG2mrJuqPsCjObMTPCOBnsad5xfMgP95HE')\n",
    "worksheet = sh.get_worksheet(0) #-> 0 - лист один, 1 - второй и тд.\n",
    "\n",
    "# Выбор датафрейма\n",
    "df = pd.read_excel(c\n",
    "                  )\n",
    "set_with_dataframe(worksheet, df)"
   ]
  },
  {
   "cell_type": "markdown",
   "metadata": {},
   "source": [
    "## Дашборд февраль"
   ]
  },
  {
   "cell_type": "code",
   "execution_count": 3,
   "metadata": {},
   "outputs": [],
   "source": [
    "import pandas as pd\n",
    "import gspread\n",
    "from gspread_dataframe import set_with_dataframe\n",
    "\n",
    "# Доступ к GS\n",
    "gc = gspread.service_account('voltaic-syntax-302214-e18198d5466a.json')\n",
    "sh = gc.open_by_key('187zd4fhpgFLBq2cKZBsRxAmB9Gbr_jV8gxJr_awfxMA')\n",
    "worksheet = sh.get_worksheet(0) #-> 0 - лист один, 1 - второй и тд.\n",
    "\n",
    "# Выбор датафрейма\n",
    "df = pd.read_excel('reports/2021, February_forecast.xlsx',index=False\n",
    "                  )\n",
    "set_with_dataframe(worksheet, df)"
   ]
  },
  {
   "cell_type": "code",
   "execution_count": 5,
   "metadata": {},
   "outputs": [],
   "source": [
    "!pip install gspread_dataframe"
   ]
  },
  {
   "cell_type": "code",
   "execution_count": 4,
   "metadata": {},
   "outputs": [
    {
     "name": "stderr",
     "output_type": "stream",
     "text": [
      "/opt/conda/lib/python3.7/site-packages/ipykernel_launcher.py:11: FutureWarning: Your version of xlrd is 1.2.0. In xlrd >= 2.0, only the xls format is supported. As a result, the openpyxl engine will be used if it is installed and the engine argument is not specified. Install openpyxl instead.\n",
      "  # This is added back by InteractiveShellApp.init_path()\n"
     ]
    }
   ],
   "source": [
    "import pandas as pd\n",
    "import gspread\n",
    "from gspread_dataframe import set_with_dataframe\n",
    "\n",
    "# Доступ к GS\n",
    "gc = gspread.service_account('voltaic-syntax-302214-e18198d5466a.json')\n",
    "sh = gc.open_by_key('1zhGk8_f_0Prq5DKCsWU8DvUFIT4s7Hxe36x0gPbradw')\n",
    "worksheet = sh.get_worksheet(0) #-> 0 - лист один, 1 - второй и тд.\n",
    "\n",
    "# Выбор датафрейма\n",
    "df = pd.read_excel('reports/january_forecast.xlsx'\n",
    "                  )\n",
    "set_with_dataframe(worksheet, df)"
   ]
  },
  {
   "cell_type": "code",
   "execution_count": null,
   "metadata": {},
   "outputs": [],
   "source": []
  }
 ],
 "metadata": {
  "kernelspec": {
   "display_name": "Python 3",
   "language": "python",
   "name": "python3"
  },
  "language_info": {
   "codemirror_mode": {
    "name": "ipython",
    "version": 3
   },
   "file_extension": ".py",
   "mimetype": "text/x-python",
   "name": "python",
   "nbconvert_exporter": "python",
   "pygments_lexer": "ipython3",
   "version": "3.7.3"
  }
 },
 "nbformat": 4,
 "nbformat_minor": 2
}
