{
 "cells": [
  {
   "cell_type": "markdown",
   "metadata": {},
   "source": [
    "## Описание проекта\n",
    "Вы аналитик компании «Мегалайн» — федерального оператора сотовой связи. Клиентам предлагают два тарифных плана: «Смарт» и «Ультра». Чтобы скорректировать рекламный бюджет, коммерческий департамент хочет понять, какой тариф приносит больше денег.\n",
    "Вам предстоит сделать предварительный анализ тарифов на небольшой выборке клиентов. В вашем распоряжении данные 500 пользователей «Мегалайна»: кто они, откуда, каким тарифом пользуются, сколько звонков и сообщений каждый отправил за 2018 год. Нужно проанализировать поведение клиентов и сделать вывод — какой тариф лучше."
   ]
  },
  {
   "cell_type": "markdown",
   "metadata": {},
   "source": [
    "##  Шаг 1. Откройте файл с данными и изучите общую информацию\n"
   ]
  },
  {
   "cell_type": "code",
   "execution_count": 1,
   "metadata": {},
   "outputs": [],
   "source": [
    "import pandas as pd\n",
    "import numpy as np\n",
    "import matplotlib.pyplot as plt"
   ]
  },
  {
   "cell_type": "code",
   "execution_count": 2,
   "metadata": {},
   "outputs": [],
   "source": [
    "df_calls = pd.read_csv('/datasets/calls.csv')"
   ]
  },
  {
   "cell_type": "code",
   "execution_count": 3,
   "metadata": {},
   "outputs": [],
   "source": [
    "df_int = pd.read_csv('/datasets/internet.csv')"
   ]
  },
  {
   "cell_type": "code",
   "execution_count": 4,
   "metadata": {},
   "outputs": [],
   "source": [
    "df_mes = pd.read_csv('/datasets/messages.csv')"
   ]
  },
  {
   "cell_type": "code",
   "execution_count": 5,
   "metadata": {},
   "outputs": [],
   "source": [
    "df_tar= pd.read_csv('/datasets/tariffs.csv')"
   ]
  },
  {
   "cell_type": "code",
   "execution_count": 6,
   "metadata": {},
   "outputs": [],
   "source": [
    "df_user = pd.read_csv('/datasets/users.csv')"
   ]
  },
  {
   "cell_type": "markdown",
   "metadata": {},
   "source": [
    "## Ознакомимся с тарифами"
   ]
  },
  {
   "cell_type": "code",
   "execution_count": 7,
   "metadata": {},
   "outputs": [
    {
     "data": {
      "text/html": [
       "<div>\n",
       "<style scoped>\n",
       "    .dataframe tbody tr th:only-of-type {\n",
       "        vertical-align: middle;\n",
       "    }\n",
       "\n",
       "    .dataframe tbody tr th {\n",
       "        vertical-align: top;\n",
       "    }\n",
       "\n",
       "    .dataframe thead th {\n",
       "        text-align: right;\n",
       "    }\n",
       "</style>\n",
       "<table border=\"1\" class=\"dataframe\">\n",
       "  <thead>\n",
       "    <tr style=\"text-align: right;\">\n",
       "      <th></th>\n",
       "      <th>messages_included</th>\n",
       "      <th>mb_per_month_included</th>\n",
       "      <th>minutes_included</th>\n",
       "      <th>rub_monthly_fee</th>\n",
       "      <th>rub_per_gb</th>\n",
       "      <th>rub_per_message</th>\n",
       "      <th>rub_per_minute</th>\n",
       "      <th>tariff_name</th>\n",
       "    </tr>\n",
       "  </thead>\n",
       "  <tbody>\n",
       "    <tr>\n",
       "      <td>0</td>\n",
       "      <td>50</td>\n",
       "      <td>15360</td>\n",
       "      <td>500</td>\n",
       "      <td>550</td>\n",
       "      <td>200</td>\n",
       "      <td>3</td>\n",
       "      <td>3</td>\n",
       "      <td>smart</td>\n",
       "    </tr>\n",
       "    <tr>\n",
       "      <td>1</td>\n",
       "      <td>1000</td>\n",
       "      <td>30720</td>\n",
       "      <td>3000</td>\n",
       "      <td>1950</td>\n",
       "      <td>150</td>\n",
       "      <td>1</td>\n",
       "      <td>1</td>\n",
       "      <td>ultra</td>\n",
       "    </tr>\n",
       "  </tbody>\n",
       "</table>\n",
       "</div>"
      ],
      "text/plain": [
       "   messages_included  mb_per_month_included  minutes_included  \\\n",
       "0                 50                  15360               500   \n",
       "1               1000                  30720              3000   \n",
       "\n",
       "   rub_monthly_fee  rub_per_gb  rub_per_message  rub_per_minute tariff_name  \n",
       "0              550         200                3               3       smart  \n",
       "1             1950         150                1               1       ultra  "
      ]
     },
     "execution_count": 7,
     "metadata": {},
     "output_type": "execute_result"
    }
   ],
   "source": [
    "df_tar.head()"
   ]
  },
  {
   "cell_type": "code",
   "execution_count": 8,
   "metadata": {},
   "outputs": [],
   "source": [
    "# Переведем мегабайты в гигабайты в столбце mb_per_month_included и переименуем\n",
    "df_tar['mb_per_month_included'] =  df_tar['mb_per_month_included']/1024  \n",
    "df_tar = df_tar.rename(columns={'mb_per_month_included':'gb_per_month_included'})  "
   ]
  },
  {
   "cell_type": "markdown",
   "metadata": {},
   "source": [
    "## Итог\n",
    "\n",
    "С тарифами ознакомились, гигабайты в мегабайты перевли, на этом все)"
   ]
  },
  {
   "cell_type": "markdown",
   "metadata": {},
   "source": [
    "## Изучим следующий датасет со звонками:"
   ]
  },
  {
   "cell_type": "code",
   "execution_count": 9,
   "metadata": {},
   "outputs": [
    {
     "data": {
      "text/html": [
       "<div>\n",
       "<style scoped>\n",
       "    .dataframe tbody tr th:only-of-type {\n",
       "        vertical-align: middle;\n",
       "    }\n",
       "\n",
       "    .dataframe tbody tr th {\n",
       "        vertical-align: top;\n",
       "    }\n",
       "\n",
       "    .dataframe thead th {\n",
       "        text-align: right;\n",
       "    }\n",
       "</style>\n",
       "<table border=\"1\" class=\"dataframe\">\n",
       "  <thead>\n",
       "    <tr style=\"text-align: right;\">\n",
       "      <th></th>\n",
       "      <th>id</th>\n",
       "      <th>call_date</th>\n",
       "      <th>duration</th>\n",
       "      <th>user_id</th>\n",
       "    </tr>\n",
       "  </thead>\n",
       "  <tbody>\n",
       "    <tr>\n",
       "      <td>0</td>\n",
       "      <td>1000_0</td>\n",
       "      <td>2018-07-25</td>\n",
       "      <td>0.00</td>\n",
       "      <td>1000</td>\n",
       "    </tr>\n",
       "    <tr>\n",
       "      <td>1</td>\n",
       "      <td>1000_1</td>\n",
       "      <td>2018-08-17</td>\n",
       "      <td>0.00</td>\n",
       "      <td>1000</td>\n",
       "    </tr>\n",
       "    <tr>\n",
       "      <td>2</td>\n",
       "      <td>1000_2</td>\n",
       "      <td>2018-06-11</td>\n",
       "      <td>2.85</td>\n",
       "      <td>1000</td>\n",
       "    </tr>\n",
       "    <tr>\n",
       "      <td>3</td>\n",
       "      <td>1000_3</td>\n",
       "      <td>2018-09-21</td>\n",
       "      <td>13.80</td>\n",
       "      <td>1000</td>\n",
       "    </tr>\n",
       "    <tr>\n",
       "      <td>4</td>\n",
       "      <td>1000_4</td>\n",
       "      <td>2018-12-15</td>\n",
       "      <td>5.18</td>\n",
       "      <td>1000</td>\n",
       "    </tr>\n",
       "  </tbody>\n",
       "</table>\n",
       "</div>"
      ],
      "text/plain": [
       "       id   call_date  duration  user_id\n",
       "0  1000_0  2018-07-25      0.00     1000\n",
       "1  1000_1  2018-08-17      0.00     1000\n",
       "2  1000_2  2018-06-11      2.85     1000\n",
       "3  1000_3  2018-09-21     13.80     1000\n",
       "4  1000_4  2018-12-15      5.18     1000"
      ]
     },
     "execution_count": 9,
     "metadata": {},
     "output_type": "execute_result"
    }
   ],
   "source": [
    "df_calls.head()"
   ]
  },
  {
   "cell_type": "code",
   "execution_count": 10,
   "metadata": {},
   "outputs": [
    {
     "name": "stdout",
     "output_type": "stream",
     "text": [
      "<class 'pandas.core.frame.DataFrame'>\n",
      "RangeIndex: 202607 entries, 0 to 202606\n",
      "Data columns (total 4 columns):\n",
      "id           202607 non-null object\n",
      "call_date    202607 non-null object\n",
      "duration     202607 non-null float64\n",
      "user_id      202607 non-null int64\n",
      "dtypes: float64(1), int64(1), object(2)\n",
      "memory usage: 6.2+ MB\n"
     ]
    }
   ],
   "source": [
    "# посмотрим общую информацию о датасете\n",
    "df_calls.info()"
   ]
  },
  {
   "cell_type": "code",
   "execution_count": 11,
   "metadata": {},
   "outputs": [],
   "source": [
    "# Сразу хочу заметить не подходящий для иследования формаь для столбца call_date, исправим это\n",
    "df_calls['call_date'] = pd.to_datetime(df_calls['call_date'], format=\"%Y-%m-%dT\")"
   ]
  },
  {
   "cell_type": "code",
   "execution_count": 12,
   "metadata": {},
   "outputs": [
    {
     "data": {
      "text/plain": [
       "0"
      ]
     },
     "execution_count": 12,
     "metadata": {},
     "output_type": "execute_result"
    }
   ],
   "source": [
    "# Проверка на дубликаты\n",
    "df_calls.duplicated().sum()"
   ]
  },
  {
   "cell_type": "code",
   "execution_count": 13,
   "metadata": {},
   "outputs": [
    {
     "data": {
      "text/plain": [
       "id           0\n",
       "call_date    0\n",
       "duration     0\n",
       "user_id      0\n",
       "dtype: int64"
      ]
     },
     "execution_count": 13,
     "metadata": {},
     "output_type": "execute_result"
    }
   ],
   "source": [
    "# Посмотрим, есть ли пропущенные значения\n",
    "df_calls.isnull().sum()"
   ]
  },
  {
   "cell_type": "code",
   "execution_count": 14,
   "metadata": {},
   "outputs": [],
   "source": [
    "#Для анализа добавим столбец месяца\n",
    "df_calls['month'] = df_calls['call_date'].dt.month_name()"
   ]
  },
  {
   "cell_type": "markdown",
   "metadata": {},
   "source": [
    "С этим датафреймом проблем нет - дубликатов нет, пропуски отсутствуют, изменили лишь формат данных в столюце call_date, добавили отдельные столбец по месяцам.\n",
    "\n",
    "Проанализируем его сожержимое"
   ]
  },
  {
   "cell_type": "code",
   "execution_count": 15,
   "metadata": {},
   "outputs": [
    {
     "data": {
      "text/html": [
       "<div>\n",
       "<style scoped>\n",
       "    .dataframe tbody tr th:only-of-type {\n",
       "        vertical-align: middle;\n",
       "    }\n",
       "\n",
       "    .dataframe tbody tr th {\n",
       "        vertical-align: top;\n",
       "    }\n",
       "\n",
       "    .dataframe thead th {\n",
       "        text-align: right;\n",
       "    }\n",
       "</style>\n",
       "<table border=\"1\" class=\"dataframe\">\n",
       "  <thead>\n",
       "    <tr style=\"text-align: right;\">\n",
       "      <th></th>\n",
       "      <th>id</th>\n",
       "      <th>call_date</th>\n",
       "      <th>duration</th>\n",
       "      <th>user_id</th>\n",
       "      <th>month</th>\n",
       "    </tr>\n",
       "  </thead>\n",
       "  <tbody>\n",
       "    <tr>\n",
       "      <td>0</td>\n",
       "      <td>1000_0</td>\n",
       "      <td>2018-07-25</td>\n",
       "      <td>0.00</td>\n",
       "      <td>1000</td>\n",
       "      <td>July</td>\n",
       "    </tr>\n",
       "    <tr>\n",
       "      <td>1</td>\n",
       "      <td>1000_1</td>\n",
       "      <td>2018-08-17</td>\n",
       "      <td>0.00</td>\n",
       "      <td>1000</td>\n",
       "      <td>August</td>\n",
       "    </tr>\n",
       "    <tr>\n",
       "      <td>2</td>\n",
       "      <td>1000_2</td>\n",
       "      <td>2018-06-11</td>\n",
       "      <td>2.85</td>\n",
       "      <td>1000</td>\n",
       "      <td>June</td>\n",
       "    </tr>\n",
       "    <tr>\n",
       "      <td>3</td>\n",
       "      <td>1000_3</td>\n",
       "      <td>2018-09-21</td>\n",
       "      <td>13.80</td>\n",
       "      <td>1000</td>\n",
       "      <td>September</td>\n",
       "    </tr>\n",
       "    <tr>\n",
       "      <td>4</td>\n",
       "      <td>1000_4</td>\n",
       "      <td>2018-12-15</td>\n",
       "      <td>5.18</td>\n",
       "      <td>1000</td>\n",
       "      <td>December</td>\n",
       "    </tr>\n",
       "  </tbody>\n",
       "</table>\n",
       "</div>"
      ],
      "text/plain": [
       "       id  call_date  duration  user_id      month\n",
       "0  1000_0 2018-07-25      0.00     1000       July\n",
       "1  1000_1 2018-08-17      0.00     1000     August\n",
       "2  1000_2 2018-06-11      2.85     1000       June\n",
       "3  1000_3 2018-09-21     13.80     1000  September\n",
       "4  1000_4 2018-12-15      5.18     1000   December"
      ]
     },
     "execution_count": 15,
     "metadata": {},
     "output_type": "execute_result"
    }
   ],
   "source": [
    "df_calls.head()"
   ]
  },
  {
   "cell_type": "code",
   "execution_count": 112,
   "metadata": {},
   "outputs": [
    {
     "data": {
      "text/plain": [
       "<matplotlib.axes._subplots.AxesSubplot at 0x7fbc1dd01210>"
      ]
     },
     "execution_count": 112,
     "metadata": {},
     "output_type": "execute_result"
    },
    {
     "data": {
      "image/png": "[encoded data removed]",
      "text/plain": [
       "<Figure size 864x432 with 1 Axes>"
      ]
     },
     "metadata": {
      "needs_background": "light"
     },
     "output_type": "display_data"
    }
   ],
   "source": [
    "# Посмотрим гистограмму для первых выводов\n",
    "df_calls['duration'].hist(bins= 100, figsize= (12,6))"
   ]
  },
  {
   "cell_type": "code",
   "execution_count": 17,
   "metadata": {},
   "outputs": [
    {
     "data": {
      "text/plain": [
       "39613"
      ]
     },
     "execution_count": 17,
     "metadata": {},
     "output_type": "execute_result"
    }
   ],
   "source": [
    "# Посчитаем количество \"нулевых\" звонков\n",
    "len(df_calls.query('duration <= 0'))"
   ]
  },
  {
   "cell_type": "markdown",
   "metadata": {},
   "source": [
    "Нулевых звонков очень много..."
   ]
  },
  {
   "cell_type": "code",
   "execution_count": 18,
   "metadata": {},
   "outputs": [
    {
     "data": {
      "text/plain": [
       "smart    130315\n",
       "ultra     72292\n",
       "Name: tariff, dtype: int64"
      ]
     },
     "execution_count": 18,
     "metadata": {},
     "output_type": "execute_result"
    }
   ],
   "source": [
    "#Проверим, к одному ли тарифу относятся пропуски\n",
    "add_tariff = dict(pd.Series(df_user['tariff'].values, index=df_user['user_id']))\n",
    "df_calls['tariff'] = df_calls['user_id'].map(add_tariff)\n",
    "df_calls['tariff'].value_counts()"
   ]
  },
  {
   "cell_type": "markdown",
   "metadata": {},
   "source": [
    "Теория не подтвердилась, смело дропаем 0)"
   ]
  },
  {
   "cell_type": "markdown",
   "metadata": {},
   "source": [
    "Скорее всего это сбои в системе, или такие случаи, когда один абонент не смог дозвониться до другого по причине\n",
    "\"абонент разговаривает\",\"не в зоне действия сети\", или просто занят)"
   ]
  },
  {
   "cell_type": "code",
   "execution_count": 19,
   "metadata": {},
   "outputs": [],
   "source": [
    "df_calls['duration'] = df_calls['duration'].replace(0, np.NaN)"
   ]
  },
  {
   "cell_type": "code",
   "execution_count": 20,
   "metadata": {},
   "outputs": [
    {
     "data": {
      "text/html": [
       "<div>\n",
       "<style scoped>\n",
       "    .dataframe tbody tr th:only-of-type {\n",
       "        vertical-align: middle;\n",
       "    }\n",
       "\n",
       "    .dataframe tbody tr th {\n",
       "        vertical-align: top;\n",
       "    }\n",
       "\n",
       "    .dataframe thead th {\n",
       "        text-align: right;\n",
       "    }\n",
       "</style>\n",
       "<table border=\"1\" class=\"dataframe\">\n",
       "  <thead>\n",
       "    <tr style=\"text-align: right;\">\n",
       "      <th></th>\n",
       "      <th>id</th>\n",
       "      <th>call_date</th>\n",
       "      <th>duration</th>\n",
       "      <th>user_id</th>\n",
       "      <th>month</th>\n",
       "      <th>tariff</th>\n",
       "    </tr>\n",
       "  </thead>\n",
       "  <tbody>\n",
       "    <tr>\n",
       "      <td>2</td>\n",
       "      <td>1000_2</td>\n",
       "      <td>2018-06-11</td>\n",
       "      <td>2.85</td>\n",
       "      <td>1000</td>\n",
       "      <td>June</td>\n",
       "      <td>ultra</td>\n",
       "    </tr>\n",
       "    <tr>\n",
       "      <td>3</td>\n",
       "      <td>1000_3</td>\n",
       "      <td>2018-09-21</td>\n",
       "      <td>13.80</td>\n",
       "      <td>1000</td>\n",
       "      <td>September</td>\n",
       "      <td>ultra</td>\n",
       "    </tr>\n",
       "    <tr>\n",
       "      <td>4</td>\n",
       "      <td>1000_4</td>\n",
       "      <td>2018-12-15</td>\n",
       "      <td>5.18</td>\n",
       "      <td>1000</td>\n",
       "      <td>December</td>\n",
       "      <td>ultra</td>\n",
       "    </tr>\n",
       "    <tr>\n",
       "      <td>7</td>\n",
       "      <td>1000_7</td>\n",
       "      <td>2018-08-22</td>\n",
       "      <td>18.31</td>\n",
       "      <td>1000</td>\n",
       "      <td>August</td>\n",
       "      <td>ultra</td>\n",
       "    </tr>\n",
       "    <tr>\n",
       "      <td>8</td>\n",
       "      <td>1000_8</td>\n",
       "      <td>2018-09-15</td>\n",
       "      <td>18.44</td>\n",
       "      <td>1000</td>\n",
       "      <td>September</td>\n",
       "      <td>ultra</td>\n",
       "    </tr>\n",
       "    <tr>\n",
       "      <td>...</td>\n",
       "      <td>...</td>\n",
       "      <td>...</td>\n",
       "      <td>...</td>\n",
       "      <td>...</td>\n",
       "      <td>...</td>\n",
       "      <td>...</td>\n",
       "    </tr>\n",
       "    <tr>\n",
       "      <td>202602</td>\n",
       "      <td>1499_215</td>\n",
       "      <td>2018-12-26</td>\n",
       "      <td>0.76</td>\n",
       "      <td>1499</td>\n",
       "      <td>December</td>\n",
       "      <td>smart</td>\n",
       "    </tr>\n",
       "    <tr>\n",
       "      <td>202603</td>\n",
       "      <td>1499_216</td>\n",
       "      <td>2018-10-18</td>\n",
       "      <td>18.83</td>\n",
       "      <td>1499</td>\n",
       "      <td>October</td>\n",
       "      <td>smart</td>\n",
       "    </tr>\n",
       "    <tr>\n",
       "      <td>202604</td>\n",
       "      <td>1499_217</td>\n",
       "      <td>2018-11-10</td>\n",
       "      <td>10.81</td>\n",
       "      <td>1499</td>\n",
       "      <td>November</td>\n",
       "      <td>smart</td>\n",
       "    </tr>\n",
       "    <tr>\n",
       "      <td>202605</td>\n",
       "      <td>1499_218</td>\n",
       "      <td>2018-10-06</td>\n",
       "      <td>4.27</td>\n",
       "      <td>1499</td>\n",
       "      <td>October</td>\n",
       "      <td>smart</td>\n",
       "    </tr>\n",
       "    <tr>\n",
       "      <td>202606</td>\n",
       "      <td>1499_219</td>\n",
       "      <td>2018-12-14</td>\n",
       "      <td>19.62</td>\n",
       "      <td>1499</td>\n",
       "      <td>December</td>\n",
       "      <td>smart</td>\n",
       "    </tr>\n",
       "  </tbody>\n",
       "</table>\n",
       "<p>162994 rows × 6 columns</p>\n",
       "</div>"
      ],
      "text/plain": [
       "              id  call_date  duration  user_id      month tariff\n",
       "2         1000_2 2018-06-11      2.85     1000       June  ultra\n",
       "3         1000_3 2018-09-21     13.80     1000  September  ultra\n",
       "4         1000_4 2018-12-15      5.18     1000   December  ultra\n",
       "7         1000_7 2018-08-22     18.31     1000     August  ultra\n",
       "8         1000_8 2018-09-15     18.44     1000  September  ultra\n",
       "...          ...        ...       ...      ...        ...    ...\n",
       "202602  1499_215 2018-12-26      0.76     1499   December  smart\n",
       "202603  1499_216 2018-10-18     18.83     1499    October  smart\n",
       "202604  1499_217 2018-11-10     10.81     1499   November  smart\n",
       "202605  1499_218 2018-10-06      4.27     1499    October  smart\n",
       "202606  1499_219 2018-12-14     19.62     1499   December  smart\n",
       "\n",
       "[162994 rows x 6 columns]"
      ]
     },
     "execution_count": 20,
     "metadata": {},
     "output_type": "execute_result"
    }
   ],
   "source": [
    "df_calls = df_calls.dropna()\n",
    "df_calls"
   ]
  },
  {
   "cell_type": "code",
   "execution_count": 21,
   "metadata": {},
   "outputs": [
    {
     "data": {
      "text/html": [
       "<div>\n",
       "<style scoped>\n",
       "    .dataframe tbody tr th:only-of-type {\n",
       "        vertical-align: middle;\n",
       "    }\n",
       "\n",
       "    .dataframe tbody tr th {\n",
       "        vertical-align: top;\n",
       "    }\n",
       "\n",
       "    .dataframe thead th {\n",
       "        text-align: right;\n",
       "    }\n",
       "</style>\n",
       "<table border=\"1\" class=\"dataframe\">\n",
       "  <thead>\n",
       "    <tr style=\"text-align: right;\">\n",
       "      <th></th>\n",
       "      <th>duration</th>\n",
       "    </tr>\n",
       "    <tr>\n",
       "      <th>month</th>\n",
       "      <th></th>\n",
       "    </tr>\n",
       "  </thead>\n",
       "  <tbody>\n",
       "    <tr>\n",
       "      <td>January</td>\n",
       "      <td>8.768419</td>\n",
       "    </tr>\n",
       "    <tr>\n",
       "      <td>February</td>\n",
       "      <td>8.556591</td>\n",
       "    </tr>\n",
       "    <tr>\n",
       "      <td>March</td>\n",
       "      <td>8.440247</td>\n",
       "    </tr>\n",
       "    <tr>\n",
       "      <td>September</td>\n",
       "      <td>8.419375</td>\n",
       "    </tr>\n",
       "    <tr>\n",
       "      <td>July</td>\n",
       "      <td>8.414968</td>\n",
       "    </tr>\n",
       "    <tr>\n",
       "      <td>October</td>\n",
       "      <td>8.414229</td>\n",
       "    </tr>\n",
       "    <tr>\n",
       "      <td>August</td>\n",
       "      <td>8.406538</td>\n",
       "    </tr>\n",
       "    <tr>\n",
       "      <td>December</td>\n",
       "      <td>8.399129</td>\n",
       "    </tr>\n",
       "    <tr>\n",
       "      <td>June</td>\n",
       "      <td>8.387536</td>\n",
       "    </tr>\n",
       "    <tr>\n",
       "      <td>November</td>\n",
       "      <td>8.375855</td>\n",
       "    </tr>\n",
       "    <tr>\n",
       "      <td>April</td>\n",
       "      <td>8.333012</td>\n",
       "    </tr>\n",
       "    <tr>\n",
       "      <td>May</td>\n",
       "      <td>8.281017</td>\n",
       "    </tr>\n",
       "  </tbody>\n",
       "</table>\n",
       "</div>"
      ],
      "text/plain": [
       "           duration\n",
       "month              \n",
       "January    8.768419\n",
       "February   8.556591\n",
       "March      8.440247\n",
       "September  8.419375\n",
       "July       8.414968\n",
       "October    8.414229\n",
       "August     8.406538\n",
       "December   8.399129\n",
       "June       8.387536\n",
       "November   8.375855\n",
       "April      8.333012\n",
       "May        8.281017"
      ]
     },
     "execution_count": 21,
     "metadata": {},
     "output_type": "execute_result"
    }
   ],
   "source": [
    "# Проанализируем продолжительность среднего звонка по месяцам\n",
    "top_month = df_calls.groupby('month').agg({'duration':'mean'})\n",
    "top_month  = top_month.sort_values('duration', ascending=False)\n",
    "top_month"
   ]
  },
  {
   "cell_type": "markdown",
   "metadata": {},
   "source": [
    "С не большим отрывом лидирует февраль, но в целом по году связь одинково востребована, что логично."
   ]
  },
  {
   "cell_type": "markdown",
   "metadata": {},
   "source": [
    " ## Итог\n",
    " \n",
    " Огромное количество значения 0 для длительности звонков, а именно 39613. \n",
    "\n",
    " По теории, пропуски могли относиться к одному тарифу, где не корректно работало округление, собрал данные из df_users и применив их в анализируемому датасету, выяснили, пропуски присутствовали в двух тарифах, поэтому и дропнули 0. \n",
    "\n",
    " Связь актуальна в любой месяц года, средняя продолжительность звонка стоставляет 6-7 минут.\n"
   ]
  },
  {
   "cell_type": "code",
   "execution_count": 22,
   "metadata": {},
   "outputs": [
    {
     "data": {
      "application/vnd.jupyter.widget-view+json": {
       "model_id": "6e0dc5bcc80845fab165532f191d49d1",
       "version_major": 2,
       "version_minor": 0
      },
      "text/plain": [
       "Checkbox(value=True, description='Согласен')"
      ]
     },
     "metadata": {},
     "output_type": "display_data"
    }
   ],
   "source": [
    "from IPython.display import display\n",
    "from ipywidgets import Checkbox\n",
    "\n",
    "cb1 = Checkbox(\n",
    "    value= True,\n",
    "    description='Согласен' \n",
    ")\n",
    "\n",
    "def on_button_clicked(b):\n",
    "    print(cb1.value)\n",
    "\n",
    "cb1.observe(on_button_clicked, names='value')\n",
    "display(cb1)"
   ]
  },
  {
   "cell_type": "markdown",
   "metadata": {},
   "source": [
    " ## Посмотрим датасет по интернету:"
   ]
  },
  {
   "cell_type": "code",
   "execution_count": 23,
   "metadata": {},
   "outputs": [
    {
     "data": {
      "text/html": [
       "<div>\n",
       "<style scoped>\n",
       "    .dataframe tbody tr th:only-of-type {\n",
       "        vertical-align: middle;\n",
       "    }\n",
       "\n",
       "    .dataframe tbody tr th {\n",
       "        vertical-align: top;\n",
       "    }\n",
       "\n",
       "    .dataframe thead th {\n",
       "        text-align: right;\n",
       "    }\n",
       "</style>\n",
       "<table border=\"1\" class=\"dataframe\">\n",
       "  <thead>\n",
       "    <tr style=\"text-align: right;\">\n",
       "      <th></th>\n",
       "      <th>Unnamed: 0</th>\n",
       "      <th>id</th>\n",
       "      <th>mb_used</th>\n",
       "      <th>session_date</th>\n",
       "      <th>user_id</th>\n",
       "    </tr>\n",
       "  </thead>\n",
       "  <tbody>\n",
       "    <tr>\n",
       "      <td>0</td>\n",
       "      <td>0</td>\n",
       "      <td>1000_0</td>\n",
       "      <td>112.95</td>\n",
       "      <td>2018-11-25</td>\n",
       "      <td>1000</td>\n",
       "    </tr>\n",
       "    <tr>\n",
       "      <td>1</td>\n",
       "      <td>1</td>\n",
       "      <td>1000_1</td>\n",
       "      <td>1052.81</td>\n",
       "      <td>2018-09-07</td>\n",
       "      <td>1000</td>\n",
       "    </tr>\n",
       "    <tr>\n",
       "      <td>2</td>\n",
       "      <td>2</td>\n",
       "      <td>1000_2</td>\n",
       "      <td>1197.26</td>\n",
       "      <td>2018-06-25</td>\n",
       "      <td>1000</td>\n",
       "    </tr>\n",
       "    <tr>\n",
       "      <td>3</td>\n",
       "      <td>3</td>\n",
       "      <td>1000_3</td>\n",
       "      <td>550.27</td>\n",
       "      <td>2018-08-22</td>\n",
       "      <td>1000</td>\n",
       "    </tr>\n",
       "    <tr>\n",
       "      <td>4</td>\n",
       "      <td>4</td>\n",
       "      <td>1000_4</td>\n",
       "      <td>302.56</td>\n",
       "      <td>2018-09-24</td>\n",
       "      <td>1000</td>\n",
       "    </tr>\n",
       "  </tbody>\n",
       "</table>\n",
       "</div>"
      ],
      "text/plain": [
       "   Unnamed: 0      id  mb_used session_date  user_id\n",
       "0           0  1000_0   112.95   2018-11-25     1000\n",
       "1           1  1000_1  1052.81   2018-09-07     1000\n",
       "2           2  1000_2  1197.26   2018-06-25     1000\n",
       "3           3  1000_3   550.27   2018-08-22     1000\n",
       "4           4  1000_4   302.56   2018-09-24     1000"
      ]
     },
     "execution_count": 23,
     "metadata": {},
     "output_type": "execute_result"
    }
   ],
   "source": [
    "# Вглянем на датасет\n",
    "df_int.head()"
   ]
  },
  {
   "cell_type": "code",
   "execution_count": 24,
   "metadata": {},
   "outputs": [],
   "source": [
    " # Переведем мегабайты в гигабайты и переименуем столбец\n",
    "df_int['mb_used'] =  df_int['mb_used']/1024  \n",
    "df_int = df_int.rename(columns={'mb_used':'gb_used'})         "
   ]
  },
  {
   "cell_type": "code",
   "execution_count": 25,
   "metadata": {},
   "outputs": [
    {
     "name": "stdout",
     "output_type": "stream",
     "text": [
      "<class 'pandas.core.frame.DataFrame'>\n",
      "RangeIndex: 149396 entries, 0 to 149395\n",
      "Data columns (total 5 columns):\n",
      "Unnamed: 0      149396 non-null int64\n",
      "id              149396 non-null object\n",
      "gb_used         149396 non-null float64\n",
      "session_date    149396 non-null object\n",
      "user_id         149396 non-null int64\n",
      "dtypes: float64(1), int64(2), object(2)\n",
      "memory usage: 5.7+ MB\n"
     ]
    }
   ],
   "source": [
    "# Посмотрим на его основные параметры\n",
    "df_int.info()"
   ]
  },
  {
   "cell_type": "code",
   "execution_count": 26,
   "metadata": {},
   "outputs": [],
   "source": [
    "# Также перевед столбец session_date в формат даты\n",
    "df_int['session_date'] = pd.to_datetime(df_int['session_date'], format=\"%Y-%m-%dT\")"
   ]
  },
  {
   "cell_type": "code",
   "execution_count": 27,
   "metadata": {},
   "outputs": [
    {
     "data": {
      "text/plain": [
       "0"
      ]
     },
     "execution_count": 27,
     "metadata": {},
     "output_type": "execute_result"
    }
   ],
   "source": [
    " # Проверим на дубликаты\n",
    "df_int.duplicated().sum()"
   ]
  },
  {
   "cell_type": "code",
   "execution_count": 28,
   "metadata": {},
   "outputs": [
    {
     "data": {
      "text/plain": [
       "Unnamed: 0      0\n",
       "id              0\n",
       "gb_used         0\n",
       "session_date    0\n",
       "user_id         0\n",
       "dtype: int64"
      ]
     },
     "execution_count": 28,
     "metadata": {},
     "output_type": "execute_result"
    }
   ],
   "source": [
    "# И пропуски\n",
    "df_int.isnull().sum()"
   ]
  },
  {
   "cell_type": "markdown",
   "metadata": {},
   "source": [
    "Дубликатов и пропусков не обнаруженно, и это отлично)"
   ]
  },
  {
   "cell_type": "code",
   "execution_count": 29,
   "metadata": {},
   "outputs": [],
   "source": [
    "#Для анализа добавим  новый столбец по названию месяца\n",
    "df_int['month'] = df_int['session_date'].dt.month_name()"
   ]
  },
  {
   "cell_type": "code",
   "execution_count": 30,
   "metadata": {},
   "outputs": [
    {
     "data": {
      "text/html": [
       "<div>\n",
       "<style scoped>\n",
       "    .dataframe tbody tr th:only-of-type {\n",
       "        vertical-align: middle;\n",
       "    }\n",
       "\n",
       "    .dataframe tbody tr th {\n",
       "        vertical-align: top;\n",
       "    }\n",
       "\n",
       "    .dataframe thead th {\n",
       "        text-align: right;\n",
       "    }\n",
       "</style>\n",
       "<table border=\"1\" class=\"dataframe\">\n",
       "  <thead>\n",
       "    <tr style=\"text-align: right;\">\n",
       "      <th></th>\n",
       "      <th>gb_used</th>\n",
       "    </tr>\n",
       "    <tr>\n",
       "      <th>month</th>\n",
       "      <th></th>\n",
       "    </tr>\n",
       "  </thead>\n",
       "  <tbody>\n",
       "    <tr>\n",
       "      <td>June</td>\n",
       "      <td>0.369182</td>\n",
       "    </tr>\n",
       "    <tr>\n",
       "      <td>May</td>\n",
       "      <td>0.365989</td>\n",
       "    </tr>\n",
       "    <tr>\n",
       "      <td>April</td>\n",
       "      <td>0.364964</td>\n",
       "    </tr>\n",
       "    <tr>\n",
       "      <td>August</td>\n",
       "      <td>0.364005</td>\n",
       "    </tr>\n",
       "    <tr>\n",
       "      <td>July</td>\n",
       "      <td>0.362533</td>\n",
       "    </tr>\n",
       "    <tr>\n",
       "      <td>March</td>\n",
       "      <td>0.362205</td>\n",
       "    </tr>\n",
       "    <tr>\n",
       "      <td>October</td>\n",
       "      <td>0.360783</td>\n",
       "    </tr>\n",
       "    <tr>\n",
       "      <td>December</td>\n",
       "      <td>0.359671</td>\n",
       "    </tr>\n",
       "    <tr>\n",
       "      <td>September</td>\n",
       "      <td>0.359543</td>\n",
       "    </tr>\n",
       "    <tr>\n",
       "      <td>November</td>\n",
       "      <td>0.357666</td>\n",
       "    </tr>\n",
       "    <tr>\n",
       "      <td>January</td>\n",
       "      <td>0.356469</td>\n",
       "    </tr>\n",
       "    <tr>\n",
       "      <td>February</td>\n",
       "      <td>0.353223</td>\n",
       "    </tr>\n",
       "  </tbody>\n",
       "</table>\n",
       "</div>"
      ],
      "text/plain": [
       "            gb_used\n",
       "month              \n",
       "June       0.369182\n",
       "May        0.365989\n",
       "April      0.364964\n",
       "August     0.364005\n",
       "July       0.362533\n",
       "March      0.362205\n",
       "October    0.360783\n",
       "December   0.359671\n",
       "September  0.359543\n",
       "November   0.357666\n",
       "January    0.356469\n",
       "February   0.353223"
      ]
     },
     "execution_count": 30,
     "metadata": {},
     "output_type": "execute_result"
    }
   ],
   "source": [
    "# Проанализируем средний трафик по месяцам\n",
    "\n",
    "top_month_int = df_int.groupby('month').agg({'gb_used':'mean'})\n",
    "top_month_int  = top_month_int.sort_values('gb_used', ascending=False)\n",
    "top_month_int"
   ]
  },
  {
   "cell_type": "markdown",
   "metadata": {},
   "source": [
    "Опять все ровно, без интернета никуда!"
   ]
  },
  {
   "cell_type": "markdown",
   "metadata": {},
   "source": [
    "## Итог\n",
    "По данному датасету нет замечаний, пропуски и дубликаты не обнаружены, всего лишь поменяли формат столбца с датами и \n",
    "добавили столбец месяц для анализа трафика по месяцам. приступим к следующему."
   ]
  },
  {
   "cell_type": "markdown",
   "metadata": {},
   "source": [
    "## Посмотрим на датасет с сообщениями\n"
   ]
  },
  {
   "cell_type": "code",
   "execution_count": 31,
   "metadata": {},
   "outputs": [
    {
     "data": {
      "text/html": [
       "<div>\n",
       "<style scoped>\n",
       "    .dataframe tbody tr th:only-of-type {\n",
       "        vertical-align: middle;\n",
       "    }\n",
       "\n",
       "    .dataframe tbody tr th {\n",
       "        vertical-align: top;\n",
       "    }\n",
       "\n",
       "    .dataframe thead th {\n",
       "        text-align: right;\n",
       "    }\n",
       "</style>\n",
       "<table border=\"1\" class=\"dataframe\">\n",
       "  <thead>\n",
       "    <tr style=\"text-align: right;\">\n",
       "      <th></th>\n",
       "      <th>id</th>\n",
       "      <th>message_date</th>\n",
       "      <th>user_id</th>\n",
       "    </tr>\n",
       "  </thead>\n",
       "  <tbody>\n",
       "    <tr>\n",
       "      <td>0</td>\n",
       "      <td>1000_0</td>\n",
       "      <td>2018-06-27</td>\n",
       "      <td>1000</td>\n",
       "    </tr>\n",
       "    <tr>\n",
       "      <td>1</td>\n",
       "      <td>1000_1</td>\n",
       "      <td>2018-10-08</td>\n",
       "      <td>1000</td>\n",
       "    </tr>\n",
       "    <tr>\n",
       "      <td>2</td>\n",
       "      <td>1000_2</td>\n",
       "      <td>2018-08-04</td>\n",
       "      <td>1000</td>\n",
       "    </tr>\n",
       "    <tr>\n",
       "      <td>3</td>\n",
       "      <td>1000_3</td>\n",
       "      <td>2018-06-16</td>\n",
       "      <td>1000</td>\n",
       "    </tr>\n",
       "    <tr>\n",
       "      <td>4</td>\n",
       "      <td>1000_4</td>\n",
       "      <td>2018-12-05</td>\n",
       "      <td>1000</td>\n",
       "    </tr>\n",
       "  </tbody>\n",
       "</table>\n",
       "</div>"
      ],
      "text/plain": [
       "       id message_date  user_id\n",
       "0  1000_0   2018-06-27     1000\n",
       "1  1000_1   2018-10-08     1000\n",
       "2  1000_2   2018-08-04     1000\n",
       "3  1000_3   2018-06-16     1000\n",
       "4  1000_4   2018-12-05     1000"
      ]
     },
     "execution_count": 31,
     "metadata": {},
     "output_type": "execute_result"
    }
   ],
   "source": [
    "# Посмотрим на датасет с сообщениями\n",
    "df_mes.head()"
   ]
  },
  {
   "cell_type": "code",
   "execution_count": 32,
   "metadata": {},
   "outputs": [
    {
     "name": "stdout",
     "output_type": "stream",
     "text": [
      "<class 'pandas.core.frame.DataFrame'>\n",
      "RangeIndex: 123036 entries, 0 to 123035\n",
      "Data columns (total 3 columns):\n",
      "id              123036 non-null object\n",
      "message_date    123036 non-null object\n",
      "user_id         123036 non-null int64\n",
      "dtypes: int64(1), object(2)\n",
      "memory usage: 2.8+ MB\n"
     ]
    }
   ],
   "source": [
    "# Посмотрим на его параметры\n",
    "df_mes.info()"
   ]
  },
  {
   "cell_type": "code",
   "execution_count": 33,
   "metadata": {},
   "outputs": [],
   "source": [
    "# И опять применим функцию для изменения типа данных в столбце с датами и добавим сьтолбец с месяцем\n",
    "df_mes['message_date'] = pd.to_datetime(df_mes['message_date'], format=\"%Y-%m-%dT\")\n",
    "df_mes['sms_month'] = df_mes['message_date'].dt.month_name()\n"
   ]
  },
  {
   "cell_type": "code",
   "execution_count": 34,
   "metadata": {},
   "outputs": [
    {
     "data": {
      "text/html": [
       "<div>\n",
       "<style scoped>\n",
       "    .dataframe tbody tr th:only-of-type {\n",
       "        vertical-align: middle;\n",
       "    }\n",
       "\n",
       "    .dataframe tbody tr th {\n",
       "        vertical-align: top;\n",
       "    }\n",
       "\n",
       "    .dataframe thead th {\n",
       "        text-align: right;\n",
       "    }\n",
       "</style>\n",
       "<table border=\"1\" class=\"dataframe\">\n",
       "  <thead>\n",
       "    <tr style=\"text-align: right;\">\n",
       "      <th></th>\n",
       "      <th>id</th>\n",
       "      <th>sms_month</th>\n",
       "    </tr>\n",
       "    <tr>\n",
       "      <th>sms_month</th>\n",
       "      <th></th>\n",
       "      <th></th>\n",
       "    </tr>\n",
       "  </thead>\n",
       "  <tbody>\n",
       "    <tr>\n",
       "      <td>April</td>\n",
       "      <td>5179</td>\n",
       "      <td>1</td>\n",
       "    </tr>\n",
       "    <tr>\n",
       "      <td>August</td>\n",
       "      <td>13088</td>\n",
       "      <td>1</td>\n",
       "    </tr>\n",
       "    <tr>\n",
       "      <td>December</td>\n",
       "      <td>20555</td>\n",
       "      <td>1</td>\n",
       "    </tr>\n",
       "    <tr>\n",
       "      <td>February</td>\n",
       "      <td>1924</td>\n",
       "      <td>1</td>\n",
       "    </tr>\n",
       "    <tr>\n",
       "      <td>January</td>\n",
       "      <td>924</td>\n",
       "      <td>1</td>\n",
       "    </tr>\n",
       "    <tr>\n",
       "      <td>July</td>\n",
       "      <td>11320</td>\n",
       "      <td>1</td>\n",
       "    </tr>\n",
       "    <tr>\n",
       "      <td>June</td>\n",
       "      <td>8983</td>\n",
       "      <td>1</td>\n",
       "    </tr>\n",
       "    <tr>\n",
       "      <td>March</td>\n",
       "      <td>3648</td>\n",
       "      <td>1</td>\n",
       "    </tr>\n",
       "    <tr>\n",
       "      <td>May</td>\n",
       "      <td>7298</td>\n",
       "      <td>1</td>\n",
       "    </tr>\n",
       "    <tr>\n",
       "      <td>November</td>\n",
       "      <td>18244</td>\n",
       "      <td>1</td>\n",
       "    </tr>\n",
       "    <tr>\n",
       "      <td>October</td>\n",
       "      <td>17114</td>\n",
       "      <td>1</td>\n",
       "    </tr>\n",
       "    <tr>\n",
       "      <td>September</td>\n",
       "      <td>14759</td>\n",
       "      <td>1</td>\n",
       "    </tr>\n",
       "  </tbody>\n",
       "</table>\n",
       "</div>"
      ],
      "text/plain": [
       "              id  sms_month\n",
       "sms_month                  \n",
       "April       5179          1\n",
       "August     13088          1\n",
       "December   20555          1\n",
       "February    1924          1\n",
       "January      924          1\n",
       "July       11320          1\n",
       "June        8983          1\n",
       "March       3648          1\n",
       "May         7298          1\n",
       "November   18244          1\n",
       "October    17114          1\n",
       "September  14759          1"
      ]
     },
     "execution_count": 34,
     "metadata": {},
     "output_type": "execute_result"
    }
   ],
   "source": [
    "# Посчитаем количество sms\n",
    "sms_month = df_mes.pivot_table(index = 'sms_month', values = 'id', aggfunc = 'nunique')\n",
    "sms_month"
   ]
  },
  {
   "cell_type": "code",
   "execution_count": 35,
   "metadata": {},
   "outputs": [
    {
     "data": {
      "text/plain": [
       "<matplotlib.axes._subplots.AxesSubplot at 0x7fbc2380b110>"
      ]
     },
     "execution_count": 35,
     "metadata": {},
     "output_type": "execute_result"
    },
    {
     "data": {
      "image/png": "[encoded data removed]",
      "text/plain": [
       "<Figure size 864x432 with 1 Axes>"
      ]
     },
     "metadata": {
      "needs_background": "light"
     },
     "output_type": "display_data"
    }
   ],
   "source": [
    "sms_month.plot(kind='barh', figsize=(12,6), grid = True, title = 'Количество смс по месяцам', legend=False)"
   ]
  },
  {
   "cell_type": "markdown",
   "metadata": {},
   "source": [
    "Интересный разброс.\n",
    "\n",
    "В лидерах Сентябрь, Октябрь, Ноябрь, Август. \n",
    "Если в Декабре можно предположить, что абоненты отправляют массово поздравления с Новым годом, то в остальные месяцы \n",
    "повышенная активность использования смс не понятна.\n",
    "\n",
    "Имеем, что имеем."
   ]
  },
  {
   "cell_type": "code",
   "execution_count": 36,
   "metadata": {},
   "outputs": [
    {
     "data": {
      "text/plain": [
       "0"
      ]
     },
     "execution_count": 36,
     "metadata": {},
     "output_type": "execute_result"
    }
   ],
   "source": [
    "# Проверим на дубликаты\n",
    "df_mes.duplicated().sum()"
   ]
  },
  {
   "cell_type": "code",
   "execution_count": 37,
   "metadata": {},
   "outputs": [
    {
     "data": {
      "text/plain": [
       "id              0\n",
       "message_date    0\n",
       "user_id         0\n",
       "sms_month       0\n",
       "dtype: int64"
      ]
     },
     "execution_count": 37,
     "metadata": {},
     "output_type": "execute_result"
    }
   ],
   "source": [
    "# И на прпуски\n",
    "df_mes.isnull().sum()"
   ]
  },
  {
   "cell_type": "markdown",
   "metadata": {},
   "source": [
    "## Итог\n",
    "\n",
    "C этим датасетом все в порядке, данных для анализы тут никаких нет, поменяли лишь тип данных в столбце с датами.\n",
    "Выявилась своего рода аномалия по количеству отправленных смс, характеризующаяся выбивающимеся значениями по месяцам.\n",
    "Теории по данной аномалии нет. \n",
    "Переходим дальше."
   ]
  },
  {
   "cell_type": "markdown",
   "metadata": {},
   "source": [
    "## Открываем последний датасет\n"
   ]
  },
  {
   "cell_type": "code",
   "execution_count": 38,
   "metadata": {},
   "outputs": [
    {
     "data": {
      "text/html": [
       "<div>\n",
       "<style scoped>\n",
       "    .dataframe tbody tr th:only-of-type {\n",
       "        vertical-align: middle;\n",
       "    }\n",
       "\n",
       "    .dataframe tbody tr th {\n",
       "        vertical-align: top;\n",
       "    }\n",
       "\n",
       "    .dataframe thead th {\n",
       "        text-align: right;\n",
       "    }\n",
       "</style>\n",
       "<table border=\"1\" class=\"dataframe\">\n",
       "  <thead>\n",
       "    <tr style=\"text-align: right;\">\n",
       "      <th></th>\n",
       "      <th>user_id</th>\n",
       "      <th>age</th>\n",
       "      <th>churn_date</th>\n",
       "      <th>city</th>\n",
       "      <th>first_name</th>\n",
       "      <th>last_name</th>\n",
       "      <th>reg_date</th>\n",
       "      <th>tariff</th>\n",
       "    </tr>\n",
       "  </thead>\n",
       "  <tbody>\n",
       "    <tr>\n",
       "      <td>0</td>\n",
       "      <td>1000</td>\n",
       "      <td>52</td>\n",
       "      <td>NaN</td>\n",
       "      <td>Краснодар</td>\n",
       "      <td>Рафаил</td>\n",
       "      <td>Верещагин</td>\n",
       "      <td>2018-05-25</td>\n",
       "      <td>ultra</td>\n",
       "    </tr>\n",
       "    <tr>\n",
       "      <td>1</td>\n",
       "      <td>1001</td>\n",
       "      <td>41</td>\n",
       "      <td>NaN</td>\n",
       "      <td>Москва</td>\n",
       "      <td>Иван</td>\n",
       "      <td>Ежов</td>\n",
       "      <td>2018-11-01</td>\n",
       "      <td>smart</td>\n",
       "    </tr>\n",
       "    <tr>\n",
       "      <td>2</td>\n",
       "      <td>1002</td>\n",
       "      <td>59</td>\n",
       "      <td>NaN</td>\n",
       "      <td>Стерлитамак</td>\n",
       "      <td>Евгений</td>\n",
       "      <td>Абрамович</td>\n",
       "      <td>2018-06-17</td>\n",
       "      <td>smart</td>\n",
       "    </tr>\n",
       "    <tr>\n",
       "      <td>3</td>\n",
       "      <td>1003</td>\n",
       "      <td>23</td>\n",
       "      <td>NaN</td>\n",
       "      <td>Москва</td>\n",
       "      <td>Белла</td>\n",
       "      <td>Белякова</td>\n",
       "      <td>2018-08-17</td>\n",
       "      <td>ultra</td>\n",
       "    </tr>\n",
       "    <tr>\n",
       "      <td>4</td>\n",
       "      <td>1004</td>\n",
       "      <td>68</td>\n",
       "      <td>NaN</td>\n",
       "      <td>Новокузнецк</td>\n",
       "      <td>Татьяна</td>\n",
       "      <td>Авдеенко</td>\n",
       "      <td>2018-05-14</td>\n",
       "      <td>ultra</td>\n",
       "    </tr>\n",
       "  </tbody>\n",
       "</table>\n",
       "</div>"
      ],
      "text/plain": [
       "   user_id  age churn_date         city first_name  last_name    reg_date  \\\n",
       "0     1000   52        NaN    Краснодар     Рафаил  Верещагин  2018-05-25   \n",
       "1     1001   41        NaN       Москва       Иван       Ежов  2018-11-01   \n",
       "2     1002   59        NaN  Стерлитамак    Евгений  Абрамович  2018-06-17   \n",
       "3     1003   23        NaN       Москва      Белла   Белякова  2018-08-17   \n",
       "4     1004   68        NaN  Новокузнецк    Татьяна   Авдеенко  2018-05-14   \n",
       "\n",
       "  tariff  \n",
       "0  ultra  \n",
       "1  smart  \n",
       "2  smart  \n",
       "3  ultra  \n",
       "4  ultra  "
      ]
     },
     "execution_count": 38,
     "metadata": {},
     "output_type": "execute_result"
    }
   ],
   "source": [
    "df_user.head()"
   ]
  },
  {
   "cell_type": "code",
   "execution_count": 39,
   "metadata": {},
   "outputs": [
    {
     "name": "stdout",
     "output_type": "stream",
     "text": [
      "<class 'pandas.core.frame.DataFrame'>\n",
      "RangeIndex: 500 entries, 0 to 499\n",
      "Data columns (total 8 columns):\n",
      "user_id       500 non-null int64\n",
      "age           500 non-null int64\n",
      "churn_date    38 non-null object\n",
      "city          500 non-null object\n",
      "first_name    500 non-null object\n",
      "last_name     500 non-null object\n",
      "reg_date      500 non-null object\n",
      "tariff        500 non-null object\n",
      "dtypes: int64(2), object(6)\n",
      "memory usage: 31.4+ KB\n"
     ]
    }
   ],
   "source": [
    "# Посмотрим общую информацию\n",
    "df_user.info()"
   ]
  },
  {
   "cell_type": "code",
   "execution_count": 40,
   "metadata": {},
   "outputs": [],
   "source": [
    "# Изменим формат данных в столбцах churn_date и reg_date\n",
    "df_user['churn_date'] = pd.to_datetime(df_user['churn_date'], format=\"%Y-%m-%dT\")\n",
    "df_user['reg_date'] = pd.to_datetime(df_user['reg_date'], format=\"%Y-%m-%dT\")"
   ]
  },
  {
   "cell_type": "code",
   "execution_count": 41,
   "metadata": {},
   "outputs": [
    {
     "data": {
      "text/plain": [
       "0"
      ]
     },
     "execution_count": 41,
     "metadata": {},
     "output_type": "execute_result"
    }
   ],
   "source": [
    "# Проверим на дубликаты\n",
    "df_user.duplicated().sum()"
   ]
  },
  {
   "cell_type": "code",
   "execution_count": 42,
   "metadata": {},
   "outputs": [
    {
     "data": {
      "text/plain": [
       "user_id         0\n",
       "age             0\n",
       "churn_date    462\n",
       "city            0\n",
       "first_name      0\n",
       "last_name       0\n",
       "reg_date        0\n",
       "tariff          0\n",
       "dtype: int64"
      ]
     },
     "execution_count": 42,
     "metadata": {},
     "output_type": "execute_result"
    }
   ],
   "source": [
    "# И на пропуски\n",
    "df_user.isnull().sum()"
   ]
  },
  {
   "cell_type": "markdown",
   "metadata": {},
   "source": [
    "Обнаружились пропуски в столбце churn_date (дата прекращения пользования тарифом), но согласно условию, \n",
    "если значение пропущено, то тариф ещё действовал на момент выгрузки данных, так что не обращаем внимание на это\n"
   ]
  },
  {
   "cell_type": "code",
   "execution_count": 43,
   "metadata": {},
   "outputs": [],
   "source": [
    "#Для анализа добавим  новый столбец по названию месяца к churn_date и reg_date, а также год для reg_date\n",
    "\n",
    "df_user['churn_date_month'] = df_user['churn_date'].dt.month_name()\n",
    "df_user['reg_date_month'] = df_user['reg_date'].dt.month_name()\n",
    "df_user['reg_date_year'] = df_user['reg_date'].dt.year"
   ]
  },
  {
   "cell_type": "code",
   "execution_count": 44,
   "metadata": {},
   "outputs": [
    {
     "data": {
      "text/html": [
       "<div>\n",
       "<style scoped>\n",
       "    .dataframe tbody tr th:only-of-type {\n",
       "        vertical-align: middle;\n",
       "    }\n",
       "\n",
       "    .dataframe tbody tr th {\n",
       "        vertical-align: top;\n",
       "    }\n",
       "\n",
       "    .dataframe thead th {\n",
       "        text-align: right;\n",
       "    }\n",
       "</style>\n",
       "<table border=\"1\" class=\"dataframe\">\n",
       "  <thead>\n",
       "    <tr style=\"text-align: right;\">\n",
       "      <th></th>\n",
       "      <th>user_id</th>\n",
       "      <th>age</th>\n",
       "      <th>churn_date</th>\n",
       "      <th>city</th>\n",
       "      <th>first_name</th>\n",
       "      <th>last_name</th>\n",
       "      <th>reg_date</th>\n",
       "      <th>tariff</th>\n",
       "      <th>churn_date_month</th>\n",
       "      <th>reg_date_month</th>\n",
       "      <th>reg_date_year</th>\n",
       "    </tr>\n",
       "  </thead>\n",
       "  <tbody>\n",
       "    <tr>\n",
       "      <td>0</td>\n",
       "      <td>1000</td>\n",
       "      <td>52</td>\n",
       "      <td>NaT</td>\n",
       "      <td>Краснодар</td>\n",
       "      <td>Рафаил</td>\n",
       "      <td>Верещагин</td>\n",
       "      <td>2018-05-25</td>\n",
       "      <td>ultra</td>\n",
       "      <td>NaN</td>\n",
       "      <td>May</td>\n",
       "      <td>2018</td>\n",
       "    </tr>\n",
       "    <tr>\n",
       "      <td>1</td>\n",
       "      <td>1001</td>\n",
       "      <td>41</td>\n",
       "      <td>NaT</td>\n",
       "      <td>Москва</td>\n",
       "      <td>Иван</td>\n",
       "      <td>Ежов</td>\n",
       "      <td>2018-11-01</td>\n",
       "      <td>smart</td>\n",
       "      <td>NaN</td>\n",
       "      <td>November</td>\n",
       "      <td>2018</td>\n",
       "    </tr>\n",
       "    <tr>\n",
       "      <td>2</td>\n",
       "      <td>1002</td>\n",
       "      <td>59</td>\n",
       "      <td>NaT</td>\n",
       "      <td>Стерлитамак</td>\n",
       "      <td>Евгений</td>\n",
       "      <td>Абрамович</td>\n",
       "      <td>2018-06-17</td>\n",
       "      <td>smart</td>\n",
       "      <td>NaN</td>\n",
       "      <td>June</td>\n",
       "      <td>2018</td>\n",
       "    </tr>\n",
       "    <tr>\n",
       "      <td>3</td>\n",
       "      <td>1003</td>\n",
       "      <td>23</td>\n",
       "      <td>NaT</td>\n",
       "      <td>Москва</td>\n",
       "      <td>Белла</td>\n",
       "      <td>Белякова</td>\n",
       "      <td>2018-08-17</td>\n",
       "      <td>ultra</td>\n",
       "      <td>NaN</td>\n",
       "      <td>August</td>\n",
       "      <td>2018</td>\n",
       "    </tr>\n",
       "    <tr>\n",
       "      <td>4</td>\n",
       "      <td>1004</td>\n",
       "      <td>68</td>\n",
       "      <td>NaT</td>\n",
       "      <td>Новокузнецк</td>\n",
       "      <td>Татьяна</td>\n",
       "      <td>Авдеенко</td>\n",
       "      <td>2018-05-14</td>\n",
       "      <td>ultra</td>\n",
       "      <td>NaN</td>\n",
       "      <td>May</td>\n",
       "      <td>2018</td>\n",
       "    </tr>\n",
       "  </tbody>\n",
       "</table>\n",
       "</div>"
      ],
      "text/plain": [
       "   user_id  age churn_date         city first_name  last_name   reg_date  \\\n",
       "0     1000   52        NaT    Краснодар     Рафаил  Верещагин 2018-05-25   \n",
       "1     1001   41        NaT       Москва       Иван       Ежов 2018-11-01   \n",
       "2     1002   59        NaT  Стерлитамак    Евгений  Абрамович 2018-06-17   \n",
       "3     1003   23        NaT       Москва      Белла   Белякова 2018-08-17   \n",
       "4     1004   68        NaT  Новокузнецк    Татьяна   Авдеенко 2018-05-14   \n",
       "\n",
       "  tariff churn_date_month reg_date_month  reg_date_year  \n",
       "0  ultra              NaN            May           2018  \n",
       "1  smart              NaN       November           2018  \n",
       "2  smart              NaN           June           2018  \n",
       "3  ultra              NaN         August           2018  \n",
       "4  ultra              NaN            May           2018  "
      ]
     },
     "execution_count": 44,
     "metadata": {},
     "output_type": "execute_result"
    }
   ],
   "source": [
    "df_user.head()"
   ]
  },
  {
   "cell_type": "code",
   "execution_count": 45,
   "metadata": {},
   "outputs": [
    {
     "data": {
      "text/plain": [
       "<matplotlib.axes._subplots.AxesSubplot at 0x7fbc20167ed0>"
      ]
     },
     "execution_count": 45,
     "metadata": {},
     "output_type": "execute_result"
    },
    {
     "data": {
      "image/png": "[encoded data removed]",
      "text/plain": [
       "<Figure size 1440x1800 with 1 Axes>"
      ]
     },
     "metadata": {
      "needs_background": "light"
     },
     "output_type": "display_data"
    }
   ],
   "source": [
    "# Посмотрим количество абонентов по городам\n",
    "city_id_count = df_user.groupby('city')\\\n",
    "    .agg({'user_id':'count'})\n",
    "city_id_count  = city_id_count.sort_values('user_id', ascending=True)\n",
    "city_id_count.plot(kind='barh', figsize=(20, 25), grid = True, title = 'Количество абонентов по городам', legend=False)"
   ]
  },
  {
   "cell_type": "markdown",
   "metadata": {},
   "source": [
    "Как я и ожидал, большее количество абонентов находится в Москве и Петербруге"
   ]
  },
  {
   "cell_type": "code",
   "execution_count": 46,
   "metadata": {},
   "outputs": [
    {
     "data": {
      "text/plain": [
       "<matplotlib.axes._subplots.AxesSubplot at 0x7fbc1f526590>"
      ]
     },
     "execution_count": 46,
     "metadata": {},
     "output_type": "execute_result"
    },
    {
     "data": {
      "image/png": "[encoded data removed]",
      "text/plain": [
       "<Figure size 1440x1800 with 1 Axes>"
      ]
     },
     "metadata": {
      "needs_background": "light"
     },
     "output_type": "display_data"
    }
   ],
   "source": [
    "# Выясним средний возраст абонента оператора, попавшего в выборку, по горадам\n",
    "mean_age_city = df_user.groupby('city')\\\n",
    "    .agg({'age':'mean'})\n",
    "mean_age_city  = mean_age_city.sort_values('age', ascending=True)\n",
    "mean_age_city.plot(kind='barh', figsize=(20, 25), grid = True, title = 'Средний возраст абонента', legend=False)"
   ]
  },
  {
   "cell_type": "markdown",
   "metadata": {},
   "source": [
    "Как интересно!\n",
    "В Подольске средний возраст попавшего в выборку абонента больше 70 лет, а в Нижневартовске 18, какова логика?"
   ]
  },
  {
   "cell_type": "code",
   "execution_count": 47,
   "metadata": {},
   "outputs": [
    {
     "data": {
      "text/plain": [
       "tariff\n",
       "smart    351\n",
       "ultra    149\n",
       "Name: user_id, dtype: int64"
      ]
     },
     "execution_count": 47,
     "metadata": {},
     "output_type": "execute_result"
    }
   ],
   "source": [
    "# Посмотрим: какой тариф популярней\n",
    "tariff_1 = df_user.groupby('tariff')['user_id'].nunique()\n",
    "tariff_1"
   ]
  },
  {
   "cell_type": "code",
   "execution_count": 48,
   "metadata": {},
   "outputs": [
    {
     "data": {
      "text/plain": [
       "<matplotlib.axes._subplots.AxesSubplot at 0x7fbc1e4b06d0>"
      ]
     },
     "execution_count": 48,
     "metadata": {},
     "output_type": "execute_result"
    },
    {
     "data": {
      "image/png": "[encoded data removed]",
      "text/plain": [
       "<Figure size 576x576 with 1 Axes>"
      ]
     },
     "metadata": {},
     "output_type": "display_data"
    }
   ],
   "source": [
    "tariff_1.plot(kind= 'pie', figsize= (8,8), legend=True, title = 'Распределение по тарифам', explode = (0.05, 0), shadow=True)"
   ]
  },
  {
   "cell_type": "markdown",
   "metadata": {},
   "source": [
    "По каким-то причинам абоненты выбирают тариф smart, интересно почему?"
   ]
  },
  {
   "cell_type": "code",
   "execution_count": 49,
   "metadata": {},
   "outputs": [
    {
     "data": {
      "text/plain": [
       "reg_date_month\n",
       "April        53\n",
       "August       50\n",
       "December     36\n",
       "February     39\n",
       "January      43\n",
       "July         44\n",
       "June         40\n",
       "March        32\n",
       "May          41\n",
       "November     42\n",
       "October      45\n",
       "September    35\n",
       "Name: user_id, dtype: int64"
      ]
     },
     "execution_count": 49,
     "metadata": {},
     "output_type": "execute_result"
    }
   ],
   "source": [
    "# Посмотрим приток клиентов по месяцам\n",
    "reg_date_month = df_user.groupby('reg_date_month')['user_id'].nunique()\n",
    "reg_date_month"
   ]
  },
  {
   "cell_type": "code",
   "execution_count": 50,
   "metadata": {},
   "outputs": [
    {
     "data": {
      "text/plain": [
       "<matplotlib.axes._subplots.AxesSubplot at 0x7fbc1e424fd0>"
      ]
     },
     "execution_count": 50,
     "metadata": {},
     "output_type": "execute_result"
    },
    {
     "data": {
      "image/png": "[encoded data removed]",
      "text/plain": [
       "<Figure size 864x432 with 1 Axes>"
      ]
     },
     "metadata": {
      "needs_background": "light"
     },
     "output_type": "display_data"
    }
   ],
   "source": [
    "# Отобразим на графике приток по месяцам\n",
    "reg_date_month.plot(kind='barh', figsize=(12,6), grid = True, title = 'Приток по месяцам')"
   ]
  },
  {
   "cell_type": "code",
   "execution_count": 51,
   "metadata": {},
   "outputs": [
    {
     "data": {
      "text/plain": [
       "<matplotlib.axes._subplots.AxesSubplot at 0x7fbc1e3ae390>"
      ]
     },
     "execution_count": 51,
     "metadata": {},
     "output_type": "execute_result"
    },
    {
     "data": {
      "image/png": "[encoded data removed]",
      "text/plain": [
       "<Figure size 864x432 with 1 Axes>"
      ]
     },
     "metadata": {
      "needs_background": "light"
     },
     "output_type": "display_data"
    }
   ],
   "source": [
    "# Отобразим на графике динамику\n",
    "reg_date_month.plot(figsize=(12,6), grid = True, title = 'Приток по месяцам')"
   ]
  },
  {
   "cell_type": "markdown",
   "metadata": {},
   "source": [
    "Что мы видим? Самый массовый приток клиентов у нас был в августе и апреля, на графике с кривой видно, что динамика прироста скачет, и не я вляется стабильной , что-бы расти надо принять меры."
   ]
  },
  {
   "cell_type": "code",
   "execution_count": 52,
   "metadata": {},
   "outputs": [],
   "source": [
    "# Теперь посмотрим на отток клиентов\n",
    "churn_date_month= df_user.dropna(subset=['churn_date_month'])"
   ]
  },
  {
   "cell_type": "code",
   "execution_count": 53,
   "metadata": {},
   "outputs": [],
   "source": [
    "churn_date_month = churn_date_month.groupby('churn_date_month')['user_id'].nunique()"
   ]
  },
  {
   "cell_type": "code",
   "execution_count": 54,
   "metadata": {},
   "outputs": [
    {
     "data": {
      "text/plain": [
       "<matplotlib.axes._subplots.AxesSubplot at 0x7fbc1e328a90>"
      ]
     },
     "execution_count": 54,
     "metadata": {},
     "output_type": "execute_result"
    },
    {
     "data": {
      "image/png": "[encoded data removed]",
      "text/plain": [
       "<Figure size 864x432 with 1 Axes>"
      ]
     },
     "metadata": {
      "needs_background": "light"
     },
     "output_type": "display_data"
    }
   ],
   "source": [
    "# Отобразим на графике отток по месяцам\n",
    "churn_date_month.plot(kind='barh', figsize=(12,6), grid = True, title = 'Отток по месяцам')"
   ]
  },
  {
   "cell_type": "markdown",
   "metadata": {},
   "source": [
    "Видем, что в декабре мы чем-то насолили клиенту, что он от нас ушел, надо бы выяснить почему"
   ]
  },
  {
   "cell_type": "code",
   "execution_count": 55,
   "metadata": {},
   "outputs": [
    {
     "data": {
      "text/plain": [
       "<matplotlib.axes._subplots.AxesSubplot at 0x7fbc1f6762d0>"
      ]
     },
     "execution_count": 55,
     "metadata": {},
     "output_type": "execute_result"
    },
    {
     "data": {
      "image/png": "[encoded data removed]",
      "text/plain": [
       "<Figure size 864x432 with 1 Axes>"
      ]
     },
     "metadata": {
      "needs_background": "light"
     },
     "output_type": "display_data"
    }
   ],
   "source": [
    "# Отобразим на графике динамику\n",
    "churn_date_month.plot(figsize=(12,6), grid = True, title = 'Отток по месяцам')"
   ]
  },
  {
   "cell_type": "markdown",
   "metadata": {},
   "source": [
    "Самый массовый отток клиентов мы получили в декабре, динамика оттока также не стабильна, как и приток."
   ]
  },
  {
   "cell_type": "markdown",
   "metadata": {},
   "source": [
    "## Общий вывод\n",
    "\n",
    "Открыли и проанализировали прежложенные нам датасеты с информацией по клиентам и услугами.\n",
    "\n",
    "Даные без проспусков и дубликатов, за исключением нулевых значений длительности звонков, которые мы удалили, опираясь на теорию, доказанную выше. Кроме этого, для детального анализа, я добавил столбцы по месяцам для более детального анализа.\n",
    "\n",
    "Что мы выяснилии:\n",
    "\n",
    "1. Продолжительность среднего звонка по месяцам не отличается, и в рамках погрешностей примерно одинаковая\n",
    "\n",
    "2. Спрос на интернет есть всегда, средний размер потребляемого трафика по месяцам примерно одинаковый.\n",
    "\n",
    "3. Не однородный спрос на услуги смс сообщений.Если в Декабре можно предположить, что абоненты отправляют массово поздравления с Новым годом, то в остальные месяцы повышенная активность использования смс не понятна.\n",
    "\n",
    "4. Обнаружились пропуски в столбце churn_date (дата прекращения пользования тарифом), но согласно условию, если значение пропущено, то тариф ещё действовал на момент выгрузки данных, так что не обращаем внимание на это.\n",
    "\n",
    "    Как я и ожидал, большее количество абонентов находится в Москве и Петербруге.\n",
    "    \n",
    "    Большинство абонентов сети пользуются тарифом смарт.\n",
    "    \n",
    "    Не равномерная выборка абонентов по возрасту относительно города.\n",
    "    \n",
    "    В Подольске средний возраст попавшего в выборку абонента больше 70 лет, а в Нижневартовске 18, какова логика?\n",
    "    \n",
    "    Могу предположить6 что ошибки в срезах данных при стоставлении выборки.\n",
    "    \n",
    "    Самый массовый приток клиентов у нас был в августе и апреля, на графике с кривой видно, что динамика прироста скачет, и не я вляется стабильной , что-бы расти надо принять меры.\n",
    "    \n",
    "    В декабре произошел самый массовый отток клиентов, надо бы выяснить почему...динамика оттока также не стабильна, как и приток.\n",
    "    \n",
    "\n",
    "    \n",
    "\n",
    "\n"
   ]
  },
  {
   "cell_type": "markdown",
   "metadata": {},
   "source": [
    "## Объеденим датасаеты в один!"
   ]
  },
  {
   "cell_type": "code",
   "execution_count": 56,
   "metadata": {},
   "outputs": [],
   "source": [
    "# Сгрупируем необходимые данные по кажому датасету\n",
    "calls = df_calls.groupby(['user_id','month'])['duration'].agg(['count', 'sum'])\n",
    "messages = df_mes.groupby(['user_id', 'sms_month'])['id'].count()\n",
    "internet = df_int.groupby(['user_id', 'month']).sum()['gb_used']"
   ]
  },
  {
   "cell_type": "code",
   "execution_count": 57,
   "metadata": {},
   "outputs": [
    {
     "data": {
      "text/html": [
       "<div>\n",
       "<style scoped>\n",
       "    .dataframe tbody tr th:only-of-type {\n",
       "        vertical-align: middle;\n",
       "    }\n",
       "\n",
       "    .dataframe tbody tr th {\n",
       "        vertical-align: top;\n",
       "    }\n",
       "\n",
       "    .dataframe thead th {\n",
       "        text-align: right;\n",
       "    }\n",
       "</style>\n",
       "<table border=\"1\" class=\"dataframe\">\n",
       "  <thead>\n",
       "    <tr style=\"text-align: right;\">\n",
       "      <th></th>\n",
       "      <th>level_0</th>\n",
       "      <th>level_1</th>\n",
       "      <th>count</th>\n",
       "      <th>sum</th>\n",
       "      <th>id</th>\n",
       "      <th>gb_used</th>\n",
       "    </tr>\n",
       "  </thead>\n",
       "  <tbody>\n",
       "    <tr>\n",
       "      <td>0</td>\n",
       "      <td>1000</td>\n",
       "      <td>August</td>\n",
       "      <td>42.0</td>\n",
       "      <td>389.87</td>\n",
       "      <td>81.0</td>\n",
       "      <td>13.726494</td>\n",
       "    </tr>\n",
       "    <tr>\n",
       "      <td>1</td>\n",
       "      <td>1000</td>\n",
       "      <td>December</td>\n",
       "      <td>38.0</td>\n",
       "      <td>312.98</td>\n",
       "      <td>70.0</td>\n",
       "      <td>9.587510</td>\n",
       "    </tr>\n",
       "    <tr>\n",
       "      <td>2</td>\n",
       "      <td>1000</td>\n",
       "      <td>July</td>\n",
       "      <td>41.0</td>\n",
       "      <td>318.80</td>\n",
       "      <td>75.0</td>\n",
       "      <td>13.675430</td>\n",
       "    </tr>\n",
       "    <tr>\n",
       "      <td>3</td>\n",
       "      <td>1000</td>\n",
       "      <td>June</td>\n",
       "      <td>28.0</td>\n",
       "      <td>158.90</td>\n",
       "      <td>60.0</td>\n",
       "      <td>22.689229</td>\n",
       "    </tr>\n",
       "    <tr>\n",
       "      <td>4</td>\n",
       "      <td>1000</td>\n",
       "      <td>May</td>\n",
       "      <td>17.0</td>\n",
       "      <td>150.06</td>\n",
       "      <td>22.0</td>\n",
       "      <td>2.200674</td>\n",
       "    </tr>\n",
       "  </tbody>\n",
       "</table>\n",
       "</div>"
      ],
      "text/plain": [
       "   level_0   level_1  count     sum    id    gb_used\n",
       "0     1000    August   42.0  389.87  81.0  13.726494\n",
       "1     1000  December   38.0  312.98  70.0   9.587510\n",
       "2     1000      July   41.0  318.80  75.0  13.675430\n",
       "3     1000      June   28.0  158.90  60.0  22.689229\n",
       "4     1000       May   17.0  150.06  22.0   2.200674"
      ]
     },
     "execution_count": 57,
     "metadata": {},
     "output_type": "execute_result"
    }
   ],
   "source": [
    "# Соеденим все в один датафрейм и вывыедем на экран\n",
    "df_group = pd.concat([calls, messages, internet], axis=1).reset_index()\n",
    "df_group.head()"
   ]
  },
  {
   "cell_type": "code",
   "execution_count": 58,
   "metadata": {},
   "outputs": [],
   "source": [
    "# Добавим столбцы с тарифом и городом \n",
    "\n",
    "# Для начала добавим тариф\n",
    "add_tariff = dict(pd.Series(df_user['tariff'].values, index = df_user['user_id'])) \n",
    "df_group['tariff'] = df_group['level_0'].map(add_tariff)\n",
    "# теперь добавим город \n",
    "add_city = dict(pd.Series(df_user['city'].values, index = df_user['user_id']))\n",
    "df_group['city']= df_group['level_0'].map(add_city)"
   ]
  },
  {
   "cell_type": "code",
   "execution_count": 59,
   "metadata": {},
   "outputs": [
    {
     "data": {
      "text/html": [
       "<div>\n",
       "<style scoped>\n",
       "    .dataframe tbody tr th:only-of-type {\n",
       "        vertical-align: middle;\n",
       "    }\n",
       "\n",
       "    .dataframe tbody tr th {\n",
       "        vertical-align: top;\n",
       "    }\n",
       "\n",
       "    .dataframe thead th {\n",
       "        text-align: right;\n",
       "    }\n",
       "</style>\n",
       "<table border=\"1\" class=\"dataframe\">\n",
       "  <thead>\n",
       "    <tr style=\"text-align: right;\">\n",
       "      <th></th>\n",
       "      <th>level_0</th>\n",
       "      <th>level_1</th>\n",
       "      <th>count</th>\n",
       "      <th>sum</th>\n",
       "      <th>id</th>\n",
       "      <th>gb_used</th>\n",
       "      <th>tariff</th>\n",
       "      <th>city</th>\n",
       "    </tr>\n",
       "  </thead>\n",
       "  <tbody>\n",
       "    <tr>\n",
       "      <td>0</td>\n",
       "      <td>1000</td>\n",
       "      <td>August</td>\n",
       "      <td>42.0</td>\n",
       "      <td>389.87</td>\n",
       "      <td>81.0</td>\n",
       "      <td>13.726494</td>\n",
       "      <td>ultra</td>\n",
       "      <td>Краснодар</td>\n",
       "    </tr>\n",
       "    <tr>\n",
       "      <td>1</td>\n",
       "      <td>1000</td>\n",
       "      <td>December</td>\n",
       "      <td>38.0</td>\n",
       "      <td>312.98</td>\n",
       "      <td>70.0</td>\n",
       "      <td>9.587510</td>\n",
       "      <td>ultra</td>\n",
       "      <td>Краснодар</td>\n",
       "    </tr>\n",
       "    <tr>\n",
       "      <td>2</td>\n",
       "      <td>1000</td>\n",
       "      <td>July</td>\n",
       "      <td>41.0</td>\n",
       "      <td>318.80</td>\n",
       "      <td>75.0</td>\n",
       "      <td>13.675430</td>\n",
       "      <td>ultra</td>\n",
       "      <td>Краснодар</td>\n",
       "    </tr>\n",
       "    <tr>\n",
       "      <td>3</td>\n",
       "      <td>1000</td>\n",
       "      <td>June</td>\n",
       "      <td>28.0</td>\n",
       "      <td>158.90</td>\n",
       "      <td>60.0</td>\n",
       "      <td>22.689229</td>\n",
       "      <td>ultra</td>\n",
       "      <td>Краснодар</td>\n",
       "    </tr>\n",
       "    <tr>\n",
       "      <td>4</td>\n",
       "      <td>1000</td>\n",
       "      <td>May</td>\n",
       "      <td>17.0</td>\n",
       "      <td>150.06</td>\n",
       "      <td>22.0</td>\n",
       "      <td>2.200674</td>\n",
       "      <td>ultra</td>\n",
       "      <td>Краснодар</td>\n",
       "    </tr>\n",
       "  </tbody>\n",
       "</table>\n",
       "</div>"
      ],
      "text/plain": [
       "   level_0   level_1  count     sum    id    gb_used tariff       city\n",
       "0     1000    August   42.0  389.87  81.0  13.726494  ultra  Краснодар\n",
       "1     1000  December   38.0  312.98  70.0   9.587510  ultra  Краснодар\n",
       "2     1000      July   41.0  318.80  75.0  13.675430  ultra  Краснодар\n",
       "3     1000      June   28.0  158.90  60.0  22.689229  ultra  Краснодар\n",
       "4     1000       May   17.0  150.06  22.0   2.200674  ultra  Краснодар"
      ]
     },
     "execution_count": 59,
     "metadata": {},
     "output_type": "execute_result"
    }
   ],
   "source": [
    "df_group.head()"
   ]
  },
  {
   "cell_type": "code",
   "execution_count": 60,
   "metadata": {},
   "outputs": [
    {
     "data": {
      "text/html": [
       "<div>\n",
       "<style scoped>\n",
       "    .dataframe tbody tr th:only-of-type {\n",
       "        vertical-align: middle;\n",
       "    }\n",
       "\n",
       "    .dataframe tbody tr th {\n",
       "        vertical-align: top;\n",
       "    }\n",
       "\n",
       "    .dataframe thead th {\n",
       "        text-align: right;\n",
       "    }\n",
       "</style>\n",
       "<table border=\"1\" class=\"dataframe\">\n",
       "  <thead>\n",
       "    <tr style=\"text-align: right;\">\n",
       "      <th></th>\n",
       "      <th>user_id</th>\n",
       "      <th>month</th>\n",
       "      <th>vyzov</th>\n",
       "      <th>minutes</th>\n",
       "      <th>sms</th>\n",
       "      <th>gb_used</th>\n",
       "      <th>tariff</th>\n",
       "      <th>city</th>\n",
       "    </tr>\n",
       "  </thead>\n",
       "  <tbody>\n",
       "    <tr>\n",
       "      <td>0</td>\n",
       "      <td>1000</td>\n",
       "      <td>August</td>\n",
       "      <td>42.0</td>\n",
       "      <td>389.87</td>\n",
       "      <td>81.0</td>\n",
       "      <td>13.726494</td>\n",
       "      <td>ultra</td>\n",
       "      <td>Краснодар</td>\n",
       "    </tr>\n",
       "    <tr>\n",
       "      <td>1</td>\n",
       "      <td>1000</td>\n",
       "      <td>December</td>\n",
       "      <td>38.0</td>\n",
       "      <td>312.98</td>\n",
       "      <td>70.0</td>\n",
       "      <td>9.587510</td>\n",
       "      <td>ultra</td>\n",
       "      <td>Краснодар</td>\n",
       "    </tr>\n",
       "    <tr>\n",
       "      <td>2</td>\n",
       "      <td>1000</td>\n",
       "      <td>July</td>\n",
       "      <td>41.0</td>\n",
       "      <td>318.80</td>\n",
       "      <td>75.0</td>\n",
       "      <td>13.675430</td>\n",
       "      <td>ultra</td>\n",
       "      <td>Краснодар</td>\n",
       "    </tr>\n",
       "    <tr>\n",
       "      <td>3</td>\n",
       "      <td>1000</td>\n",
       "      <td>June</td>\n",
       "      <td>28.0</td>\n",
       "      <td>158.90</td>\n",
       "      <td>60.0</td>\n",
       "      <td>22.689229</td>\n",
       "      <td>ultra</td>\n",
       "      <td>Краснодар</td>\n",
       "    </tr>\n",
       "    <tr>\n",
       "      <td>4</td>\n",
       "      <td>1000</td>\n",
       "      <td>May</td>\n",
       "      <td>17.0</td>\n",
       "      <td>150.06</td>\n",
       "      <td>22.0</td>\n",
       "      <td>2.200674</td>\n",
       "      <td>ultra</td>\n",
       "      <td>Краснодар</td>\n",
       "    </tr>\n",
       "  </tbody>\n",
       "</table>\n",
       "</div>"
      ],
      "text/plain": [
       "   user_id     month  vyzov  minutes   sms    gb_used tariff       city\n",
       "0     1000    August   42.0   389.87  81.0  13.726494  ultra  Краснодар\n",
       "1     1000  December   38.0   312.98  70.0   9.587510  ultra  Краснодар\n",
       "2     1000      July   41.0   318.80  75.0  13.675430  ultra  Краснодар\n",
       "3     1000      June   28.0   158.90  60.0  22.689229  ultra  Краснодар\n",
       "4     1000       May   17.0   150.06  22.0   2.200674  ultra  Краснодар"
      ]
     },
     "execution_count": 60,
     "metadata": {},
     "output_type": "execute_result"
    }
   ],
   "source": [
    "# Переименуем столбцы\n",
    "df_group = df_group.rename(columns={'level_0':'user_id'})  \n",
    "df_group = df_group.rename(columns={'level_1':'month'})\n",
    "df_group = df_group.rename(columns={'level_1':'month'})\n",
    "df_group = df_group.rename(columns={'count':'vyzov'})\n",
    "df_group = df_group.rename(columns={'id':'sms'})\n",
    "df_group = df_group.rename(columns={'sum':'minutes'})\n",
    "\n",
    "df_group.head()\n"
   ]
  },
  {
   "cell_type": "markdown",
   "metadata": {},
   "source": [
    "Отличная получилась таблица! Выполним предобработку данных!"
   ]
  },
  {
   "cell_type": "code",
   "execution_count": 61,
   "metadata": {},
   "outputs": [
    {
     "name": "stdout",
     "output_type": "stream",
     "text": [
      "<class 'pandas.core.frame.DataFrame'>\n",
      "RangeIndex: 3214 entries, 0 to 3213\n",
      "Data columns (total 8 columns):\n",
      "user_id    3214 non-null int64\n",
      "month      3214 non-null object\n",
      "vyzov      3168 non-null float64\n",
      "minutes    3168 non-null float64\n",
      "sms        2717 non-null float64\n",
      "gb_used    3203 non-null float64\n",
      "tariff     3214 non-null object\n",
      "city       3214 non-null object\n",
      "dtypes: float64(4), int64(1), object(3)\n",
      "memory usage: 201.0+ KB\n"
     ]
    }
   ],
   "source": [
    "df_group.info()"
   ]
  },
  {
   "cell_type": "code",
   "execution_count": 62,
   "metadata": {},
   "outputs": [
    {
     "data": {
      "text/plain": [
       "user_id      0\n",
       "month        0\n",
       "vyzov       46\n",
       "minutes     46\n",
       "sms        497\n",
       "gb_used     11\n",
       "tariff       0\n",
       "city         0\n",
       "dtype: int64"
      ]
     },
     "execution_count": 62,
     "metadata": {},
     "output_type": "execute_result"
    }
   ],
   "source": [
    "df_group.isnull().sum()"
   ]
  },
  {
   "cell_type": "markdown",
   "metadata": {},
   "source": [
    "Обнаружились пропуски, но это можно исправить, заменив их средними значениями из данных, приступим!"
   ]
  },
  {
   "cell_type": "code",
   "execution_count": 63,
   "metadata": {},
   "outputs": [],
   "source": [
    "# Заменим пропуски средними значениями с стобцах minutes, sms, gb_used ,vyzov\n",
    "df_group['minutes'] = df_group['minutes'].transform(lambda x: x.fillna(x.mean()))\n",
    "df_group['sms'] = df_group['sms'].transform(lambda x: x.fillna(x.mean()))\n",
    "df_group['gb_used'] = df_group['gb_used'].transform(lambda x: x.fillna(x.mean()))\n",
    "df_group['vyzov'] = df_group['vyzov'].transform(lambda x: x.fillna(x.mean()))"
   ]
  },
  {
   "cell_type": "code",
   "execution_count": 64,
   "metadata": {},
   "outputs": [
    {
     "data": {
      "text/plain": [
       "user_id    0\n",
       "month      0\n",
       "vyzov      0\n",
       "minutes    0\n",
       "sms        0\n",
       "gb_used    0\n",
       "tariff     0\n",
       "city       0\n",
       "dtype: int64"
      ]
     },
     "execution_count": 64,
     "metadata": {},
     "output_type": "execute_result"
    }
   ],
   "source": [
    "df_group.isnull().sum()"
   ]
  },
  {
   "cell_type": "markdown",
   "metadata": {},
   "source": [
    "Пропуски заполнены!"
   ]
  },
  {
   "cell_type": "code",
   "execution_count": 65,
   "metadata": {},
   "outputs": [
    {
     "data": {
      "text/plain": [
       "0"
      ]
     },
     "execution_count": 65,
     "metadata": {},
     "output_type": "execute_result"
    }
   ],
   "source": [
    "# Проверим на дубликаты\n",
    "df_group.duplicated().sum()"
   ]
  },
  {
   "cell_type": "markdown",
   "metadata": {},
   "source": [
    "Дубликатов нет, и это хорошо!"
   ]
  },
  {
   "cell_type": "markdown",
   "metadata": {},
   "source": [
    "## Добавим информации о месячной выручке для каждого абонента"
   ]
  },
  {
   "cell_type": "code",
   "execution_count": 66,
   "metadata": {},
   "outputs": [
    {
     "data": {
      "text/html": [
       "<div>\n",
       "<style scoped>\n",
       "    .dataframe tbody tr th:only-of-type {\n",
       "        vertical-align: middle;\n",
       "    }\n",
       "\n",
       "    .dataframe tbody tr th {\n",
       "        vertical-align: top;\n",
       "    }\n",
       "\n",
       "    .dataframe thead th {\n",
       "        text-align: right;\n",
       "    }\n",
       "</style>\n",
       "<table border=\"1\" class=\"dataframe\">\n",
       "  <thead>\n",
       "    <tr style=\"text-align: right;\">\n",
       "      <th></th>\n",
       "      <th>user_id</th>\n",
       "      <th>month</th>\n",
       "      <th>vyzov</th>\n",
       "      <th>minutes</th>\n",
       "      <th>sms</th>\n",
       "      <th>gb_used</th>\n",
       "      <th>tariff</th>\n",
       "      <th>city</th>\n",
       "      <th>ap</th>\n",
       "    </tr>\n",
       "  </thead>\n",
       "  <tbody>\n",
       "    <tr>\n",
       "      <td>0</td>\n",
       "      <td>1000</td>\n",
       "      <td>August</td>\n",
       "      <td>42.0</td>\n",
       "      <td>389.87</td>\n",
       "      <td>81.0</td>\n",
       "      <td>13.726494</td>\n",
       "      <td>ultra</td>\n",
       "      <td>Краснодар</td>\n",
       "      <td>1950</td>\n",
       "    </tr>\n",
       "    <tr>\n",
       "      <td>1</td>\n",
       "      <td>1000</td>\n",
       "      <td>December</td>\n",
       "      <td>38.0</td>\n",
       "      <td>312.98</td>\n",
       "      <td>70.0</td>\n",
       "      <td>9.587510</td>\n",
       "      <td>ultra</td>\n",
       "      <td>Краснодар</td>\n",
       "      <td>1950</td>\n",
       "    </tr>\n",
       "    <tr>\n",
       "      <td>2</td>\n",
       "      <td>1000</td>\n",
       "      <td>July</td>\n",
       "      <td>41.0</td>\n",
       "      <td>318.80</td>\n",
       "      <td>75.0</td>\n",
       "      <td>13.675430</td>\n",
       "      <td>ultra</td>\n",
       "      <td>Краснодар</td>\n",
       "      <td>1950</td>\n",
       "    </tr>\n",
       "    <tr>\n",
       "      <td>3</td>\n",
       "      <td>1000</td>\n",
       "      <td>June</td>\n",
       "      <td>28.0</td>\n",
       "      <td>158.90</td>\n",
       "      <td>60.0</td>\n",
       "      <td>22.689229</td>\n",
       "      <td>ultra</td>\n",
       "      <td>Краснодар</td>\n",
       "      <td>1950</td>\n",
       "    </tr>\n",
       "    <tr>\n",
       "      <td>4</td>\n",
       "      <td>1000</td>\n",
       "      <td>May</td>\n",
       "      <td>17.0</td>\n",
       "      <td>150.06</td>\n",
       "      <td>22.0</td>\n",
       "      <td>2.200674</td>\n",
       "      <td>ultra</td>\n",
       "      <td>Краснодар</td>\n",
       "      <td>1950</td>\n",
       "    </tr>\n",
       "  </tbody>\n",
       "</table>\n",
       "</div>"
      ],
      "text/plain": [
       "   user_id     month  vyzov  minutes   sms    gb_used tariff       city    ap\n",
       "0     1000    August   42.0   389.87  81.0  13.726494  ultra  Краснодар  1950\n",
       "1     1000  December   38.0   312.98  70.0   9.587510  ultra  Краснодар  1950\n",
       "2     1000      July   41.0   318.80  75.0  13.675430  ultra  Краснодар  1950\n",
       "3     1000      June   28.0   158.90  60.0  22.689229  ultra  Краснодар  1950\n",
       "4     1000       May   17.0   150.06  22.0   2.200674  ultra  Краснодар  1950"
      ]
     },
     "execution_count": 66,
     "metadata": {},
     "output_type": "execute_result"
    }
   ],
   "source": [
    "# Для начала добавим столбец с абоненсткой платой\n",
    "ap = {'smart': 550, 'ultra': 1950}\n",
    "df_group['ap'] = df_group['tariff'].map(ap)\n",
    "df_group.head()"
   ]
  },
  {
   "cell_type": "markdown",
   "metadata": {},
   "source": [
    "Добавление столбца прошло успешно) Продолжим!"
   ]
  },
  {
   "cell_type": "code",
   "execution_count": 67,
   "metadata": {},
   "outputs": [],
   "source": [
    "# Напишем функицю для столбцов перерасход для каждого исчислимого столбца\n",
    "def minutes_over(row):\n",
    "    if row['tariff'] == 'smart':\n",
    "        result = row['minutes'] - 500\n",
    "        return np.where(result > 0, result, 0)\n",
    "    else:\n",
    "        result = row['minutes'] - 3000\n",
    "        return np.where(result > 0, result, 0)\n",
    "    \n",
    "    \n",
    "def sms_over(row):\n",
    "    if row['tariff'] == 'smart':\n",
    "        result = row['sms'] - 50\n",
    "        return np.where(result > 0, result, 0)\n",
    "    else:\n",
    "        result =  row['sms'] - 1000\n",
    "        return np.where(result > 0, result, 0)\n",
    "    \n",
    "\n",
    "def gb_over(row):\n",
    "    if row['tariff'] == 'smart':\n",
    "        result = row['gb_used'] - 15 \n",
    "        return np.where(result > 0, result, 0)\n",
    "    else:\n",
    "        result = row['gb_used'] - 30 \n",
    "        return np.where(result > 0, result, 0)\n",
    "    \n",
    "    \n",
    "def month_over(row):\n",
    "    sum_per_month = 0\n",
    "    if row['tariff'] == 'smart':\n",
    "        sum_per_month += np.ceil(row['minutes_over']) * 3\n",
    "        sum_per_month += row['sms_over'] * 3\n",
    "        sum_per_month += np.ceil(row['gb_over']) * 200\n",
    "        return sum_per_month\n",
    "    \n",
    "    else:\n",
    "        sum_per_month += np.ceil(row['minutes_over']) * 1\n",
    "        sum_per_month += row['sms_over'] * 1\n",
    "        sum_per_month += np.ceil(row['gb_over']) * 150\n",
    "        return sum_per_month"
   ]
  },
  {
   "cell_type": "code",
   "execution_count": 68,
   "metadata": {},
   "outputs": [
    {
     "data": {
      "text/html": [
       "<div>\n",
       "<style scoped>\n",
       "    .dataframe tbody tr th:only-of-type {\n",
       "        vertical-align: middle;\n",
       "    }\n",
       "\n",
       "    .dataframe tbody tr th {\n",
       "        vertical-align: top;\n",
       "    }\n",
       "\n",
       "    .dataframe thead th {\n",
       "        text-align: right;\n",
       "    }\n",
       "</style>\n",
       "<table border=\"1\" class=\"dataframe\">\n",
       "  <thead>\n",
       "    <tr style=\"text-align: right;\">\n",
       "      <th></th>\n",
       "      <th>user_id</th>\n",
       "      <th>month</th>\n",
       "      <th>vyzov</th>\n",
       "      <th>minutes</th>\n",
       "      <th>sms</th>\n",
       "      <th>gb_used</th>\n",
       "      <th>tariff</th>\n",
       "      <th>city</th>\n",
       "      <th>ap</th>\n",
       "      <th>minutes_over</th>\n",
       "      <th>sms_over</th>\n",
       "      <th>gb_over</th>\n",
       "      <th>month_over</th>\n",
       "    </tr>\n",
       "  </thead>\n",
       "  <tbody>\n",
       "    <tr>\n",
       "      <td>2316</td>\n",
       "      <td>1367</td>\n",
       "      <td>November</td>\n",
       "      <td>29.000000</td>\n",
       "      <td>250.700000</td>\n",
       "      <td>45.283769</td>\n",
       "      <td>10.672168</td>\n",
       "      <td>ultra</td>\n",
       "      <td>Москва</td>\n",
       "      <td>1950</td>\n",
       "      <td>0.0</td>\n",
       "      <td>0.0</td>\n",
       "      <td>0.0</td>\n",
       "      <td>0.0</td>\n",
       "    </tr>\n",
       "    <tr>\n",
       "      <td>1067</td>\n",
       "      <td>1169</td>\n",
       "      <td>August</td>\n",
       "      <td>55.000000</td>\n",
       "      <td>432.220000</td>\n",
       "      <td>14.000000</td>\n",
       "      <td>18.532939</td>\n",
       "      <td>smart</td>\n",
       "      <td>Сочи</td>\n",
       "      <td>550</td>\n",
       "      <td>0.0</td>\n",
       "      <td>0.0</td>\n",
       "      <td>3.5329394531249996</td>\n",
       "      <td>800.0</td>\n",
       "    </tr>\n",
       "    <tr>\n",
       "      <td>806</td>\n",
       "      <td>1126</td>\n",
       "      <td>April</td>\n",
       "      <td>74.000000</td>\n",
       "      <td>651.970000</td>\n",
       "      <td>6.000000</td>\n",
       "      <td>26.546016</td>\n",
       "      <td>ultra</td>\n",
       "      <td>Санкт-Петербург</td>\n",
       "      <td>1950</td>\n",
       "      <td>0.0</td>\n",
       "      <td>0.0</td>\n",
       "      <td>0.0</td>\n",
       "      <td>0.0</td>\n",
       "    </tr>\n",
       "    <tr>\n",
       "      <td>51</td>\n",
       "      <td>1006</td>\n",
       "      <td>October</td>\n",
       "      <td>35.000000</td>\n",
       "      <td>249.930000</td>\n",
       "      <td>45.283769</td>\n",
       "      <td>19.234961</td>\n",
       "      <td>smart</td>\n",
       "      <td>Ульяновск</td>\n",
       "      <td>550</td>\n",
       "      <td>0.0</td>\n",
       "      <td>0.0</td>\n",
       "      <td>4.234960937499995</td>\n",
       "      <td>1000.0</td>\n",
       "    </tr>\n",
       "    <tr>\n",
       "      <td>344</td>\n",
       "      <td>1055</td>\n",
       "      <td>February</td>\n",
       "      <td>56.000000</td>\n",
       "      <td>412.910000</td>\n",
       "      <td>25.000000</td>\n",
       "      <td>14.394258</td>\n",
       "      <td>smart</td>\n",
       "      <td>Казань</td>\n",
       "      <td>550</td>\n",
       "      <td>0.0</td>\n",
       "      <td>0.0</td>\n",
       "      <td>0.0</td>\n",
       "      <td>0.0</td>\n",
       "    </tr>\n",
       "    <tr>\n",
       "      <td>2346</td>\n",
       "      <td>1373</td>\n",
       "      <td>April</td>\n",
       "      <td>51.450126</td>\n",
       "      <td>432.067563</td>\n",
       "      <td>48.000000</td>\n",
       "      <td>19.898223</td>\n",
       "      <td>smart</td>\n",
       "      <td>Улан-Удэ</td>\n",
       "      <td>550</td>\n",
       "      <td>0.0</td>\n",
       "      <td>0.0</td>\n",
       "      <td>4.898222656249999</td>\n",
       "      <td>1000.0</td>\n",
       "    </tr>\n",
       "    <tr>\n",
       "      <td>888</td>\n",
       "      <td>1142</td>\n",
       "      <td>May</td>\n",
       "      <td>51.000000</td>\n",
       "      <td>445.880000</td>\n",
       "      <td>42.000000</td>\n",
       "      <td>23.084951</td>\n",
       "      <td>smart</td>\n",
       "      <td>Новосибирск</td>\n",
       "      <td>550</td>\n",
       "      <td>0.0</td>\n",
       "      <td>0.0</td>\n",
       "      <td>8.084951171874987</td>\n",
       "      <td>1800.0</td>\n",
       "    </tr>\n",
       "    <tr>\n",
       "      <td>2023</td>\n",
       "      <td>1319</td>\n",
       "      <td>November</td>\n",
       "      <td>80.000000</td>\n",
       "      <td>661.180000</td>\n",
       "      <td>52.000000</td>\n",
       "      <td>17.904434</td>\n",
       "      <td>smart</td>\n",
       "      <td>Санкт-Петербург</td>\n",
       "      <td>550</td>\n",
       "      <td>161.17999999999995</td>\n",
       "      <td>2.0</td>\n",
       "      <td>2.9044335937499994</td>\n",
       "      <td>1092.0</td>\n",
       "    </tr>\n",
       "    <tr>\n",
       "      <td>399</td>\n",
       "      <td>1063</td>\n",
       "      <td>October</td>\n",
       "      <td>99.000000</td>\n",
       "      <td>943.930000</td>\n",
       "      <td>45.283769</td>\n",
       "      <td>13.861387</td>\n",
       "      <td>ultra</td>\n",
       "      <td>Тула</td>\n",
       "      <td>1950</td>\n",
       "      <td>0.0</td>\n",
       "      <td>0.0</td>\n",
       "      <td>0.0</td>\n",
       "      <td>0.0</td>\n",
       "    </tr>\n",
       "    <tr>\n",
       "      <td>2840</td>\n",
       "      <td>1440</td>\n",
       "      <td>December</td>\n",
       "      <td>23.000000</td>\n",
       "      <td>188.570000</td>\n",
       "      <td>105.000000</td>\n",
       "      <td>23.190117</td>\n",
       "      <td>ultra</td>\n",
       "      <td>Москва</td>\n",
       "      <td>1950</td>\n",
       "      <td>0.0</td>\n",
       "      <td>0.0</td>\n",
       "      <td>0.0</td>\n",
       "      <td>0.0</td>\n",
       "    </tr>\n",
       "    <tr>\n",
       "      <td>2808</td>\n",
       "      <td>1435</td>\n",
       "      <td>July</td>\n",
       "      <td>32.000000</td>\n",
       "      <td>218.580000</td>\n",
       "      <td>45.283769</td>\n",
       "      <td>19.816602</td>\n",
       "      <td>smart</td>\n",
       "      <td>Москва</td>\n",
       "      <td>550</td>\n",
       "      <td>0.0</td>\n",
       "      <td>0.0</td>\n",
       "      <td>4.816601562500001</td>\n",
       "      <td>1000.0</td>\n",
       "    </tr>\n",
       "    <tr>\n",
       "      <td>628</td>\n",
       "      <td>1099</td>\n",
       "      <td>June</td>\n",
       "      <td>78.000000</td>\n",
       "      <td>643.890000</td>\n",
       "      <td>38.000000</td>\n",
       "      <td>17.241641</td>\n",
       "      <td>ultra</td>\n",
       "      <td>Тольятти</td>\n",
       "      <td>1950</td>\n",
       "      <td>0.0</td>\n",
       "      <td>0.0</td>\n",
       "      <td>0.0</td>\n",
       "      <td>0.0</td>\n",
       "    </tr>\n",
       "    <tr>\n",
       "      <td>349</td>\n",
       "      <td>1055</td>\n",
       "      <td>May</td>\n",
       "      <td>52.000000</td>\n",
       "      <td>424.980000</td>\n",
       "      <td>32.000000</td>\n",
       "      <td>17.866328</td>\n",
       "      <td>smart</td>\n",
       "      <td>Казань</td>\n",
       "      <td>550</td>\n",
       "      <td>0.0</td>\n",
       "      <td>0.0</td>\n",
       "      <td>2.8663281250000026</td>\n",
       "      <td>600.0</td>\n",
       "    </tr>\n",
       "    <tr>\n",
       "      <td>3139</td>\n",
       "      <td>1486</td>\n",
       "      <td>December</td>\n",
       "      <td>115.000000</td>\n",
       "      <td>954.700000</td>\n",
       "      <td>83.000000</td>\n",
       "      <td>37.648877</td>\n",
       "      <td>smart</td>\n",
       "      <td>Нижний Новгород</td>\n",
       "      <td>550</td>\n",
       "      <td>454.69999999999993</td>\n",
       "      <td>33.0</td>\n",
       "      <td>22.64887695312499</td>\n",
       "      <td>6064.0</td>\n",
       "    </tr>\n",
       "    <tr>\n",
       "      <td>2402</td>\n",
       "      <td>1378</td>\n",
       "      <td>January</td>\n",
       "      <td>28.000000</td>\n",
       "      <td>215.440000</td>\n",
       "      <td>6.000000</td>\n",
       "      <td>4.550186</td>\n",
       "      <td>smart</td>\n",
       "      <td>Иркутск</td>\n",
       "      <td>550</td>\n",
       "      <td>0.0</td>\n",
       "      <td>0.0</td>\n",
       "      <td>0.0</td>\n",
       "      <td>0.0</td>\n",
       "    </tr>\n",
       "    <tr>\n",
       "      <td>448</td>\n",
       "      <td>1070</td>\n",
       "      <td>September</td>\n",
       "      <td>54.000000</td>\n",
       "      <td>488.110000</td>\n",
       "      <td>8.000000</td>\n",
       "      <td>10.635918</td>\n",
       "      <td>smart</td>\n",
       "      <td>Химки</td>\n",
       "      <td>550</td>\n",
       "      <td>0.0</td>\n",
       "      <td>0.0</td>\n",
       "      <td>0.0</td>\n",
       "      <td>0.0</td>\n",
       "    </tr>\n",
       "    <tr>\n",
       "      <td>3069</td>\n",
       "      <td>1476</td>\n",
       "      <td>May</td>\n",
       "      <td>58.000000</td>\n",
       "      <td>434.120000</td>\n",
       "      <td>7.000000</td>\n",
       "      <td>21.270830</td>\n",
       "      <td>ultra</td>\n",
       "      <td>Москва</td>\n",
       "      <td>1950</td>\n",
       "      <td>0.0</td>\n",
       "      <td>0.0</td>\n",
       "      <td>0.0</td>\n",
       "      <td>0.0</td>\n",
       "    </tr>\n",
       "    <tr>\n",
       "      <td>2928</td>\n",
       "      <td>1456</td>\n",
       "      <td>September</td>\n",
       "      <td>91.000000</td>\n",
       "      <td>712.440000</td>\n",
       "      <td>45.283769</td>\n",
       "      <td>18.915078</td>\n",
       "      <td>smart</td>\n",
       "      <td>Санкт-Петербург</td>\n",
       "      <td>550</td>\n",
       "      <td>212.44000000000005</td>\n",
       "      <td>0.0</td>\n",
       "      <td>3.9150781249999937</td>\n",
       "      <td>1439.0</td>\n",
       "    </tr>\n",
       "    <tr>\n",
       "      <td>671</td>\n",
       "      <td>1106</td>\n",
       "      <td>April</td>\n",
       "      <td>51.450126</td>\n",
       "      <td>432.067563</td>\n",
       "      <td>9.000000</td>\n",
       "      <td>2.854971</td>\n",
       "      <td>ultra</td>\n",
       "      <td>Калуга</td>\n",
       "      <td>1950</td>\n",
       "      <td>0.0</td>\n",
       "      <td>0.0</td>\n",
       "      <td>0.0</td>\n",
       "      <td>0.0</td>\n",
       "    </tr>\n",
       "    <tr>\n",
       "      <td>746</td>\n",
       "      <td>1117</td>\n",
       "      <td>December</td>\n",
       "      <td>28.000000</td>\n",
       "      <td>269.790000</td>\n",
       "      <td>45.283769</td>\n",
       "      <td>11.709229</td>\n",
       "      <td>smart</td>\n",
       "      <td>Тюмень</td>\n",
       "      <td>550</td>\n",
       "      <td>0.0</td>\n",
       "      <td>0.0</td>\n",
       "      <td>0.0</td>\n",
       "      <td>0.0</td>\n",
       "    </tr>\n",
       "  </tbody>\n",
       "</table>\n",
       "</div>"
      ],
      "text/plain": [
       "      user_id      month       vyzov     minutes         sms    gb_used  \\\n",
       "2316     1367   November   29.000000  250.700000   45.283769  10.672168   \n",
       "1067     1169     August   55.000000  432.220000   14.000000  18.532939   \n",
       "806      1126      April   74.000000  651.970000    6.000000  26.546016   \n",
       "51       1006    October   35.000000  249.930000   45.283769  19.234961   \n",
       "344      1055   February   56.000000  412.910000   25.000000  14.394258   \n",
       "2346     1373      April   51.450126  432.067563   48.000000  19.898223   \n",
       "888      1142        May   51.000000  445.880000   42.000000  23.084951   \n",
       "2023     1319   November   80.000000  661.180000   52.000000  17.904434   \n",
       "399      1063    October   99.000000  943.930000   45.283769  13.861387   \n",
       "2840     1440   December   23.000000  188.570000  105.000000  23.190117   \n",
       "2808     1435       July   32.000000  218.580000   45.283769  19.816602   \n",
       "628      1099       June   78.000000  643.890000   38.000000  17.241641   \n",
       "349      1055        May   52.000000  424.980000   32.000000  17.866328   \n",
       "3139     1486   December  115.000000  954.700000   83.000000  37.648877   \n",
       "2402     1378    January   28.000000  215.440000    6.000000   4.550186   \n",
       "448      1070  September   54.000000  488.110000    8.000000  10.635918   \n",
       "3069     1476        May   58.000000  434.120000    7.000000  21.270830   \n",
       "2928     1456  September   91.000000  712.440000   45.283769  18.915078   \n",
       "671      1106      April   51.450126  432.067563    9.000000   2.854971   \n",
       "746      1117   December   28.000000  269.790000   45.283769  11.709229   \n",
       "\n",
       "     tariff             city    ap        minutes_over sms_over  \\\n",
       "2316  ultra           Москва  1950                 0.0      0.0   \n",
       "1067  smart             Сочи   550                 0.0      0.0   \n",
       "806   ultra  Санкт-Петербург  1950                 0.0      0.0   \n",
       "51    smart        Ульяновск   550                 0.0      0.0   \n",
       "344   smart           Казань   550                 0.0      0.0   \n",
       "2346  smart         Улан-Удэ   550                 0.0      0.0   \n",
       "888   smart      Новосибирск   550                 0.0      0.0   \n",
       "2023  smart  Санкт-Петербург   550  161.17999999999995      2.0   \n",
       "399   ultra             Тула  1950                 0.0      0.0   \n",
       "2840  ultra           Москва  1950                 0.0      0.0   \n",
       "2808  smart           Москва   550                 0.0      0.0   \n",
       "628   ultra         Тольятти  1950                 0.0      0.0   \n",
       "349   smart           Казань   550                 0.0      0.0   \n",
       "3139  smart  Нижний Новгород   550  454.69999999999993     33.0   \n",
       "2402  smart          Иркутск   550                 0.0      0.0   \n",
       "448   smart            Химки   550                 0.0      0.0   \n",
       "3069  ultra           Москва  1950                 0.0      0.0   \n",
       "2928  smart  Санкт-Петербург   550  212.44000000000005      0.0   \n",
       "671   ultra           Калуга  1950                 0.0      0.0   \n",
       "746   smart           Тюмень   550                 0.0      0.0   \n",
       "\n",
       "                 gb_over  month_over  \n",
       "2316                 0.0         0.0  \n",
       "1067  3.5329394531249996       800.0  \n",
       "806                  0.0         0.0  \n",
       "51     4.234960937499995      1000.0  \n",
       "344                  0.0         0.0  \n",
       "2346   4.898222656249999      1000.0  \n",
       "888    8.084951171874987      1800.0  \n",
       "2023  2.9044335937499994      1092.0  \n",
       "399                  0.0         0.0  \n",
       "2840                 0.0         0.0  \n",
       "2808   4.816601562500001      1000.0  \n",
       "628                  0.0         0.0  \n",
       "349   2.8663281250000026       600.0  \n",
       "3139   22.64887695312499      6064.0  \n",
       "2402                 0.0         0.0  \n",
       "448                  0.0         0.0  \n",
       "3069                 0.0         0.0  \n",
       "2928  3.9150781249999937      1439.0  \n",
       "671                  0.0         0.0  \n",
       "746                  0.0         0.0  "
      ]
     },
     "execution_count": 68,
     "metadata": {},
     "output_type": "execute_result"
    }
   ],
   "source": [
    "# Теперь создадим столбцы\n",
    "df_group['minutes_over'] = df_group.apply(minutes_over, axis=1)\n",
    "df_group['sms_over'] = df_group.apply(sms_over, axis=1)\n",
    "df_group['gb_over'] = df_group.apply(gb_over, axis=1)\n",
    "df_group['month_over'] = df_group.apply(month_over, axis=1)\n",
    "df_group.sample(20)"
   ]
  },
  {
   "cell_type": "code",
   "execution_count": 69,
   "metadata": {},
   "outputs": [],
   "source": [
    "# Добавление прошло успешно, но формат знаяений не очень удобен, изменим тип данных\n",
    "\n",
    "\n",
    "for column in ['minutes', 'minutes_over', 'gb_used', 'gb_over']:\n",
    "    df_group[column] = df_group[column].astype('float')\n",
    "    \n",
    "for column in ['sms','sms_over', 'month_over','ap','month_over']:\n",
    "    df_group[column] = df_group[column].astype('int')\n",
    "    "
   ]
  },
  {
   "cell_type": "code",
   "execution_count": 70,
   "metadata": {},
   "outputs": [
    {
     "name": "stdout",
     "output_type": "stream",
     "text": [
      "<class 'pandas.core.frame.DataFrame'>\n",
      "RangeIndex: 3214 entries, 0 to 3213\n",
      "Data columns (total 13 columns):\n",
      "user_id         3214 non-null int64\n",
      "month           3214 non-null object\n",
      "vyzov           3214 non-null float64\n",
      "minutes         3214 non-null float64\n",
      "sms             3214 non-null int64\n",
      "gb_used         3214 non-null float64\n",
      "tariff          3214 non-null object\n",
      "city            3214 non-null object\n",
      "ap              3214 non-null int64\n",
      "minutes_over    3214 non-null float64\n",
      "sms_over        3214 non-null int64\n",
      "gb_over         3214 non-null float64\n",
      "month_over      3214 non-null int64\n",
      "dtypes: float64(5), int64(5), object(3)\n",
      "memory usage: 326.5+ KB\n"
     ]
    }
   ],
   "source": [
    "\n",
    "df_group.info()"
   ]
  },
  {
   "cell_type": "code",
   "execution_count": 71,
   "metadata": {},
   "outputs": [
    {
     "name": "stdout",
     "output_type": "stream",
     "text": [
      "<class 'pandas.core.frame.DataFrame'>\n",
      "RangeIndex: 3214 entries, 0 to 3213\n",
      "Data columns (total 14 columns):\n",
      "user_id         3214 non-null int64\n",
      "month           3214 non-null object\n",
      "vyzov           3214 non-null float64\n",
      "minutes         3214 non-null float64\n",
      "sms             3214 non-null int64\n",
      "gb_used         3214 non-null float64\n",
      "tariff          3214 non-null object\n",
      "city            3214 non-null object\n",
      "ap              3214 non-null int64\n",
      "minutes_over    3214 non-null float64\n",
      "sms_over        3214 non-null int64\n",
      "gb_over         3214 non-null float64\n",
      "month_over      3214 non-null int64\n",
      "month_$         3214 non-null int64\n",
      "dtypes: float64(5), int64(6), object(3)\n",
      "memory usage: 351.7+ KB\n"
     ]
    }
   ],
   "source": [
    "# Теперь добавим столбец с общей выручкой по каждома клиенту\n",
    "df_group['month_$'] = df_group[['ap','month_over']].sum(axis=1)\n",
    "\n",
    "\n",
    "df_group.sample(5)\n",
    "df_group.info()"
   ]
  },
  {
   "cell_type": "code",
   "execution_count": 72,
   "metadata": {},
   "outputs": [
    {
     "data": {
      "text/plain": [
       "<matplotlib.axes._subplots.AxesSubplot at 0x7fbc1e4a71d0>"
      ]
     },
     "execution_count": 72,
     "metadata": {},
     "output_type": "execute_result"
    },
    {
     "data": {
      "image/png": "[encoded data removed]",
      "text/plain": [
       "<Figure size 1440x432 with 1 Axes>"
      ]
     },
     "metadata": {
      "needs_background": "light"
     },
     "output_type": "display_data"
    }
   ],
   "source": [
    "# Посмотрим на ежемесячную выручку\n",
    "\n",
    "mean_value = df_group.pivot_table(index= 'month', values = 'month_$', aggfunc = 'mean')\n",
    "mean_value.plot(kind = 'barh', figsize = (20,6), grid=True, title = 'Выручка по месяцам',legend=False)"
   ]
  },
  {
   "cell_type": "code",
   "execution_count": 73,
   "metadata": {},
   "outputs": [
    {
     "data": {
      "text/plain": [
       "<matplotlib.axes._subplots.AxesSubplot at 0x7fbc1df82150>"
      ]
     },
     "execution_count": 73,
     "metadata": {},
     "output_type": "execute_result"
    },
    {
     "data": {
      "image/png": "[encoded data removed]",
      "text/plain": [
       "<Figure size 1440x720 with 1 Axes>"
      ]
     },
     "metadata": {
      "needs_background": "light"
     },
     "output_type": "display_data"
    }
   ],
   "source": [
    "month_v = df_group.pivot_table(index= 'month', values = 'month_$', aggfunc = 'mean')\n",
    "month_v.plot(figsize = (20,10),title = 'Выручка по месяцам',legend=False)"
   ]
  },
  {
   "cell_type": "markdown",
   "metadata": {},
   "source": [
    "На графиках видно , как сильно скачет выручка, несмотря на то, что спрос на связь и интернет стабилен, а вот на смс нет."
   ]
  },
  {
   "cell_type": "code",
   "execution_count": 74,
   "metadata": {},
   "outputs": [
    {
     "data": {
      "text/plain": [
       "<matplotlib.axes._subplots.AxesSubplot at 0x7fbc1dfd69d0>"
      ]
     },
     "execution_count": 74,
     "metadata": {},
     "output_type": "execute_result"
    },
    {
     "data": {
      "image/png": "[encoded data removed]",
      "text/plain": [
       "<Figure size 1440x720 with 1 Axes>"
      ]
     },
     "metadata": {
      "needs_background": "light"
     },
     "output_type": "display_data"
    }
   ],
   "source": [
    "sms_month.plot(figsize = (20,10),title = 'Отправленные смс',legend=False)"
   ]
  },
  {
   "cell_type": "markdown",
   "metadata": {},
   "source": [
    "На графике очевидны схожести пиков падения и роста выручки и падения и рост числа отправленных смс... совпадение? \n",
    "\n"
   ]
  },
  {
   "cell_type": "code",
   "execution_count": 75,
   "metadata": {},
   "outputs": [
    {
     "data": {
      "text/html": [
       "<div>\n",
       "<style scoped>\n",
       "    .dataframe tbody tr th:only-of-type {\n",
       "        vertical-align: middle;\n",
       "    }\n",
       "\n",
       "    .dataframe tbody tr th {\n",
       "        vertical-align: top;\n",
       "    }\n",
       "\n",
       "    .dataframe thead th {\n",
       "        text-align: right;\n",
       "    }\n",
       "</style>\n",
       "<table border=\"1\" class=\"dataframe\">\n",
       "  <thead>\n",
       "    <tr style=\"text-align: right;\">\n",
       "      <th></th>\n",
       "      <th>gb_used</th>\n",
       "      <th>minutes</th>\n",
       "      <th>month_$</th>\n",
       "      <th>sms</th>\n",
       "    </tr>\n",
       "  </thead>\n",
       "  <tbody>\n",
       "    <tr>\n",
       "      <td>gb_used</td>\n",
       "      <td>1.000000</td>\n",
       "      <td>0.985925</td>\n",
       "      <td>0.989029</td>\n",
       "      <td>0.984528</td>\n",
       "    </tr>\n",
       "    <tr>\n",
       "      <td>minutes</td>\n",
       "      <td>0.985925</td>\n",
       "      <td>1.000000</td>\n",
       "      <td>0.976918</td>\n",
       "      <td>0.990965</td>\n",
       "    </tr>\n",
       "    <tr>\n",
       "      <td>month_$</td>\n",
       "      <td>0.989029</td>\n",
       "      <td>0.976918</td>\n",
       "      <td>1.000000</td>\n",
       "      <td>0.972404</td>\n",
       "    </tr>\n",
       "    <tr>\n",
       "      <td>sms</td>\n",
       "      <td>0.984528</td>\n",
       "      <td>0.990965</td>\n",
       "      <td>0.972404</td>\n",
       "      <td>1.000000</td>\n",
       "    </tr>\n",
       "  </tbody>\n",
       "</table>\n",
       "</div>"
      ],
      "text/plain": [
       "          gb_used   minutes   month_$       sms\n",
       "gb_used  1.000000  0.985925  0.989029  0.984528\n",
       "minutes  0.985925  1.000000  0.976918  0.990965\n",
       "month_$  0.989029  0.976918  1.000000  0.972404\n",
       "sms      0.984528  0.990965  0.972404  1.000000"
      ]
     },
     "execution_count": 75,
     "metadata": {},
     "output_type": "execute_result"
    }
   ],
   "source": [
    "# Проверим вышеуказанную теорию\n",
    "sms1 = df_group.pivot_table(index = 'month',values = ['sms', 'minutes', 'gb_used', 'month_$'], aggfunc = 'mean')\n",
    "sms1.corr()"
   ]
  },
  {
   "cell_type": "markdown",
   "metadata": {},
   "source": [
    "Теория не оправдалась, смс меньше всего влияют на месячную вырочку, а схожесть графиков всего лишь совпадение"
   ]
  },
  {
   "cell_type": "code",
   "execution_count": 76,
   "metadata": {},
   "outputs": [
    {
     "data": {
      "text/html": [
       "<div>\n",
       "<style scoped>\n",
       "    .dataframe tbody tr th:only-of-type {\n",
       "        vertical-align: middle;\n",
       "    }\n",
       "\n",
       "    .dataframe tbody tr th {\n",
       "        vertical-align: top;\n",
       "    }\n",
       "\n",
       "    .dataframe thead th {\n",
       "        text-align: right;\n",
       "    }\n",
       "</style>\n",
       "<table border=\"1\" class=\"dataframe\">\n",
       "  <thead>\n",
       "    <tr style=\"text-align: right;\">\n",
       "      <th></th>\n",
       "      <th>user_id</th>\n",
       "      <th>month</th>\n",
       "      <th>vyzov</th>\n",
       "      <th>minutes</th>\n",
       "      <th>sms</th>\n",
       "      <th>gb_used</th>\n",
       "      <th>tariff</th>\n",
       "      <th>city</th>\n",
       "      <th>ap</th>\n",
       "      <th>minutes_over</th>\n",
       "      <th>sms_over</th>\n",
       "      <th>gb_over</th>\n",
       "      <th>month_over</th>\n",
       "      <th>month_$</th>\n",
       "      <th>over_or_no_over</th>\n",
       "    </tr>\n",
       "  </thead>\n",
       "  <tbody>\n",
       "    <tr>\n",
       "      <td>0</td>\n",
       "      <td>1000</td>\n",
       "      <td>August</td>\n",
       "      <td>42.0</td>\n",
       "      <td>389.87</td>\n",
       "      <td>81</td>\n",
       "      <td>13.726494</td>\n",
       "      <td>ultra</td>\n",
       "      <td>Краснодар</td>\n",
       "      <td>1950</td>\n",
       "      <td>0.0</td>\n",
       "      <td>0</td>\n",
       "      <td>0.000000</td>\n",
       "      <td>0</td>\n",
       "      <td>1950</td>\n",
       "      <td>0</td>\n",
       "    </tr>\n",
       "    <tr>\n",
       "      <td>1</td>\n",
       "      <td>1000</td>\n",
       "      <td>December</td>\n",
       "      <td>38.0</td>\n",
       "      <td>312.98</td>\n",
       "      <td>70</td>\n",
       "      <td>9.587510</td>\n",
       "      <td>ultra</td>\n",
       "      <td>Краснодар</td>\n",
       "      <td>1950</td>\n",
       "      <td>0.0</td>\n",
       "      <td>0</td>\n",
       "      <td>0.000000</td>\n",
       "      <td>0</td>\n",
       "      <td>1950</td>\n",
       "      <td>0</td>\n",
       "    </tr>\n",
       "    <tr>\n",
       "      <td>2</td>\n",
       "      <td>1000</td>\n",
       "      <td>July</td>\n",
       "      <td>41.0</td>\n",
       "      <td>318.80</td>\n",
       "      <td>75</td>\n",
       "      <td>13.675430</td>\n",
       "      <td>ultra</td>\n",
       "      <td>Краснодар</td>\n",
       "      <td>1950</td>\n",
       "      <td>0.0</td>\n",
       "      <td>0</td>\n",
       "      <td>0.000000</td>\n",
       "      <td>0</td>\n",
       "      <td>1950</td>\n",
       "      <td>0</td>\n",
       "    </tr>\n",
       "    <tr>\n",
       "      <td>3</td>\n",
       "      <td>1000</td>\n",
       "      <td>June</td>\n",
       "      <td>28.0</td>\n",
       "      <td>158.90</td>\n",
       "      <td>60</td>\n",
       "      <td>22.689229</td>\n",
       "      <td>ultra</td>\n",
       "      <td>Краснодар</td>\n",
       "      <td>1950</td>\n",
       "      <td>0.0</td>\n",
       "      <td>0</td>\n",
       "      <td>0.000000</td>\n",
       "      <td>0</td>\n",
       "      <td>1950</td>\n",
       "      <td>0</td>\n",
       "    </tr>\n",
       "    <tr>\n",
       "      <td>4</td>\n",
       "      <td>1000</td>\n",
       "      <td>May</td>\n",
       "      <td>17.0</td>\n",
       "      <td>150.06</td>\n",
       "      <td>22</td>\n",
       "      <td>2.200674</td>\n",
       "      <td>ultra</td>\n",
       "      <td>Краснодар</td>\n",
       "      <td>1950</td>\n",
       "      <td>0.0</td>\n",
       "      <td>0</td>\n",
       "      <td>0.000000</td>\n",
       "      <td>0</td>\n",
       "      <td>1950</td>\n",
       "      <td>0</td>\n",
       "    </tr>\n",
       "    <tr>\n",
       "      <td>...</td>\n",
       "      <td>...</td>\n",
       "      <td>...</td>\n",
       "      <td>...</td>\n",
       "      <td>...</td>\n",
       "      <td>...</td>\n",
       "      <td>...</td>\n",
       "      <td>...</td>\n",
       "      <td>...</td>\n",
       "      <td>...</td>\n",
       "      <td>...</td>\n",
       "      <td>...</td>\n",
       "      <td>...</td>\n",
       "      <td>...</td>\n",
       "      <td>...</td>\n",
       "      <td>...</td>\n",
       "    </tr>\n",
       "    <tr>\n",
       "      <td>3209</td>\n",
       "      <td>1498</td>\n",
       "      <td>September</td>\n",
       "      <td>53.0</td>\n",
       "      <td>446.68</td>\n",
       "      <td>44</td>\n",
       "      <td>21.615635</td>\n",
       "      <td>smart</td>\n",
       "      <td>Владикавказ</td>\n",
       "      <td>550</td>\n",
       "      <td>0.0</td>\n",
       "      <td>0</td>\n",
       "      <td>6.615635</td>\n",
       "      <td>1400</td>\n",
       "      <td>1950</td>\n",
       "      <td>1</td>\n",
       "    </tr>\n",
       "    <tr>\n",
       "      <td>3210</td>\n",
       "      <td>1499</td>\n",
       "      <td>December</td>\n",
       "      <td>56.0</td>\n",
       "      <td>465.16</td>\n",
       "      <td>66</td>\n",
       "      <td>12.749590</td>\n",
       "      <td>smart</td>\n",
       "      <td>Пермь</td>\n",
       "      <td>550</td>\n",
       "      <td>0.0</td>\n",
       "      <td>16</td>\n",
       "      <td>0.000000</td>\n",
       "      <td>48</td>\n",
       "      <td>598</td>\n",
       "      <td>1</td>\n",
       "    </tr>\n",
       "    <tr>\n",
       "      <td>3211</td>\n",
       "      <td>1499</td>\n",
       "      <td>November</td>\n",
       "      <td>62.0</td>\n",
       "      <td>576.50</td>\n",
       "      <td>59</td>\n",
       "      <td>17.542295</td>\n",
       "      <td>smart</td>\n",
       "      <td>Пермь</td>\n",
       "      <td>550</td>\n",
       "      <td>76.5</td>\n",
       "      <td>9</td>\n",
       "      <td>2.542295</td>\n",
       "      <td>858</td>\n",
       "      <td>1408</td>\n",
       "      <td>1</td>\n",
       "    </tr>\n",
       "    <tr>\n",
       "      <td>3212</td>\n",
       "      <td>1499</td>\n",
       "      <td>October</td>\n",
       "      <td>44.0</td>\n",
       "      <td>429.91</td>\n",
       "      <td>48</td>\n",
       "      <td>17.371592</td>\n",
       "      <td>smart</td>\n",
       "      <td>Пермь</td>\n",
       "      <td>550</td>\n",
       "      <td>0.0</td>\n",
       "      <td>0</td>\n",
       "      <td>2.371592</td>\n",
       "      <td>600</td>\n",
       "      <td>1150</td>\n",
       "      <td>1</td>\n",
       "    </tr>\n",
       "    <tr>\n",
       "      <td>3213</td>\n",
       "      <td>1499</td>\n",
       "      <td>September</td>\n",
       "      <td>8.0</td>\n",
       "      <td>64.65</td>\n",
       "      <td>11</td>\n",
       "      <td>1.802490</td>\n",
       "      <td>smart</td>\n",
       "      <td>Пермь</td>\n",
       "      <td>550</td>\n",
       "      <td>0.0</td>\n",
       "      <td>0</td>\n",
       "      <td>0.000000</td>\n",
       "      <td>0</td>\n",
       "      <td>550</td>\n",
       "      <td>0</td>\n",
       "    </tr>\n",
       "  </tbody>\n",
       "</table>\n",
       "<p>3214 rows × 15 columns</p>\n",
       "</div>"
      ],
      "text/plain": [
       "      user_id      month  vyzov  minutes  sms    gb_used tariff         city  \\\n",
       "0        1000     August   42.0   389.87   81  13.726494  ultra    Краснодар   \n",
       "1        1000   December   38.0   312.98   70   9.587510  ultra    Краснодар   \n",
       "2        1000       July   41.0   318.80   75  13.675430  ultra    Краснодар   \n",
       "3        1000       June   28.0   158.90   60  22.689229  ultra    Краснодар   \n",
       "4        1000        May   17.0   150.06   22   2.200674  ultra    Краснодар   \n",
       "...       ...        ...    ...      ...  ...        ...    ...          ...   \n",
       "3209     1498  September   53.0   446.68   44  21.615635  smart  Владикавказ   \n",
       "3210     1499   December   56.0   465.16   66  12.749590  smart        Пермь   \n",
       "3211     1499   November   62.0   576.50   59  17.542295  smart        Пермь   \n",
       "3212     1499    October   44.0   429.91   48  17.371592  smart        Пермь   \n",
       "3213     1499  September    8.0    64.65   11   1.802490  smart        Пермь   \n",
       "\n",
       "        ap  minutes_over  sms_over   gb_over  month_over  month_$  \\\n",
       "0     1950           0.0         0  0.000000           0     1950   \n",
       "1     1950           0.0         0  0.000000           0     1950   \n",
       "2     1950           0.0         0  0.000000           0     1950   \n",
       "3     1950           0.0         0  0.000000           0     1950   \n",
       "4     1950           0.0         0  0.000000           0     1950   \n",
       "...    ...           ...       ...       ...         ...      ...   \n",
       "3209   550           0.0         0  6.615635        1400     1950   \n",
       "3210   550           0.0        16  0.000000          48      598   \n",
       "3211   550          76.5         9  2.542295         858     1408   \n",
       "3212   550           0.0         0  2.371592         600     1150   \n",
       "3213   550           0.0         0  0.000000           0      550   \n",
       "\n",
       "      over_or_no_over  \n",
       "0                   0  \n",
       "1                   0  \n",
       "2                   0  \n",
       "3                   0  \n",
       "4                   0  \n",
       "...               ...  \n",
       "3209                1  \n",
       "3210                1  \n",
       "3211                1  \n",
       "3212                1  \n",
       "3213                0  \n",
       "\n",
       "[3214 rows x 15 columns]"
      ]
     },
     "execution_count": 76,
     "metadata": {},
     "output_type": "execute_result"
    }
   ],
   "source": [
    "# Разметим клиентов по критерию \"переплатил\" или \"не переплатил\", где 0 это \"не переплатил\", а 1 это \"переплатил\"\n",
    "df_group['over_or_no_over'] = np.where(df_group['month_over'] > 0, 1, 0)\n",
    "df_group"
   ]
  },
  {
   "cell_type": "code",
   "execution_count": 77,
   "metadata": {},
   "outputs": [
    {
     "data": {
      "text/plain": [
       "<matplotlib.axes._subplots.AxesSubplot at 0x7fbc1e018e90>"
      ]
     },
     "execution_count": 77,
     "metadata": {},
     "output_type": "execute_result"
    },
    {
     "data": {
      "image/png": "[encoded data removed]",
      "text/plain": [
       "<Figure size 864x432 with 1 Axes>"
      ]
     },
     "metadata": {
      "needs_background": "light"
     },
     "output_type": "display_data"
    }
   ],
   "source": [
    "# Построим график для переплат для тарифа смарт \n",
    "df_filtered_smart = df_group[(df_group['tariff'] == 'smart') & (df_group['month_over'] > 0)]['month_over']\n",
    "df_filtered_smart.plot(kind='hist', bins=50,figsize= (12,6), title = 'Переплаты для тарифа смарт')"
   ]
  },
  {
   "cell_type": "markdown",
   "metadata": {},
   "source": [
    "Большинство значений лежит в районе до 1500 рублей. Учитывая, что размер абонентский платы - 550 рублей, это много.\n"
   ]
  },
  {
   "cell_type": "code",
   "execution_count": 78,
   "metadata": {},
   "outputs": [
    {
     "data": {
      "text/plain": [
       "<matplotlib.axes._subplots.AxesSubplot at 0x7fbc1df54950>"
      ]
     },
     "execution_count": 78,
     "metadata": {},
     "output_type": "execute_result"
    },
    {
     "data": {
      "image/png": "[encoded data removed]",
      "text/plain": [
       "<Figure size 864x432 with 1 Axes>"
      ]
     },
     "metadata": {
      "needs_background": "light"
     },
     "output_type": "display_data"
    }
   ],
   "source": [
    "df_filtered_ultra = df_group[(df_group['tariff'] == 'ultra') & (df_group['month_over'] > 0)]['month_over']\n",
    "df_filtered_ultra.plot(kind='hist', bins=10,figsize= (12,6), title = 'Переплаты для тарифа ультра')"
   ]
  },
  {
   "cell_type": "markdown",
   "metadata": {},
   "source": [
    "Большинство значений лежит в районе до 200 рублей."
   ]
  },
  {
   "cell_type": "code",
   "execution_count": 79,
   "metadata": {},
   "outputs": [
    {
     "data": {
      "text/html": [
       "<div>\n",
       "<style scoped>\n",
       "    .dataframe tbody tr th:only-of-type {\n",
       "        vertical-align: middle;\n",
       "    }\n",
       "\n",
       "    .dataframe tbody tr th {\n",
       "        vertical-align: top;\n",
       "    }\n",
       "\n",
       "    .dataframe thead th {\n",
       "        text-align: right;\n",
       "    }\n",
       "</style>\n",
       "<table border=\"1\" class=\"dataframe\">\n",
       "  <thead>\n",
       "    <tr style=\"text-align: right;\">\n",
       "      <th></th>\n",
       "      <th>user_id</th>\n",
       "      <th>month</th>\n",
       "      <th>vyzov</th>\n",
       "      <th>minutes</th>\n",
       "      <th>sms</th>\n",
       "      <th>gb_used</th>\n",
       "      <th>tariff</th>\n",
       "      <th>city</th>\n",
       "      <th>ap</th>\n",
       "      <th>minutes_over</th>\n",
       "      <th>sms_over</th>\n",
       "      <th>gb_over</th>\n",
       "      <th>month_over</th>\n",
       "      <th>month_$</th>\n",
       "      <th>over_or_no_over</th>\n",
       "    </tr>\n",
       "  </thead>\n",
       "  <tbody>\n",
       "    <tr>\n",
       "      <td>0</td>\n",
       "      <td>1000</td>\n",
       "      <td>August</td>\n",
       "      <td>42.0</td>\n",
       "      <td>389.87</td>\n",
       "      <td>81</td>\n",
       "      <td>13.726494</td>\n",
       "      <td>ultra</td>\n",
       "      <td>Краснодар</td>\n",
       "      <td>1950</td>\n",
       "      <td>0.0</td>\n",
       "      <td>0</td>\n",
       "      <td>0.0</td>\n",
       "      <td>0</td>\n",
       "      <td>1950</td>\n",
       "      <td>0</td>\n",
       "    </tr>\n",
       "    <tr>\n",
       "      <td>1</td>\n",
       "      <td>1000</td>\n",
       "      <td>December</td>\n",
       "      <td>38.0</td>\n",
       "      <td>312.98</td>\n",
       "      <td>70</td>\n",
       "      <td>9.587510</td>\n",
       "      <td>ultra</td>\n",
       "      <td>Краснодар</td>\n",
       "      <td>1950</td>\n",
       "      <td>0.0</td>\n",
       "      <td>0</td>\n",
       "      <td>0.0</td>\n",
       "      <td>0</td>\n",
       "      <td>1950</td>\n",
       "      <td>0</td>\n",
       "    </tr>\n",
       "    <tr>\n",
       "      <td>2</td>\n",
       "      <td>1000</td>\n",
       "      <td>July</td>\n",
       "      <td>41.0</td>\n",
       "      <td>318.80</td>\n",
       "      <td>75</td>\n",
       "      <td>13.675430</td>\n",
       "      <td>ultra</td>\n",
       "      <td>Краснодар</td>\n",
       "      <td>1950</td>\n",
       "      <td>0.0</td>\n",
       "      <td>0</td>\n",
       "      <td>0.0</td>\n",
       "      <td>0</td>\n",
       "      <td>1950</td>\n",
       "      <td>0</td>\n",
       "    </tr>\n",
       "    <tr>\n",
       "      <td>3</td>\n",
       "      <td>1000</td>\n",
       "      <td>June</td>\n",
       "      <td>28.0</td>\n",
       "      <td>158.90</td>\n",
       "      <td>60</td>\n",
       "      <td>22.689229</td>\n",
       "      <td>ultra</td>\n",
       "      <td>Краснодар</td>\n",
       "      <td>1950</td>\n",
       "      <td>0.0</td>\n",
       "      <td>0</td>\n",
       "      <td>0.0</td>\n",
       "      <td>0</td>\n",
       "      <td>1950</td>\n",
       "      <td>0</td>\n",
       "    </tr>\n",
       "    <tr>\n",
       "      <td>4</td>\n",
       "      <td>1000</td>\n",
       "      <td>May</td>\n",
       "      <td>17.0</td>\n",
       "      <td>150.06</td>\n",
       "      <td>22</td>\n",
       "      <td>2.200674</td>\n",
       "      <td>ultra</td>\n",
       "      <td>Краснодар</td>\n",
       "      <td>1950</td>\n",
       "      <td>0.0</td>\n",
       "      <td>0</td>\n",
       "      <td>0.0</td>\n",
       "      <td>0</td>\n",
       "      <td>1950</td>\n",
       "      <td>0</td>\n",
       "    </tr>\n",
       "  </tbody>\n",
       "</table>\n",
       "</div>"
      ],
      "text/plain": [
       "   user_id     month  vyzov  minutes  sms    gb_used tariff       city    ap  \\\n",
       "0     1000    August   42.0   389.87   81  13.726494  ultra  Краснодар  1950   \n",
       "1     1000  December   38.0   312.98   70   9.587510  ultra  Краснодар  1950   \n",
       "2     1000      July   41.0   318.80   75  13.675430  ultra  Краснодар  1950   \n",
       "3     1000      June   28.0   158.90   60  22.689229  ultra  Краснодар  1950   \n",
       "4     1000       May   17.0   150.06   22   2.200674  ultra  Краснодар  1950   \n",
       "\n",
       "   minutes_over  sms_over  gb_over  month_over  month_$  over_or_no_over  \n",
       "0           0.0         0      0.0           0     1950                0  \n",
       "1           0.0         0      0.0           0     1950                0  \n",
       "2           0.0         0      0.0           0     1950                0  \n",
       "3           0.0         0      0.0           0     1950                0  \n",
       "4           0.0         0      0.0           0     1950                0  "
      ]
     },
     "execution_count": 79,
     "metadata": {},
     "output_type": "execute_result"
    }
   ],
   "source": [
    "df_group.head()"
   ]
  },
  {
   "cell_type": "code",
   "execution_count": 80,
   "metadata": {},
   "outputs": [
    {
     "data": {
      "text/html": [
       "<div>\n",
       "<style scoped>\n",
       "    .dataframe tbody tr th:only-of-type {\n",
       "        vertical-align: middle;\n",
       "    }\n",
       "\n",
       "    .dataframe tbody tr th {\n",
       "        vertical-align: top;\n",
       "    }\n",
       "\n",
       "    .dataframe thead th {\n",
       "        text-align: right;\n",
       "    }\n",
       "</style>\n",
       "<table border=\"1\" class=\"dataframe\">\n",
       "  <thead>\n",
       "    <tr style=\"text-align: right;\">\n",
       "      <th></th>\n",
       "      <th>tariff</th>\n",
       "      <th>minutes_over</th>\n",
       "      <th>sms_over</th>\n",
       "      <th>gb_over</th>\n",
       "    </tr>\n",
       "  </thead>\n",
       "  <tbody>\n",
       "    <tr>\n",
       "      <td>0</td>\n",
       "      <td>smart</td>\n",
       "      <td>68358.34</td>\n",
       "      <td>12928</td>\n",
       "      <td>6000.386962</td>\n",
       "    </tr>\n",
       "    <tr>\n",
       "      <td>1</td>\n",
       "      <td>ultra</td>\n",
       "      <td>0.00</td>\n",
       "      <td>0</td>\n",
       "      <td>721.472559</td>\n",
       "    </tr>\n",
       "  </tbody>\n",
       "</table>\n",
       "</div>"
      ],
      "text/plain": [
       "  tariff  minutes_over  sms_over      gb_over\n",
       "0  smart      68358.34     12928  6000.386962\n",
       "1  ultra          0.00         0   721.472559"
      ]
     },
     "execution_count": 80,
     "metadata": {},
     "output_type": "execute_result"
    }
   ],
   "source": [
    "# Посмотрим, какие услуги чаще всего заказывают дополнительно на кажлом тарифе\n",
    "(df_group.groupby('tariff').sum()[['minutes_over', 'sms_over', 'gb_over']]).reset_index()\n"
   ]
  },
  {
   "cell_type": "markdown",
   "metadata": {},
   "source": [
    "Клиентам тарифа Ультра минут и смс хватает, а вот гигабайт - нет, в то время, как на смарте абоненты докупает все три услуги."
   ]
  },
  {
   "cell_type": "markdown",
   "metadata": {},
   "source": [
    "## Отбросим выбросы из нашего датасета"
   ]
  },
  {
   "cell_type": "code",
   "execution_count": 81,
   "metadata": {},
   "outputs": [
    {
     "data": {
      "text/html": [
       "<div>\n",
       "<style scoped>\n",
       "    .dataframe tbody tr th:only-of-type {\n",
       "        vertical-align: middle;\n",
       "    }\n",
       "\n",
       "    .dataframe tbody tr th {\n",
       "        vertical-align: top;\n",
       "    }\n",
       "\n",
       "    .dataframe thead th {\n",
       "        text-align: right;\n",
       "    }\n",
       "</style>\n",
       "<table border=\"1\" class=\"dataframe\">\n",
       "  <thead>\n",
       "    <tr style=\"text-align: right;\">\n",
       "      <th></th>\n",
       "      <th>user_id</th>\n",
       "      <th>month</th>\n",
       "      <th>vyzov</th>\n",
       "      <th>minutes</th>\n",
       "      <th>sms</th>\n",
       "      <th>gb_used</th>\n",
       "      <th>tariff</th>\n",
       "      <th>city</th>\n",
       "      <th>ap</th>\n",
       "      <th>minutes_over</th>\n",
       "      <th>sms_over</th>\n",
       "      <th>gb_over</th>\n",
       "      <th>month_over</th>\n",
       "      <th>month_$</th>\n",
       "      <th>over_or_no_over</th>\n",
       "    </tr>\n",
       "  </thead>\n",
       "  <tbody>\n",
       "    <tr>\n",
       "      <td>0</td>\n",
       "      <td>1000</td>\n",
       "      <td>August</td>\n",
       "      <td>42.0</td>\n",
       "      <td>389.87</td>\n",
       "      <td>81</td>\n",
       "      <td>13.726494</td>\n",
       "      <td>ultra</td>\n",
       "      <td>Краснодар</td>\n",
       "      <td>1950</td>\n",
       "      <td>0.0</td>\n",
       "      <td>0</td>\n",
       "      <td>0.0</td>\n",
       "      <td>0</td>\n",
       "      <td>1950</td>\n",
       "      <td>0</td>\n",
       "    </tr>\n",
       "    <tr>\n",
       "      <td>1</td>\n",
       "      <td>1000</td>\n",
       "      <td>December</td>\n",
       "      <td>38.0</td>\n",
       "      <td>312.98</td>\n",
       "      <td>70</td>\n",
       "      <td>9.587510</td>\n",
       "      <td>ultra</td>\n",
       "      <td>Краснодар</td>\n",
       "      <td>1950</td>\n",
       "      <td>0.0</td>\n",
       "      <td>0</td>\n",
       "      <td>0.0</td>\n",
       "      <td>0</td>\n",
       "      <td>1950</td>\n",
       "      <td>0</td>\n",
       "    </tr>\n",
       "    <tr>\n",
       "      <td>2</td>\n",
       "      <td>1000</td>\n",
       "      <td>July</td>\n",
       "      <td>41.0</td>\n",
       "      <td>318.80</td>\n",
       "      <td>75</td>\n",
       "      <td>13.675430</td>\n",
       "      <td>ultra</td>\n",
       "      <td>Краснодар</td>\n",
       "      <td>1950</td>\n",
       "      <td>0.0</td>\n",
       "      <td>0</td>\n",
       "      <td>0.0</td>\n",
       "      <td>0</td>\n",
       "      <td>1950</td>\n",
       "      <td>0</td>\n",
       "    </tr>\n",
       "    <tr>\n",
       "      <td>3</td>\n",
       "      <td>1000</td>\n",
       "      <td>June</td>\n",
       "      <td>28.0</td>\n",
       "      <td>158.90</td>\n",
       "      <td>60</td>\n",
       "      <td>22.689229</td>\n",
       "      <td>ultra</td>\n",
       "      <td>Краснодар</td>\n",
       "      <td>1950</td>\n",
       "      <td>0.0</td>\n",
       "      <td>0</td>\n",
       "      <td>0.0</td>\n",
       "      <td>0</td>\n",
       "      <td>1950</td>\n",
       "      <td>0</td>\n",
       "    </tr>\n",
       "    <tr>\n",
       "      <td>4</td>\n",
       "      <td>1000</td>\n",
       "      <td>May</td>\n",
       "      <td>17.0</td>\n",
       "      <td>150.06</td>\n",
       "      <td>22</td>\n",
       "      <td>2.200674</td>\n",
       "      <td>ultra</td>\n",
       "      <td>Краснодар</td>\n",
       "      <td>1950</td>\n",
       "      <td>0.0</td>\n",
       "      <td>0</td>\n",
       "      <td>0.0</td>\n",
       "      <td>0</td>\n",
       "      <td>1950</td>\n",
       "      <td>0</td>\n",
       "    </tr>\n",
       "  </tbody>\n",
       "</table>\n",
       "</div>"
      ],
      "text/plain": [
       "   user_id     month  vyzov  minutes  sms    gb_used tariff       city    ap  \\\n",
       "0     1000    August   42.0   389.87   81  13.726494  ultra  Краснодар  1950   \n",
       "1     1000  December   38.0   312.98   70   9.587510  ultra  Краснодар  1950   \n",
       "2     1000      July   41.0   318.80   75  13.675430  ultra  Краснодар  1950   \n",
       "3     1000      June   28.0   158.90   60  22.689229  ultra  Краснодар  1950   \n",
       "4     1000       May   17.0   150.06   22   2.200674  ultra  Краснодар  1950   \n",
       "\n",
       "   minutes_over  sms_over  gb_over  month_over  month_$  over_or_no_over  \n",
       "0           0.0         0      0.0           0     1950                0  \n",
       "1           0.0         0      0.0           0     1950                0  \n",
       "2           0.0         0      0.0           0     1950                0  \n",
       "3           0.0         0      0.0           0     1950                0  \n",
       "4           0.0         0      0.0           0     1950                0  "
      ]
     },
     "execution_count": 81,
     "metadata": {},
     "output_type": "execute_result"
    }
   ],
   "source": [
    "df_group.head()"
   ]
  },
  {
   "cell_type": "code",
   "execution_count": 82,
   "metadata": {},
   "outputs": [],
   "source": [
    "# Напишем функцию для фильтрации необходимых нам параметров\n",
    "def vybros(df_group, column,graphic=0,x=5,y=5):\n",
    "    q1 = df_group[column].quantile(0.25)                 \n",
    "    q3 = df_group[column].quantile(0.75)\n",
    "    iqr = q3 - q1\n",
    "    filt = (df_group[column] >= (q1 - 1.5*iqr)) & (df_group[column] <= (q3 + 1.5*iqr))\n",
    "    if graphic == 1:\n",
    "        return df_group.loc[filt].boxplot([column], figsize=(x,y))\n",
    "    else:\n",
    "        return df_group.loc[filt]"
   ]
  },
  {
   "cell_type": "code",
   "execution_count": 83,
   "metadata": {},
   "outputs": [
    {
     "data": {
      "text/plain": [
       "(-20, 1000)"
      ]
     },
     "execution_count": 83,
     "metadata": {},
     "output_type": "execute_result"
    },
    {
     "data": {
      "image/png": "[encoded data removed]",
      "text/plain": [
       "<Figure size 360x360 with 1 Axes>"
      ]
     },
     "metadata": {
      "needs_background": "light"
     },
     "output_type": "display_data"
    }
   ],
   "source": [
    "#  Посмотрим на график продолжительности звонков\n",
    "vybros(df_group,'minutes',1,5,5).set_ylim(-20,1000)"
   ]
  },
  {
   "cell_type": "code",
   "execution_count": 84,
   "metadata": {},
   "outputs": [
    {
     "data": {
      "text/plain": [
       "count    3214.000000\n",
       "mean      432.067563\n",
       "std       222.730069\n",
       "min         0.100000\n",
       "25%       276.372500\n",
       "50%       424.535000\n",
       "75%       555.030000\n",
       "max      1578.060000\n",
       "Name: minutes, dtype: float64"
      ]
     },
     "execution_count": 84,
     "metadata": {},
     "output_type": "execute_result"
    }
   ],
   "source": [
    "df_group['minutes'].describe()"
   ]
  },
  {
   "cell_type": "markdown",
   "metadata": {},
   "source": [
    "После фильтрации данных столбца с продолжительностью звонков , \n",
    "\n",
    "основные значения лежат в диапозоне от 275 до 555 минут, среднее значение 223 минуты"
   ]
  },
  {
   "cell_type": "code",
   "execution_count": 85,
   "metadata": {},
   "outputs": [
    {
     "data": {
      "text/plain": [
       "(-20, 120)"
      ]
     },
     "execution_count": 85,
     "metadata": {},
     "output_type": "execute_result"
    },
    {
     "data": {
      "image/png": "[encoded data removed]",
      "text/plain": [
       "<Figure size 360x360 with 1 Axes>"
      ]
     },
     "metadata": {
      "needs_background": "light"
     },
     "output_type": "display_data"
    }
   ],
   "source": [
    "# Посмотрим на график отправленных смс\n",
    "vybros(df_group,'sms',1,5,5).set_ylim(-20,120)"
   ]
  },
  {
   "cell_type": "code",
   "execution_count": 86,
   "metadata": {},
   "outputs": [
    {
     "data": {
      "text/plain": [
       "count    3214.000000\n",
       "mean       45.239888\n",
       "std        32.226759\n",
       "min         1.000000\n",
       "25%        22.000000\n",
       "50%        45.000000\n",
       "75%        57.000000\n",
       "max       224.000000\n",
       "Name: sms, dtype: float64"
      ]
     },
     "execution_count": 86,
     "metadata": {},
     "output_type": "execute_result"
    }
   ],
   "source": [
    "df_group['sms'].describe()"
   ]
  },
  {
   "cell_type": "markdown",
   "metadata": {},
   "source": [
    "После фильтрации данных столбца с смс , основыные значения лежат в диапозоне от 22 до 57 смс,\n",
    "\n",
    "среднее значение 32 смс"
   ]
  },
  {
   "cell_type": "code",
   "execution_count": 87,
   "metadata": {},
   "outputs": [
    {
     "data": {
      "text/plain": [
       "(-10, 40)"
      ]
     },
     "execution_count": 87,
     "metadata": {},
     "output_type": "execute_result"
    },
    {
     "data": {
      "image/png": "[encoded data removed]",
      "text/plain": [
       "<Figure size 360x360 with 1 Axes>"
      ]
     },
     "metadata": {
      "needs_background": "light"
     },
     "output_type": "display_data"
    }
   ],
   "source": [
    "# Посмотрим на график интернет траффика\n",
    "vybros(df_group,'gb_used',1,5,5).set_ylim(-10,40)"
   ]
  },
  {
   "cell_type": "code",
   "execution_count": 88,
   "metadata": {},
   "outputs": [
    {
     "data": {
      "text/plain": [
       "count    3214.000000\n",
       "mean       16.862020\n",
       "std         7.327617\n",
       "min         0.000000\n",
       "25%        12.267490\n",
       "50%        16.588252\n",
       "75%        20.922485\n",
       "max        48.579775\n",
       "Name: gb_used, dtype: float64"
      ]
     },
     "execution_count": 88,
     "metadata": {},
     "output_type": "execute_result"
    }
   ],
   "source": [
    "df_group['gb_used'].describe()"
   ]
  },
  {
   "cell_type": "markdown",
   "metadata": {},
   "source": [
    "После фильтрации данных столбца с трафиком интернета , основыные значения лежат в диапозоне от 12 до 21 гигабайта,\n",
    "\n",
    "среднее значение 16 гигабайт"
   ]
  },
  {
   "cell_type": "markdown",
   "metadata": {},
   "source": [
    "## Посчитаем среднее количество, дисперсию и стандартное отклонение"
   ]
  },
  {
   "cell_type": "code",
   "execution_count": 89,
   "metadata": {},
   "outputs": [],
   "source": [
    "# Для начала разделим категоризируем абонентов по тарифу\n",
    "ultra = df_group.query('tariff == \"ultra\"')\n",
    "ultra = ultra.rename(columns={'minutes':'minutes_ultra','gb_used':'gb_used_ultra','sms':'sms_ultra'})\n",
    "smart = df_group.query('tariff == \"smart\"')\n",
    "smart = smart.rename(columns={'minutes':'minutes_smart','gb_used':'gb_used_smart','sms':'sms_smart'})\n"
   ]
  },
  {
   "cell_type": "code",
   "execution_count": 90,
   "metadata": {},
   "outputs": [
    {
     "name": "stdout",
     "output_type": "stream",
     "text": [
      "<class 'pandas.core.frame.DataFrame'>\n",
      "Int64Index: 2229 entries, 8 to 3213\n",
      "Data columns (total 15 columns):\n",
      "user_id            2229 non-null int64\n",
      "month              2229 non-null object\n",
      "vyzov              2229 non-null float64\n",
      "minutes_smart      2229 non-null float64\n",
      "sms_smart          2229 non-null int64\n",
      "gb_used_smart      2229 non-null float64\n",
      "tariff             2229 non-null object\n",
      "city               2229 non-null object\n",
      "ap                 2229 non-null int64\n",
      "minutes_over       2229 non-null float64\n",
      "sms_over           2229 non-null int64\n",
      "gb_over            2229 non-null float64\n",
      "month_over         2229 non-null int64\n",
      "month_$            2229 non-null int64\n",
      "over_or_no_over    2229 non-null int64\n",
      "dtypes: float64(5), int64(7), object(3)\n",
      "memory usage: 278.6+ KB\n"
     ]
    }
   ],
   "source": [
    "smart.info()"
   ]
  },
  {
   "cell_type": "code",
   "execution_count": 91,
   "metadata": {},
   "outputs": [],
   "source": [
    "for column in ['minutes', 'minutes_over', 'gb_used', 'gb_over']:\n",
    "    df_group[column] = df_group[column].astype('float')\n",
    "    \n",
    "for column in ['sms','sms_over', 'month_over','ap','month_over']:\n",
    "    df_group[column] = df_group[column].astype('int')"
   ]
  },
  {
   "cell_type": "code",
   "execution_count": 92,
   "metadata": {},
   "outputs": [],
   "source": [
    "ultra_min_mean= ultra['minutes_ultra'].mean()\n",
    "ultra_gb_used_mean = ultra['gb_used_ultra'].mean() \n",
    "ultra_sms_mean = ultra['sms_ultra'].mean()\n",
    "ultra_dsp_ultra_min = ultra['minutes_ultra'].var()\n",
    "ultra_dsp_gb_used = ultra['gb_used_ultra'].var()\n",
    "ultra_dsp_sms = ultra['sms_ultra'].var()\n",
    "ultra_std_min = ultra['minutes_ultra'].std()\n",
    "ultra_gb_std_used = ultra['gb_used_ultra'].std() \n",
    "ultra_std_sms = ultra['sms_ultra'].std()"
   ]
  },
  {
   "cell_type": "code",
   "execution_count": 93,
   "metadata": {},
   "outputs": [
    {
     "name": "stdout",
     "output_type": "stream",
     "text": [
      "Средняя количество минут разговора 513.736819694406\n",
      "Средний потребляемый трафик 19.183693107811386\n",
      "Среднее количество отправленных смс 58.04365482233503\n",
      "Дисперсия по количеству минут разговора 80285.95532856914\n",
      "Дисперсия потребляемый трафик 93.38146123678116\n",
      "Дисперсия по количеству отправленных смс 1743.009271181544\n",
      "Отклонение по количеству минут 283.3477639378316\n",
      "Отклонение по количеству трафика 9.663408365415442\n",
      "Отклонение по смс 41.74936252425351\n"
     ]
    }
   ],
   "source": [
    "print('Средняя количество минут разговора', format(ultra_min_mean))\n",
    "print('Средний потребляемый трафик',format(ultra_gb_used_mean))\n",
    "print('Среднее количество отправленных смс', format(ultra_sms_mean))\n",
    "print('Дисперсия по количеству минут разговора',format(ultra_dsp_ultra_min))\n",
    "print('Дисперсия потребляемый трафик', format(ultra_dsp_gb_used))\n",
    "print('Дисперсия по количеству отправленных смс', format(ultra_dsp_sms))\n",
    "print('Отклонение по количеству минут', format(ultra_std_min))\n",
    "print('Отклонение по количеству трафика',format(ultra_gb_std_used ))\n",
    "print('Отклонение по смс',format(ultra_std_sms))"
   ]
  },
  {
   "cell_type": "code",
   "execution_count": 94,
   "metadata": {},
   "outputs": [],
   "source": [
    "smart_min_mean= smart['minutes_smart'].mean()\n",
    "smart_gb_used_mean = smart['gb_used_smart'].mean() \n",
    "smart_sms_mean = smart['sms_smart'].mean()\n",
    "smart_dsp_ultra_min = smart['minutes_smart'].var()\n",
    "smart_dsp_gb_used = smart['gb_used_smart'].var()\n",
    "smart_dsp_sms = smart['sms_smart'].var()\n",
    "smart_std_min = smart['minutes_smart'].std()\n",
    "smart_gb_std_used = smart['gb_used_smart'].std() \n",
    "smart_std_sms = smart['sms_smart'].std()"
   ]
  },
  {
   "cell_type": "code",
   "execution_count": 95,
   "metadata": {},
   "outputs": [
    {
     "name": "stdout",
     "output_type": "stream",
     "text": [
      "Средняя количество минут разговора 395.97773912294775\n",
      "Средний потребляемый трафик 15.836067755924345\n",
      "Среднее количество отправленных смс 39.5818752803948\n",
      "Дисперсия по количеству минут разговора 31830.468217642894\n",
      "Дисперсия потребляемый трафик 32.753968624139446\n",
      "Дисперсия по количеству отправленных смс 623.4067808623554\n",
      "Отклонение по количеству минут 178.41095318853854\n",
      "Отклонение по количеству трафика 5.7231083009269925\n",
      "Отклонение по смс 24.968115284545515\n"
     ]
    }
   ],
   "source": [
    "print('Средняя количество минут разговора', format(smart_min_mean))\n",
    "print('Средний потребляемый трафик',format(smart_gb_used_mean))\n",
    "print('Среднее количество отправленных смс', format(smart_sms_mean))\n",
    "print('Дисперсия по количеству минут разговора',format(smart_dsp_ultra_min))\n",
    "print('Дисперсия потребляемый трафик', format(smart_dsp_gb_used))\n",
    "print('Дисперсия по количеству отправленных смс', format(smart_dsp_sms))\n",
    "print('Отклонение по количеству минут', format(smart_std_min))\n",
    "print('Отклонение по количеству трафика',format(smart_gb_std_used ))\n",
    "print('Отклонение по смс',format(smart_std_sms))"
   ]
  },
  {
   "cell_type": "code",
   "execution_count": null,
   "metadata": {},
   "outputs": [],
   "source": []
  },
  {
   "cell_type": "code",
   "execution_count": 96,
   "metadata": {},
   "outputs": [
    {
     "data": {
      "image/png": "[encoded data removed]",
      "text/plain": [
       "<Figure size 864x432 with 1 Axes>"
      ]
     },
     "metadata": {
      "needs_background": "light"
     },
     "output_type": "display_data"
    }
   ],
   "source": [
    "smart['minutes_smart'].plot(kind= 'hist', figsize = (12,6), legend=True)\n",
    "ultra['minutes_ultra'].plot(kind= 'hist',figsize = (12,6), legend=True, alpha = 0.5, grid=True,title = 'Продолжительность звонков')\n",
    "plt.show()"
   ]
  },
  {
   "cell_type": "markdown",
   "metadata": {},
   "source": [
    "На тарифе Смарт люди разговаривают в месяц в течение 250-550 минут. Медиана равна 395 минут.\n",
    "\n",
    "Абоненты на 75% используют свой лимит по звонкам\n",
    "С тарифом Ультра другая ситуация - большая часть пользователей вообще не разговаривает голосом. Из тех, кто разговаривает, в среднем наговаривают 513 минут.\n",
    "\n",
    "В итоге тариф ультра более разговорчив, чем тариф смарт)"
   ]
  },
  {
   "cell_type": "code",
   "execution_count": 97,
   "metadata": {},
   "outputs": [
    {
     "data": {
      "image/png": "[encoded data removed]",
      "text/plain": [
       "<Figure size 864x432 with 1 Axes>"
      ]
     },
     "metadata": {
      "needs_background": "light"
     },
     "output_type": "display_data"
    }
   ],
   "source": [
    "smart['sms_smart'].plot(kind= 'hist', figsize = (12,6), legend=True)\n",
    "ultra['sms_ultra'].plot(kind= 'hist',figsize = (12,6), legend=True, alpha = 0.5, grid=True,title = 'Количество отправленных смс')\n",
    "plt.show()"
   ]
  },
  {
   "cell_type": "markdown",
   "metadata": {},
   "source": [
    "Большая часть пользователей и того и другого тарифане отправляет СМС сообщения, но из тех, кто отправляет, больштнство пользователи тарифа Смарт - в среднем они отправляют до 58 СМС в месяц. Пользователи тарифа  отправляют до 40 СМС."
   ]
  },
  {
   "cell_type": "code",
   "execution_count": 98,
   "metadata": {},
   "outputs": [
    {
     "data": {
      "image/png": "[encoded data removed]",
      "text/plain": [
       "<Figure size 864x432 with 1 Axes>"
      ]
     },
     "metadata": {
      "needs_background": "light"
     },
     "output_type": "display_data"
    }
   ],
   "source": [
    "smart['gb_used_smart'].plot(kind= 'hist', figsize = (12,6), legend=True)\n",
    "ultra['gb_used_ultra'].plot(kind= 'hist',figsize = (12,6), legend=True, alpha = 0.5, grid=True,title = 'Интернет траффик')\n",
    "plt.show()"
   ]
  },
  {
   "cell_type": "markdown",
   "metadata": {},
   "source": [
    "Клиенты с тарифом Смарт в среднем в месяц используют от 12 до 22 Гб трафика. Причем медиана равна 15.8 Гб, что \"вылезает\" за пределы, установленные абонентской платой - в 15 Гб. Фактически, клиенты тарифа Смарт  регулярно заказывают доп. пакеты с интернетом, когда основной пакет заканчивается.\n",
    "Клиенты с тарифом Ультра активней пользуются интернетом - медиана равна 19 Гб, но учитывая лимит в 30 Гб, у них есть ещё большой запас по количеству оставшегося для использования трафика."
   ]
  },
  {
   "cell_type": "markdown",
   "metadata": {},
   "source": [
    "## Проверка гипотез"
   ]
  },
  {
   "cell_type": "markdown",
   "metadata": {},
   "source": [
    "## Cредняя выручка пользователей тарифов «Ультра» и «Смарт» различается"
   ]
  },
  {
   "cell_type": "markdown",
   "metadata": {},
   "source": [
    "Нулевая гипотеза -  в данном случае, что средняя выручка пользователей тарифа Смарт не отличается \n",
    "от средней выручки пользователей тарифа Ультра.\n",
    "\n",
    "Альтернативная гипотеза - средняя выручка пользователей тарифа Смарт отличается \n",
    "от средней выручки пользователей тарифа Ультра."
   ]
  },
  {
   "cell_type": "code",
   "execution_count": 99,
   "metadata": {},
   "outputs": [
    {
     "data": {
      "text/plain": [
       "month\n",
       "April         939.758929\n",
       "August       1291.136170\n",
       "December     1533.762611\n",
       "February      811.258621\n",
       "January       719.294118\n",
       "July         1192.860697\n",
       "June         1176.524390\n",
       "March        1134.857143\n",
       "May          1172.617021\n",
       "November     1308.462025\n",
       "October      1331.323129\n",
       "September    1216.103846\n",
       "Name: month_$, dtype: float64"
      ]
     },
     "execution_count": 99,
     "metadata": {},
     "output_type": "execute_result"
    }
   ],
   "source": [
    "# собирем списки выручки по месяцам для тарифа смарт\n",
    "smart_table=smart.pivot_table(index = 'month', values = 'month_$', aggfunc = 'mean')\n",
    "smart_mean = smart_table['month_$']\n",
    "smart_mean"
   ]
  },
  {
   "cell_type": "code",
   "execution_count": 100,
   "metadata": {},
   "outputs": [
    {
     "data": {
      "text/plain": [
       "month\n",
       "April        2001.818182\n",
       "August       2083.177570\n",
       "December     2138.848921\n",
       "February     1975.000000\n",
       "January      1950.000000\n",
       "July         2118.131868\n",
       "June         2039.285714\n",
       "March        2014.864865\n",
       "May          2059.701493\n",
       "November     2092.164179\n",
       "October      2065.853659\n",
       "September    2024.347826\n",
       "Name: month_$, dtype: float64"
      ]
     },
     "execution_count": 100,
     "metadata": {},
     "output_type": "execute_result"
    }
   ],
   "source": [
    "# собирем списки выручки по месяцам для тарифа смарт\n",
    "\n",
    "ultra_table=ultra.pivot_table(index = 'month', values = 'month_$', aggfunc = 'mean')\n",
    "ultra_mean = ultra_table['month_$']\n",
    "ultra_mean"
   ]
  },
  {
   "cell_type": "code",
   "execution_count": 101,
   "metadata": {},
   "outputs": [],
   "source": [
    "from scipy import stats as st"
   ]
  },
  {
   "cell_type": "code",
   "execution_count": 102,
   "metadata": {},
   "outputs": [
    {
     "name": "stdout",
     "output_type": "stream",
     "text": [
      "p-значение:  6.933518982669393e-12\n",
      "Отвергаем нулевую гипотезу\n"
     ]
    }
   ],
   "source": [
    "# Выборки у нас независимые, исполь ttest_ind \n",
    "\n",
    "\n",
    "alpha = .05 \n",
    "    \n",
    "results = st.ttest_ind(ultra_mean, smart_mean)\n",
    "    \n",
    "print('p-значение: ', results.pvalue)\n",
    "    \n",
    "if (results.pvalue < alpha):\n",
    "    print(\"Отвергаем нулевую гипотезу\")\n",
    "else:\n",
    "    print(\"Не получилось отвергнуть нулевую гипотезу\")\n"
   ]
  },
  {
   "cell_type": "code",
   "execution_count": 103,
   "metadata": {},
   "outputs": [
    {
     "data": {
      "text/html": [
       "<div>\n",
       "<style scoped>\n",
       "    .dataframe tbody tr th:only-of-type {\n",
       "        vertical-align: middle;\n",
       "    }\n",
       "\n",
       "    .dataframe tbody tr th {\n",
       "        vertical-align: top;\n",
       "    }\n",
       "\n",
       "    .dataframe thead th {\n",
       "        text-align: right;\n",
       "    }\n",
       "</style>\n",
       "<table border=\"1\" class=\"dataframe\">\n",
       "  <thead>\n",
       "    <tr style=\"text-align: right;\">\n",
       "      <th></th>\n",
       "      <th>messages_included</th>\n",
       "      <th>gb_per_month_included</th>\n",
       "      <th>minutes_included</th>\n",
       "      <th>rub_monthly_fee</th>\n",
       "      <th>rub_per_gb</th>\n",
       "      <th>rub_per_message</th>\n",
       "      <th>rub_per_minute</th>\n",
       "      <th>tariff_name</th>\n",
       "    </tr>\n",
       "  </thead>\n",
       "  <tbody>\n",
       "    <tr>\n",
       "      <td>0</td>\n",
       "      <td>50</td>\n",
       "      <td>15.0</td>\n",
       "      <td>500</td>\n",
       "      <td>550</td>\n",
       "      <td>200</td>\n",
       "      <td>3</td>\n",
       "      <td>3</td>\n",
       "      <td>smart</td>\n",
       "    </tr>\n",
       "    <tr>\n",
       "      <td>1</td>\n",
       "      <td>1000</td>\n",
       "      <td>30.0</td>\n",
       "      <td>3000</td>\n",
       "      <td>1950</td>\n",
       "      <td>150</td>\n",
       "      <td>1</td>\n",
       "      <td>1</td>\n",
       "      <td>ultra</td>\n",
       "    </tr>\n",
       "  </tbody>\n",
       "</table>\n",
       "</div>"
      ],
      "text/plain": [
       "   messages_included  gb_per_month_included  minutes_included  \\\n",
       "0                 50                   15.0               500   \n",
       "1               1000                   30.0              3000   \n",
       "\n",
       "   rub_monthly_fee  rub_per_gb  rub_per_message  rub_per_minute tariff_name  \n",
       "0              550         200                3               3       smart  \n",
       "1             1950         150                1               1       ultra  "
      ]
     },
     "execution_count": 103,
     "metadata": {},
     "output_type": "execute_result"
    }
   ],
   "source": [
    "df_tar"
   ]
  },
  {
   "cell_type": "markdown",
   "metadata": {},
   "source": [
    "Абоненты тарифа Ультра приносят больше денег - абонентская плата в 3,5 раза выше,\n",
    "чем абонентская плата Смарт (1950р. против 550р.). \n",
    "\n",
    "Абоненты  Смарт часто выходят за рамки  тарифа и заказывают дополнительные услуги, \n",
    "но тем не менее не догоняют по затратам абонента Ультра."
   ]
  },
  {
   "cell_type": "markdown",
   "metadata": {},
   "source": [
    "## Cредняя выручка пользователей из Москвы отличается от выручки пользователей из других регионов"
   ]
  },
  {
   "cell_type": "code",
   "execution_count": 104,
   "metadata": {},
   "outputs": [
    {
     "data": {
      "text/html": [
       "<div>\n",
       "<style scoped>\n",
       "    .dataframe tbody tr th:only-of-type {\n",
       "        vertical-align: middle;\n",
       "    }\n",
       "\n",
       "    .dataframe tbody tr th {\n",
       "        vertical-align: top;\n",
       "    }\n",
       "\n",
       "    .dataframe thead th {\n",
       "        text-align: right;\n",
       "    }\n",
       "</style>\n",
       "<table border=\"1\" class=\"dataframe\">\n",
       "  <thead>\n",
       "    <tr style=\"text-align: right;\">\n",
       "      <th></th>\n",
       "      <th>user_id</th>\n",
       "      <th>month</th>\n",
       "      <th>vyzov</th>\n",
       "      <th>minutes</th>\n",
       "      <th>sms</th>\n",
       "      <th>gb_used</th>\n",
       "      <th>tariff</th>\n",
       "      <th>city</th>\n",
       "      <th>ap</th>\n",
       "      <th>minutes_over</th>\n",
       "      <th>sms_over</th>\n",
       "      <th>gb_over</th>\n",
       "      <th>month_over</th>\n",
       "      <th>month_$</th>\n",
       "      <th>over_or_no_over</th>\n",
       "      <th>moscow_or_not</th>\n",
       "    </tr>\n",
       "  </thead>\n",
       "  <tbody>\n",
       "    <tr>\n",
       "      <td>85</td>\n",
       "      <td>1011</td>\n",
       "      <td>November</td>\n",
       "      <td>52.0</td>\n",
       "      <td>475.08</td>\n",
       "      <td>12</td>\n",
       "      <td>24.707988</td>\n",
       "      <td>smart</td>\n",
       "      <td>Самара</td>\n",
       "      <td>550</td>\n",
       "      <td>0.00</td>\n",
       "      <td>0</td>\n",
       "      <td>9.707988</td>\n",
       "      <td>2000</td>\n",
       "      <td>2550</td>\n",
       "      <td>1</td>\n",
       "      <td>0</td>\n",
       "    </tr>\n",
       "    <tr>\n",
       "      <td>400</td>\n",
       "      <td>1063</td>\n",
       "      <td>September</td>\n",
       "      <td>96.0</td>\n",
       "      <td>772.79</td>\n",
       "      <td>45</td>\n",
       "      <td>25.185215</td>\n",
       "      <td>ultra</td>\n",
       "      <td>Тула</td>\n",
       "      <td>1950</td>\n",
       "      <td>0.00</td>\n",
       "      <td>0</td>\n",
       "      <td>0.000000</td>\n",
       "      <td>0</td>\n",
       "      <td>1950</td>\n",
       "      <td>0</td>\n",
       "      <td>0</td>\n",
       "    </tr>\n",
       "    <tr>\n",
       "      <td>2122</td>\n",
       "      <td>1335</td>\n",
       "      <td>August</td>\n",
       "      <td>85.0</td>\n",
       "      <td>716.83</td>\n",
       "      <td>105</td>\n",
       "      <td>18.237939</td>\n",
       "      <td>ultra</td>\n",
       "      <td>Москва</td>\n",
       "      <td>1950</td>\n",
       "      <td>0.00</td>\n",
       "      <td>0</td>\n",
       "      <td>0.000000</td>\n",
       "      <td>0</td>\n",
       "      <td>1950</td>\n",
       "      <td>0</td>\n",
       "      <td>1</td>\n",
       "    </tr>\n",
       "    <tr>\n",
       "      <td>619</td>\n",
       "      <td>1098</td>\n",
       "      <td>July</td>\n",
       "      <td>59.0</td>\n",
       "      <td>467.53</td>\n",
       "      <td>7</td>\n",
       "      <td>20.934707</td>\n",
       "      <td>smart</td>\n",
       "      <td>Челябинск</td>\n",
       "      <td>550</td>\n",
       "      <td>0.00</td>\n",
       "      <td>0</td>\n",
       "      <td>5.934707</td>\n",
       "      <td>1200</td>\n",
       "      <td>1750</td>\n",
       "      <td>1</td>\n",
       "      <td>0</td>\n",
       "    </tr>\n",
       "    <tr>\n",
       "      <td>2864</td>\n",
       "      <td>1447</td>\n",
       "      <td>November</td>\n",
       "      <td>72.0</td>\n",
       "      <td>610.22</td>\n",
       "      <td>64</td>\n",
       "      <td>18.633740</td>\n",
       "      <td>smart</td>\n",
       "      <td>Москва</td>\n",
       "      <td>550</td>\n",
       "      <td>110.22</td>\n",
       "      <td>14</td>\n",
       "      <td>3.633740</td>\n",
       "      <td>1175</td>\n",
       "      <td>1725</td>\n",
       "      <td>1</td>\n",
       "      <td>1</td>\n",
       "    </tr>\n",
       "    <tr>\n",
       "      <td>1514</td>\n",
       "      <td>1239</td>\n",
       "      <td>June</td>\n",
       "      <td>32.0</td>\n",
       "      <td>291.79</td>\n",
       "      <td>17</td>\n",
       "      <td>9.745508</td>\n",
       "      <td>smart</td>\n",
       "      <td>Самара</td>\n",
       "      <td>550</td>\n",
       "      <td>0.00</td>\n",
       "      <td>0</td>\n",
       "      <td>0.000000</td>\n",
       "      <td>0</td>\n",
       "      <td>550</td>\n",
       "      <td>0</td>\n",
       "      <td>0</td>\n",
       "    </tr>\n",
       "    <tr>\n",
       "      <td>2844</td>\n",
       "      <td>1440</td>\n",
       "      <td>November</td>\n",
       "      <td>19.0</td>\n",
       "      <td>156.14</td>\n",
       "      <td>97</td>\n",
       "      <td>17.303633</td>\n",
       "      <td>ultra</td>\n",
       "      <td>Москва</td>\n",
       "      <td>1950</td>\n",
       "      <td>0.00</td>\n",
       "      <td>0</td>\n",
       "      <td>0.000000</td>\n",
       "      <td>0</td>\n",
       "      <td>1950</td>\n",
       "      <td>0</td>\n",
       "      <td>1</td>\n",
       "    </tr>\n",
       "    <tr>\n",
       "      <td>1603</td>\n",
       "      <td>1252</td>\n",
       "      <td>December</td>\n",
       "      <td>53.0</td>\n",
       "      <td>506.36</td>\n",
       "      <td>20</td>\n",
       "      <td>17.298350</td>\n",
       "      <td>smart</td>\n",
       "      <td>Ростов-на-Дону</td>\n",
       "      <td>550</td>\n",
       "      <td>6.36</td>\n",
       "      <td>0</td>\n",
       "      <td>2.298350</td>\n",
       "      <td>621</td>\n",
       "      <td>1171</td>\n",
       "      <td>1</td>\n",
       "      <td>0</td>\n",
       "    </tr>\n",
       "    <tr>\n",
       "      <td>2038</td>\n",
       "      <td>1321</td>\n",
       "      <td>November</td>\n",
       "      <td>56.0</td>\n",
       "      <td>423.23</td>\n",
       "      <td>30</td>\n",
       "      <td>18.754414</td>\n",
       "      <td>smart</td>\n",
       "      <td>Москва</td>\n",
       "      <td>550</td>\n",
       "      <td>0.00</td>\n",
       "      <td>0</td>\n",
       "      <td>3.754414</td>\n",
       "      <td>800</td>\n",
       "      <td>1350</td>\n",
       "      <td>1</td>\n",
       "      <td>1</td>\n",
       "    </tr>\n",
       "    <tr>\n",
       "      <td>2307</td>\n",
       "      <td>1365</td>\n",
       "      <td>November</td>\n",
       "      <td>70.0</td>\n",
       "      <td>589.31</td>\n",
       "      <td>46</td>\n",
       "      <td>23.391934</td>\n",
       "      <td>smart</td>\n",
       "      <td>Ростов-на-Дону</td>\n",
       "      <td>550</td>\n",
       "      <td>89.31</td>\n",
       "      <td>0</td>\n",
       "      <td>8.391934</td>\n",
       "      <td>2070</td>\n",
       "      <td>2620</td>\n",
       "      <td>1</td>\n",
       "      <td>0</td>\n",
       "    </tr>\n",
       "  </tbody>\n",
       "</table>\n",
       "</div>"
      ],
      "text/plain": [
       "      user_id      month  vyzov  minutes  sms    gb_used tariff  \\\n",
       "85       1011   November   52.0   475.08   12  24.707988  smart   \n",
       "400      1063  September   96.0   772.79   45  25.185215  ultra   \n",
       "2122     1335     August   85.0   716.83  105  18.237939  ultra   \n",
       "619      1098       July   59.0   467.53    7  20.934707  smart   \n",
       "2864     1447   November   72.0   610.22   64  18.633740  smart   \n",
       "1514     1239       June   32.0   291.79   17   9.745508  smart   \n",
       "2844     1440   November   19.0   156.14   97  17.303633  ultra   \n",
       "1603     1252   December   53.0   506.36   20  17.298350  smart   \n",
       "2038     1321   November   56.0   423.23   30  18.754414  smart   \n",
       "2307     1365   November   70.0   589.31   46  23.391934  smart   \n",
       "\n",
       "                city    ap  minutes_over  sms_over   gb_over  month_over  \\\n",
       "85            Самара   550          0.00         0  9.707988        2000   \n",
       "400             Тула  1950          0.00         0  0.000000           0   \n",
       "2122          Москва  1950          0.00         0  0.000000           0   \n",
       "619        Челябинск   550          0.00         0  5.934707        1200   \n",
       "2864          Москва   550        110.22        14  3.633740        1175   \n",
       "1514          Самара   550          0.00         0  0.000000           0   \n",
       "2844          Москва  1950          0.00         0  0.000000           0   \n",
       "1603  Ростов-на-Дону   550          6.36         0  2.298350         621   \n",
       "2038          Москва   550          0.00         0  3.754414         800   \n",
       "2307  Ростов-на-Дону   550         89.31         0  8.391934        2070   \n",
       "\n",
       "      month_$  over_or_no_over  moscow_or_not  \n",
       "85       2550                1              0  \n",
       "400      1950                0              0  \n",
       "2122     1950                0              1  \n",
       "619      1750                1              0  \n",
       "2864     1725                1              1  \n",
       "1514      550                0              0  \n",
       "2844     1950                0              1  \n",
       "1603     1171                1              0  \n",
       "2038     1350                1              1  \n",
       "2307     2620                1              0  "
      ]
     },
     "execution_count": 104,
     "metadata": {},
     "output_type": "execute_result"
    }
   ],
   "source": [
    "#  Категоризируем абонентов, которые находятся в Москве (1) и за ее пределами (0), и запишем в столбец 'moscow_or_not'\n",
    "df_group['moscow_or_not'] = np.where(df_group['city'] == \"Москва\", 1, 0)\n",
    "df_group.sample(10)"
   ]
  },
  {
   "cell_type": "code",
   "execution_count": 105,
   "metadata": {},
   "outputs": [
    {
     "data": {
      "text/html": [
       "<div>\n",
       "<style scoped>\n",
       "    .dataframe tbody tr th:only-of-type {\n",
       "        vertical-align: middle;\n",
       "    }\n",
       "\n",
       "    .dataframe tbody tr th {\n",
       "        vertical-align: top;\n",
       "    }\n",
       "\n",
       "    .dataframe thead th {\n",
       "        text-align: right;\n",
       "    }\n",
       "</style>\n",
       "<table border=\"1\" class=\"dataframe\">\n",
       "  <thead>\n",
       "    <tr style=\"text-align: right;\">\n",
       "      <th></th>\n",
       "      <th>month_$</th>\n",
       "    </tr>\n",
       "    <tr>\n",
       "      <th>month</th>\n",
       "      <th></th>\n",
       "    </tr>\n",
       "  </thead>\n",
       "  <tbody>\n",
       "    <tr>\n",
       "      <td>April</td>\n",
       "      <td>1491.310345</td>\n",
       "    </tr>\n",
       "    <tr>\n",
       "      <td>August</td>\n",
       "      <td>1580.774194</td>\n",
       "    </tr>\n",
       "    <tr>\n",
       "      <td>December</td>\n",
       "      <td>1617.843750</td>\n",
       "    </tr>\n",
       "    <tr>\n",
       "      <td>February</td>\n",
       "      <td>1168.928571</td>\n",
       "    </tr>\n",
       "    <tr>\n",
       "      <td>January</td>\n",
       "      <td>1475.000000</td>\n",
       "    </tr>\n",
       "    <tr>\n",
       "      <td>July</td>\n",
       "      <td>1429.982143</td>\n",
       "    </tr>\n",
       "    <tr>\n",
       "      <td>June</td>\n",
       "      <td>1484.319149</td>\n",
       "    </tr>\n",
       "    <tr>\n",
       "      <td>March</td>\n",
       "      <td>1633.100000</td>\n",
       "    </tr>\n",
       "    <tr>\n",
       "      <td>May</td>\n",
       "      <td>1457.128205</td>\n",
       "    </tr>\n",
       "    <tr>\n",
       "      <td>November</td>\n",
       "      <td>1552.857143</td>\n",
       "    </tr>\n",
       "    <tr>\n",
       "      <td>October</td>\n",
       "      <td>1527.530864</td>\n",
       "    </tr>\n",
       "    <tr>\n",
       "      <td>September</td>\n",
       "      <td>1526.352941</td>\n",
       "    </tr>\n",
       "  </tbody>\n",
       "</table>\n",
       "</div>"
      ],
      "text/plain": [
       "               month_$\n",
       "month                 \n",
       "April      1491.310345\n",
       "August     1580.774194\n",
       "December   1617.843750\n",
       "February   1168.928571\n",
       "January    1475.000000\n",
       "July       1429.982143\n",
       "June       1484.319149\n",
       "March      1633.100000\n",
       "May        1457.128205\n",
       "November   1552.857143\n",
       "October    1527.530864\n",
       "September  1526.352941"
      ]
     },
     "execution_count": 105,
     "metadata": {},
     "output_type": "execute_result"
    }
   ],
   "source": [
    "# Соберем таблицу для абонентов из Москвы и узнаем средюю вырочку за месяц\n",
    "moscow= df_group.query('moscow_or_not == \"1\"')\n",
    "moscow_mean = moscow.pivot_table(index = 'month', values = 'month_$', aggfunc = 'mean')\n",
    "moscow_mean"
   ]
  },
  {
   "cell_type": "code",
   "execution_count": 106,
   "metadata": {},
   "outputs": [
    {
     "data": {
      "text/html": [
       "<div>\n",
       "<style scoped>\n",
       "    .dataframe tbody tr th:only-of-type {\n",
       "        vertical-align: middle;\n",
       "    }\n",
       "\n",
       "    .dataframe tbody tr th {\n",
       "        vertical-align: top;\n",
       "    }\n",
       "\n",
       "    .dataframe thead th {\n",
       "        text-align: right;\n",
       "    }\n",
       "</style>\n",
       "<table border=\"1\" class=\"dataframe\">\n",
       "  <thead>\n",
       "    <tr style=\"text-align: right;\">\n",
       "      <th></th>\n",
       "      <th>month_$</th>\n",
       "    </tr>\n",
       "    <tr>\n",
       "      <th>month</th>\n",
       "      <th></th>\n",
       "    </tr>\n",
       "  </thead>\n",
       "  <tbody>\n",
       "    <tr>\n",
       "      <td>April</td>\n",
       "      <td>1247.137681</td>\n",
       "    </tr>\n",
       "    <tr>\n",
       "      <td>August</td>\n",
       "      <td>1529.675000</td>\n",
       "    </tr>\n",
       "    <tr>\n",
       "      <td>December</td>\n",
       "      <td>1733.855263</td>\n",
       "    </tr>\n",
       "    <tr>\n",
       "      <td>February</td>\n",
       "      <td>1148.352941</td>\n",
       "    </tr>\n",
       "    <tr>\n",
       "      <td>January</td>\n",
       "      <td>863.028571</td>\n",
       "    </tr>\n",
       "    <tr>\n",
       "      <td>July</td>\n",
       "      <td>1493.372881</td>\n",
       "    </tr>\n",
       "    <tr>\n",
       "      <td>June</td>\n",
       "      <td>1465.109453</td>\n",
       "    </tr>\n",
       "    <tr>\n",
       "      <td>March</td>\n",
       "      <td>1375.234043</td>\n",
       "    </tr>\n",
       "    <tr>\n",
       "      <td>May</td>\n",
       "      <td>1458.644970</td>\n",
       "    </tr>\n",
       "    <tr>\n",
       "      <td>November</td>\n",
       "      <td>1539.036212</td>\n",
       "    </tr>\n",
       "    <tr>\n",
       "      <td>October</td>\n",
       "      <td>1552.913690</td>\n",
       "    </tr>\n",
       "    <tr>\n",
       "      <td>September</td>\n",
       "      <td>1450.146580</td>\n",
       "    </tr>\n",
       "  </tbody>\n",
       "</table>\n",
       "</div>"
      ],
      "text/plain": [
       "               month_$\n",
       "month                 \n",
       "April      1247.137681\n",
       "August     1529.675000\n",
       "December   1733.855263\n",
       "February   1148.352941\n",
       "January     863.028571\n",
       "July       1493.372881\n",
       "June       1465.109453\n",
       "March      1375.234043\n",
       "May        1458.644970\n",
       "November   1539.036212\n",
       "October    1552.913690\n",
       "September  1450.146580"
      ]
     },
     "execution_count": 106,
     "metadata": {},
     "output_type": "execute_result"
    }
   ],
   "source": [
    "# Соберем таблицу для абонентов из других городов и узнаем средюю вырочку за месяц\n",
    "other= df_group.query('moscow_or_not == \"0\"')\n",
    "other_mean = other.pivot_table(index = 'month', values = 'month_$', aggfunc = 'mean')\n",
    "other_mean"
   ]
  },
  {
   "cell_type": "code",
   "execution_count": 107,
   "metadata": {},
   "outputs": [
    {
     "name": "stdout",
     "output_type": "stream",
     "text": [
      "p-значение:  [0.23377174]\n",
      "Не получилось отвергнуть нулевую гипотезу\n"
     ]
    }
   ],
   "source": [
    "# Выборки у нас независимые, bcgjkmpetv ttest_ind \n",
    "\n",
    "\n",
    "alpha = .05 \n",
    "    \n",
    "results = st.ttest_ind(moscow_mean, other_mean)\n",
    "    \n",
    "print('p-значение: ', results.pvalue)\n",
    "    \n",
    "if (results.pvalue < alpha):\n",
    "    print(\"Отвергаем нулевую гипотезу\")\n",
    "else:\n",
    "    print(\"Не получилось отвергнуть нулевую гипотезу\")"
   ]
  },
  {
   "cell_type": "markdown",
   "metadata": {},
   "source": [
    "Нулевую гипотезу отвергнуть не получается.\n",
    "Средняя выручка пользователей из Москвы не отличается от выручки пользователей из других регионов."
   ]
  },
  {
   "cell_type": "markdown",
   "metadata": {},
   "source": [
    "## Общий вывод"
   ]
  },
  {
   "cell_type": "code",
   "execution_count": 108,
   "metadata": {},
   "outputs": [
    {
     "data": {
      "text/html": [
       "<div>\n",
       "<style scoped>\n",
       "    .dataframe tbody tr th:only-of-type {\n",
       "        vertical-align: middle;\n",
       "    }\n",
       "\n",
       "    .dataframe tbody tr th {\n",
       "        vertical-align: top;\n",
       "    }\n",
       "\n",
       "    .dataframe thead th {\n",
       "        text-align: right;\n",
       "    }\n",
       "</style>\n",
       "<table border=\"1\" class=\"dataframe\">\n",
       "  <thead>\n",
       "    <tr style=\"text-align: right;\">\n",
       "      <th></th>\n",
       "      <th>user_id</th>\n",
       "      <th>vyzov</th>\n",
       "      <th>minutes_smart</th>\n",
       "      <th>sms_smart</th>\n",
       "      <th>gb_used_smart</th>\n",
       "      <th>ap</th>\n",
       "      <th>minutes_over</th>\n",
       "      <th>sms_over</th>\n",
       "      <th>gb_over</th>\n",
       "      <th>month_over</th>\n",
       "      <th>month_$</th>\n",
       "      <th>over_or_no_over</th>\n",
       "    </tr>\n",
       "  </thead>\n",
       "  <tbody>\n",
       "    <tr>\n",
       "      <td>count</td>\n",
       "      <td>2229.000000</td>\n",
       "      <td>2229.000000</td>\n",
       "      <td>2229.000000</td>\n",
       "      <td>2229.000000</td>\n",
       "      <td>2229.000000</td>\n",
       "      <td>2229.0</td>\n",
       "      <td>2229.000000</td>\n",
       "      <td>2229.000000</td>\n",
       "      <td>2229.000000</td>\n",
       "      <td>2229.000000</td>\n",
       "      <td>2229.000000</td>\n",
       "      <td>2229.000000</td>\n",
       "    </tr>\n",
       "    <tr>\n",
       "      <td>mean</td>\n",
       "      <td>1246.506505</td>\n",
       "      <td>47.132167</td>\n",
       "      <td>395.977739</td>\n",
       "      <td>39.581875</td>\n",
       "      <td>15.836068</td>\n",
       "      <td>550.0</td>\n",
       "      <td>30.667716</td>\n",
       "      <td>5.799910</td>\n",
       "      <td>2.691964</td>\n",
       "      <td>707.768057</td>\n",
       "      <td>1257.768057</td>\n",
       "      <td>0.731718</td>\n",
       "    </tr>\n",
       "    <tr>\n",
       "      <td>std</td>\n",
       "      <td>146.119496</td>\n",
       "      <td>20.851171</td>\n",
       "      <td>178.410953</td>\n",
       "      <td>24.968115</td>\n",
       "      <td>5.723108</td>\n",
       "      <td>0.0</td>\n",
       "      <td>71.355286</td>\n",
       "      <td>13.442456</td>\n",
       "      <td>3.509194</td>\n",
       "      <td>800.801790</td>\n",
       "      <td>800.801790</td>\n",
       "      <td>0.443164</td>\n",
       "    </tr>\n",
       "    <tr>\n",
       "      <td>min</td>\n",
       "      <td>1001.000000</td>\n",
       "      <td>1.000000</td>\n",
       "      <td>1.370000</td>\n",
       "      <td>1.000000</td>\n",
       "      <td>0.000000</td>\n",
       "      <td>550.0</td>\n",
       "      <td>0.000000</td>\n",
       "      <td>0.000000</td>\n",
       "      <td>0.000000</td>\n",
       "      <td>0.000000</td>\n",
       "      <td>550.000000</td>\n",
       "      <td>0.000000</td>\n",
       "    </tr>\n",
       "    <tr>\n",
       "      <td>25%</td>\n",
       "      <td>1121.000000</td>\n",
       "      <td>32.000000</td>\n",
       "      <td>268.970000</td>\n",
       "      <td>20.000000</td>\n",
       "      <td>12.354844</td>\n",
       "      <td>550.0</td>\n",
       "      <td>0.000000</td>\n",
       "      <td>0.000000</td>\n",
       "      <td>0.000000</td>\n",
       "      <td>0.000000</td>\n",
       "      <td>550.000000</td>\n",
       "      <td>0.000000</td>\n",
       "    </tr>\n",
       "    <tr>\n",
       "      <td>50%</td>\n",
       "      <td>1239.000000</td>\n",
       "      <td>48.000000</td>\n",
       "      <td>399.380000</td>\n",
       "      <td>40.000000</td>\n",
       "      <td>16.121719</td>\n",
       "      <td>550.0</td>\n",
       "      <td>0.000000</td>\n",
       "      <td>0.000000</td>\n",
       "      <td>1.121719</td>\n",
       "      <td>412.000000</td>\n",
       "      <td>962.000000</td>\n",
       "      <td>1.000000</td>\n",
       "    </tr>\n",
       "    <tr>\n",
       "      <td>75%</td>\n",
       "      <td>1376.000000</td>\n",
       "      <td>61.000000</td>\n",
       "      <td>515.070000</td>\n",
       "      <td>51.000000</td>\n",
       "      <td>19.573174</td>\n",
       "      <td>550.0</td>\n",
       "      <td>15.070000</td>\n",
       "      <td>1.000000</td>\n",
       "      <td>4.573174</td>\n",
       "      <td>1183.000000</td>\n",
       "      <td>1733.000000</td>\n",
       "      <td>1.000000</td>\n",
       "    </tr>\n",
       "    <tr>\n",
       "      <td>max</td>\n",
       "      <td>1499.000000</td>\n",
       "      <td>162.000000</td>\n",
       "      <td>1354.220000</td>\n",
       "      <td>143.000000</td>\n",
       "      <td>37.648877</td>\n",
       "      <td>550.0</td>\n",
       "      <td>854.220000</td>\n",
       "      <td>93.000000</td>\n",
       "      <td>22.648877</td>\n",
       "      <td>6064.000000</td>\n",
       "      <td>6614.000000</td>\n",
       "      <td>1.000000</td>\n",
       "    </tr>\n",
       "  </tbody>\n",
       "</table>\n",
       "</div>"
      ],
      "text/plain": [
       "           user_id        vyzov  minutes_smart    sms_smart  gb_used_smart  \\\n",
       "count  2229.000000  2229.000000    2229.000000  2229.000000    2229.000000   \n",
       "mean   1246.506505    47.132167     395.977739    39.581875      15.836068   \n",
       "std     146.119496    20.851171     178.410953    24.968115       5.723108   \n",
       "min    1001.000000     1.000000       1.370000     1.000000       0.000000   \n",
       "25%    1121.000000    32.000000     268.970000    20.000000      12.354844   \n",
       "50%    1239.000000    48.000000     399.380000    40.000000      16.121719   \n",
       "75%    1376.000000    61.000000     515.070000    51.000000      19.573174   \n",
       "max    1499.000000   162.000000    1354.220000   143.000000      37.648877   \n",
       "\n",
       "           ap  minutes_over     sms_over      gb_over   month_over  \\\n",
       "count  2229.0   2229.000000  2229.000000  2229.000000  2229.000000   \n",
       "mean    550.0     30.667716     5.799910     2.691964   707.768057   \n",
       "std       0.0     71.355286    13.442456     3.509194   800.801790   \n",
       "min     550.0      0.000000     0.000000     0.000000     0.000000   \n",
       "25%     550.0      0.000000     0.000000     0.000000     0.000000   \n",
       "50%     550.0      0.000000     0.000000     1.121719   412.000000   \n",
       "75%     550.0     15.070000     1.000000     4.573174  1183.000000   \n",
       "max     550.0    854.220000    93.000000    22.648877  6064.000000   \n",
       "\n",
       "           month_$  over_or_no_over  \n",
       "count  2229.000000      2229.000000  \n",
       "mean   1257.768057         0.731718  \n",
       "std     800.801790         0.443164  \n",
       "min     550.000000         0.000000  \n",
       "25%     550.000000         0.000000  \n",
       "50%     962.000000         1.000000  \n",
       "75%    1733.000000         1.000000  \n",
       "max    6614.000000         1.000000  "
      ]
     },
     "execution_count": 108,
     "metadata": {},
     "output_type": "execute_result"
    }
   ],
   "source": [
    "smart.describe()"
   ]
  },
  {
   "cell_type": "code",
   "execution_count": 109,
   "metadata": {},
   "outputs": [],
   "source": [
    "mean_over_gb = smart['gb_over'].mean()\n",
    "mean_over_sms = smart['sms_over'].mean()\n",
    "mean_over_min = smart['minutes_over'].mean()\n",
    "median_over = smart['month_over'].median()\n",
    "median_month = smart['month_$'].median()"
   ]
  },
  {
   "cell_type": "code",
   "execution_count": 110,
   "metadata": {},
   "outputs": [
    {
     "name": "stdout",
     "output_type": "stream",
     "text": [
      "Среднее превышение пакета интернет по тарифу \"Смарт\" 2.6919636435841676\n",
      "Среднее превышение пакета минут по тарифу \"Смарт\" 30.667716464782412\n",
      "Среднее превышение пакета СМС по тарифу \"Смарт\" 5.799910273665321\n",
      "Медианная доплата по тарифу \"Смарт\" 412.0\n",
      "Медианные затраты по тарифу \"Смарт\" 962.0\n"
     ]
    }
   ],
   "source": [
    "print('Среднее превышение пакета интернет по тарифу \"Смарт\"', format(mean_over_gb))\n",
    "print('Среднее превышение пакета минут по тарифу \"Смарт\"',format(mean_over_min))\n",
    "print('Среднее превышение пакета СМС по тарифу \"Смарт\"',format(mean_over_sms))\n",
    "print('Медианная доплата по тарифу \"Смарт\"',format(median_over))\n",
    "print('Медианные затраты по тарифу \"Смарт\"',format(median_month))"
   ]
  },
  {
   "cell_type": "markdown",
   "metadata": {},
   "source": [
    "В итоге тариф Смарт является не самым выгодным для текущих абонентов. \n",
    "Постоянная докупка дополнительных услуг влечет к удоражания конечной стоимости тарифа на 708 рублей, а при учете абонентской плаnы состовляет c среднем 1260 рублей, а медианном значении 962 рубля.\n",
    "Клиенты ищут более выгодные условия и могут окончательно уйти к конкурентам, а этого допустить нельзя!\n",
    "Но кому-то из действующих абонентов тарифа Смарт тариф Ультра покажется слишком раздутым и дорогим. \n",
    "Исходя из средних значений докупания услуг, можно выделить услугу интернет и минуты, ползователям их чаще всего не хватает, а сумма доплат превышает стоимость тарифа на 128% ! Мне бы такое явно не понравилось...\n",
    "Решением было создать тариф промежуточный между Смарт и Ультра по абоненсткой плате и абонентской платой.\n",
    "В медианном значении абоненты готовы доплачивать за тариф примерно 400 рублей, а при добавлении действующей абонентской платы 550 мы получаем 950 рублей.\n",
    "За эти деньги можно предложить более выгодные условия, по сравнению с тарифом Смарт, опираясь на \"боли\"абонента.\n",
    "Таким образом Мегалайн сохранит своих клиентов и не потеряет в выручке.\n",
    "Клиенты явно оценят такой ход!"
   ]
  },
  {
   "cell_type": "code",
   "execution_count": null,
   "metadata": {},
   "outputs": [],
   "source": []
  }
 ],
 "metadata": {
  "kernelspec": {
   "display_name": "Python 3",
   "language": "python",
   "name": "python3"
  },
  "language_info": {
   "codemirror_mode": {
    "name": "ipython",
    "version": 3
   },
   "file_extension": ".py",
   "mimetype": "text/x-python",
   "name": "python",
   "nbconvert_exporter": "python",
   "pygments_lexer": "ipython3",
   "version": "3.7.6"
  }
 },
 "nbformat": 4,
 "nbformat_minor": 2
}
