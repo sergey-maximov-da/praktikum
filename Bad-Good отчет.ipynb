{
 "cells": [
  {
   "cell_type": "code",
   "execution_count": 1,
   "metadata": {},
   "outputs": [
    {
     "name": "stderr",
     "output_type": "stream",
     "text": [
      "/opt/conda/lib/python3.7/site-packages/pandas/compat/_optional.py:138: UserWarning: Pandas requires version '2.7.0' or newer of 'numexpr' (version '2.6.9' currently installed).\n",
      "  warnings.warn(msg, UserWarning)\n",
      "/opt/conda/lib/python3.7/site-packages/statsmodels/tools/_testing.py:19: FutureWarning: pandas.util.testing is deprecated. Use the functions in the public API at pandas.testing instead.\n",
      "  import pandas.util.testing as tm\n"
     ]
    },
    {
     "name": "stdout",
     "output_type": "stream",
     "text": [
      "Доспуп к Эластику \t True\n",
      "Доспуп к Монге \t\t True\n"
     ]
    }
   ],
   "source": [
    "from pymongo import MongoClient\n",
    "from elasticsearch import Elasticsearch\n",
    "from basic.claims import connect, get_claims, get_users, get_kibana_gate, products_bankiros, nulls, get_medium, get_claims_raw\n",
    "from basic.external import cpa_parse, get_yandex_data\n",
    "from basic.dscore import cre_get, mfo_score\n",
    "from basic.reports import cre_keyword_report, master_report, registrations_medium\n",
    "from basic.vars import regions_mapper\n",
    "from bson.objectid import ObjectId\n",
    "import requests\n",
    "import json\n",
    "from datetime import datetime, date, timedelta\n",
    "import pandas as pd\n",
    "from time import sleep\n",
    "from base64 import b64encode\n",
    "import numpy as np\n",
    "# from robobrowser import RoboBrowser\n",
    "import re\n",
    "import csv, sqlite3\n",
    "import sqlalchemy\n",
    "import matplotlib.pyplot as plt\n",
    "import seaborn as sns\n",
    "pd.set_option('display.max_rows', 1000)\n",
    "pd.set_option('display.max_columns', 1000)\n",
    "pd.set_option('display.width', 1000)\n",
    "pd.set_option('display.max_colwidth',1000)\n",
    "# from IPython.display import Filelink, FileLinks\n",
    "\n",
    "# sqlite_file = 'temp/db2.sqlite' # name of the sqlite database file\n",
    "# conn = sqlite3.connect(sqlite_file)\n",
    "\n",
    "client, es = connect()"
   ]
  },
  {
   "cell_type": "code",
   "execution_count": 2,
   "metadata": {},
   "outputs": [],
   "source": [
    "# !pip install pickledb pymongo elasticsearch==6.8 oauth2client gspread df2gspread \\\n",
    "# robobrowser beautifulsoup4 lxml yourls Werkzeug==0.16.1 paramiko xlsxwriter pyminizip \\\n",
    "# html5lib zodiac_sign python-pptx plotly df2gspread gspread"
   ]
  },
  {
   "cell_type": "code",
   "execution_count": 3,
   "metadata": {},
   "outputs": [],
   "source": [
    "def get_kibana_registrations(es, since, till):\n",
    "    chunk = 1000\n",
    "    print('get_kibana_registrations')    \n",
    "    gte = (str((datetime.combine(since, datetime.min.time())-timedelta(seconds=3*60*60)).timestamp()).replace(\".\", \"\")+\"0000000\")[:13]\n",
    "    lt = (str(datetime.combine(till, datetime.min.time()).timestamp()).replace(\".\", \"\")+\"0000000\")[:13]\n",
    "\n",
    "    payload = {\"size\": chunk,\n",
    "\"query\":{\"bool\":{\"must\":[{\"match_all\":{}},\n",
    "                         {\"match_phrase\":{\"eventType.keyword\":\"REGISTRATION\"}},\n",
    "                         {\"range\":{\"timestamp\":{\"gte\":gte,\"lt\":lt,\"format\":\"epoch_millis\"}}}]}}}\n",
    "    \n",
    "    d = es.search(index='events', doc_type='event', body=payload, scroll='120m', request_timeout=3000)\n",
    "    sleep(0.5)\n",
    "    doc_count = d['hits']['total']\n",
    "    hits = d['hits']['hits']\n",
    "    print(doc_count, end =\"; \", flush=True)\n",
    "    res = []\n",
    "    for i in range(1, int(doc_count/chunk)+1):\n",
    "        scroll = d['_scroll_id']\n",
    "        d = es.scroll(scroll_id = scroll, scroll = '120m', request_timeout=3000)\n",
    "        hits = hits + d['hits']['hits']\n",
    "        print(doc_count-chunk*i, end =\"; \", flush=True)\n",
    "        sleep(0.5)\n",
    "    t={}\n",
    "    for i in range(0,len(hits)):\n",
    "        t = hits[i]['_source']\n",
    "        t.update(t['params'])\n",
    "        del t['params']\n",
    "        res.append(t)\n",
    "    delk = pd.DataFrame(res)\n",
    "    delk['dt'] = delk['timestamp'].apply(lambda x: (datetime.strptime(x[:x.rfind(':')+3], \n",
    "                                                                      '%Y-%m-%dT%H:%M:%S')+timedelta(hours=3)).date())\n",
    "    if len(df) > 0:\n",
    "        df['date'] = df['time'].apply(lambda x: (x + timedelta(seconds=3*3600)).date())\n",
    "    return df"
   ]
  },
  {
   "cell_type": "code",
   "execution_count": 4,
   "metadata": {},
   "outputs": [],
   "source": [
    "def get_exact_claims(since, till, client):\n",
    "    req = {\"createdAt\": {\"$gte\": datetime.combine(since, datetime.min.time()) - timedelta(hours=3),\n",
    "                          \"$lt\": datetime.combine(till, datetime.min.time())- timedelta(hours=3)},\n",
    "           \"status\": {\"$nin\": [\"NEW\", \"ERROR\"]}} \n",
    "    results_count = client['claim-service']['claims'].count_documents(req)\n",
    "\n",
    "    print(results_count)\n",
    "    all_ans = []\n",
    "    batch_size = 10000\n",
    "    for i in range(results_count//batch_size+1):\n",
    "        ans = list(client['claim-service']['claims'].find(req, {\"product\": 1, \"partner\":1,\n",
    "                                                                \"borrower\": 1, \"statusFields\":1,\n",
    "                                                                \"status\": 1, \"adapterName\": 1,\n",
    "                                                                \"createdAt\": 1, 'type':1, 'clickId':1,\n",
    "                                                                \"updatedAt\":1}).limit(batch_size).skip(i*batch_size))\n",
    "        all_ans = all_ans + ans\n",
    "    df = pd.DataFrame(all_ans)\n",
    "    df['id'] = df[\"_id\"].apply(lambda x: str(x))\n",
    "    df['dt'] = df[\"createdAt\"].apply(lambda x: (x+timedelta(hours=3)).date())\n",
    "#     df['product_type'] = df['product'].apply(lambda x: x['productType'])\n",
    "    df['product_name'] = df['product'].apply(lambda x: x['name'])\n",
    "    df['partner'] = df['partner'].apply(lambda x: x['name'])\n",
    "    df['userId'] = df['borrower'].apply(lambda x: x['userId'])\n",
    "\n",
    "    return df"
   ]
  },
  {
   "cell_type": "code",
   "execution_count": 5,
   "metadata": {},
   "outputs": [],
   "source": [
    "def get_exact_claims2(since, till, client, userIds):\n",
    "    req = {\n",
    "        \"createdAt\": {\"$gte\": datetime.combine(since, datetime.min.time()) - timedelta(hours=3),\n",
    "                          \"$lt\": datetime.combine(till, datetime.min.time())- timedelta(hours=3)},\n",
    "           \"_id\": {\"$in\": [ObjectId(product) for ids in ids]},\n",
    "           \"borrower.userId\": {\"$in\": userIds},\n",
    "           \"status\": {\"$nin\": [\"NEW\", \"ERROR\"]}} \n",
    "    results_count = client['claim-service']['claims'].count_documents(req)\n",
    "    # print(req)\n",
    "    print(results_count)\n",
    "    all_ans = []\n",
    "    batch_size = 1000\n",
    "    for i in range(results_count//batch_size+1):\n",
    "        ans = list(client['claim-service']['claims'].find(req, {\"product\": 1, \"partner\":1,\n",
    "                                                                \"borrower\": 1, \"statusFields\":1,\n",
    "                                                                \"status\": 1, \"adapterName\": 1,\n",
    "                                                                \"createdAt\": 1, 'type':1,\n",
    "                                                                \"updatedAt\":1}).limit(batch_size).skip(i*batch_size))\n",
    "        all_ans = all_ans + ans\n",
    "    #ans = trans(all_ans, client)\n",
    "    df = pd.DataFrame(all_ans)\n",
    "    df['id'] = df[\"_id\"].apply(lambda x: str(x))\n",
    "    df['dt'] = df[\"createdAt\"].apply(lambda x: (x+timedelta(hours=3)).date())\n",
    "    df['product_type'] = df['product'].apply(lambda x: x['productType'])\n",
    "    df['product_name'] = df['product'].apply(lambda x: x['name'])\n",
    "    df['product_id'] = df['product'].apply(lambda x: x['_id'])\n",
    "    df['partner'] = df['partner'].apply(lambda x: x['name'])\n",
    "    df['userId'] = df['borrower'].apply(lambda x: x['userId'])\n",
    "\n",
    "    return df"
   ]
  },
  {
   "cell_type": "code",
   "execution_count": 6,
   "metadata": {},
   "outputs": [
    {
     "name": "stdout",
     "output_type": "stream",
     "text": [
      "183399;0;1;2;3;4;5;6;7;8;9;10;11;12;13;14;15;16;17;18;mainFields done; lastName done; firstName done; middleName done; passportIssueDate done; passportIssuedBy done; registrationAddress done; addressOfResidence done; registrationAddress.street done; addressOfResidence.street done; passportNumber done; dateOfBirth done; registrationAddress.city done; registrationAddress.region.kladr done; placeOfBirth done; addressOfResidence.city done; addressOfResidence.region.kladr done; subdivisionCode done; salary done; amount done; gender done; loanPeriod done; seniorityLatest done; typeOfEmployment done; "
     ]
    }
   ],
   "source": [
    "since = date(2021,9,1)\n",
    "till = date(2021,10, 1)\n",
    "du = get_users(client)"
   ]
  },
  {
   "cell_type": "code",
   "execution_count": 7,
   "metadata": {},
   "outputs": [
    {
     "data": {
      "text/plain": [
       "(183393, 161941)"
      ]
     },
     "execution_count": 7,
     "metadata": {},
     "output_type": "execute_result"
    }
   ],
   "source": [
    "len(du), len(du[du['dateOfBirth'].notnull()])"
   ]
  },
  {
   "cell_type": "code",
   "execution_count": 8,
   "metadata": {},
   "outputs": [],
   "source": [
    "# du['obl'] = du['subdivisionCode'].apply(lambda x: x[:2] if pd.notnull(x) else np.nan)\n",
    "# du['obl']"
   ]
  },
  {
   "cell_type": "code",
   "execution_count": 9,
   "metadata": {},
   "outputs": [],
   "source": [
    "# du['obl'] = du['obl'].apply(lambda x: '1' if \n",
    "#                                   x in ['77','50','78','47','66',\n",
    "#                                             '34','35','52','53','61','63','02'] else x)"
   ]
  },
  {
   "cell_type": "code",
   "execution_count": 34,
   "metadata": {},
   "outputs": [
    {
     "name": "stdout",
     "output_type": "stream",
     "text": [
      "450\n"
     ]
    },
    {
     "data": {
      "text/plain": [
       "0                NaN\n",
       "1                NaN\n",
       "2           Вячеслав\n",
       "3            Эльмира\n",
       "4         Витальевич\n",
       "5           Нинанина\n",
       "6             Марина\n",
       "7              Мария\n",
       "8             Марина\n",
       "9            Алексей\n",
       "10            Карлен\n",
       "11            Сергей\n",
       "12            Карлен\n",
       "13          Кристина\n",
       "14          анатолий\n",
       "15               NaN\n",
       "16           Евгений\n",
       "17             Алина\n",
       "18            Михаил\n",
       "19             Роман\n",
       "20         Александр\n",
       "21         Анастасия\n",
       "22            Мариам\n",
       "23            Мариам\n",
       "24             Барно\n",
       "25          Владимир\n",
       "26            Михаил\n",
       "27         Анастасия\n",
       "28           Наталья\n",
       "29         Анастасия\n",
       "30                  \n",
       "31             Дарья\n",
       "32          Светлана\n",
       "33              Юрий\n",
       "34         Александр\n",
       "35           Дмитрий\n",
       "36             Елена\n",
       "37           Дмитрий\n",
       "38            Оксана\n",
       "39          Мирослав\n",
       "40            Салман\n",
       "41         Александр\n",
       "42            Залина\n",
       "43           Эльмира\n",
       "44         Александр\n",
       "45           Наталья\n",
       "46            Сергей\n",
       "47              Юлия\n",
       "48          Владимир\n",
       "49            Сергей\n",
       "50        Евгеньевич\n",
       "51           Алексей\n",
       "52               NaN\n",
       "53            Сабина\n",
       "54               NaN\n",
       "55               NaN\n",
       "56         Александр\n",
       "57              Заур\n",
       "58          Гульнара\n",
       "59          Гульнара\n",
       "60         Анастасия\n",
       "61         Анастасия\n",
       "62         Анастасия\n",
       "63             Саина\n",
       "64             Ирина\n",
       "65            Кирилл\n",
       "66             Елена\n",
       "67         Станислав\n",
       "68            Сергей\n",
       "69               NaN\n",
       "70             Ирина\n",
       "71               NaN\n",
       "72        Николаевна\n",
       "73               NaN\n",
       "74           Алексей\n",
       "75           Рамазан\n",
       "76            Руслан\n",
       "77            Руслан\n",
       "78           Алексей\n",
       "79            Галина\n",
       "80           Алексей\n",
       "81           Алексей\n",
       "82         Александр\n",
       "83         Александр\n",
       "84         Александр\n",
       "85         Александр\n",
       "86           Татьяна\n",
       "87             Роман\n",
       "88          Вячеслав\n",
       "89            Андрей\n",
       "90            Сергей\n",
       "91               NaN\n",
       "92         Александр\n",
       "93               NaN\n",
       "94            Марина\n",
       "95            Сергей\n",
       "96            Андрей\n",
       "97            Руслан\n",
       "98           Дмитрий\n",
       "99            Руслан\n",
       "100        Сергеевич\n",
       "101       Викторовна\n",
       "102            Елена\n",
       "103        Маргарита\n",
       "104        Анастасия\n",
       "105           Руслан\n",
       "106            Игорь\n",
       "107            Елена\n",
       "108          Евгений\n",
       "109          Надежда\n",
       "110            Роман\n",
       "111            Роман\n",
       "112         Владимир\n",
       "113            Роман\n",
       "114         Владимир\n",
       "115             Иван\n",
       "116          Наталья\n",
       "117           Максим\n",
       "118              NaN\n",
       "119        Маржанета\n",
       "120           Сергей\n",
       "121     МагомедБашир\n",
       "122          Наталья\n",
       "123          Татьяна\n",
       "124            Ольга\n",
       "125         АнайКара\n",
       "126          Николай\n",
       "127         АнайКара\n",
       "128            Алина\n",
       "129         Владимир\n",
       "130           Кирилл\n",
       "131        Владислав\n",
       "132        Александр\n",
       "133             Анна\n",
       "134           Сергей\n",
       "135            Диана\n",
       "136           Сергей\n",
       "137        Екатерина\n",
       "138          Евгения\n",
       "139           Сергей\n",
       "140             Адам\n",
       "141          Ильмира\n",
       "142          Дмитрий\n",
       "143           Сергей\n",
       "144            Елена\n",
       "145           Рустам\n",
       "146           Никита\n",
       "147           Никита\n",
       "148            Мария\n",
       "149           Андрей\n",
       "150            Насир\n",
       "151              NaN\n",
       "152        Екатерина\n",
       "153             Юлия\n",
       "154             Юлия\n",
       "155             Юлия\n",
       "156            Римма\n",
       "157           Андрей\n",
       "158             Егор\n",
       "159          Евгений\n",
       "160           Михаил\n",
       "161             Юлия\n",
       "162          Татьяна\n",
       "163             Олег\n",
       "164            Ольга\n",
       "165          Татьяна\n",
       "166         Антонина\n",
       "167           Рустам\n",
       "168        Александр\n",
       "169        Александр\n",
       "170            Денис\n",
       "171            Денис\n",
       "172         Виктория\n",
       "173           Полина\n",
       "174              NaN\n",
       "175             Егор\n",
       "176              NaN\n",
       "177          Наталья\n",
       "178            Элина\n",
       "179        Екатерина\n",
       "180            Антон\n",
       "181             Аида\n",
       "182           Михаил\n",
       "183        Анастасия\n",
       "184          Алексей\n",
       "185            Ольга\n",
       "186         Вячеслав\n",
       "187            Елена\n",
       "188            Елена\n",
       "189          Алексей\n",
       "190          Дмитрий\n",
       "191        Александр\n",
       "192        Анастасия\n",
       "193             Инна\n",
       "194        Анастасия\n",
       "195           Сергей\n",
       "196          Евгений\n",
       "197             Инна\n",
       "198             Инна\n",
       "199             Инна\n",
       "200             Инна\n",
       "201           Ридван\n",
       "202           Сергей\n",
       "203            Игорь\n",
       "204          Евгений\n",
       "205           Оксана\n",
       "206            Павел\n",
       "207         Светлана\n",
       "208            Павел\n",
       "209           Сергей\n",
       "210          Аделина\n",
       "211       Александра\n",
       "212            Вадим\n",
       "213            Рашид\n",
       "214            Рашид\n",
       "215            Павел\n",
       "216              NaN\n",
       "217            Рашид\n",
       "218           Сергей\n",
       "219          татьяна\n",
       "220          Татьяна\n",
       "221            Павел\n",
       "222          Татьяна\n",
       "223           Сергей\n",
       "224         Татьяна \n",
       "225          Марсэль\n",
       "226            Денис\n",
       "227             Анна\n",
       "228        Екатерина\n",
       "229           Шамиль\n",
       "230            Артур\n",
       "231          Наталья\n",
       "232             Иван\n",
       "233            Артур\n",
       "234          Дмитрий\n",
       "235            София\n",
       "236              NaN\n",
       "237        Александр\n",
       "238          Николай\n",
       "239          Надежда\n",
       "240          Надежда\n",
       "241          Надежда\n",
       "242           Ксения\n",
       "243             Илес\n",
       "244        Анастасия\n",
       "245             Юрий\n",
       "246           Галина\n",
       "247           Ксения\n",
       "248             Юрий\n",
       "249              NaN\n",
       "250           Михаил\n",
       "251          Алексей\n",
       "252           Шамиль\n",
       "253           Карина\n",
       "254           Андрей\n",
       "255        Александр\n",
       "256              NaN\n",
       "257          Николай\n",
       "258           Сергей\n",
       "259        Александр\n",
       "260           Андрей\n",
       "261             Иван\n",
       "262              NaN\n",
       "263        Александр\n",
       "264        Екатерина\n",
       "265        Александр\n",
       "266              NaN\n",
       "267              NaN\n",
       "268            Ирина\n",
       "269          Евгений\n",
       "270         Жаргалма\n",
       "271         Жаргалма\n",
       "272        Владислав\n",
       "273            Вадим\n",
       "274            Денис\n",
       "275            Ольга\n",
       "276         Виктория\n",
       "277           Андрей\n",
       "278            Вадим\n",
       "279          Татьяна\n",
       "280             Юрий\n",
       "281           Галина\n",
       "282        Владислав\n",
       "283              Мен\n",
       "284        Владислав\n",
       "285        Александр\n",
       "286         Кристина\n",
       "287          Евгений\n",
       "288              Мен\n",
       "289        Владислав\n",
       "290       Владислава\n",
       "291        Станислав\n",
       "292              NaN\n",
       "293        Александр\n",
       "294        Александр\n",
       "295           Никита\n",
       "296           Никита\n",
       "297           Данила\n",
       "298         Ангелина\n",
       "299            Тумсо\n",
       "300          Дмитрий\n",
       "301            Жанна\n",
       "302         Владимир\n",
       "303            Павел\n",
       "304           Андрей\n",
       "305              NaN\n",
       "306            Денис\n",
       "307              NaN\n",
       "308              NaN\n",
       "309           Полина\n",
       "310        Владислав\n",
       "311          Дмитрий\n",
       "312        Александр\n",
       "313        Владислав\n",
       "314            Павел\n",
       "315            Мария\n",
       "316          Наталия\n",
       "317            Ольга\n",
       "318         Геннадий\n",
       "319          Виталий\n",
       "320            Павел\n",
       "321             Буян\n",
       "322       Константин\n",
       "323         Светлана\n",
       "324          Николай\n",
       "325              NaN\n",
       "326              NaN\n",
       "327              Мен\n",
       "328           Оксана\n",
       "329       Константин\n",
       "330       Константин\n",
       "331         Светлана\n",
       "332              NaN\n",
       "333       Валерьевич\n",
       "334            Диана\n",
       "335              NaN\n",
       "336           Андрей\n",
       "337            Ирина\n",
       "338          Наталья\n",
       "339        Александр\n",
       "340              NaN\n",
       "341        Александр\n",
       "342       Константин\n",
       "343           Сергей\n",
       "344            Диана\n",
       "345        Александр\n",
       "346            Павел\n",
       "347          Евгений\n",
       "348           Сергей\n",
       "349              NaN\n",
       "350           Сергей\n",
       "351         Иванович\n",
       "352             Анна\n",
       "353        Анастасия\n",
       "354         Светлана\n",
       "355         Владимир\n",
       "356         Владимир\n",
       "357              NaN\n",
       "358            Денис\n",
       "359          Георгий\n",
       "360          Георгий\n",
       "361              NaN\n",
       "362            Денис\n",
       "363            Денис\n",
       "364            Денис\n",
       "365           Никита\n",
       "366             Илья\n",
       "367        Анастасия\n",
       "368        Анастасия\n",
       "369            Артем\n",
       "370           Казбек\n",
       "371           Сергей\n",
       "372            Артем\n",
       "373           Сергей\n",
       "374           Сергей\n",
       "375            Артем\n",
       "376           Сергей\n",
       "377          Алексей\n",
       "378              NaN\n",
       "379            Артем\n",
       "380            Артем\n",
       "381          Наталья\n",
       "382         Кристина\n",
       "383           Андрей\n",
       "384         Вячеслав\n",
       "385            Елена\n",
       "386           Сергей\n",
       "387              NaN\n",
       "388           Карина\n",
       "389         Виктория\n",
       "390            Данил\n",
       "391            Лилия\n",
       "392            Денис\n",
       "393           Марина\n",
       "394              NaN\n",
       "395           Марина\n",
       "396           Марина\n",
       "397           Марина\n",
       "398            Ольга\n",
       "399              NaN\n",
       "400          Алексей\n",
       "401          Валерия\n",
       "402            Зинур\n",
       "403              NaN\n",
       "404            Зинур\n",
       "405            Зинур\n",
       "406             Иван\n",
       "407            Елена\n",
       "408            Ирина\n",
       "409            Алина\n",
       "410         Владимир\n",
       "411          Валерия\n",
       "412           Михаил\n",
       "413            Лилия\n",
       "414            Лилия\n",
       "415        Александр\n",
       "416              Айк\n",
       "417         Владлена\n",
       "418         Владлена\n",
       "419           Сергей\n",
       "420              NaN\n",
       "421                 \n",
       "422        Анастасия\n",
       "423            Арина\n",
       "424         Владимир\n",
       "425            Елена\n",
       "426        Екатерина\n",
       "427             Анна\n",
       "428            Алена\n",
       "429             Анна\n",
       "430         Кристина\n",
       "431         Кристина\n",
       "432              NaN\n",
       "433              NaN\n",
       "434              NaN\n",
       "435             Анна\n",
       "436           Сергей\n",
       "437            Ирина\n",
       "438          Наталья\n",
       "439             Анна\n",
       "440        Екатерина\n",
       "441        Владислав\n",
       "442        Александр\n",
       "443          Татьяна\n",
       "444        Владислав\n",
       "445            Игорь\n",
       "446            Роман\n",
       "447           Азалия\n",
       "448            Роман\n",
       "449        Александр\n",
       "Name: name, dtype: object"
      ]
     },
     "execution_count": 34,
     "metadata": {},
     "output_type": "execute_result"
    }
   ],
   "source": [
    "dff_all = get_exact_claims(date.today()-timedelta(days=10), date.today(), client)\n",
    "#dff_all = get_exact_claims(client)\n",
    "\n",
    "dff_all['userId'] = dff_all['borrower'].apply(lambda x: x['userId'])\n",
    "dff_all['phone'] = dff_all['borrower'].apply(lambda x: x['phone'] if 'phone' in x.keys() else np.nan)\n",
    "dff_all['name'] = dff_all['borrower'].apply(lambda x: x['fullName'].strip() if 'fullName' in x.keys() else np.nan)\n",
    "dff_all['name'].apply(lambda x: x[x.find(' '):x.rfind(' ')] if pd.notnull(x) else np.nan)"
   ]
  },
  {
   "cell_type": "code",
   "execution_count": 35,
   "metadata": {},
   "outputs": [],
   "source": [
    "# du['dateOfBirth1']= pd.to_datetime(du['dateOfBirth'])\n",
    "# du['date_today'] = pd.to_datetime(date.today())"
   ]
  },
  {
   "cell_type": "code",
   "execution_count": 36,
   "metadata": {},
   "outputs": [],
   "source": [
    "# du['yearOfBirth2'] = (du['dateOfBirth1'].dt.year)\n",
    "# du['year_today'] = (du['date_today'].dt.year).astype('float')"
   ]
  },
  {
   "cell_type": "code",
   "execution_count": null,
   "metadata": {},
   "outputs": [],
   "source": [
    "# du['age'] = (du['year_today']-du['yearOfBirth2'])"
   ]
  },
  {
   "cell_type": "code",
   "execution_count": null,
   "metadata": {},
   "outputs": [],
   "source": [
    "# du['age'].unique()"
   ]
  },
  {
   "cell_type": "code",
   "execution_count": 37,
   "metadata": {},
   "outputs": [],
   "source": [
    "# #Разобъем всех id по возрасту на 4 группы : 'до 30', '30-45', '45-60', '60+' \n",
    "# def income_group(age):\n",
    "#     if age <= 24: return '24'\n",
    "#     if 24 < age <= 34: return '25-34'\n",
    "#     if 34 < age <= 44: return '35-44'\n",
    "#     if 44 < age <=54: return '45-54'\n",
    "#     if 54 < age <=64: return '55-64'\n",
    "#     if 64 < age: return '65+'\n",
    "    \n",
    "\n",
    "\n",
    "#     else: \n",
    "#         return 'NotBirthDay'\n",
    "    \n",
    "# du['age_group'] = du['age'].apply(income_group)\n",
    "# du['age_group'].value_counts()"
   ]
  },
  {
   "cell_type": "code",
   "execution_count": null,
   "metadata": {},
   "outputs": [],
   "source": []
  },
  {
   "cell_type": "code",
   "execution_count": 38,
   "metadata": {},
   "outputs": [
    {
     "data": {
      "text/html": [
       "<div>\n",
       "<style scoped>\n",
       "    .dataframe tbody tr th:only-of-type {\n",
       "        vertical-align: middle;\n",
       "    }\n",
       "\n",
       "    .dataframe tbody tr th {\n",
       "        vertical-align: top;\n",
       "    }\n",
       "\n",
       "    .dataframe thead th {\n",
       "        text-align: right;\n",
       "    }\n",
       "</style>\n",
       "<table border=\"1\" class=\"dataframe\">\n",
       "  <thead>\n",
       "    <tr style=\"text-align: right;\">\n",
       "      <th></th>\n",
       "      <th>_id</th>\n",
       "      <th>clickId</th>\n",
       "      <th>type</th>\n",
       "      <th>createdAt</th>\n",
       "      <th>updatedAt</th>\n",
       "      <th>status</th>\n",
       "      <th>borrower</th>\n",
       "      <th>partner</th>\n",
       "      <th>product</th>\n",
       "      <th>statusFields</th>\n",
       "      <th>adapterName</th>\n",
       "      <th>id</th>\n",
       "      <th>dt</th>\n",
       "      <th>product_name</th>\n",
       "      <th>userId</th>\n",
       "      <th>phone</th>\n",
       "      <th>name</th>\n",
       "    </tr>\n",
       "  </thead>\n",
       "  <tbody>\n",
       "    <tr>\n",
       "      <th>0</th>\n",
       "      <td>61b280d4f81409000159675e</td>\n",
       "      <td>766d372d-36db-42a0-9e50-d75b666211a4</td>\n",
       "      <td>LINK</td>\n",
       "      <td>2021-12-09 22:19:00.221</td>\n",
       "      <td>2021-12-10 04:15:15.345</td>\n",
       "      <td>ACCEPTED</td>\n",
       "      <td>{'_id': None, 'userId': '61b280c6e6086b00019e42d3'}</td>\n",
       "      <td>banki.ru</td>\n",
       "      <td>{'_id': 6087fee0b6d00a0001344eba, 'name': 'Одобрим.ру + Banki.ru= автокредит для вас', 'productType': 'AUTOCREDIT', 'productName': 'Автокредит'}</td>\n",
       "      <td>{'NOTE': 'OfferId not found', 'LINK': None}</td>\n",
       "      <td>NaN</td>\n",
       "      <td>61b280d4f81409000159675e</td>\n",
       "      <td>2021-12-10</td>\n",
       "      <td>Одобрим.ру + Banki.ru= автокредит для вас</td>\n",
       "      <td>61b280c6e6086b00019e42d3</td>\n",
       "      <td>NaN</td>\n",
       "      <td>NaN</td>\n",
       "    </tr>\n",
       "    <tr>\n",
       "      <th>1</th>\n",
       "      <td>61b285d6f814090001596770</td>\n",
       "      <td>NaN</td>\n",
       "      <td>LINK</td>\n",
       "      <td>2021-12-09 22:40:22.789</td>\n",
       "      <td>2021-12-09 22:56:03.035</td>\n",
       "      <td>REJECTED</td>\n",
       "      <td>{'_id': None, 'userId': '61b285d6eae5be0001fb7b69'}</td>\n",
       "      <td>еКапуста</td>\n",
       "      <td>{'_id': 5abb69e421f7ea00074349c9, 'name': 'еКапуста', 'productType': 'LOAN', 'productName': 'Займ'}</td>\n",
       "      <td>{'NOTE': 'OfferId not found', 'LINK': None}</td>\n",
       "      <td></td>\n",
       "      <td>61b285d6f814090001596770</td>\n",
       "      <td>2021-12-10</td>\n",
       "      <td>еКапуста</td>\n",
       "      <td>61b285d6eae5be0001fb7b69</td>\n",
       "      <td>NaN</td>\n",
       "      <td>NaN</td>\n",
       "    </tr>\n",
       "    <tr>\n",
       "      <th>2</th>\n",
       "      <td>61b2b506435732000151e5cd</td>\n",
       "      <td>0a0ceda6-9521-4d1b-a77a-38a68be0d45f</td>\n",
       "      <td>LINK</td>\n",
       "      <td>2021-12-10 02:01:42.740</td>\n",
       "      <td>2021-12-10 03:07:07.690</td>\n",
       "      <td>REJECTED</td>\n",
       "      <td>{'_id': None, 'userId': '61b2b351e6086b00019e5b69', 'fullName': 'Клеценко Вячеслав Николаевич', 'email': 'kletsenko87@gmail.com', 'phone': '79231289073'}</td>\n",
       "      <td>Доброзайм</td>\n",
       "      <td>{'_id': 5d4058712a86100001f5ba35, 'name': 'Доброзайм', 'productType': 'LOAN', 'productName': 'Займ'}</td>\n",
       "      <td>{'NOTE': 'OfferId not found', 'LINK': None}</td>\n",
       "      <td>LEADGID_PARTNER</td>\n",
       "      <td>61b2b506435732000151e5cd</td>\n",
       "      <td>2021-12-10</td>\n",
       "      <td>Доброзайм</td>\n",
       "      <td>61b2b351e6086b00019e5b69</td>\n",
       "      <td>79231289073</td>\n",
       "      <td>Клеценко Вячеслав Николаевич</td>\n",
       "    </tr>\n",
       "    <tr>\n",
       "      <th>3</th>\n",
       "      <td>61b2b6a5128c070001900260</td>\n",
       "      <td>34f85956-3ea5-4fcf-bfd9-9c4c0616e5e0</td>\n",
       "      <td>LINK</td>\n",
       "      <td>2021-12-10 02:08:37.314</td>\n",
       "      <td>2021-12-10 02:18:54.096</td>\n",
       "      <td>REJECTED</td>\n",
       "      <td>{'_id': None, 'userId': '61b2a262eae5be0001fb8888', 'fullName': 'Цаганова Эльмира Лубсановна', 'email': 'budashap0318@gmail.com', 'phone': '79025311178'}</td>\n",
       "      <td>МТС Банк</td>\n",
       "      <td>{'_id': 5ca741818c85df000167ad3f, 'name': 'Кредит наличными ', 'productType': 'CASH_LOAN', 'productName': 'Кредит наличными'}</td>\n",
       "      <td>{'NOTE': '4394', 'LINK': None}</td>\n",
       "      <td>LEADGID_PARTNER</td>\n",
       "      <td>61b2b6a5128c070001900260</td>\n",
       "      <td>2021-12-10</td>\n",
       "      <td>Кредит наличными</td>\n",
       "      <td>61b2a262eae5be0001fb8888</td>\n",
       "      <td>79025311178</td>\n",
       "      <td>Цаганова Эльмира Лубсановна</td>\n",
       "    </tr>\n",
       "    <tr>\n",
       "      <th>4</th>\n",
       "      <td>61b2b891435732000151e5f9</td>\n",
       "      <td>4a3ff16b-eafb-4666-8314-ea06e0ab5bb2</td>\n",
       "      <td>LINK</td>\n",
       "      <td>2021-12-10 02:16:49.223</td>\n",
       "      <td>2021-12-10 02:21:02.265</td>\n",
       "      <td>ACCEPTED</td>\n",
       "      <td>{'_id': None, 'userId': '61b2b7b4e6086b00019e5d78', 'fullName': 'Максим Витальевич Бабенко', 'email': 'babenko97.maks97@mail.ru', 'phone': '79000973431'}</td>\n",
       "      <td>СМСФинанс</td>\n",
       "      <td>{'_id': 5abb6ef821f7ea00074349d6, 'name': 'СМСФинанс', 'productType': 'LOAN', 'productName': 'Займ'}</td>\n",
       "      <td>{'LINK': None, 'NOTE': 'OfferId not found'}</td>\n",
       "      <td></td>\n",
       "      <td>61b2b891435732000151e5f9</td>\n",
       "      <td>2021-12-10</td>\n",
       "      <td>СМСФинанс</td>\n",
       "      <td>61b2b7b4e6086b00019e5d78</td>\n",
       "      <td>79000973431</td>\n",
       "      <td>Максим Витальевич Бабенко</td>\n",
       "    </tr>\n",
       "  </tbody>\n",
       "</table>\n",
       "</div>"
      ],
      "text/plain": [
       "                        _id                               clickId  type               createdAt               updatedAt    status                                                                                                                                                   borrower    partner                                                                                                                                           product                                 statusFields      adapterName                        id          dt                               product_name                    userId        phone                          name\n",
       "0  61b280d4f81409000159675e  766d372d-36db-42a0-9e50-d75b666211a4  LINK 2021-12-09 22:19:00.221 2021-12-10 04:15:15.345  ACCEPTED                                                                                                        {'_id': None, 'userId': '61b280c6e6086b00019e42d3'}   banki.ru  {'_id': 6087fee0b6d00a0001344eba, 'name': 'Одобрим.ру + Banki.ru= автокредит для вас', 'productType': 'AUTOCREDIT', 'productName': 'Автокредит'}  {'NOTE': 'OfferId not found', 'LINK': None}              NaN  61b280d4f81409000159675e  2021-12-10  Одобрим.ру + Banki.ru= автокредит для вас  61b280c6e6086b00019e42d3          NaN                           NaN\n",
       "1  61b285d6f814090001596770                                   NaN  LINK 2021-12-09 22:40:22.789 2021-12-09 22:56:03.035  REJECTED                                                                                                        {'_id': None, 'userId': '61b285d6eae5be0001fb7b69'}   еКапуста                                               {'_id': 5abb69e421f7ea00074349c9, 'name': 'еКапуста', 'productType': 'LOAN', 'productName': 'Займ'}  {'NOTE': 'OfferId not found', 'LINK': None}                   61b285d6f814090001596770  2021-12-10                                   еКапуста  61b285d6eae5be0001fb7b69          NaN                           NaN\n",
       "2  61b2b506435732000151e5cd  0a0ceda6-9521-4d1b-a77a-38a68be0d45f  LINK 2021-12-10 02:01:42.740 2021-12-10 03:07:07.690  REJECTED  {'_id': None, 'userId': '61b2b351e6086b00019e5b69', 'fullName': 'Клеценко Вячеслав Николаевич', 'email': 'kletsenko87@gmail.com', 'phone': '79231289073'}  Доброзайм                                              {'_id': 5d4058712a86100001f5ba35, 'name': 'Доброзайм', 'productType': 'LOAN', 'productName': 'Займ'}  {'NOTE': 'OfferId not found', 'LINK': None}  LEADGID_PARTNER  61b2b506435732000151e5cd  2021-12-10                                  Доброзайм  61b2b351e6086b00019e5b69  79231289073  Клеценко Вячеслав Николаевич\n",
       "3  61b2b6a5128c070001900260  34f85956-3ea5-4fcf-bfd9-9c4c0616e5e0  LINK 2021-12-10 02:08:37.314 2021-12-10 02:18:54.096  REJECTED  {'_id': None, 'userId': '61b2a262eae5be0001fb8888', 'fullName': 'Цаганова Эльмира Лубсановна', 'email': 'budashap0318@gmail.com', 'phone': '79025311178'}   МТС Банк                     {'_id': 5ca741818c85df000167ad3f, 'name': 'Кредит наличными ', 'productType': 'CASH_LOAN', 'productName': 'Кредит наличными'}               {'NOTE': '4394', 'LINK': None}  LEADGID_PARTNER  61b2b6a5128c070001900260  2021-12-10                          Кредит наличными   61b2a262eae5be0001fb8888  79025311178   Цаганова Эльмира Лубсановна\n",
       "4  61b2b891435732000151e5f9  4a3ff16b-eafb-4666-8314-ea06e0ab5bb2  LINK 2021-12-10 02:16:49.223 2021-12-10 02:21:02.265  ACCEPTED  {'_id': None, 'userId': '61b2b7b4e6086b00019e5d78', 'fullName': 'Максим Витальевич Бабенко', 'email': 'babenko97.maks97@mail.ru', 'phone': '79000973431'}  СМСФинанс                                              {'_id': 5abb6ef821f7ea00074349d6, 'name': 'СМСФинанс', 'productType': 'LOAN', 'productName': 'Займ'}  {'LINK': None, 'NOTE': 'OfferId not found'}                   61b2b891435732000151e5f9  2021-12-10                                  СМСФинанс  61b2b7b4e6086b00019e5d78  79000973431     Максим Витальевич Бабенко"
      ]
     },
     "execution_count": 38,
     "metadata": {},
     "output_type": "execute_result"
    }
   ],
   "source": [
    "dff_all.head()"
   ]
  },
  {
   "cell_type": "code",
   "execution_count": 13,
   "metadata": {},
   "outputs": [],
   "source": [
    "dff_all['productType'] = dff_all['product'].apply(lambda x: x['productType'] if 'productType' in x.keys() else 'other')"
   ]
  },
  {
   "cell_type": "code",
   "execution_count": 14,
   "metadata": {},
   "outputs": [],
   "source": [
    "dff2 = dff_all[dff_all['status'].isin(['APPROVED', 'ISSUED'])].groupby('userId', as_index=False).agg({ 'id': 'count',\n",
    "                                'productType': 'first'})"
   ]
  },
  {
   "cell_type": "code",
   "execution_count": 15,
   "metadata": {},
   "outputs": [],
   "source": [
    "dff = dff_all.groupby('userId', as_index=False).agg({ 'id': 'count',\n",
    "                                'productType': 'first'})"
   ]
  },
  {
   "cell_type": "code",
   "execution_count": 16,
   "metadata": {},
   "outputs": [],
   "source": [
    "def cre_get(es):\n",
    "    \n",
    "    chunk = 5000\n",
    "    gte = (str(datetime.combine(date(2020,2,1), datetime.min.time()).timestamp()).replace(\".\", \"\")+\"0000000\")[:13]\n",
    "    payload = {\"size\": chunk,\n",
    "               \"_source\": [\"params.parsed\"],\n",
    "\"query\":{\"bool\":{\"must\":[{\"match_all\":{}},\n",
    "                         {\"match_phrase\":{\"eventType.keyword\": \"CRE\"}},\n",
    "                         {\"range\":{\"timestamp\":{\"gte\":gte,\"format\":\"epoch_millis\"}}}\n",
    "                        ]}},\n",
    "\"_source\": [\"params.parsed\", \"timestamp\"]\n",
    "              }\n",
    "    \n",
    "    d = es.search(index='events', doc_type='event', body=payload, scroll='120m', request_timeout=3000)\n",
    "    sleep(0.5)\n",
    "    doc_count = d['hits']['total']\n",
    "    hits = d['hits']['hits']\n",
    "    print(doc_count, end =\"; \", flush=True)\n",
    "    res = []\n",
    "    for i in range(1, int(doc_count/chunk)+1):\n",
    "        scroll = d['_scroll_id']\n",
    "        d = es.scroll(scroll_id = scroll, scroll = '120m', request_timeout=3000)\n",
    "        hits = hits + d['hits']['hits']\n",
    "        print(doc_count-chunk*i, end =\"; \", flush=True)\n",
    "        sleep(0.5)\n",
    "#         break\n",
    "    print(len(hits), 'raz')\n",
    "    cre = []\n",
    "    for h in hits:\n",
    "        if len(h['_source']['params']['parsed'])>10:\n",
    "            h2 = json.loads(h['_source']['params']['parsed'].replace(\"'\", '\"'))\n",
    "            h2.update({\"timestamp\": pd.to_datetime(h['_source']['timestamp'])})\n",
    "            cre.append(h2)\n",
    "    df = pd.DataFrame(cre).sort_values(\"timestamp\", ascending=False).drop_duplicates('userId', keep='first')\n",
    "      \n",
    "            \n",
    "    return df[['userId', 'score']].reset_index(drop=True)"
   ]
  },
  {
   "cell_type": "code",
   "execution_count": 17,
   "metadata": {
    "scrolled": true
   },
   "outputs": [
    {
     "name": "stdout",
     "output_type": "stream",
     "text": [
      "231938; 226938; 221938; 216938; 211938; 206938; 201938; 196938; 191938; 186938; 181938; 176938; 171938; 166938; 161938; 156938; 151938; 146938; 141938; 136938; 131938; 126938; 121938; 116938; 111938; 106938; 101938; 96938; 91938; 86938; 81938; 76938; 71938; 66938; 61938; 56938; 51938; 46938; 41938; 36938; 31938; 26938; 21938; 16938; 11938; 6938; 1938; 231938 raz\n"
     ]
    }
   ],
   "source": [
    "cre = cre_get(es)"
   ]
  },
  {
   "cell_type": "code",
   "execution_count": 18,
   "metadata": {},
   "outputs": [
    {
     "data": {
      "text/html": [
       "<div>\n",
       "<style scoped>\n",
       "    .dataframe tbody tr th:only-of-type {\n",
       "        vertical-align: middle;\n",
       "    }\n",
       "\n",
       "    .dataframe tbody tr th {\n",
       "        vertical-align: top;\n",
       "    }\n",
       "\n",
       "    .dataframe thead th {\n",
       "        text-align: right;\n",
       "    }\n",
       "</style>\n",
       "<table border=\"1\" class=\"dataframe\">\n",
       "  <thead>\n",
       "    <tr style=\"text-align: right;\">\n",
       "      <th></th>\n",
       "      <th>userId</th>\n",
       "      <th>score</th>\n",
       "    </tr>\n",
       "  </thead>\n",
       "  <tbody>\n",
       "    <tr>\n",
       "      <th>0</th>\n",
       "      <td>61c087a98b7198000157ab67</td>\n",
       "      <td>61</td>\n",
       "    </tr>\n",
       "    <tr>\n",
       "      <th>1</th>\n",
       "      <td>61c08844e6086b0001a53da5</td>\n",
       "      <td>71</td>\n",
       "    </tr>\n",
       "    <tr>\n",
       "      <th>2</th>\n",
       "      <td>61c084e8e6086b0001a53c04</td>\n",
       "      <td>1</td>\n",
       "    </tr>\n",
       "    <tr>\n",
       "      <th>3</th>\n",
       "      <td>61c082dc8b7198000157a93f</td>\n",
       "      <td>25</td>\n",
       "    </tr>\n",
       "    <tr>\n",
       "      <th>4</th>\n",
       "      <td>61c07e86e6086b0001a5393b</td>\n",
       "      <td>1</td>\n",
       "    </tr>\n",
       "    <tr>\n",
       "      <th>...</th>\n",
       "      <td>...</td>\n",
       "      <td>...</td>\n",
       "    </tr>\n",
       "    <tr>\n",
       "      <th>143648</th>\n",
       "      <td>5e34c6d991c64d0001d54633</td>\n",
       "      <td>49</td>\n",
       "    </tr>\n",
       "    <tr>\n",
       "      <th>143649</th>\n",
       "      <td>5e34c25e91c64d0001d545a4</td>\n",
       "      <td>45</td>\n",
       "    </tr>\n",
       "    <tr>\n",
       "      <th>143650</th>\n",
       "      <td>5e34c008008e1d000103bfcd</td>\n",
       "      <td>32</td>\n",
       "    </tr>\n",
       "    <tr>\n",
       "      <th>143651</th>\n",
       "      <td>5e34c15791c64d0001d54589</td>\n",
       "      <td>15</td>\n",
       "    </tr>\n",
       "    <tr>\n",
       "      <th>143652</th>\n",
       "      <td>5e34bb8b008e1d000103bf15</td>\n",
       "      <td>30</td>\n",
       "    </tr>\n",
       "  </tbody>\n",
       "</table>\n",
       "<p>143653 rows × 2 columns</p>\n",
       "</div>"
      ],
      "text/plain": [
       "                          userId  score\n",
       "0       61c087a98b7198000157ab67     61\n",
       "1       61c08844e6086b0001a53da5     71\n",
       "2       61c084e8e6086b0001a53c04      1\n",
       "3       61c082dc8b7198000157a93f     25\n",
       "4       61c07e86e6086b0001a5393b      1\n",
       "...                          ...    ...\n",
       "143648  5e34c6d991c64d0001d54633     49\n",
       "143649  5e34c25e91c64d0001d545a4     45\n",
       "143650  5e34c008008e1d000103bfcd     32\n",
       "143651  5e34c15791c64d0001d54589     15\n",
       "143652  5e34bb8b008e1d000103bf15     30\n",
       "\n",
       "[143653 rows x 2 columns]"
      ]
     },
     "execution_count": 18,
     "metadata": {},
     "output_type": "execute_result"
    }
   ],
   "source": [
    "cre"
   ]
  },
  {
   "cell_type": "code",
   "execution_count": 19,
   "metadata": {},
   "outputs": [],
   "source": [
    "cre = cre.rename(columns={\"score\": \"odobrim_score\"})\n",
    "cre['KI'] = cre['odobrim_score'].apply(lambda x: \"good\" if x > 59 else \"bad\")"
   ]
  },
  {
   "cell_type": "code",
   "execution_count": 21,
   "metadata": {},
   "outputs": [],
   "source": [
    "du2 = pd.merge(left=du[['dt', 'phone', 'firstName2', 'email', 'id', 'timezone',\n",
    "                       'advertisingAgreementsSms', 'advertisingAgreementsEmail']], \n",
    "               right=cre[['userId', 'odobrim_score',# 'nbch', 'ecs', 'ei',\n",
    "                          'KI'\n",
    "                         ]].reset_index(drop=True), \n",
    "               left_on='id', \n",
    "               right_on='userId',\n",
    "               how = 'left')\n",
    "# du2 = pd.merge(left=du, \n",
    "#                right=cre.reset_index(drop=True), \n",
    "#                left_on='id', \n",
    "#                right_on='userId',\n",
    "#                how = 'left')"
   ]
  },
  {
   "cell_type": "code",
   "execution_count": 22,
   "metadata": {},
   "outputs": [],
   "source": [
    "du2['advertisingAgreementsSms'] = du2['advertisingAgreementsSms'].apply(lambda x: x[-1]['isAgree'] if \n",
    "                                                                        type(x)!=float and len(x) >0 \n",
    "                                                                        else False)\n",
    "du2['advertisingAgreementsEmail'] = du2['advertisingAgreementsEmail'].apply(lambda x: x[-1]['isAgree'] if \n",
    "                                                                        type(x)!=float and len(x) >0 \n",
    "                                                                        else False)"
   ]
  },
  {
   "cell_type": "code",
   "execution_count": 23,
   "metadata": {},
   "outputs": [
    {
     "data": {
      "text/html": [
       "<div>\n",
       "<style scoped>\n",
       "    .dataframe tbody tr th:only-of-type {\n",
       "        vertical-align: middle;\n",
       "    }\n",
       "\n",
       "    .dataframe tbody tr th {\n",
       "        vertical-align: top;\n",
       "    }\n",
       "\n",
       "    .dataframe thead th {\n",
       "        text-align: right;\n",
       "    }\n",
       "</style>\n",
       "<table border=\"1\" class=\"dataframe\">\n",
       "  <thead>\n",
       "    <tr style=\"text-align: right;\">\n",
       "      <th></th>\n",
       "      <th>dt</th>\n",
       "      <th>phone</th>\n",
       "      <th>firstName2</th>\n",
       "      <th>email</th>\n",
       "      <th>id</th>\n",
       "      <th>timezone</th>\n",
       "      <th>advertisingAgreementsSms</th>\n",
       "      <th>advertisingAgreementsEmail</th>\n",
       "      <th>userId</th>\n",
       "      <th>odobrim_score</th>\n",
       "      <th>KI</th>\n",
       "    </tr>\n",
       "  </thead>\n",
       "  <tbody>\n",
       "    <tr>\n",
       "      <th>0</th>\n",
       "      <td>2018-08-08 06:25:41.620</td>\n",
       "      <td>79999999999</td>\n",
       "      <td>Александр</td>\n",
       "      <td>fEdor@fepe.ru</td>\n",
       "      <td>5adf4162812abb00063d5db5</td>\n",
       "      <td>UTC+3:00</td>\n",
       "      <td>True</td>\n",
       "      <td>True</td>\n",
       "      <td>NaN</td>\n",
       "      <td>NaN</td>\n",
       "      <td>NaN</td>\n",
       "    </tr>\n",
       "    <tr>\n",
       "      <th>1</th>\n",
       "      <td>2018-08-08 00:00:00.000</td>\n",
       "      <td>79139223030</td>\n",
       "      <td>Наталья</td>\n",
       "      <td>nvinogradova@bk.ru</td>\n",
       "      <td>5ae19de7812abb00063d5dd2</td>\n",
       "      <td>UTC+7:00</td>\n",
       "      <td>True</td>\n",
       "      <td>True</td>\n",
       "      <td>NaN</td>\n",
       "      <td>NaN</td>\n",
       "      <td>NaN</td>\n",
       "    </tr>\n",
       "    <tr>\n",
       "      <th>2</th>\n",
       "      <td>2018-08-08 00:00:00.000</td>\n",
       "      <td>79150037080</td>\n",
       "      <td>Руслан</td>\n",
       "      <td>0037080@gmail.com</td>\n",
       "      <td>5ae2d649812abb00063d5dd4</td>\n",
       "      <td>UTC+3:00</td>\n",
       "      <td>True</td>\n",
       "      <td>True</td>\n",
       "      <td>5ae2d649812abb00063d5dd4</td>\n",
       "      <td>92.0</td>\n",
       "      <td>good</td>\n",
       "    </tr>\n",
       "    <tr>\n",
       "      <th>3</th>\n",
       "      <td>2018-08-08 00:00:00.000</td>\n",
       "      <td>79104017172</td>\n",
       "      <td>Илья</td>\n",
       "      <td>ChernyshevIA@msk.bcs.ru</td>\n",
       "      <td>5ae316e2812abb00063d5dd8</td>\n",
       "      <td>UTC+3:00</td>\n",
       "      <td>True</td>\n",
       "      <td>True</td>\n",
       "      <td>5ae316e2812abb00063d5dd8</td>\n",
       "      <td>55.0</td>\n",
       "      <td>bad</td>\n",
       "    </tr>\n",
       "    <tr>\n",
       "      <th>4</th>\n",
       "      <td>2018-08-08 00:00:00.000</td>\n",
       "      <td>79037303787</td>\n",
       "      <td>Олег</td>\n",
       "      <td>xlegus@gmail.com</td>\n",
       "      <td>5ae478061525640007977ffd</td>\n",
       "      <td>UTC+3:00</td>\n",
       "      <td>True</td>\n",
       "      <td>True</td>\n",
       "      <td>5ae478061525640007977ffd</td>\n",
       "      <td>40.0</td>\n",
       "      <td>bad</td>\n",
       "    </tr>\n",
       "  </tbody>\n",
       "</table>\n",
       "</div>"
      ],
      "text/plain": [
       "                       dt        phone firstName2                    email                        id  timezone  advertisingAgreementsSms  advertisingAgreementsEmail                    userId  odobrim_score    KI\n",
       "0 2018-08-08 06:25:41.620  79999999999  Александр            fEdor@fepe.ru  5adf4162812abb00063d5db5  UTC+3:00                      True                        True                       NaN            NaN   NaN\n",
       "1 2018-08-08 00:00:00.000  79139223030    Наталья       nvinogradova@bk.ru  5ae19de7812abb00063d5dd2  UTC+7:00                      True                        True                       NaN            NaN   NaN\n",
       "2 2018-08-08 00:00:00.000  79150037080     Руслан        0037080@gmail.com  5ae2d649812abb00063d5dd4  UTC+3:00                      True                        True  5ae2d649812abb00063d5dd4           92.0  good\n",
       "3 2018-08-08 00:00:00.000  79104017172       Илья  ChernyshevIA@msk.bcs.ru  5ae316e2812abb00063d5dd8  UTC+3:00                      True                        True  5ae316e2812abb00063d5dd8           55.0   bad\n",
       "4 2018-08-08 00:00:00.000  79037303787       Олег         xlegus@gmail.com  5ae478061525640007977ffd  UTC+3:00                      True                        True  5ae478061525640007977ffd           40.0   bad"
      ]
     },
     "execution_count": 23,
     "metadata": {},
     "output_type": "execute_result"
    }
   ],
   "source": [
    "du2.head()"
   ]
  },
  {
   "cell_type": "code",
   "execution_count": 24,
   "metadata": {},
   "outputs": [],
   "source": [
    "du3 = pd.merge(left=du2[du2['firstName2'].notnull()],#[['id', 'dt', 'phone','firstName2', \n",
    "#                                                       'email', 'KI', 'odobrim_score','salary','timezone',\n",
    "#                                                      'advertisingAgreementsEmail','obl']],\n",
    "         right = dff,\n",
    "         left_on='id', \n",
    "         right_on='userId',\n",
    "         how = 'left')\n",
    "# du3 = pd.merge(left=du2[du2['firstName2'].notnull()],\n",
    "#          right = dff,\n",
    "#          left_on='id', \n",
    "#          right_on='userId',\n",
    "#          how = 'left')"
   ]
  },
  {
   "cell_type": "code",
   "execution_count": 25,
   "metadata": {},
   "outputs": [],
   "source": [
    "du3['KI'].fillna('NoKI', inplace=True)"
   ]
  },
  {
   "cell_type": "code",
   "execution_count": 26,
   "metadata": {},
   "outputs": [
    {
     "data": {
      "text/plain": [
       "177133"
      ]
     },
     "execution_count": 26,
     "metadata": {},
     "output_type": "execute_result"
    }
   ],
   "source": [
    "len(du3)"
   ]
  },
  {
   "cell_type": "code",
   "execution_count": 27,
   "metadata": {},
   "outputs": [
    {
     "data": {
      "text/plain": [
       "bad     89124\n",
       "NoKi    63450\n",
       "good    24559\n",
       "Name: segment, dtype: int64"
      ]
     },
     "execution_count": 27,
     "metadata": {},
     "output_type": "execute_result"
    }
   ],
   "source": [
    "#Разобъем всех id по возрасту на 4 группы : 'до 30', '30-45', '45-60', '60+' \n",
    "def income_group(odobrim_score):\n",
    "    if odobrim_score <= 49: return 'bad'\n",
    "    if odobrim_score > 50: return 'good'\n",
    "    \n",
    "\n",
    "\n",
    "    else: \n",
    "        return 'NoKi'\n",
    "    \n",
    "du3['segment'] = du3['odobrim_score'].apply(income_group)\n",
    "du3['segment'].value_counts()"
   ]
  },
  {
   "cell_type": "code",
   "execution_count": 28,
   "metadata": {},
   "outputs": [
    {
     "ename": "KeyError",
     "evalue": "'age_group'",
     "output_type": "error",
     "traceback": [
      "\u001b[0;31m---------------------------------------------------------------------------\u001b[0m",
      "\u001b[0;31mKeyError\u001b[0m                                  Traceback (most recent call last)",
      "\u001b[0;32m<ipython-input-28-d232d87ec9da>\u001b[0m in \u001b[0;36m<module>\u001b[0;34m\u001b[0m\n\u001b[0;32m----> 1\u001b[0;31m \u001b[0mdu3\u001b[0m\u001b[0;34m.\u001b[0m\u001b[0mgroupby\u001b[0m\u001b[0;34m(\u001b[0m\u001b[0;34m[\u001b[0m\u001b[0;34m'age_group'\u001b[0m\u001b[0;34m,\u001b[0m\u001b[0;34m'segment'\u001b[0m\u001b[0;34m]\u001b[0m\u001b[0;34m)\u001b[0m\u001b[0;34m.\u001b[0m\u001b[0magg\u001b[0m\u001b[0;34m(\u001b[0m\u001b[0;34m{\u001b[0m\u001b[0;34m'id_x'\u001b[0m\u001b[0;34m:\u001b[0m\u001b[0;34m'count'\u001b[0m\u001b[0;34m}\u001b[0m\u001b[0;34m)\u001b[0m\u001b[0;34m\u001b[0m\u001b[0;34m\u001b[0m\u001b[0m\n\u001b[0m",
      "\u001b[0;32m/opt/conda/lib/python3.7/site-packages/pandas/core/frame.py\u001b[0m in \u001b[0;36mgroupby\u001b[0;34m(self, by, axis, level, as_index, sort, group_keys, squeeze, observed, dropna)\u001b[0m\n\u001b[1;32m   7639\u001b[0m             \u001b[0msqueeze\u001b[0m\u001b[0;34m=\u001b[0m\u001b[0msqueeze\u001b[0m\u001b[0;34m,\u001b[0m  \u001b[0;31m# type: ignore[arg-type]\u001b[0m\u001b[0;34m\u001b[0m\u001b[0;34m\u001b[0m\u001b[0m\n\u001b[1;32m   7640\u001b[0m             \u001b[0mobserved\u001b[0m\u001b[0;34m=\u001b[0m\u001b[0mobserved\u001b[0m\u001b[0;34m,\u001b[0m\u001b[0;34m\u001b[0m\u001b[0;34m\u001b[0m\u001b[0m\n\u001b[0;32m-> 7641\u001b[0;31m             \u001b[0mdropna\u001b[0m\u001b[0;34m=\u001b[0m\u001b[0mdropna\u001b[0m\u001b[0;34m,\u001b[0m\u001b[0;34m\u001b[0m\u001b[0;34m\u001b[0m\u001b[0m\n\u001b[0m\u001b[1;32m   7642\u001b[0m         )\n\u001b[1;32m   7643\u001b[0m \u001b[0;34m\u001b[0m\u001b[0m\n",
      "\u001b[0;32m/opt/conda/lib/python3.7/site-packages/pandas/core/groupby/groupby.py\u001b[0m in \u001b[0;36m__init__\u001b[0;34m(self, obj, keys, axis, level, grouper, exclusions, selection, as_index, sort, group_keys, squeeze, observed, mutated, dropna)\u001b[0m\n\u001b[1;32m    895\u001b[0m                 \u001b[0mobserved\u001b[0m\u001b[0;34m=\u001b[0m\u001b[0mobserved\u001b[0m\u001b[0;34m,\u001b[0m\u001b[0;34m\u001b[0m\u001b[0;34m\u001b[0m\u001b[0m\n\u001b[1;32m    896\u001b[0m                 \u001b[0mmutated\u001b[0m\u001b[0;34m=\u001b[0m\u001b[0mself\u001b[0m\u001b[0;34m.\u001b[0m\u001b[0mmutated\u001b[0m\u001b[0;34m,\u001b[0m\u001b[0;34m\u001b[0m\u001b[0;34m\u001b[0m\u001b[0m\n\u001b[0;32m--> 897\u001b[0;31m                 \u001b[0mdropna\u001b[0m\u001b[0;34m=\u001b[0m\u001b[0mself\u001b[0m\u001b[0;34m.\u001b[0m\u001b[0mdropna\u001b[0m\u001b[0;34m,\u001b[0m\u001b[0;34m\u001b[0m\u001b[0;34m\u001b[0m\u001b[0m\n\u001b[0m\u001b[1;32m    898\u001b[0m             )\n\u001b[1;32m    899\u001b[0m \u001b[0;34m\u001b[0m\u001b[0m\n",
      "\u001b[0;32m/opt/conda/lib/python3.7/site-packages/pandas/core/groupby/grouper.py\u001b[0m in \u001b[0;36mget_grouper\u001b[0;34m(obj, key, axis, level, sort, observed, mutated, validate, dropna)\u001b[0m\n\u001b[1;32m    860\u001b[0m                 \u001b[0min_axis\u001b[0m\u001b[0;34m,\u001b[0m \u001b[0mlevel\u001b[0m\u001b[0;34m,\u001b[0m \u001b[0mgpr\u001b[0m \u001b[0;34m=\u001b[0m \u001b[0;32mFalse\u001b[0m\u001b[0;34m,\u001b[0m \u001b[0mgpr\u001b[0m\u001b[0;34m,\u001b[0m \u001b[0;32mNone\u001b[0m\u001b[0;34m\u001b[0m\u001b[0;34m\u001b[0m\u001b[0m\n\u001b[1;32m    861\u001b[0m             \u001b[0;32melse\u001b[0m\u001b[0;34m:\u001b[0m\u001b[0;34m\u001b[0m\u001b[0;34m\u001b[0m\u001b[0m\n\u001b[0;32m--> 862\u001b[0;31m                 \u001b[0;32mraise\u001b[0m \u001b[0mKeyError\u001b[0m\u001b[0;34m(\u001b[0m\u001b[0mgpr\u001b[0m\u001b[0;34m)\u001b[0m\u001b[0;34m\u001b[0m\u001b[0;34m\u001b[0m\u001b[0m\n\u001b[0m\u001b[1;32m    863\u001b[0m         \u001b[0;32melif\u001b[0m \u001b[0misinstance\u001b[0m\u001b[0;34m(\u001b[0m\u001b[0mgpr\u001b[0m\u001b[0;34m,\u001b[0m \u001b[0mGrouper\u001b[0m\u001b[0;34m)\u001b[0m \u001b[0;32mand\u001b[0m \u001b[0mgpr\u001b[0m\u001b[0;34m.\u001b[0m\u001b[0mkey\u001b[0m \u001b[0;32mis\u001b[0m \u001b[0;32mnot\u001b[0m \u001b[0;32mNone\u001b[0m\u001b[0;34m:\u001b[0m\u001b[0;34m\u001b[0m\u001b[0;34m\u001b[0m\u001b[0m\n\u001b[1;32m    864\u001b[0m             \u001b[0;31m# Add key to exclusions\u001b[0m\u001b[0;34m\u001b[0m\u001b[0;34m\u001b[0m\u001b[0;34m\u001b[0m\u001b[0m\n",
      "\u001b[0;31mKeyError\u001b[0m: 'age_group'"
     ]
    }
   ],
   "source": [
    "# du3.groupby(['age_group','segment']).agg({'id_x':'count'})"
   ]
  },
  {
   "cell_type": "code",
   "execution_count": 29,
   "metadata": {},
   "outputs": [],
   "source": [
    "# #Разобъем всех id по возрасту на 4 группы : 'до 30', '30-45', '45-60', '60+' \n",
    "# def income_group(odobrim_score):\n",
    "#     if odobrim_score <= 20: return '0-20'\n",
    "#     if 20 < odobrim_score <= 40: return '20-40'\n",
    "#     if 40 < odobrim_score <= 60: return '40-60'\n",
    "#     if 60 < odobrim_score <=80: return '60-80'\n",
    "#     if 80 < odobrim_score <=100: return '80-100'\n",
    "\n",
    "\n",
    "#     else: \n",
    "#         return '200000+'\n",
    "    \n",
    "# du3['income_group'] = du3['odobrim_score'].apply(income_group)\n",
    "# du3['income_group'].value_counts()"
   ]
  },
  {
   "cell_type": "code",
   "execution_count": 30,
   "metadata": {},
   "outputs": [],
   "source": [
    "# def get_kibana_reg(es, since,till):\n",
    "#     gte = (str(datetime.combine(since, datetime.min.time()).timestamp()).replace(\".\", \"\")+\"0000000\")[:13]\n",
    "#     lt = (str(datetime.combine(till, datetime.min.time()).timestamp()).replace(\".\", \"\")+\"0000000\")[:13]\n",
    "\n",
    "#     payload = {\"size\": 1000,\n",
    "# \"query\":{\"bool\":{\"must\":[{\"match_all\":{}},\n",
    "#                          {\"match_phrase\":{\"eventType.keyword\":\"REGISTRATION\"}},\n",
    "#                          {\"range\":{\"timestamp\":{\"gte\":gte,\"lt\":lt,\"format\":\"epoch_millis\"}}}]}}}\n",
    "    \n",
    "#     d = es.search(index='events', doc_type='event', body=payload, scroll='120m', request_timeout=300)\n",
    "#     sleep(0.5)\n",
    "#     doc_count = d['hits']['total']\n",
    "#     hits = d['hits']['hits']\n",
    "#     print(doc_count, end =\"; \", flush=True)\n",
    "#     res = []\n",
    "#     for i in range(1, int(doc_count/1000)+1):\n",
    "#         scroll = d['_scroll_id']\n",
    "#         d = es.scroll(scroll_id = scroll, scroll = '120m', request_timeout=300)\n",
    "#         hits = hits + d['hits']['hits']\n",
    "#         print(doc_count-1000*i, end =\"; \", flush=True)\n",
    "#         sleep(0.5)\n",
    "\n",
    "#     dr = pd.DataFrame([hit['_source'] for hit in hits])\n",
    "#     dr.params.apply(lambda x: x.keys())\n",
    "#     for col in ['gaId', 'userId', 'utm_campaign', 'utm_medium', 'utm_source', 'utm_term', 'productType',\n",
    "#                 'yandexClientID','currentPage',\n",
    "# #                 'yandexClientID', 'productId', 'whence', 'transitionId', 'partnerName', #'payout', 'status',\n",
    "# #                   'transaction_id', 'clickId', \n",
    "#                 'sourceGlobal']:\n",
    "#         dr[col] = dr['params'].apply(lambda x: x[col] if col in x.keys() else np.nan)\n",
    "\n",
    "#     dr['time'] = dr['timestamp'].apply(lambda x: datetime.strptime(x[:19], '%Y-%m-%dT%H:%M:%S'))\n",
    "#     dr['dt_reg'] = dr['time'].apply(lambda x: (x + timedelta(seconds=3*3600)).date())\n",
    "#     return dr\n",
    "# since = date(2018,1,1)\n",
    "# till = date(2021,12,1)\n",
    "# regs = get_kibana_reg(es, since,till)\n"
   ]
  },
  {
   "cell_type": "code",
   "execution_count": 31,
   "metadata": {},
   "outputs": [],
   "source": [
    "# regs1=regs[~regs['productType'].isin(['loan','Займ'])]\n",
    "\n",
    "# regs1 = regs1[['userId','productType']]\n",
    "# regs1.columns = ['userId_x','productType']\n",
    "# regs1\n",
    "\n",
    "# merge = du3.merge(regs1,how='left',on='userId_x')\n",
    "# len(merge)\n",
    "\n",
    "# merge1=merge.drop_duplicates('userId_x')\n",
    "# merge1.tail(4000)\n",
    "\n",
    "# merge2 = merge1[merge1['age_group']!='24']\n",
    "# len(merge2)\n",
    "\n",
    "# merge2['KI2'] = merge2['KI']\n",
    "# merge2['KI2'] = merge2['odobrim_score'].apply(lambda x: 'Not_Bad' if x==1 else x)\n",
    "# # merge2['KI2'].unique()\n",
    "\n",
    "# merge2[((merge2['KI']=='good'))|(merge2['KI2']=='Not_Bad')]\n",
    "\n",
    "# df=merge2[merge2['age_group'].isin(['35-44','25-34','45-54'])]\n",
    "# df = df[df['advertisingAgreementsEmail']==True]\n",
    "# df = df[df['dt']>'2018-06-01']\n",
    "# df = df[df['KI']=='good']\n",
    "# #df.to_excel('broker_send.xlsx')\n",
    "\n",
    "# df[['firstName2', 'email', 'id_x']].to_excel('broker_send.xlsx')\n",
    "\n",
    "# merge1[merge1['dt']>'2021-05-01'].plot(x='dt',y='odobrim_score',figsize=(12,6))\n",
    "\n",
    "# merge1['KI'].value_counts()\n",
    "\n",
    "# len(merge1[merge1['odobrim_score']!='NoKI'])\n",
    "\n",
    "# du3.drop_duplicates('userId_x').sum()"
   ]
  },
  {
   "cell_type": "code",
   "execution_count": 33,
   "metadata": {},
   "outputs": [],
   "source": [
    "du3[((du3['odobrim_score']>49))&(du3['id_y'].isnull())\n",
    "   &(du3['dt']<datetime.now()-timedelta(days=3)) \n",
    "   &(du3['advertisingAgreementsEmail']==True)][['firstName2', 'email', 'id_x', \n",
    "                                                    'odobrim_score']].to_excel(f'reports/good.xlsx')\n",
    "du3[((du3['odobrim_score']<49))&(du3['id_y'].isnull())\n",
    "   &(du3['dt']<datetime.now()-timedelta(days=3)) \n",
    "   &(du3['advertisingAgreementsEmail']==True)][['firstName2',\n",
    "                                                'email',\n",
    "                                                'id_x', \n",
    "                                                'odobrim_score']].to_excel(f'reports/bad.xlsx')"
   ]
  },
  {
   "cell_type": "code",
   "execution_count": null,
   "metadata": {},
   "outputs": [],
   "source": [
    "len(du3[((du3['odobrim_score']<49))&(du3['id_y'].isnull())\n",
    "   &(du3['dt']<datetime.now()-timedelta(days=3)) \n",
    "   &(du3['advertisingAgreementsEmail']==True)][['firstName2',\n",
    "                                                'email',\n",
    "                                                'id_x', \n",
    "                                                'odobrim_score','age_group']])"
   ]
  },
  {
   "cell_type": "code",
   "execution_count": null,
   "metadata": {},
   "outputs": [],
   "source": [
    "good_ = pd.read_excel(f'reports/good.xlsx')\n",
    "bad_ = pd.read_excel(f'reports/bad.xlsx')\n"
   ]
  },
  {
   "cell_type": "code",
   "execution_count": null,
   "metadata": {},
   "outputs": [],
   "source": [
    "bad1 = bad.sample(38007)"
   ]
  },
  {
   "cell_type": "code",
   "execution_count": null,
   "metadata": {},
   "outputs": [],
   "source": [
    "bad1.to_excel('bad1.xlsx')"
   ]
  },
  {
   "cell_type": "code",
   "execution_count": null,
   "metadata": {},
   "outputs": [],
   "source": [
    "baad=bad1['id_x'].to_list()"
   ]
  },
  {
   "cell_type": "code",
   "execution_count": null,
   "metadata": {},
   "outputs": [],
   "source": [
    "baad"
   ]
  },
  {
   "cell_type": "code",
   "execution_count": null,
   "metadata": {},
   "outputs": [],
   "source": [
    "bad2 = bad[~bad['id_x'].isin(baad)]\n",
    "bad2.to_excel('bad2.xlsx')"
   ]
  },
  {
   "cell_type": "code",
   "execution_count": null,
   "metadata": {},
   "outputs": [],
   "source": [
    "bad1"
   ]
  },
  {
   "cell_type": "code",
   "execution_count": null,
   "metadata": {},
   "outputs": [],
   "source": [
    "du3[((du3['odobrim_score']>60))&(du3['id_y'].isnull())\n",
    "   &(du3['dt']<datetime.now()-timedelta(days=3)) \n",
    "   &(du3['advertisingAgreementsEmail']==True)][['firstName2', 'email', 'id_x', \n",
    "                                                    'odobrim_score','age_group']].to_excel(f'reports/good.xlsx')\n",
    "du3[((du3['odobrim_score']<=60))&((du3['odobrim_score']>40))&(du3['id_y'].isnull())\n",
    "   &(du3['dt']<datetime.now()-timedelta(days=3)) \n",
    "   &(du3['advertisingAgreementsEmail']==True)][['firstName2',\n",
    "                                                'email',\n",
    "                                                'id_x', \n",
    "                                                'odobrim_score','age_group']].to_excel(f'reports/avg.xlsx')\n",
    "du3[((du3['odobrim_score']<=40))&(du3['id_y'].isnull())\n",
    "   &(du3['dt']<datetime.now()-timedelta(days=3)) \n",
    "   &(du3['advertisingAgreementsEmail']==True)][['firstName2',\n",
    "                                                'email',\n",
    "                                                'id_x', \n",
    "                                                'odobrim_score','age_group']].to_excel(f'reports/bad.xlsx')\n"
   ]
  },
  {
   "cell_type": "code",
   "execution_count": null,
   "metadata": {},
   "outputs": [],
   "source": [
    "good_ = pd.read_excel(f'reports/good.xlsx')\n",
    "bad_ = pd.read_excel(f'reports/bad.xlsx')\n",
    "merge = pd.concat([good_,bad_])\n",
    "merge.to_excel('merge.xlsx')"
   ]
  },
  {
   "cell_type": "code",
   "execution_count": null,
   "metadata": {},
   "outputs": [],
   "source": [
    "# bad_new = du3[&(du3['id_y'].isnull())&((du3['dt']>='2021-07-12'))\n",
    "#    &(du3['dt']<datetime.now()-timedelta(days=3)) \n",
    "#    &(du3['advertisingAgreementsEmail']==True)][['firstName2', 'email', 'id_x', \n",
    "#                                                     'odobrim_score','dt','age_group']].to_excel(f'reports/bad_new.xlsx') "
   ]
  },
  {
   "cell_type": "code",
   "execution_count": null,
   "metadata": {},
   "outputs": [],
   "source": [
    "# city_id = du3[((du3['odobrim_score']>=40))&(du3['obl']=='1')\n",
    "#               &(du3['id_y'].isnull())&((du3['dt']>='2020-07-12'))\n",
    "#    &(du3['dt']<datetime.now()-timedelta(days=3)) \n",
    "#    &(du3['advertisingAgreementsEmail']==True)][['firstName2', 'email', 'id_x', \n",
    "#                                                     'odobrim_score','dt']].to_excel(f'reports/city_id.xlsx') "
   ]
  },
  {
   "cell_type": "code",
   "execution_count": null,
   "metadata": {},
   "outputs": [],
   "source": []
  },
  {
   "cell_type": "code",
   "execution_count": null,
   "metadata": {},
   "outputs": [],
   "source": [
    "bad = pd.read_excel(f'reports/bad.xlsx')\n",
    "len(bad)"
   ]
  },
  {
   "cell_type": "code",
   "execution_count": null,
   "metadata": {},
   "outputs": [],
   "source": [
    "bad[bad['age_group'].isin(['24','25-34'])].to_excel('bad_24_25_34.xlsx')\n",
    "bad[bad['age_group'].isin(['35-44','45-54'])].to_excel('bad_35_54.xlsx')\n",
    "bad[bad['age_group'].isin(['65+'])].to_excel('bad_65.xlsx')\n",
    "bad[bad['age_group'].isin(['NotBirthDay'])].to_excel('NotBirthDay.xlsx')\n",
    "\n",
    "\n",
    "\n",
    "    \n",
    "                          \n"
   ]
  },
  {
   "cell_type": "code",
   "execution_count": null,
   "metadata": {},
   "outputs": [],
   "source": []
  },
  {
   "cell_type": "code",
   "execution_count": null,
   "metadata": {},
   "outputs": [],
   "source": [
    "good = pd.read_excel(f'reports/good.xlsx')\n",
    "good"
   ]
  },
  {
   "cell_type": "code",
   "execution_count": null,
   "metadata": {},
   "outputs": [],
   "source": [
    "good[good['age_group'].isin(['24','25-34'])].to_excel('good_24_25_34.xlsx')\n",
    "good[good['age_group'].isin(['35-44','45-54'])].to_excel('good_35_54.xlsx')\n",
    "good[good['age_group'].isin(['65+'])].to_excel('good_65.xlsx')\n",
    "good[good['age_group'].isin(['NotBirthDay'])].to_excel('good_NotBirthDay.xlsx')"
   ]
  },
  {
   "cell_type": "code",
   "execution_count": null,
   "metadata": {},
   "outputs": [],
   "source": [
    "bad1 = bad.head(66985)\n",
    "bad2 = bad.tail(66884)\n",
    "bad1.to_excel('bad1.xlsx')\n",
    "bad2.to_excel('bad2.xlsx')"
   ]
  },
  {
   "cell_type": "code",
   "execution_count": null,
   "metadata": {},
   "outputs": [],
   "source": [
    "du3[((du3['odobrim_score']>=40))&(du3['id_y'].isnull())\n",
    "   &(du3['dt']<datetime.now()-timedelta(days=3)) \n",
    "   &(du3['advertisingAgreementsEmail']==True)][['firstName2', 'email', 'id_x', \n",
    "                                                    'odobrim_score']].to_excel(f'reports/middle.xlsx')"
   ]
  },
  {
   "cell_type": "code",
   "execution_count": null,
   "metadata": {},
   "outputs": [],
   "source": [
    "du3[((du3['income_group']=='40-60'))&(du3['id_y'].isnull())\n",
    "   &(du3['dt']<datetime.now()-timedelta(days=3)) \n",
    "   &(du3['advertisingAgreementsEmail']==True)][['firstName2',\n",
    "                                                'email',\n",
    "                                                'id_x', \n",
    "                                                'odobrim_score']].to_excel(f'reports/avg.xlsx')"
   ]
  },
  {
   "cell_type": "code",
   "execution_count": null,
   "metadata": {},
   "outputs": [],
   "source": [
    "# du3[(du3['advertisingAgreementsEmail']==True)][['firstName2', 'email', 'id_x', \n",
    "#                                                      'odobrim_score']].to_excel('reports/everybody.xlsx')"
   ]
  },
  {
   "cell_type": "code",
   "execution_count": null,
   "metadata": {},
   "outputs": [],
   "source": [
    "du3"
   ]
  },
  {
   "cell_type": "code",
   "execution_count": null,
   "metadata": {},
   "outputs": [],
   "source": [
    "refin = pd.read_excel('рефин.xlsx')\n",
    "mobi = pd.read_excel('мобилка.xlsx')\n",
    "loyal = pd.read_excel('для_лояльност.xlsx')"
   ]
  },
  {
   "cell_type": "code",
   "execution_count": null,
   "metadata": {},
   "outputs": [],
   "source": [
    "refin_phone = refin['phone'].to_list()"
   ]
  },
  {
   "cell_type": "code",
   "execution_count": null,
   "metadata": {},
   "outputs": [],
   "source": [
    "mobi_phone = mobi['phone'].to_list()"
   ]
  },
  {
   "cell_type": "code",
   "execution_count": null,
   "metadata": {},
   "outputs": [],
   "source": [
    "loyal_phone = loyal['phone'].to_list()"
   ]
  },
  {
   "cell_type": "code",
   "execution_count": null,
   "metadata": {},
   "outputs": [],
   "source": []
  },
  {
   "cell_type": "code",
   "execution_count": null,
   "metadata": {},
   "outputs": [],
   "source": [
    "refi_new = pd.read_excel('new_ref.xlsx')\n",
    "refi_new"
   ]
  },
  {
   "cell_type": "code",
   "execution_count": null,
   "metadata": {},
   "outputs": [],
   "source": [
    "merge_ref = refi_new.merge(du3, how='left',on='userId_x')"
   ]
  },
  {
   "cell_type": "code",
   "execution_count": null,
   "metadata": {},
   "outputs": [],
   "source": [
    "merge_ref = merge_ref[['fullName','phone_y','timezone','dt']]\n",
    "merge_ref=merge_ref.drop_duplicates('fullName')\n",
    "merge_ref = merge_ref.sort_values('dt',ascending=False)\n",
    "merge_ref_utc = merge_ref.head(200)\n",
    "merge_ref_utc.to_excel('refin_utc.xlsx')"
   ]
  },
  {
   "cell_type": "code",
   "execution_count": null,
   "metadata": {},
   "outputs": [],
   "source": [
    "merge_mobi = mobi.merge(du3, how='left',on='userId_x')"
   ]
  },
  {
   "cell_type": "code",
   "execution_count": null,
   "metadata": {},
   "outputs": [],
   "source": [
    "merge_mobi = merge_mobi[['fullName','phone_y','timezone','dt']]\n",
    "merge_mobi=merge_mobi.drop_duplicates('fullName')\n",
    "merge_mobi = merge_mobi.sort_values('dt',ascending=False)\n",
    "merge_mobi_utc = merge_mobi.head(200)\n",
    "merge_mobi_utc.to_excel('mobi_utc.xlsx')\n",
    "merge_mobi_utc"
   ]
  },
  {
   "cell_type": "code",
   "execution_count": null,
   "metadata": {},
   "outputs": [],
   "source": [
    "merge_loyal = loyal.merge(du3, how='left',on='userId_x')"
   ]
  },
  {
   "cell_type": "code",
   "execution_count": null,
   "metadata": {},
   "outputs": [],
   "source": [
    "merge_loyal = merge_loyal[['fullName','email','timezone','dt']]\n",
    "merge_loyal=merge_loyal.drop_duplicates('fullName')\n",
    "merge_loyal = merge_loyal.sort_values('dt',ascending=False)\n",
    "merge_loyal = merge_loyal.head(200)\n",
    "merge_loyal = merge_loyal[merge_loyal['phone_y'].notnull()]\n",
    "merge_loyal.to_excel('loyal_utc.xlsx')\n",
    "merge_loyal"
   ]
  },
  {
   "cell_type": "code",
   "execution_count": null,
   "metadata": {},
   "outputs": [],
   "source": [
    "baza_mobi = du3[du3['phone'].isin(mobi)]\n",
    "baza_mobi"
   ]
  },
  {
   "cell_type": "code",
   "execution_count": null,
   "metadata": {},
   "outputs": [],
   "source": [
    "baza_loyal = du3[du3['phone'].isin(loyal)]\n",
    "baza_loyal"
   ]
  },
  {
   "cell_type": "code",
   "execution_count": null,
   "metadata": {},
   "outputs": [],
   "source": [
    "stas.drop_duplicates()"
   ]
  },
  {
   "cell_type": "code",
   "execution_count": null,
   "metadata": {},
   "outputs": [],
   "source": [
    "stas = pd.read_excel('for_Stas.xlsx')\n",
    "merge_stas = stas.merge(du3, how='left',on='userId_x')\n",
    "merge_stas = merge_stas[['fullName','email','timezone','dt']]\n",
    "merge_stas=merge_stas.drop_duplicates('fullName')\n",
    "merge_stas = merge_stas.sort_values('dt',ascending=False)\n",
    "merge_stas = merge_stas[merge_stas['email'].notnull()]\n",
    "merge_stas.to_excel('pledge_auto.xlsx')\n",
    "len(merge_stas)"
   ]
  },
  {
   "cell_type": "code",
   "execution_count": null,
   "metadata": {},
   "outputs": [],
   "source": [
    "email=merge_stas['email'].to_list()"
   ]
  },
  {
   "cell_type": "code",
   "execution_count": null,
   "metadata": {},
   "outputs": [],
   "source": [
    "stas_kn = pd.read_excel('for_Stas_kn.xlsx')"
   ]
  },
  {
   "cell_type": "code",
   "execution_count": null,
   "metadata": {},
   "outputs": [],
   "source": [
    "stas_kn_fin=stas_kn.merge(du3, how='left',on='userId_x')\n",
    "stas_kn_fin=stas_kn_fin[stas_kn_fin['KI']=='good']\n",
    "stas_kn_fin"
   ]
  },
  {
   "cell_type": "code",
   "execution_count": null,
   "metadata": {},
   "outputs": [],
   "source": [
    "names = pd.read_csv('russian_names.csv',sep=';')\n",
    "names.head()"
   ]
  },
  {
   "cell_type": "code",
   "execution_count": null,
   "metadata": {},
   "outputs": [],
   "source": [
    "names = names[['Name','Sex']]\n",
    "names = names.rename(columns={\n",
    "                        \"Name\": \"firstName2\"})"
   ]
  },
  {
   "cell_type": "code",
   "execution_count": null,
   "metadata": {},
   "outputs": [],
   "source": [
    "stas_kn_fin = stas_kn_fin.merge(names,how='left',on='firstName2')\n",
    "stas_kn_fin.head()"
   ]
  },
  {
   "cell_type": "code",
   "execution_count": null,
   "metadata": {},
   "outputs": [],
   "source": [
    "stas_kn_fin_m=stas_kn_fin[stas_kn_fin['Sex']=='М']\n",
    "stas_kn_fin_m = stas_kn_fin_m.sort_values('dt_x',ascending=False)\n",
    "stas_kn_fin_m = stas_kn_fin_m.drop_duplicates('phone_x')\n",
    "stas_kn_fin_m=stas_kn_fin_m[['fullName','email']]\n",
    "stas_kn_fin_m=stas_kn_fin_m[~stas_kn_fin_m['email'].isin(email)]\n",
    "len(stas_kn_fin_m)\n",
    "stas_kn_fin_m.to_excel('kn_good_man.xlsx')"
   ]
  },
  {
   "cell_type": "code",
   "execution_count": null,
   "metadata": {},
   "outputs": [],
   "source": [
    "stas_kn_fin_w=stas_kn_fin[stas_kn_fin['Sex']=='Ж']\n",
    "stas_kn_fin_w = stas_kn_fin_w.sort_values('dt_x',ascending=False)\n",
    "stas_kn_fin_w = stas_kn_fin_w.drop_duplicates('phone_x')\n",
    "stas_kn_fin_w=stas_kn_fin_w[['fullName','email']]\n",
    "stas_kn_fin_w=stas_kn_fin_w[~stas_kn_fin_w['email'].isin(email)]\n",
    "stas_kn_fin_w.to_excel('kn_good_w.xlsx')"
   ]
  },
  {
   "cell_type": "code",
   "execution_count": null,
   "metadata": {},
   "outputs": [],
   "source": [
    "stas_kn_fin_m[stas_kn_fin_m['email'].isin(email)]"
   ]
  },
  {
   "cell_type": "code",
   "execution_count": null,
   "metadata": {},
   "outputs": [],
   "source": [
    "stas_kn_fin_w[stas_kn_fin_w['email'].isin(email)]"
   ]
  },
  {
   "cell_type": "code",
   "execution_count": null,
   "metadata": {},
   "outputs": [],
   "source": [
    "# man=du3[((du3['odobrim_score']<56))&(du3['id_y'].isnull())\n",
    "#    &(du3['dt']<datetime.now()-timedelta(days=3))& (du3['Sex']=='М') & (du3['salary']<'61000')\n",
    "#    &(du3['advertisingAgreementsEmail']==True)][['firstName2', 'email', 'id_x', \n",
    "#                                                     'odobrim_score','salary','Sex']]\n",
    "# woman=du3[((du3['odobrim_score']<56))&(du3['id_y'].isnull())\n",
    "#    &(du3['dt']<datetime.now()-timedelta(days=3))& (du3['Sex']=='Ж')&(du3['salary']<'61000') \n",
    "#    &(du3['advertisingAgreementsEmail']==True)][['firstName2', 'email', 'id_x', \n",
    "#                                                     'odobrim_score','salary','Sex']]"
   ]
  },
  {
   "cell_type": "code",
   "execution_count": null,
   "metadata": {},
   "outputs": [],
   "source": [
    "# man = man[man['odobrim_score']>30]\n",
    "# woman = woman[woman['odobrim_score']>30]"
   ]
  },
  {
   "cell_type": "code",
   "execution_count": null,
   "metadata": {},
   "outputs": [],
   "source": [
    "# man.to_excel(f'reports/M.xlsx')\n",
    "# woman.to_excel(f'reports/Ж.xlsx')"
   ]
  },
  {
   "cell_type": "code",
   "execution_count": null,
   "metadata": {},
   "outputs": [],
   "source": [
    "bad = pd.read_excel('домен гуд.xlsx')"
   ]
  },
  {
   "cell_type": "code",
   "execution_count": null,
   "metadata": {},
   "outputs": [],
   "source": [
    "bad['домен'].value_counts()"
   ]
  },
  {
   "cell_type": "code",
   "execution_count": null,
   "metadata": {},
   "outputs": [],
   "source": [
    "good = pd.read_excel('домен бед.xlsx')"
   ]
  },
  {
   "cell_type": "code",
   "execution_count": null,
   "metadata": {},
   "outputs": [],
   "source": [
    "good['домен'].value_counts()"
   ]
  },
  {
   "cell_type": "code",
   "execution_count": null,
   "metadata": {},
   "outputs": [],
   "source": [
    "df = pd.read_excel('домен бед.xlsx')"
   ]
  },
  {
   "cell_type": "code",
   "execution_count": null,
   "metadata": {},
   "outputs": [],
   "source": [
    "df.groupby('домен').agg({'id_x':'count'}).sort_values('id_x',ascending = False).head(100)"
   ]
  },
  {
   "cell_type": "code",
   "execution_count": null,
   "metadata": {},
   "outputs": [],
   "source": []
  }
 ],
 "metadata": {
  "kernelspec": {
   "display_name": "Python 3",
   "language": "python",
   "name": "python3"
  }
 },
 "nbformat": 4,
 "nbformat_minor": 2
}
