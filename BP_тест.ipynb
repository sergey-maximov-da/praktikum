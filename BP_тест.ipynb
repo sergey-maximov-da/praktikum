{
 "cells": [
  {
   "cell_type": "markdown",
   "metadata": {},
   "source": [
    "## Содержание<a id=\"step4\"></a>\n",
    "1. [Количество магазинов формата стрит в тестовой выборке](#step1)\n",
    "2. [Количество магазинов с бесплатной парковкой](#step2)\n",
    "3. [Средняя выручка магазинов формата мини ТЦ за 2016 год](#step3)"
   ]
  },
  {
   "cell_type": "code",
   "execution_count": 1,
   "metadata": {},
   "outputs": [],
   "source": [
    "import pandas as pd\n",
    "pd.set_option('display.max_rows', None)\n",
    "pd.set_option('display.max_columns', None)\n",
    "pd.set_option('display.width', None)\n",
    "pd.set_option('display.max_colwidth', -1)\n",
    "pd.set_option('display.float_format', lambda x: '%.1f' % x)\n",
    "import numpy as np\n",
    "import plotly.graph_objects as go\n",
    "from matplotlib import pyplot as plt\n",
    "import seaborn as sns; sns.set()\n"
   ]
  },
  {
   "cell_type": "markdown",
   "metadata": {},
   "source": [
    "## Загрузка данных"
   ]
  },
  {
   "cell_type": "code",
   "execution_count": 2,
   "metadata": {
    "scrolled": true
   },
   "outputs": [
    {
     "data": {
      "text/html": [
       "<div>\n",
       "<style scoped>\n",
       "    .dataframe tbody tr th:only-of-type {\n",
       "        vertical-align: middle;\n",
       "    }\n",
       "\n",
       "    .dataframe tbody tr th {\n",
       "        vertical-align: top;\n",
       "    }\n",
       "\n",
       "    .dataframe thead th {\n",
       "        text-align: right;\n",
       "    }\n",
       "</style>\n",
       "<table border=\"1\" class=\"dataframe\">\n",
       "  <thead>\n",
       "    <tr style=\"text-align: right;\">\n",
       "      <th></th>\n",
       "      <th>id точки</th>\n",
       "      <th>Адрес</th>\n",
       "      <th>Широта</th>\n",
       "      <th>Долгота</th>\n",
       "      <th>Дата открытия</th>\n",
       "      <th>Дата закрытия</th>\n",
       "      <th>Площадь магазина</th>\n",
       "      <th>Тип входа</th>\n",
       "      <th>Площадь ТЦ</th>\n",
       "      <th>Формат магазина</th>\n",
       "      <th>Парковка</th>\n",
       "      <th>Этаж</th>\n",
       "      <th>Время работы</th>\n",
       "      <th>Заполненность ТЦ</th>\n",
       "      <th>Рядом с эскалатором</th>\n",
       "      <th>Рядом со входом</th>\n",
       "      <th>Конкуренты в ТЦ</th>\n",
       "      <th>Расположение в ТЦ</th>\n",
       "      <th>Толока</th>\n",
       "      <th>Люкс</th>\n",
       "      <th>Выборка</th>\n",
       "    </tr>\n",
       "  </thead>\n",
       "  <tbody>\n",
       "    <tr>\n",
       "      <td>0</td>\n",
       "      <td>8955.0</td>\n",
       "      <td>Оренбургская обл, Оренбург г, Шарлыкское ш, дом № 1/2, ТЦ \"Армада\"</td>\n",
       "      <td>55.1</td>\n",
       "      <td>51.8</td>\n",
       "      <td>2016-11-09 00:00:00</td>\n",
       "      <td>NaT</td>\n",
       "      <td>478</td>\n",
       "      <td>без сквозного прохода</td>\n",
       "      <td>130000.0</td>\n",
       "      <td>ТЦ</td>\n",
       "      <td>бесплатная парковка</td>\n",
       "      <td>3</td>\n",
       "      <td>с 10:00 до 22:00</td>\n",
       "      <td>nan</td>\n",
       "      <td>0</td>\n",
       "      <td>0</td>\n",
       "      <td>1.0</td>\n",
       "      <td>7.0</td>\n",
       "      <td>37.9</td>\n",
       "      <td>69.5</td>\n",
       "      <td>Обучающая</td>\n",
       "    </tr>\n",
       "    <tr>\n",
       "      <td>1</td>\n",
       "      <td>11007.0</td>\n",
       "      <td>Алтайский край, г. Барнаул, ул. Малахова, дом № 86В, ТРЦ \"Весна\"</td>\n",
       "      <td>83.7</td>\n",
       "      <td>53.4</td>\n",
       "      <td>2010-04-26 00:00:00</td>\n",
       "      <td>NaT</td>\n",
       "      <td>332</td>\n",
       "      <td>сквозной проход</td>\n",
       "      <td>31500.0</td>\n",
       "      <td>ТЦ</td>\n",
       "      <td>бесплатная парковка</td>\n",
       "      <td>1</td>\n",
       "      <td>с 10:00 до 22:00</td>\n",
       "      <td>nan</td>\n",
       "      <td>0</td>\n",
       "      <td>1</td>\n",
       "      <td>nan</td>\n",
       "      <td>9.0</td>\n",
       "      <td>57.8</td>\n",
       "      <td>66.9</td>\n",
       "      <td>Обучающая</td>\n",
       "    </tr>\n",
       "    <tr>\n",
       "      <td>2</td>\n",
       "      <td>11366.0</td>\n",
       "      <td>Амурская область, Благовещенск, улица Мухина, 114</td>\n",
       "      <td>127.5</td>\n",
       "      <td>50.3</td>\n",
       "      <td>2017-08-25 00:00:00</td>\n",
       "      <td>NaT</td>\n",
       "      <td>356</td>\n",
       "      <td>без сквозного прохода</td>\n",
       "      <td>36000.0</td>\n",
       "      <td>ТЦ</td>\n",
       "      <td>бесплатная парковка</td>\n",
       "      <td>1</td>\n",
       "      <td>с 10:00 до 22:00</td>\n",
       "      <td>3.0</td>\n",
       "      <td>0</td>\n",
       "      <td>1</td>\n",
       "      <td>1.0</td>\n",
       "      <td>6.0</td>\n",
       "      <td>50.0</td>\n",
       "      <td>68.7</td>\n",
       "      <td>Обучающая</td>\n",
       "    </tr>\n",
       "    <tr>\n",
       "      <td>3</td>\n",
       "      <td>11810.0</td>\n",
       "      <td>Архангельская обл, г. Архангельск , Троицкий пр., дом № 17, ТРЦ \"Европарк\"</td>\n",
       "      <td>40.5</td>\n",
       "      <td>64.5</td>\n",
       "      <td>2012-11-03 00:00:00</td>\n",
       "      <td>NaT</td>\n",
       "      <td>317</td>\n",
       "      <td>отдельный вход с улицы + сквозной проход</td>\n",
       "      <td>35000.0</td>\n",
       "      <td>ТЦ</td>\n",
       "      <td>бесплатная парковка</td>\n",
       "      <td>1</td>\n",
       "      <td>с 10:00 до 21:00</td>\n",
       "      <td>3.0</td>\n",
       "      <td>0</td>\n",
       "      <td>1</td>\n",
       "      <td>0.0</td>\n",
       "      <td>10.0</td>\n",
       "      <td>128.5</td>\n",
       "      <td>64.5</td>\n",
       "      <td>Обучающая</td>\n",
       "    </tr>\n",
       "    <tr>\n",
       "      <td>4</td>\n",
       "      <td>15041.0</td>\n",
       "      <td>Архангельская обл, г. Архангельск, Троицкий пр., дом № 20, ТК \"Гранд Плаза\"</td>\n",
       "      <td>40.5</td>\n",
       "      <td>64.5</td>\n",
       "      <td>2006-12-09 00:00:00</td>\n",
       "      <td>NaT</td>\n",
       "      <td>176</td>\n",
       "      <td>сквозной проход</td>\n",
       "      <td>15332.0</td>\n",
       "      <td>ТЦ</td>\n",
       "      <td>бесплатная парковка</td>\n",
       "      <td>цоколь</td>\n",
       "      <td>с 10:00 до 21:00</td>\n",
       "      <td>3.0</td>\n",
       "      <td>1</td>\n",
       "      <td>0</td>\n",
       "      <td>nan</td>\n",
       "      <td>0.0</td>\n",
       "      <td>103.2</td>\n",
       "      <td>78.3</td>\n",
       "      <td>Тестовая</td>\n",
       "    </tr>\n",
       "  </tbody>\n",
       "</table>\n",
       "</div>"
      ],
      "text/plain": [
       "   id точки  \\\n",
       "0 8955.0      \n",
       "1 11007.0     \n",
       "2 11366.0     \n",
       "3 11810.0     \n",
       "4 15041.0     \n",
       "\n",
       "                                                                         Адрес  \\\n",
       "0   Оренбургская обл, Оренбург г, Шарлыкское ш, дом № 1/2, ТЦ \"Армада\"           \n",
       "1  Алтайский край, г. Барнаул, ул. Малахова, дом № 86В, ТРЦ \"Весна\"              \n",
       "2  Амурская область, Благовещенск, улица Мухина, 114                             \n",
       "3  Архангельская обл, г. Архангельск , Троицкий пр., дом № 17, ТРЦ \"Европарк\"    \n",
       "4  Архангельская обл, г. Архангельск, Троицкий пр., дом № 20, ТК \"Гранд Плаза\"   \n",
       "\n",
       "   Широта  Долгота        Дата открытия Дата закрытия  Площадь магазина  \\\n",
       "0 55.1    51.8      2016-11-09 00:00:00 NaT            478                \n",
       "1 83.7    53.4      2010-04-26 00:00:00 NaT            332                \n",
       "2 127.5   50.3      2017-08-25 00:00:00 NaT            356                \n",
       "3 40.5    64.5      2012-11-03 00:00:00 NaT            317                \n",
       "4 40.5    64.5      2006-12-09 00:00:00 NaT            176                \n",
       "\n",
       "                                  Тип входа  Площадь ТЦ Формат магазина  \\\n",
       "0  без сквозного прохода                    130000.0     ТЦ               \n",
       "1  сквозной проход                          31500.0      ТЦ               \n",
       "2  без сквозного прохода                    36000.0      ТЦ               \n",
       "3  отдельный вход с улицы + сквозной проход 35000.0      ТЦ               \n",
       "4  сквозной проход                          15332.0      ТЦ               \n",
       "\n",
       "              Парковка    Этаж      Время работы  Заполненность ТЦ  \\\n",
       "0  бесплатная парковка  3       с 10:00 до 22:00 nan                 \n",
       "1  бесплатная парковка  1       с 10:00 до 22:00 nan                 \n",
       "2  бесплатная парковка  1       с 10:00 до 22:00 3.0                 \n",
       "3  бесплатная парковка  1       с 10:00 до 21:00 3.0                 \n",
       "4  бесплатная парковка  цоколь  с 10:00 до 21:00 3.0                 \n",
       "\n",
       "   Рядом с эскалатором  Рядом со входом  Конкуренты в ТЦ  Расположение в ТЦ  \\\n",
       "0  0                    0               1.0              7.0                  \n",
       "1  0                    1               nan              9.0                  \n",
       "2  0                    1               1.0              6.0                  \n",
       "3  0                    1               0.0              10.0                 \n",
       "4  1                    0               nan              0.0                  \n",
       "\n",
       "   Толока  Люкс    Выборка  \n",
       "0 37.9    69.5   Обучающая  \n",
       "1 57.8    66.9   Обучающая  \n",
       "2 50.0    68.7   Обучающая  \n",
       "3 128.5   64.5   Обучающая  \n",
       "4 103.2   78.3   Тестовая   "
      ]
     },
     "execution_count": 2,
     "metadata": {},
     "output_type": "execute_result"
    }
   ],
   "source": [
    "model = pd.read_excel('model_x2.xlsx')\n",
    "model.head()"
   ]
  },
  {
   "cell_type": "code",
   "execution_count": 46,
   "metadata": {},
   "outputs": [
    {
     "data": {
      "text/plain": [
       "0"
      ]
     },
     "execution_count": 46,
     "metadata": {},
     "output_type": "execute_result"
    }
   ],
   "source": [
    "model.duplicated().sum()"
   ]
  },
  {
   "cell_type": "markdown",
   "metadata": {},
   "source": [
    "### Посмотрим на уникальные значения столбца Формат магазина"
   ]
  },
  {
   "cell_type": "code",
   "execution_count": 3,
   "metadata": {},
   "outputs": [
    {
     "data": {
      "text/plain": [
       "array(['ТЦ', 'Street', 'Мини ТЦ', 'Стрит', 'Мини-ТЦ', 'Strееt', 'Стрт'],\n",
       "      dtype=object)"
      ]
     },
     "execution_count": 3,
     "metadata": {},
     "output_type": "execute_result"
    }
   ],
   "source": [
    "model['Формат магазина'].unique()"
   ]
  },
  {
   "cell_type": "markdown",
   "metadata": {},
   "source": [
    "### Некоторые значения дублируются или оченть похожи по смслу. Объединим их"
   ]
  },
  {
   "cell_type": "code",
   "execution_count": 4,
   "metadata": {},
   "outputs": [],
   "source": [
    "model['Формат магазина']=model['Формат магазина'].replace('Мини ТЦ','Мини-ТЦ')\n",
    "model['Формат магазина']=model['Формат магазина'].replace('Strееt','Street')\n",
    "model['Формат магазина']=model['Формат магазина'].replace('Стрит','Street')\n",
    "model['Формат магазина']=model['Формат магазина'].replace('Стрт','Street')"
   ]
  },
  {
   "cell_type": "code",
   "execution_count": 5,
   "metadata": {},
   "outputs": [
    {
     "data": {
      "text/plain": [
       "array(['ТЦ', 'Street', 'Мини-ТЦ'], dtype=object)"
      ]
     },
     "execution_count": 5,
     "metadata": {},
     "output_type": "execute_result"
    }
   ],
   "source": [
    "model['Формат магазина'].unique()"
   ]
  },
  {
   "cell_type": "markdown",
   "metadata": {},
   "source": [
    "### Теперь у нас 3 формата мазазинов"
   ]
  },
  {
   "cell_type": "markdown",
   "metadata": {},
   "source": [
    "## Количество магазинов формата стрит в тестовой выборке <a id=\"step1\"></a>"
   ]
  },
  {
   "cell_type": "markdown",
   "metadata": {},
   "source": [
    "### Отфильтруем магазины, которые попали в тестовую выборку"
   ]
  },
  {
   "cell_type": "code",
   "execution_count": 6,
   "metadata": {},
   "outputs": [
    {
     "data": {
      "text/html": [
       "<div>\n",
       "<style scoped>\n",
       "    .dataframe tbody tr th:only-of-type {\n",
       "        vertical-align: middle;\n",
       "    }\n",
       "\n",
       "    .dataframe tbody tr th {\n",
       "        vertical-align: top;\n",
       "    }\n",
       "\n",
       "    .dataframe thead th {\n",
       "        text-align: right;\n",
       "    }\n",
       "</style>\n",
       "<table border=\"1\" class=\"dataframe\">\n",
       "  <thead>\n",
       "    <tr style=\"text-align: right;\">\n",
       "      <th></th>\n",
       "      <th>Количество</th>\n",
       "    </tr>\n",
       "    <tr>\n",
       "      <th>Формат магазина</th>\n",
       "      <th></th>\n",
       "    </tr>\n",
       "  </thead>\n",
       "  <tbody>\n",
       "    <tr>\n",
       "      <td>ТЦ</td>\n",
       "      <td>63</td>\n",
       "    </tr>\n",
       "    <tr>\n",
       "      <td>Street</td>\n",
       "      <td>7</td>\n",
       "    </tr>\n",
       "    <tr>\n",
       "      <td>Мини-ТЦ</td>\n",
       "      <td>7</td>\n",
       "    </tr>\n",
       "  </tbody>\n",
       "</table>\n",
       "</div>"
      ],
      "text/plain": [
       "                 Количество\n",
       "Формат магазина            \n",
       "ТЦ               63        \n",
       "Street           7         \n",
       "Мини-ТЦ          7         "
      ]
     },
     "execution_count": 6,
     "metadata": {},
     "output_type": "execute_result"
    }
   ],
   "source": [
    "model_test = model.query(\"Выборка =='Тестовая'\")\n",
    "count_type = model_test.groupby('Формат магазина').agg({'Формат магазина': 'count'})\n",
    "count_type.columns = ['Количество']\n",
    "count_type = count_type.sort_values('Количество',\n",
    "                                    ascending=False)\n",
    "count_type"
   ]
  },
  {
   "cell_type": "markdown",
   "metadata": {},
   "source": [
    "### Визуализируем данные"
   ]
  },
  {
   "cell_type": "code",
   "execution_count": 7,
   "metadata": {},
   "outputs": [
    {
     "data": {
      "image/png": "[encoded data removed]",
      "text/plain": [
       "<Figure size 864x432 with 1 Axes>"
      ]
     },
     "metadata": {},
     "output_type": "display_data"
    }
   ],
   "source": [
    "summary = count_type.values.sum()\n",
    "\n",
    "# Напишем функцию для подсчета процентовки\n",
    "\n",
    "def func_pct(pct):\n",
    "    value = float(pct/100.*summary)\n",
    "    return \"{:.1f}%\\n({:.0f})\".format(pct, value)\n",
    "\n",
    "explode = (0,\n",
    "           0.1,\n",
    "           0.2\n",
    "          )\n",
    "# Оформим график\n",
    "\n",
    "ax_pie = count_type.plot(kind='pie',\n",
    "                               y='Количество',\n",
    "                               use_index=False,\n",
    "                               shadow=True,\n",
    "                               explode=explode,\n",
    "                               title = 'Виды объектов и количество',  \n",
    "                               fontsize=20,\n",
    "                               pctdistance=0.8,\n",
    "                               figsize=(12,6), \n",
    "                               autopct=lambda pct: func_pct(pct),\n",
    "                               colors=['#A25457',\n",
    "                                       '#AA637E',\n",
    "                                       '#9D7AA3'])\n",
    "\n",
    "plt.tight_layout(pad=0)\n",
    "\n",
    "legend = ax_pie.legend(['ТЦ',\n",
    "                        'Street',\n",
    "                        'Мини-ТЦ'], \n",
    "                       bbox_to_anchor=(-0.1,1), \n",
    "                       prop={'size':20})\n",
    "\n",
    "y_label = ax_pie.set_ylabel('')"
   ]
  },
  {
   "cell_type": "markdown",
   "metadata": {},
   "source": [
    "### В тестовой выборке количество магазинов street 7(9% от всей тестовой выборки)"
   ]
  },
  {
   "cell_type": "markdown",
   "metadata": {},
   "source": [
    "##  [К содержанию](#step4)"
   ]
  },
  {
   "cell_type": "markdown",
   "metadata": {},
   "source": [
    "## Количество магазинов с бесплатной парковкой<a id=\"step2\"></a>"
   ]
  },
  {
   "cell_type": "markdown",
   "metadata": {},
   "source": [
    "### Посмотрим на уникальные значения столбца Парковка"
   ]
  },
  {
   "cell_type": "code",
   "execution_count": 8,
   "metadata": {},
   "outputs": [
    {
     "data": {
      "text/plain": [
       "array(['бесплатная парковка', 100, nan, 'платная парковка',\n",
       "       'нет парковки', 1000, 700, 'бесплатная паpковка'], dtype=object)"
      ]
     },
     "execution_count": 8,
     "metadata": {},
     "output_type": "execute_result"
    }
   ],
   "source": [
    "model['Парковка'].unique()"
   ]
  },
  {
   "cell_type": "markdown",
   "metadata": {},
   "source": [
    "### Значения повторяются, а также есть числовые значения - 100,1000,700. На мой взгляд это количество парковочных мест, а не цена, и я думаю, что их можно прибавить к числу бесплатных парковок, но в реальной жизни лучше уточнить у заказчика, или провести самостоятельный анализ"
   ]
  },
  {
   "cell_type": "code",
   "execution_count": 9,
   "metadata": {},
   "outputs": [],
   "source": [
    "model['Парковка']=model['Парковка'].replace('бесплатная паpковка','бесплатная парковка')\n",
    "model['Парковка']=model['Парковка'].replace(100,'бесплатная парковка')\n",
    "model['Парковка']=model['Парковка'].replace(700,'бесплатная парковка')\n",
    "model['Парковка']=model['Парковка'].replace(1000,'бесплатная парковка')"
   ]
  },
  {
   "cell_type": "markdown",
   "metadata": {},
   "source": [
    "### Сгруппируем данные по типу парковок"
   ]
  },
  {
   "cell_type": "code",
   "execution_count": 10,
   "metadata": {},
   "outputs": [
    {
     "data": {
      "text/html": [
       "<div>\n",
       "<style scoped>\n",
       "    .dataframe tbody tr th:only-of-type {\n",
       "        vertical-align: middle;\n",
       "    }\n",
       "\n",
       "    .dataframe tbody tr th {\n",
       "        vertical-align: top;\n",
       "    }\n",
       "\n",
       "    .dataframe thead th {\n",
       "        text-align: right;\n",
       "    }\n",
       "</style>\n",
       "<table border=\"1\" class=\"dataframe\">\n",
       "  <thead>\n",
       "    <tr style=\"text-align: right;\">\n",
       "      <th></th>\n",
       "      <th>Количество</th>\n",
       "    </tr>\n",
       "    <tr>\n",
       "      <th>Парковка</th>\n",
       "      <th></th>\n",
       "    </tr>\n",
       "  </thead>\n",
       "  <tbody>\n",
       "    <tr>\n",
       "      <td>бесплатная парковка</td>\n",
       "      <td>161</td>\n",
       "    </tr>\n",
       "    <tr>\n",
       "      <td>нет парковки</td>\n",
       "      <td>34</td>\n",
       "    </tr>\n",
       "    <tr>\n",
       "      <td>платная парковка</td>\n",
       "      <td>31</td>\n",
       "    </tr>\n",
       "  </tbody>\n",
       "</table>\n",
       "</div>"
      ],
      "text/plain": [
       "                     Количество\n",
       "Парковка                       \n",
       "бесплатная парковка  161       \n",
       "нет парковки         34        \n",
       "платная парковка     31        "
      ]
     },
     "execution_count": 10,
     "metadata": {},
     "output_type": "execute_result"
    }
   ],
   "source": [
    "parking = model.groupby('Парковка').agg({'Парковка': 'count'})\n",
    "parking.columns = ['Количество']\n",
    "parking = parking.sort_values('Количество',ascending=False)\n",
    "parking"
   ]
  },
  {
   "cell_type": "markdown",
   "metadata": {},
   "source": [
    "### Визуализируем данные"
   ]
  },
  {
   "cell_type": "code",
   "execution_count": 11,
   "metadata": {},
   "outputs": [
    {
     "data": {
      "image/png": "[encoded data removed]",
      "text/plain": [
       "<Figure size 864x432 with 1 Axes>"
      ]
     },
     "metadata": {},
     "output_type": "display_data"
    }
   ],
   "source": [
    "summary = parking.values.sum()\n",
    "\n",
    "# Напишем функцию для подсчета процентовки\n",
    "\n",
    "def func_pct(pct):\n",
    "    value = float(pct/100.*summary)\n",
    "    #mean = visits_by_device.mean()\n",
    "    return \"{:.1f}%\\n({:.0f})\".format(pct, value)\n",
    "\n",
    "explode = (0,\n",
    "           0.1,\n",
    "           0.2,\n",
    "          )\n",
    "# Оформим график\n",
    "\n",
    "ax_pie = parking.plot(kind='pie',\n",
    "                               y='Количество',\n",
    "                               use_index=False,\n",
    "                               shadow=True,\n",
    "                               explode=explode,\n",
    "                               title = 'Наличие парковки в магазинах',  \n",
    "                               fontsize=20,\n",
    "                               pctdistance=0.8,\n",
    "                               figsize=(12,6), \n",
    "                               autopct=lambda pct: func_pct(pct),\n",
    "                               colors=['#A25457',\n",
    "                                       '#AA637E',\n",
    "                                       '#9D7AA3'])\n",
    "\n",
    "plt.tight_layout(pad=0)\n",
    "\n",
    "legend = ax_pie.legend(['Бесплатная парковка',\n",
    "                        'Нет парковки',\n",
    "                        'Платная парковка'], \n",
    "                       bbox_to_anchor=(-0.5,1), \n",
    "                       prop={'size':20})\n",
    "\n",
    "y_label = ax_pie.set_ylabel('')"
   ]
  },
  {
   "cell_type": "markdown",
   "metadata": {},
   "source": [
    "### 161(71%) магазинов имеет бесплатную парковку"
   ]
  },
  {
   "cell_type": "markdown",
   "metadata": {},
   "source": [
    "##  [К содержанию](#step4)"
   ]
  },
  {
   "cell_type": "markdown",
   "metadata": {},
   "source": [
    "## Средняя выручка магазинов формата мини ТЦ за 2016 год <a id=\"step3\"></a>"
   ]
  },
  {
   "cell_type": "markdown",
   "metadata": {},
   "source": [
    "### Загрузим данные по выручке за 2016 год"
   ]
  },
  {
   "cell_type": "code",
   "execution_count": 12,
   "metadata": {},
   "outputs": [
    {
     "data": {
      "text/html": [
       "<div>\n",
       "<style scoped>\n",
       "    .dataframe tbody tr th:only-of-type {\n",
       "        vertical-align: middle;\n",
       "    }\n",
       "\n",
       "    .dataframe tbody tr th {\n",
       "        vertical-align: top;\n",
       "    }\n",
       "\n",
       "    .dataframe thead th {\n",
       "        text-align: right;\n",
       "    }\n",
       "</style>\n",
       "<table border=\"1\" class=\"dataframe\">\n",
       "  <thead>\n",
       "    <tr style=\"text-align: right;\">\n",
       "      <th></th>\n",
       "      <th>id точки</th>\n",
       "      <th>2016-01-01</th>\n",
       "      <th>2016-02-01</th>\n",
       "      <th>2016-03-01</th>\n",
       "      <th>2016-04-01</th>\n",
       "      <th>2016-05-01</th>\n",
       "      <th>2016-06-01</th>\n",
       "      <th>2016-07-01</th>\n",
       "      <th>2016-08-01</th>\n",
       "      <th>2016-09-01</th>\n",
       "      <th>2016-10-01</th>\n",
       "      <th>2016-11-01</th>\n",
       "      <th>2016-12-01</th>\n",
       "    </tr>\n",
       "  </thead>\n",
       "  <tbody>\n",
       "    <tr>\n",
       "      <td>0</td>\n",
       "      <td>11366.0</td>\n",
       "      <td>219926.7</td>\n",
       "      <td>282913.6</td>\n",
       "      <td>358303.6</td>\n",
       "      <td>248019.6</td>\n",
       "      <td>284416.6</td>\n",
       "      <td>279647.1</td>\n",
       "      <td>230446.6</td>\n",
       "      <td>239083.6</td>\n",
       "      <td>266376.8</td>\n",
       "      <td>295779.8</td>\n",
       "      <td>295160.6</td>\n",
       "      <td>576854.0</td>\n",
       "    </tr>\n",
       "    <tr>\n",
       "      <td>1</td>\n",
       "      <td>11810.0</td>\n",
       "      <td>246497.6</td>\n",
       "      <td>331011.7</td>\n",
       "      <td>414184.5</td>\n",
       "      <td>258794.3</td>\n",
       "      <td>254278.5</td>\n",
       "      <td>269684.6</td>\n",
       "      <td>263583.2</td>\n",
       "      <td>286720.1</td>\n",
       "      <td>260873.8</td>\n",
       "      <td>303189.9</td>\n",
       "      <td>270547.6</td>\n",
       "      <td>519262.7</td>\n",
       "    </tr>\n",
       "    <tr>\n",
       "      <td>2</td>\n",
       "      <td>15041.0</td>\n",
       "      <td>179593.3</td>\n",
       "      <td>244073.6</td>\n",
       "      <td>285598.2</td>\n",
       "      <td>221318.3</td>\n",
       "      <td>225292.7</td>\n",
       "      <td>203248.8</td>\n",
       "      <td>187544.4</td>\n",
       "      <td>208146.3</td>\n",
       "      <td>217143.0</td>\n",
       "      <td>205033.1</td>\n",
       "      <td>192618.0</td>\n",
       "      <td>347437.7</td>\n",
       "    </tr>\n",
       "    <tr>\n",
       "      <td>3</td>\n",
       "      <td>15775.0</td>\n",
       "      <td>401977.2</td>\n",
       "      <td>528602.9</td>\n",
       "      <td>605876.9</td>\n",
       "      <td>446928.0</td>\n",
       "      <td>434807.4</td>\n",
       "      <td>427732.5</td>\n",
       "      <td>397032.3</td>\n",
       "      <td>402138.2</td>\n",
       "      <td>415707.5</td>\n",
       "      <td>449122.5</td>\n",
       "      <td>447313.8</td>\n",
       "      <td>932443.2</td>\n",
       "    </tr>\n",
       "    <tr>\n",
       "      <td>4</td>\n",
       "      <td>16102.0</td>\n",
       "      <td>399725.4</td>\n",
       "      <td>518929.7</td>\n",
       "      <td>592577.8</td>\n",
       "      <td>441552.7</td>\n",
       "      <td>449032.8</td>\n",
       "      <td>413248.4</td>\n",
       "      <td>377791.2</td>\n",
       "      <td>395019.0</td>\n",
       "      <td>408141.0</td>\n",
       "      <td>461964.5</td>\n",
       "      <td>452770.5</td>\n",
       "      <td>879288.5</td>\n",
       "    </tr>\n",
       "  </tbody>\n",
       "</table>\n",
       "</div>"
      ],
      "text/plain": [
       "   id точки 2016-01-01 2016-02-01 2016-03-01 2016-04-01 2016-05-01  \\\n",
       "0 11366.0   219926.7   282913.6   358303.6   248019.6   284416.6     \n",
       "1 11810.0   246497.6   331011.7   414184.5   258794.3   254278.5     \n",
       "2 15041.0   179593.3   244073.6   285598.2   221318.3   225292.7     \n",
       "3 15775.0   401977.2   528602.9   605876.9   446928.0   434807.4     \n",
       "4 16102.0   399725.4   518929.7   592577.8   441552.7   449032.8     \n",
       "\n",
       "   2016-06-01  2016-07-01  2016-08-01  2016-09-01  2016-10-01 2016-11-01  \\\n",
       "0 279647.1    230446.6    239083.6    266376.8    295779.8    295160.6     \n",
       "1 269684.6    263583.2    286720.1    260873.8    303189.9    270547.6     \n",
       "2 203248.8    187544.4    208146.3    217143.0    205033.1    192618.0     \n",
       "3 427732.5    397032.3    402138.2    415707.5    449122.5    447313.8     \n",
       "4 413248.4    377791.2    395019.0    408141.0    461964.5    452770.5     \n",
       "\n",
       "  2016-12-01  \n",
       "0 576854.0    \n",
       "1 519262.7    \n",
       "2 347437.7    \n",
       "3 932443.2    \n",
       "4 879288.5    "
      ]
     },
     "execution_count": 12,
     "metadata": {},
     "output_type": "execute_result"
    }
   ],
   "source": [
    "revenue = pd.read_excel('revenue.xlsx')\n",
    "revenue = revenue [['id точки','2016-01-01','2016-02-01','2016-03-01','2016-04-01','2016-05-01','2016-06-01',\n",
    "                    '2016-07-01','2016-08-01','2016-09-01','2016-10-01','2016-11-01','2016-12-01']]\n",
    "\n",
    "revenue.head()"
   ]
  },
  {
   "cell_type": "markdown",
   "metadata": {},
   "source": [
    "### Перевед данные в числовой формат"
   ]
  },
  {
   "cell_type": "code",
   "execution_count": 13,
   "metadata": {},
   "outputs": [],
   "source": [
    "col_list= list(revenue)\n",
    "col_list.remove('id точки')"
   ]
  },
  {
   "cell_type": "code",
   "execution_count": 14,
   "metadata": {},
   "outputs": [],
   "source": [
    "revenue[col_list] = revenue[col_list].apply(pd.to_numeric,\n",
    "                                            errors='coerce',\n",
    "                                            axis=1)"
   ]
  },
  {
   "cell_type": "markdown",
   "metadata": {},
   "source": [
    "### Для определения, к какому типу магазина относится id сгруппирируем данные из первой таблицы и добавим их в таблицу с выручкой"
   ]
  },
  {
   "cell_type": "code",
   "execution_count": 15,
   "metadata": {},
   "outputs": [
    {
     "data": {
      "text/html": [
       "<div>\n",
       "<style scoped>\n",
       "    .dataframe tbody tr th:only-of-type {\n",
       "        vertical-align: middle;\n",
       "    }\n",
       "\n",
       "    .dataframe tbody tr th {\n",
       "        vertical-align: top;\n",
       "    }\n",
       "\n",
       "    .dataframe thead th {\n",
       "        text-align: right;\n",
       "    }\n",
       "</style>\n",
       "<table border=\"1\" class=\"dataframe\">\n",
       "  <thead>\n",
       "    <tr style=\"text-align: right;\">\n",
       "      <th></th>\n",
       "      <th>id точки</th>\n",
       "      <th>Формат магазина</th>\n",
       "    </tr>\n",
       "  </thead>\n",
       "  <tbody>\n",
       "    <tr>\n",
       "      <td>0</td>\n",
       "      <td>8955.0</td>\n",
       "      <td>ТЦ</td>\n",
       "    </tr>\n",
       "    <tr>\n",
       "      <td>1</td>\n",
       "      <td>11007.0</td>\n",
       "      <td>ТЦ</td>\n",
       "    </tr>\n",
       "    <tr>\n",
       "      <td>2</td>\n",
       "      <td>11366.0</td>\n",
       "      <td>ТЦ</td>\n",
       "    </tr>\n",
       "    <tr>\n",
       "      <td>3</td>\n",
       "      <td>11810.0</td>\n",
       "      <td>ТЦ</td>\n",
       "    </tr>\n",
       "    <tr>\n",
       "      <td>4</td>\n",
       "      <td>15041.0</td>\n",
       "      <td>ТЦ</td>\n",
       "    </tr>\n",
       "  </tbody>\n",
       "</table>\n",
       "</div>"
      ],
      "text/plain": [
       "   id точки Формат магазина\n",
       "0 8955.0     ТЦ            \n",
       "1 11007.0    ТЦ            \n",
       "2 11366.0    ТЦ            \n",
       "3 11810.0    ТЦ            \n",
       "4 15041.0    ТЦ            "
      ]
     },
     "execution_count": 15,
     "metadata": {},
     "output_type": "execute_result"
    }
   ],
   "source": [
    "name_tc = model[['id точки','Формат магазина']]\n",
    "name_tc.head()"
   ]
  },
  {
   "cell_type": "code",
   "execution_count": 16,
   "metadata": {},
   "outputs": [
    {
     "data": {
      "text/html": [
       "<div>\n",
       "<style scoped>\n",
       "    .dataframe tbody tr th:only-of-type {\n",
       "        vertical-align: middle;\n",
       "    }\n",
       "\n",
       "    .dataframe tbody tr th {\n",
       "        vertical-align: top;\n",
       "    }\n",
       "\n",
       "    .dataframe thead th {\n",
       "        text-align: right;\n",
       "    }\n",
       "</style>\n",
       "<table border=\"1\" class=\"dataframe\">\n",
       "  <thead>\n",
       "    <tr style=\"text-align: right;\">\n",
       "      <th></th>\n",
       "      <th>id точки</th>\n",
       "      <th>Формат магазина</th>\n",
       "      <th>2016-01-01</th>\n",
       "      <th>2016-02-01</th>\n",
       "      <th>2016-03-01</th>\n",
       "      <th>2016-04-01</th>\n",
       "      <th>2016-05-01</th>\n",
       "      <th>2016-06-01</th>\n",
       "      <th>2016-07-01</th>\n",
       "      <th>2016-08-01</th>\n",
       "      <th>2016-09-01</th>\n",
       "      <th>2016-10-01</th>\n",
       "      <th>2016-11-01</th>\n",
       "      <th>2016-12-01</th>\n",
       "    </tr>\n",
       "  </thead>\n",
       "  <tbody>\n",
       "    <tr>\n",
       "      <td>0</td>\n",
       "      <td>11366.0</td>\n",
       "      <td>ТЦ</td>\n",
       "      <td>219926.7</td>\n",
       "      <td>282913.6</td>\n",
       "      <td>358303.6</td>\n",
       "      <td>248019.6</td>\n",
       "      <td>284416.6</td>\n",
       "      <td>279647.1</td>\n",
       "      <td>230446.6</td>\n",
       "      <td>239083.6</td>\n",
       "      <td>266376.8</td>\n",
       "      <td>295779.8</td>\n",
       "      <td>295160.6</td>\n",
       "      <td>576854.0</td>\n",
       "    </tr>\n",
       "    <tr>\n",
       "      <td>1</td>\n",
       "      <td>11810.0</td>\n",
       "      <td>ТЦ</td>\n",
       "      <td>246497.6</td>\n",
       "      <td>331011.7</td>\n",
       "      <td>414184.5</td>\n",
       "      <td>258794.3</td>\n",
       "      <td>254278.5</td>\n",
       "      <td>269684.6</td>\n",
       "      <td>263583.2</td>\n",
       "      <td>286720.1</td>\n",
       "      <td>260873.8</td>\n",
       "      <td>303189.9</td>\n",
       "      <td>270547.6</td>\n",
       "      <td>519262.7</td>\n",
       "    </tr>\n",
       "    <tr>\n",
       "      <td>2</td>\n",
       "      <td>15041.0</td>\n",
       "      <td>ТЦ</td>\n",
       "      <td>179593.3</td>\n",
       "      <td>244073.6</td>\n",
       "      <td>285598.2</td>\n",
       "      <td>221318.3</td>\n",
       "      <td>225292.7</td>\n",
       "      <td>203248.8</td>\n",
       "      <td>187544.4</td>\n",
       "      <td>208146.3</td>\n",
       "      <td>217143.0</td>\n",
       "      <td>205033.1</td>\n",
       "      <td>192618.0</td>\n",
       "      <td>347437.7</td>\n",
       "    </tr>\n",
       "    <tr>\n",
       "      <td>3</td>\n",
       "      <td>15775.0</td>\n",
       "      <td>ТЦ</td>\n",
       "      <td>401977.2</td>\n",
       "      <td>528602.9</td>\n",
       "      <td>605876.9</td>\n",
       "      <td>446928.0</td>\n",
       "      <td>434807.4</td>\n",
       "      <td>427732.5</td>\n",
       "      <td>397032.3</td>\n",
       "      <td>402138.2</td>\n",
       "      <td>415707.5</td>\n",
       "      <td>449122.5</td>\n",
       "      <td>447313.8</td>\n",
       "      <td>932443.2</td>\n",
       "    </tr>\n",
       "    <tr>\n",
       "      <td>4</td>\n",
       "      <td>16102.0</td>\n",
       "      <td>ТЦ</td>\n",
       "      <td>399725.4</td>\n",
       "      <td>518929.7</td>\n",
       "      <td>592577.8</td>\n",
       "      <td>441552.7</td>\n",
       "      <td>449032.8</td>\n",
       "      <td>413248.4</td>\n",
       "      <td>377791.2</td>\n",
       "      <td>395019.0</td>\n",
       "      <td>408141.0</td>\n",
       "      <td>461964.5</td>\n",
       "      <td>452770.5</td>\n",
       "      <td>879288.5</td>\n",
       "    </tr>\n",
       "  </tbody>\n",
       "</table>\n",
       "</div>"
      ],
      "text/plain": [
       "   id точки Формат магазина  2016-01-01  2016-02-01  2016-03-01  2016-04-01  \\\n",
       "0 11366.0    ТЦ             219926.7    282913.6    358303.6    248019.6      \n",
       "1 11810.0    ТЦ             246497.6    331011.7    414184.5    258794.3      \n",
       "2 15041.0    ТЦ             179593.3    244073.6    285598.2    221318.3      \n",
       "3 15775.0    ТЦ             401977.2    528602.9    605876.9    446928.0      \n",
       "4 16102.0    ТЦ             399725.4    518929.7    592577.8    441552.7      \n",
       "\n",
       "   2016-05-01  2016-06-01  2016-07-01  2016-08-01  2016-09-01  2016-10-01  \\\n",
       "0 284416.6    279647.1    230446.6    239083.6    266376.8    295779.8      \n",
       "1 254278.5    269684.6    263583.2    286720.1    260873.8    303189.9      \n",
       "2 225292.7    203248.8    187544.4    208146.3    217143.0    205033.1      \n",
       "3 434807.4    427732.5    397032.3    402138.2    415707.5    449122.5      \n",
       "4 449032.8    413248.4    377791.2    395019.0    408141.0    461964.5      \n",
       "\n",
       "   2016-11-01  2016-12-01  \n",
       "0 295160.6    576854.0     \n",
       "1 270547.6    519262.7     \n",
       "2 192618.0    347437.7     \n",
       "3 447313.8    932443.2     \n",
       "4 452770.5    879288.5     "
      ]
     },
     "execution_count": 16,
     "metadata": {},
     "output_type": "execute_result"
    }
   ],
   "source": [
    "revenue_m = name_tc.merge(revenue)\n",
    "revenue_m.head()"
   ]
  },
  {
   "cell_type": "code",
   "execution_count": 17,
   "metadata": {},
   "outputs": [
    {
     "data": {
      "text/plain": [
       "['Формат магазина',\n",
       " '2016-01-01',\n",
       " '2016-02-01',\n",
       " '2016-03-01',\n",
       " '2016-04-01',\n",
       " '2016-05-01',\n",
       " '2016-06-01',\n",
       " '2016-07-01',\n",
       " '2016-08-01',\n",
       " '2016-09-01',\n",
       " '2016-10-01',\n",
       " '2016-11-01',\n",
       " '2016-12-01']"
      ]
     },
     "execution_count": 17,
     "metadata": {},
     "output_type": "execute_result"
    }
   ],
   "source": [
    "col_list= list(revenue_m)\n",
    "col_list.remove('id точки')\n",
    "col_list"
   ]
  },
  {
   "cell_type": "markdown",
   "metadata": {},
   "source": [
    "### Добавим средние и итоговые значения за год для каждого из магазинов"
   ]
  },
  {
   "cell_type": "code",
   "execution_count": 18,
   "metadata": {},
   "outputs": [],
   "source": [
    "revenue_m['mean_r'] = revenue_m[col_list].mean(axis=1)\n",
    "revenue_m['e_sum'] = revenue_m[col_list].sum(axis=1)"
   ]
  },
  {
   "cell_type": "code",
   "execution_count": 19,
   "metadata": {},
   "outputs": [
    {
     "data": {
      "text/html": [
       "<div>\n",
       "<style scoped>\n",
       "    .dataframe tbody tr th:only-of-type {\n",
       "        vertical-align: middle;\n",
       "    }\n",
       "\n",
       "    .dataframe tbody tr th {\n",
       "        vertical-align: top;\n",
       "    }\n",
       "\n",
       "    .dataframe thead th {\n",
       "        text-align: right;\n",
       "    }\n",
       "</style>\n",
       "<table border=\"1\" class=\"dataframe\">\n",
       "  <thead>\n",
       "    <tr style=\"text-align: right;\">\n",
       "      <th></th>\n",
       "      <th>id точки</th>\n",
       "      <th>Формат магазина</th>\n",
       "      <th>2016-01-01</th>\n",
       "      <th>2016-02-01</th>\n",
       "      <th>2016-03-01</th>\n",
       "      <th>2016-04-01</th>\n",
       "      <th>2016-05-01</th>\n",
       "      <th>2016-06-01</th>\n",
       "      <th>2016-07-01</th>\n",
       "      <th>2016-08-01</th>\n",
       "      <th>2016-09-01</th>\n",
       "      <th>2016-10-01</th>\n",
       "      <th>2016-11-01</th>\n",
       "      <th>2016-12-01</th>\n",
       "      <th>mean_r</th>\n",
       "      <th>e_sum</th>\n",
       "    </tr>\n",
       "  </thead>\n",
       "  <tbody>\n",
       "    <tr>\n",
       "      <td>0</td>\n",
       "      <td>11366.0</td>\n",
       "      <td>ТЦ</td>\n",
       "      <td>219926.7</td>\n",
       "      <td>282913.6</td>\n",
       "      <td>358303.6</td>\n",
       "      <td>248019.6</td>\n",
       "      <td>284416.6</td>\n",
       "      <td>279647.1</td>\n",
       "      <td>230446.6</td>\n",
       "      <td>239083.6</td>\n",
       "      <td>266376.8</td>\n",
       "      <td>295779.8</td>\n",
       "      <td>295160.6</td>\n",
       "      <td>576854.0</td>\n",
       "      <td>298077.4</td>\n",
       "      <td>3576928.6</td>\n",
       "    </tr>\n",
       "    <tr>\n",
       "      <td>1</td>\n",
       "      <td>11810.0</td>\n",
       "      <td>ТЦ</td>\n",
       "      <td>246497.6</td>\n",
       "      <td>331011.7</td>\n",
       "      <td>414184.5</td>\n",
       "      <td>258794.3</td>\n",
       "      <td>254278.5</td>\n",
       "      <td>269684.6</td>\n",
       "      <td>263583.2</td>\n",
       "      <td>286720.1</td>\n",
       "      <td>260873.8</td>\n",
       "      <td>303189.9</td>\n",
       "      <td>270547.6</td>\n",
       "      <td>519262.7</td>\n",
       "      <td>306552.4</td>\n",
       "      <td>3678628.4</td>\n",
       "    </tr>\n",
       "    <tr>\n",
       "      <td>2</td>\n",
       "      <td>15041.0</td>\n",
       "      <td>ТЦ</td>\n",
       "      <td>179593.3</td>\n",
       "      <td>244073.6</td>\n",
       "      <td>285598.2</td>\n",
       "      <td>221318.3</td>\n",
       "      <td>225292.7</td>\n",
       "      <td>203248.8</td>\n",
       "      <td>187544.4</td>\n",
       "      <td>208146.3</td>\n",
       "      <td>217143.0</td>\n",
       "      <td>205033.1</td>\n",
       "      <td>192618.0</td>\n",
       "      <td>347437.7</td>\n",
       "      <td>226420.6</td>\n",
       "      <td>2717047.5</td>\n",
       "    </tr>\n",
       "    <tr>\n",
       "      <td>3</td>\n",
       "      <td>15775.0</td>\n",
       "      <td>ТЦ</td>\n",
       "      <td>401977.2</td>\n",
       "      <td>528602.9</td>\n",
       "      <td>605876.9</td>\n",
       "      <td>446928.0</td>\n",
       "      <td>434807.4</td>\n",
       "      <td>427732.5</td>\n",
       "      <td>397032.3</td>\n",
       "      <td>402138.2</td>\n",
       "      <td>415707.5</td>\n",
       "      <td>449122.5</td>\n",
       "      <td>447313.8</td>\n",
       "      <td>932443.2</td>\n",
       "      <td>490806.9</td>\n",
       "      <td>5889682.5</td>\n",
       "    </tr>\n",
       "    <tr>\n",
       "      <td>4</td>\n",
       "      <td>16102.0</td>\n",
       "      <td>ТЦ</td>\n",
       "      <td>399725.4</td>\n",
       "      <td>518929.7</td>\n",
       "      <td>592577.8</td>\n",
       "      <td>441552.7</td>\n",
       "      <td>449032.8</td>\n",
       "      <td>413248.4</td>\n",
       "      <td>377791.2</td>\n",
       "      <td>395019.0</td>\n",
       "      <td>408141.0</td>\n",
       "      <td>461964.5</td>\n",
       "      <td>452770.5</td>\n",
       "      <td>879288.5</td>\n",
       "      <td>482503.5</td>\n",
       "      <td>5790041.5</td>\n",
       "    </tr>\n",
       "  </tbody>\n",
       "</table>\n",
       "</div>"
      ],
      "text/plain": [
       "   id точки Формат магазина  2016-01-01  2016-02-01  2016-03-01  2016-04-01  \\\n",
       "0 11366.0    ТЦ             219926.7    282913.6    358303.6    248019.6      \n",
       "1 11810.0    ТЦ             246497.6    331011.7    414184.5    258794.3      \n",
       "2 15041.0    ТЦ             179593.3    244073.6    285598.2    221318.3      \n",
       "3 15775.0    ТЦ             401977.2    528602.9    605876.9    446928.0      \n",
       "4 16102.0    ТЦ             399725.4    518929.7    592577.8    441552.7      \n",
       "\n",
       "   2016-05-01  2016-06-01  2016-07-01  2016-08-01  2016-09-01  2016-10-01  \\\n",
       "0 284416.6    279647.1    230446.6    239083.6    266376.8    295779.8      \n",
       "1 254278.5    269684.6    263583.2    286720.1    260873.8    303189.9      \n",
       "2 225292.7    203248.8    187544.4    208146.3    217143.0    205033.1      \n",
       "3 434807.4    427732.5    397032.3    402138.2    415707.5    449122.5      \n",
       "4 449032.8    413248.4    377791.2    395019.0    408141.0    461964.5      \n",
       "\n",
       "   2016-11-01  2016-12-01   mean_r     e_sum  \n",
       "0 295160.6    576854.0    298077.4 3576928.6  \n",
       "1 270547.6    519262.7    306552.4 3678628.4  \n",
       "2 192618.0    347437.7    226420.6 2717047.5  \n",
       "3 447313.8    932443.2    490806.9 5889682.5  \n",
       "4 452770.5    879288.5    482503.5 5790041.5  "
      ]
     },
     "execution_count": 19,
     "metadata": {},
     "output_type": "execute_result"
    }
   ],
   "source": [
    "revenue_m.head()"
   ]
  },
  {
   "cell_type": "markdown",
   "metadata": {},
   "source": [
    "### Сгруппируем данные по типу магазина"
   ]
  },
  {
   "cell_type": "code",
   "execution_count": 20,
   "metadata": {},
   "outputs": [
    {
     "data": {
      "text/html": [
       "<div>\n",
       "<style scoped>\n",
       "    .dataframe tbody tr th:only-of-type {\n",
       "        vertical-align: middle;\n",
       "    }\n",
       "\n",
       "    .dataframe tbody tr th {\n",
       "        vertical-align: top;\n",
       "    }\n",
       "\n",
       "    .dataframe thead th {\n",
       "        text-align: right;\n",
       "    }\n",
       "</style>\n",
       "<table border=\"1\" class=\"dataframe\">\n",
       "  <thead>\n",
       "    <tr style=\"text-align: right;\">\n",
       "      <th></th>\n",
       "      <th>Средняя выручка за 2016</th>\n",
       "      <th>Общая выручка за 2016</th>\n",
       "      <th>Число магазинов</th>\n",
       "    </tr>\n",
       "    <tr>\n",
       "      <th>Формат магазина</th>\n",
       "      <th></th>\n",
       "      <th></th>\n",
       "      <th></th>\n",
       "    </tr>\n",
       "  </thead>\n",
       "  <tbody>\n",
       "    <tr>\n",
       "      <td>Street</td>\n",
       "      <td>627620.2</td>\n",
       "      <td>93324822.8</td>\n",
       "      <td>16</td>\n",
       "    </tr>\n",
       "    <tr>\n",
       "      <td>ТЦ</td>\n",
       "      <td>424185.4</td>\n",
       "      <td>483226634.0</td>\n",
       "      <td>111</td>\n",
       "    </tr>\n",
       "    <tr>\n",
       "      <td>Мини-ТЦ</td>\n",
       "      <td>323506.3</td>\n",
       "      <td>73986922.3</td>\n",
       "      <td>20</td>\n",
       "    </tr>\n",
       "  </tbody>\n",
       "</table>\n",
       "</div>"
      ],
      "text/plain": [
       "                 Средняя выручка за 2016  Общая выручка за 2016  \\\n",
       "Формат магазина                                                   \n",
       "Street          627620.2                 93324822.8               \n",
       "ТЦ              424185.4                 483226634.0              \n",
       "Мини-ТЦ         323506.3                 73986922.3               \n",
       "\n",
       "                 Число магазинов  \n",
       "Формат магазина                   \n",
       "Street           16               \n",
       "ТЦ               111              \n",
       "Мини-ТЦ          20               "
      ]
     },
     "execution_count": 20,
     "metadata": {},
     "output_type": "execute_result"
    }
   ],
   "source": [
    "mean_tc = revenue_m.groupby('Формат магазина').agg({'mean_r':'mean',\n",
    "                                                    'e_sum':'sum',\n",
    "                                                    'id точки':'count'}).sort_values('mean_r'\n",
    "                                                                                     ,ascending=False)\n",
    "mean_tc.columns = ['Средняя выручка за 2016',\n",
    "                   'Общая выручка за 2016',\n",
    "                   'Число магазинов']\n",
    "mean_tc"
   ]
  },
  {
   "cell_type": "markdown",
   "metadata": {},
   "source": [
    "### Средняя выручка в Мини-ТЦ за месяц - 323506.3. Это самый маленький показатель. Лидирует формат стрит - в среднем он генерирует 627620.2 в месяц "
   ]
  },
  {
   "cell_type": "markdown",
   "metadata": {},
   "source": [
    "##  [К содержанию](#step4)"
   ]
  },
  {
   "cell_type": "code",
   "execution_count": 45,
   "metadata": {},
   "outputs": [
    {
     "data": {
      "text/html": [
       "<div>\n",
       "<style scoped>\n",
       "    .dataframe tbody tr th:only-of-type {\n",
       "        vertical-align: middle;\n",
       "    }\n",
       "\n",
       "    .dataframe tbody tr th {\n",
       "        vertical-align: top;\n",
       "    }\n",
       "\n",
       "    .dataframe thead tr th {\n",
       "        text-align: left;\n",
       "    }\n",
       "</style>\n",
       "<table border=\"1\" class=\"dataframe\">\n",
       "  <thead>\n",
       "    <tr>\n",
       "      <th></th>\n",
       "      <th>Группа</th>\n",
       "      <th>Количество магазинов</th>\n",
       "    </tr>\n",
       "  </thead>\n",
       "  <tbody>\n",
       "    <tr>\n",
       "      <td>0</td>\n",
       "      <td>Обучающая</td>\n",
       "      <td>96</td>\n",
       "    </tr>\n",
       "    <tr>\n",
       "      <td>1</td>\n",
       "      <td>Тестовая</td>\n",
       "      <td>47</td>\n",
       "    </tr>\n",
       "    <tr>\n",
       "      <td>2</td>\n",
       "      <td>-</td>\n",
       "      <td>5</td>\n",
       "    </tr>\n",
       "    <tr>\n",
       "      <td>3</td>\n",
       "      <td>Тест</td>\n",
       "      <td>1</td>\n",
       "    </tr>\n",
       "  </tbody>\n",
       "</table>\n",
       "</div>"
      ],
      "text/plain": [
       "      Группа Количество магазинов\n",
       "0  Обучающая  96                 \n",
       "1  Тестовая   47                 \n",
       "2  -          5                  \n",
       "3  Тест       1                  "
      ]
     },
     "execution_count": 45,
     "metadata": {},
     "output_type": "execute_result"
    }
   ],
   "source": [
    "model_v=model['Выборка'].value_counts().to_frame().reset_index()\n",
    "model_v.columns =[['Группа','Количество магазинов']]\n",
    "model_v"
   ]
  },
  {
   "cell_type": "code",
   "execution_count": null,
   "metadata": {},
   "outputs": [],
   "source": []
  }
 ],
 "metadata": {
  "kernelspec": {
   "display_name": "Python 3",
   "language": "python",
   "name": "python3"
  },
  "language_info": {
   "codemirror_mode": {
    "name": "ipython",
    "version": 3
   },
   "file_extension": ".py",
   "mimetype": "text/x-python",
   "name": "python",
   "nbconvert_exporter": "python",
   "pygments_lexer": "ipython3",
   "version": "3.7.6"
  }
 },
 "nbformat": 4,
 "nbformat_minor": 2
}
